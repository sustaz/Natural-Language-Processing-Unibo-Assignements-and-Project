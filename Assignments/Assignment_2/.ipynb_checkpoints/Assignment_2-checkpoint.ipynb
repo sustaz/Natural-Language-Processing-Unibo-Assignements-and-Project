{
 "cells": [
  {
   "cell_type": "markdown",
   "metadata": {},
   "source": [
    "# Assignment 2\n",
    "\n",
    "## Preliminary Steps\n",
    "\n",
    "Let's import all the needed packages"
   ]
  },
  {
   "cell_type": "code",
   "execution_count": 42,
   "metadata": {},
   "outputs": [],
   "source": [
    "# Handle files and unzip\n",
    "import os\n",
    "import requests\n",
    "import zipfile\n",
    "\n",
    "import re\n",
    "\n",
    "import pandas as pd\n",
    "import numpy as np\n",
    "\n",
    "# Neural Networks\n",
    "import tensorflow as tf\n",
    "from tensorflow import keras\n",
    "from tensorflow.keras import layers\n",
    "\n",
    "# Word tokenization\n",
    "from tensorflow.keras.preprocessing.text import Tokenizer"
   ]
  },
  {
   "cell_type": "markdown",
   "metadata": {},
   "source": [
    "Let's download the dataset"
   ]
  },
  {
   "cell_type": "code",
   "execution_count": 2,
   "metadata": {},
   "outputs": [],
   "source": [
    "def save_response_content(response, destination):\n",
    "    CHUNK_SIZE = 32768\n",
    "    \n",
    "    with open(destination, \"wb\") as f:\n",
    "        for chunk in response.iter_content(CHUNK_SIZE):\n",
    "            if chunk: # filter out keep-alive new chunks\n",
    "                f.write(chunk)\n",
    "\n",
    "def download_data(data_path):\n",
    "    toy_data_path = os.path.join(data_path, 'fever_data.zip')\n",
    "    toy_data_url_id = \"1wArZhF9_SHW17WKNGeLmX-QTYw9Zscl1\"\n",
    "    toy_url = \"https://docs.google.com/uc?export=download\"\n",
    "\n",
    "    if not os.path.exists(data_path):\n",
    "        os.makedirs(data_path)\n",
    "\n",
    "    if not os.path.exists(toy_data_path):\n",
    "        print(\"Downloading FEVER data splits...\")\n",
    "        with requests.Session() as current_session:\n",
    "            response = current_session.get(toy_url,\n",
    "                                   params={'id': toy_data_url_id},\n",
    "                                   stream=True)\n",
    "        save_response_content(response, toy_data_path)\n",
    "        print(\"Download completed!\")\n",
    "\n",
    "        print(\"Extracting dataset...\")\n",
    "        with zipfile.ZipFile(toy_data_path) as loaded_zip:\n",
    "            loaded_zip.extractall(data_path)\n",
    "        print(\"Extraction completed!\")\n",
    "\n",
    "download_data('dataset')"
   ]
  },
  {
   "cell_type": "markdown",
   "metadata": {},
   "source": [
    "Look inside our dataset creating a first dataframe reading the `test_pairs.csv` file"
   ]
  },
  {
   "cell_type": "code",
   "execution_count": 86,
   "metadata": {},
   "outputs": [
    {
     "name": "stdout",
     "output_type": "stream",
     "text": [
      "   Unnamed: 0                                              Claim  \\\n",
      "0           0     Chris Hemsworth appeared in A Perfect Getaway.   \n",
      "1           1                            Roald Dahl is a writer.   \n",
      "2           2                          Roald Dahl is a governor.   \n",
      "3           3        Ireland has relatively low-lying mountains.   \n",
      "4           4  Ireland does not have relatively low-lying mou...   \n",
      "\n",
      "                                            Evidence  ID     Label  \n",
      "0  2\\tHemsworth has also appeared in the science ...   3  SUPPORTS  \n",
      "1  0\\tRoald Dahl -LRB- -LSB- langpronˈroʊ.əld _ ˈ...   7  SUPPORTS  \n",
      "2  0\\tRoald Dahl -LRB- -LSB- langpronˈroʊ.əld _ ˈ...   8   REFUTES  \n",
      "3  10\\tThe island 's geography comprises relative...   9  SUPPORTS  \n",
      "4  10\\tThe island 's geography comprises relative...  10   REFUTES  \n"
     ]
    }
   ],
   "source": [
    "test_path = os.path.join(os.getcwd(), 'dataset', 'train_pairs.csv')\n",
    "\n",
    "df0 = pd.read_csv(test_path)\n",
    "print(df0.head())"
   ]
  },
  {
   "cell_type": "markdown",
   "metadata": {},
   "source": [
    "## Data preparation"
   ]
  },
  {
   "cell_type": "markdown",
   "metadata": {},
   "source": [
    "As stated in [specifications.ipynb](specifications.ipynb), each dataset sample is comprised of:\n",
    "\n",
    "*     A claim to verify\n",
    "*     A set of semantically related statements (evidence set)\n",
    "*     Fact checking label: either evidences support or refute the claim.\n",
    "\n",
    "Handling the evidence set from the point of view of neural models may imply some additional complexity: if the evidence set is comprised of several sentences we might incur in memory problems.\n",
    "\n",
    "To this end, we further simplify the problem by building (claim, evidence) pairs. The fact checking label is propagated as well.\n",
    "\n",
    "Example:\n",
    "\n",
    "     Claim: c1 \n",
    "     Evidence set: [e1, e2, e3]\n",
    "     Label: S (support)\n",
    "\n",
    "--->\n",
    "\n",
    "    (c1, e1, S),\n",
    "    (c1, e2, S),\n",
    "    (c1, e3, S)\n",
    "\n",
    "So now we construct a new dataframe where each sample is in the form (Claim, Evidence, Lable)."
   ]
  },
  {
   "cell_type": "code",
   "execution_count": 7,
   "metadata": {},
   "outputs": [],
   "source": [
    "# the evidences seems to be separated by a tab (\\t) \n",
    "# so it may be used to split the Evidence string\n",
    "\n",
    "# this dataset is a mess\n",
    "dataset_path = os.path.join(os.getcwd(), 'dataset', 'train_pairs.csv')\n",
    "\n",
    "def sentence_cleaning(sentence: str) -> str:\n",
    "    \"\"\"\n",
    "    cleans up a sentence in the dataset using regular expressions\n",
    "    :param sentence: the sentence to clean-up\n",
    "    :return\n",
    "        - string cleaned\n",
    "    \"\"\"\n",
    "    \n",
    "    # removes \"-LRB-\" and \"-RRB-\" strings and commas\n",
    "    sentence = re.sub(\"-LRB-\",\"\", sentence)\n",
    "    sentence = re.sub(\"-RRB-\", \"\", sentence)\n",
    "    sentence = re.sub(\",\", \"\", sentence)\n",
    "    \n",
    "    return sentence\n",
    "    \n",
    "\n",
    "def format_dataset(dataset: str, debug: bool = True) -> pd.DataFrame:\n",
    "    \"\"\"\n",
    "    Reads out the csv file and returns a dataframe with \n",
    "    {Claim, Evidence, Label} row\n",
    "    \n",
    "    :param dataset: dataset csv file path\n",
    "    :param debug: if True prints out data for debugging purposes\n",
    "    \n",
    "    :return\n",
    "        - dataframe with (claim, evidence, label) rows\n",
    "    \"\"\"\n",
    "    \n",
    "    df = pd.read_csv(dataset)\n",
    "    dataframe_rows = []\n",
    "    df_size = df.shape[0]\n",
    "\n",
    "    for i in range(0, df_size):\n",
    "\n",
    "        claim = df[\"Claim\"][i]\n",
    "        label = df[\"Label\"][i]\n",
    "        ev_list = df[\"Evidence\"][i].split('\\t')\n",
    "\n",
    "        for j in range(1,len(ev_list)):\n",
    "            evidence = sentence_cleaning(ev_list[j])\n",
    "\n",
    "            # create single dataframe row\n",
    "            dataframe_row = {\n",
    "                \"Claim\": claim,\n",
    "                \"Evidence\": evidence,\n",
    "                \"Label\": label\n",
    "            }\n",
    "\n",
    "            if debug: \n",
    "                print(claim)\n",
    "                print(evidence)\n",
    "                print(label)\n",
    "            dataframe_rows.append(dataframe_row)\n",
    "\n",
    "    df = pd.DataFrame(dataframe_rows)\n",
    "    \n",
    "    return df, dataframe_rows\n",
    "\n",
    "df, df_rows = format_dataset(dataset_path, False)"
   ]
  },
  {
   "cell_type": "markdown",
   "metadata": {},
   "source": [
    "Let's see how the resulting dataframe looks like"
   ]
  },
  {
   "cell_type": "code",
   "execution_count": 40,
   "metadata": {},
   "outputs": [
    {
     "data": {
      "text/html": [
       "<div>\n",
       "<style scoped>\n",
       "    .dataframe tbody tr th:only-of-type {\n",
       "        vertical-align: middle;\n",
       "    }\n",
       "\n",
       "    .dataframe tbody tr th {\n",
       "        vertical-align: top;\n",
       "    }\n",
       "\n",
       "    .dataframe thead th {\n",
       "        text-align: right;\n",
       "    }\n",
       "</style>\n",
       "<table border=\"1\" class=\"dataframe\">\n",
       "  <thead>\n",
       "    <tr style=\"text-align: right;\">\n",
       "      <th></th>\n",
       "      <th>Claim</th>\n",
       "      <th>Evidence</th>\n",
       "      <th>Label</th>\n",
       "    </tr>\n",
       "  </thead>\n",
       "  <tbody>\n",
       "    <tr>\n",
       "      <th>0</th>\n",
       "      <td>Chris Hemsworth appeared in A Perfect Getaway.</td>\n",
       "      <td>Hemsworth has also appeared in the science fic...</td>\n",
       "      <td>SUPPORTS</td>\n",
       "    </tr>\n",
       "    <tr>\n",
       "      <th>1</th>\n",
       "      <td>Chris Hemsworth appeared in A Perfect Getaway.</td>\n",
       "      <td>Star Trek</td>\n",
       "      <td>SUPPORTS</td>\n",
       "    </tr>\n",
       "    <tr>\n",
       "      <th>2</th>\n",
       "      <td>Chris Hemsworth appeared in A Perfect Getaway.</td>\n",
       "      <td>Star Trek (film)</td>\n",
       "      <td>SUPPORTS</td>\n",
       "    </tr>\n",
       "    <tr>\n",
       "      <th>3</th>\n",
       "      <td>Chris Hemsworth appeared in A Perfect Getaway.</td>\n",
       "      <td>A Perfect Getaway</td>\n",
       "      <td>SUPPORTS</td>\n",
       "    </tr>\n",
       "    <tr>\n",
       "      <th>4</th>\n",
       "      <td>Chris Hemsworth appeared in A Perfect Getaway.</td>\n",
       "      <td>A Perfect Getaway</td>\n",
       "      <td>SUPPORTS</td>\n",
       "    </tr>\n",
       "  </tbody>\n",
       "</table>\n",
       "</div>"
      ],
      "text/plain": [
       "                                            Claim  \\\n",
       "0  Chris Hemsworth appeared in A Perfect Getaway.   \n",
       "1  Chris Hemsworth appeared in A Perfect Getaway.   \n",
       "2  Chris Hemsworth appeared in A Perfect Getaway.   \n",
       "3  Chris Hemsworth appeared in A Perfect Getaway.   \n",
       "4  Chris Hemsworth appeared in A Perfect Getaway.   \n",
       "\n",
       "                                            Evidence     Label  \n",
       "0  Hemsworth has also appeared in the science fic...  SUPPORTS  \n",
       "1                                          Star Trek  SUPPORTS  \n",
       "2                                   Star Trek (film)  SUPPORTS  \n",
       "3                                  A Perfect Getaway  SUPPORTS  \n",
       "4                                  A Perfect Getaway  SUPPORTS  "
      ]
     },
     "execution_count": 40,
     "metadata": {},
     "output_type": "execute_result"
    }
   ],
   "source": [
    "df.head()"
   ]
  },
  {
   "cell_type": "markdown",
   "metadata": {},
   "source": [
    "Turning claims and Evidences into sequences of integers"
   ]
  },
  {
   "cell_type": "code",
   "execution_count": 51,
   "metadata": {},
   "outputs": [],
   "source": [
    "def make_sequences(texts, lower=True, filters='!\"#$%&()*+,-./:;<=>?@[\\\\]^_`{|}~\\t\\n'):\n",
    "    \"\"\"\n",
    "    Turn a set of texts into sequences of integers\n",
    "    \n",
    "    :param texts: the set of texts to turn into sequences\n",
    "    :param lower: boolean. Whether to convert the texts to lowercase\n",
    "    :param filters: a string where each element is a character that will be filtered from the texts\n",
    "    \"\"\"\n",
    "    \n",
    "    # Create the tokenizer object and train on texts\n",
    "    tokenizer = Tokenizer(lower=lower, filters=filters)\n",
    "    tokenizer.fit_on_texts(texts)\n",
    "    \n",
    "    # Create look-up dictionaries and reverse look-ups\n",
    "    word_idx = tokenizer.word_index\n",
    "    idx_word = tokenizer.index_word\n",
    "    num_words = len(word_idx) + 1\n",
    "    word_counts = tokenizer.word_counts\n",
    "    \n",
    "    # Convert text to sequences of integers\n",
    "    sequences = tokenizer.texts_to_sequences(texts)\n",
    "    \n",
    "    return word_idx, idx_word, num_words, word_counts, sequences\n",
    "\n",
    "def encode_dataframe(dataframe):\n",
    "    \"\"\"\n",
    "    Creates sequences of integers for both Claim and Evidence columns\n",
    "    \"\"\"\n",
    "    \n",
    "    # creates lists of claims and evidences\n",
    "    claims = list(dataframe['Claim'])\n",
    "    evidences = list(dataframe['Evidence'])\n",
    "    \n",
    "    cl_word_idx, cl_idx_word, cl_num_words, cl_word_counts, seq_claims = make_sequences(claims)\n",
    "    ev_word_idx, ev_idx_word, ev_num_words, ev_word_counts, seq_evidences = make_sequences(evidences)\n",
    "    \n",
    "    return seq_claims, seq_evidences\n",
    "\n",
    "seq_claims, seq_evidences = encode_dataframe(df)"
   ]
  },
  {
   "cell_type": "code",
   "execution_count": 84,
   "metadata": {},
   "outputs": [
    {
     "name": "stdout",
     "output_type": "stream",
     "text": [
      "[134, 1511, 45, 4, 2, 366, 3928]\n",
      "979664\n"
     ]
    },
    {
     "data": {
      "text/plain": [
       "3928"
      ]
     },
     "execution_count": 84,
     "metadata": {},
     "output_type": "execute_result"
    }
   ],
   "source": [
    "n = 6\n",
    "\n",
    "print(seq_claims[n])\n",
    "print(len(seq_claims))\n",
    "\n",
    "seq_claims[6][6]"
   ]
  },
  {
   "cell_type": "markdown",
   "metadata": {},
   "source": [
    "Constructing the input matrices for the embedding step. We construct the matrices starting from `seq_claims` and `seq_evidences`. The number of rows of the matrices is the number of elements in `seq_claims` and `seq_evidences`, while the number of columns is the size of the longest sequences. The rows corresponding to shorter sequences are filled with zero-padding."
   ]
  },
  {
   "cell_type": "code",
   "execution_count": 81,
   "metadata": {},
   "outputs": [
    {
     "name": "stdout",
     "output_type": "stream",
     "text": [
      "(979664, 65)\n",
      "(979664, 122)\n"
     ]
    }
   ],
   "source": [
    "# computes the longest token sequence\n",
    "def longest_seq(seq):\n",
    "    seq_len = [len(i) for i in seq]\n",
    "    \n",
    "    return max(seq_len)\n",
    "\n",
    "def matrix_from_sequences(sequences):\n",
    "    \"\"\"\n",
    "    Builds a matrix of shape [batch_size, max_tokens]\n",
    "    \"\"\"\n",
    "    \n",
    "    max_tokens = longest_seq(sequences)\n",
    "    seq_length = len(sequences)\n",
    "    \n",
    "    matrix = np.zeros((len(sequences), max_tokens), dtype=np.int32)\n",
    "    \n",
    "    for i in range(0, seq_length):\n",
    "        for j in range(0, len(sequences[i])):\n",
    "            matrix[i][j] = sequences[i][j]\n",
    "    \n",
    "    return matrix\n",
    "\n",
    "claim_matrix = matrix_from_sequences(seq_claims)\n",
    "evidence_matrix = matrix_from_sequences(seq_evidences)\n",
    "\n",
    "print(claim_matrix.shape)\n",
    "print(evidence_matrix.shape)"
   ]
  },
  {
   "cell_type": "code",
   "execution_count": 87,
   "metadata": {},
   "outputs": [
    {
     "data": {
      "text/plain": [
       "3928"
      ]
     },
     "execution_count": 87,
     "metadata": {},
     "output_type": "execute_result"
    }
   ],
   "source": [
    "claim_matrix[6][6]"
   ]
  },
  {
   "cell_type": "markdown",
   "metadata": {},
   "source": [
    "I dunno if this is correct"
   ]
  },
  {
   "cell_type": "markdown",
   "metadata": {},
   "source": [
    "### Sentence Embedding"
   ]
  }
 ],
 "metadata": {
  "kernelspec": {
   "display_name": "Python 3",
   "language": "python",
   "name": "python3"
  },
  "language_info": {
   "codemirror_mode": {
    "name": "ipython",
    "version": 3
   },
   "file_extension": ".py",
   "mimetype": "text/x-python",
   "name": "python",
   "nbconvert_exporter": "python",
   "pygments_lexer": "ipython3",
   "version": "3.8.3"
  }
 },
 "nbformat": 4,
 "nbformat_minor": 4
}
