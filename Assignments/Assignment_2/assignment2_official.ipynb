{
  "cells": [
    {
      "cell_type": "markdown",
      "metadata": {
        "id": "e1G5ro3Qgsbx"
      },
      "source": [
        "# Assignment 2\n",
        "\n",
        "## Preliminary Steps\n",
        "\n",
        "Let's import all the needed packages"
      ]
    },
    {
      "cell_type": "code",
      "execution_count": 1,
      "metadata": {
        "colab": {
          "base_uri": "https://localhost:8080/"
        },
        "id": "zQ0pMOoQgsb3",
        "outputId": "9424c82b-af76-4472-fd4b-fa99469625c7"
      },
      "outputs": [
        {
          "output_type": "stream",
          "name": "stdout",
          "text": [
            "[nltk_data] Downloading package punkt to /root/nltk_data...\n",
            "[nltk_data]   Package punkt is already up-to-date!\n",
            "Requirement already satisfied: tqdm in /usr/local/lib/python3.7/dist-packages (4.62.3)\n"
          ]
        }
      ],
      "source": [
        "# Handle files and unzip\n",
        "import os\n",
        "import requests\n",
        "import zipfile\n",
        "\n",
        "import re\n",
        "\n",
        "import pandas as pd\n",
        "import numpy as np\n",
        "\n",
        "# Neural Networks\n",
        "import tensorflow as tf\n",
        "from tensorflow import keras\n",
        "from tensorflow.keras import layers\n",
        "\n",
        "# Word tokenization\n",
        "from tensorflow.keras.preprocessing.text import Tokenizer\n",
        "\n",
        "\n",
        "import nltk\n",
        "nltk.download('punkt')\n",
        "from nltk.tokenize import word_tokenize\n",
        "!pip install tqdm\n",
        "from tqdm import tqdm as tq \n",
        "from gensim.models.doc2vec import Doc2Vec, TaggedDocument\n",
        "import tensorflow as tf\n",
        "from keras.layers import * \n",
        "from keras.initializers import Constant\n",
        "from keras.models import *"
      ]
    },
    {
      "cell_type": "markdown",
      "metadata": {
        "id": "_hKWjQnngsb4"
      },
      "source": [
        "Let's download the dataset"
      ]
    },
    {
      "cell_type": "code",
      "execution_count": 2,
      "metadata": {
        "id": "LdxMyEnXgsb6"
      },
      "outputs": [],
      "source": [
        "def save_response_content(response, destination):\n",
        "    CHUNK_SIZE = 32768\n",
        "    \n",
        "    with open(destination, \"wb\") as f:\n",
        "        for chunk in response.iter_content(CHUNK_SIZE):\n",
        "            if chunk: # filter out keep-alive new chunks\n",
        "                f.write(chunk)\n",
        "\n",
        "def download_data(data_path):\n",
        "    toy_data_path = os.path.join(data_path, 'fever_data.zip')\n",
        "    toy_data_url_id = \"1wArZhF9_SHW17WKNGeLmX-QTYw9Zscl1\"\n",
        "    toy_url = \"https://docs.google.com/uc?export=download\"\n",
        "\n",
        "    if not os.path.exists(data_path):\n",
        "        os.makedirs(data_path)\n",
        "\n",
        "    if not os.path.exists(toy_data_path):\n",
        "        print(\"Downloading FEVER data splits...\")\n",
        "        with requests.Session() as current_session:\n",
        "            response = current_session.get(toy_url,\n",
        "                                   params={'id': toy_data_url_id},\n",
        "                                   stream=True)\n",
        "        save_response_content(response, toy_data_path)\n",
        "        print(\"Download completed!\")\n",
        "\n",
        "        print(\"Extracting dataset...\")\n",
        "        with zipfile.ZipFile(toy_data_path) as loaded_zip:\n",
        "            loaded_zip.extractall(data_path)\n",
        "        print(\"Extraction completed!\")\n",
        "\n",
        "download_data('dataset')"
      ]
    },
    {
      "cell_type": "markdown",
      "metadata": {
        "id": "PXcFrhqOgsb7"
      },
      "source": [
        "Look inside our dataset creating a first dataframe reading the `test_pairs.csv` file"
      ]
    },
    {
      "cell_type": "code",
      "execution_count": 3,
      "metadata": {
        "id": "OwkhN6Digsb8"
      },
      "outputs": [],
      "source": [
        "train_path = os.path.join(os.getcwd(), 'dataset', 'train_pairs.csv')\n",
        "val_path = os.path.join(os.getcwd(), 'dataset', 'val_pairs.csv')\n",
        "test_path = os.path.join(os.getcwd(), 'dataset', 'test_pairs.csv')"
      ]
    },
    {
      "cell_type": "markdown",
      "metadata": {
        "id": "Lc5CHrVCgsb-"
      },
      "source": [
        "## Data preparation"
      ]
    },
    {
      "cell_type": "markdown",
      "metadata": {
        "id": "Ba7-IVsOgsb_"
      },
      "source": [
        "As stated in [specifications.ipynb](specifications.ipynb), each dataset sample is comprised of:\n",
        "\n",
        "*     A claim to verify\n",
        "*     A set of semantically related statements (evidence set)\n",
        "*     Fact checking label: either evidences support or refute the claim.\n",
        "\n",
        "Handling the evidence set from the point of view of neural models may imply some additional complexity: if the evidence set is comprised of several sentences we might incur in memory problems.\n",
        "\n",
        "To this end, we further simplify the problem by building (claim, evidence) pairs. The fact checking label is propagated as well.\n",
        "\n",
        "Example:\n",
        "\n",
        "     Claim: c1 \n",
        "     Evidence set: [e1, e2, e3]\n",
        "     Label: S (support)\n",
        "\n",
        "--->\n",
        "\n",
        "    (c1, e1, S),\n",
        "    (c1, e2, S),\n",
        "    (c1, e3, S)\n",
        "\n",
        "So now we construct a new dataframe where each sample is in the form (Claim, Evidence, Lable)."
      ]
    },
    {
      "cell_type": "code",
      "execution_count": 4,
      "metadata": {
        "id": "xMslRQmygsb_"
      },
      "outputs": [],
      "source": [
        "# the evidences seems to be separated by a tab (\\t) \n",
        "# so it may be used to split the Evidence string\n",
        "\n",
        "# this dataset is a mess\n",
        "dataset_path = os.path.join(os.getcwd(), 'dataset', 'train_pairs.csv')\n",
        "\n",
        "def sentence_cleaning(sentence: str) -> str:\n",
        "    \"\"\"\n",
        "    cleans up a sentence in the dataset using regular expressions\n",
        "    :param sentence: the sentence to clean-up\n",
        "    :return\n",
        "        - string cleaned\n",
        "    \"\"\"\n",
        "    \n",
        "    # removes \"-LRB-\" and \"-RRB-\" strings and commas\n",
        "    sentence = re.sub(\"-LRB-\",\"\", sentence)\n",
        "    sentence = re.sub(\"-RRB-\", \"\", sentence)\n",
        "    #sentence = re.sub(\",\", \"\", sentence)\n",
        "    sentence = re.sub(\"-LSB-\", \"\", sentence)\n",
        "    sentence = re.sub(\"-RSB-\", \"\", sentence)\n",
        "    \n",
        "    return sentence\n",
        "    \n",
        "\n",
        "def format_dataset(dataset: str, debug: bool = True) -> pd.DataFrame:\n",
        "    \"\"\"\n",
        "    Reads out the csv file and returns a dataframe with \n",
        "    {Claim, Evidence, Label} row\n",
        "    \n",
        "    :param dataset: dataset csv file path\n",
        "    :param debug: if True prints out data for debugging purposes\n",
        "    \n",
        "    :return\n",
        "        - dataframe with (claim, evidence, label) rows\n",
        "    \"\"\"\n",
        "    \n",
        "    df = pd.read_csv(dataset)\n",
        "    dataframe_rows = []\n",
        "    df_size = df.shape[0]\n",
        "\n",
        "    for i in range(0, df_size):\n",
        "\n",
        "        claim = df[\"Claim\"][i]\n",
        "        claim = sentence_cleaning(str(claim))\n",
        "\n",
        "        label = df[\"Label\"][i]\n",
        "\n",
        "        ev_list = df[\"Evidence\"][i].split('\\t')\n",
        "        evidence = sentence_cleaning(str(ev_list[1]))\n",
        "        #evidence = ev_list[1]\n",
        "\n",
        "        \n",
        "\n",
        "        # create single dataframe row\n",
        "        dataframe_row = {\n",
        "            \"Claim\": claim,\n",
        "            \"Evidence\": evidence,\n",
        "            \"Label\": label\n",
        "        }\n",
        "\n",
        "        if debug: \n",
        "            print(claim)\n",
        "            print(evidence)\n",
        "            print(label)\n",
        "\n",
        "        dataframe_rows.append(dataframe_row)\n",
        "\n",
        "    df = pd.DataFrame(dataframe_rows)\n",
        "    \n",
        "    return df, dataframe_rows\n",
        "\n",
        "df, df_rows = format_dataset(dataset_path, False)\n",
        "\n",
        "df['Claim_Evidence'] = df.Claim + df.Evidence\n",
        "df['Label'] = df.Label\n",
        "\n",
        "df_train, df_rows_train = format_dataset(train_path, False)\n",
        "df_val, df_rows_val = format_dataset(val_path, False)\n",
        "df_test, df_rows_test = format_dataset(test_path, False)\n",
        "\n",
        "\n",
        "df_tot = pd.concat([df_train, df_val, df_test])\n",
        "df_tot = df_tot.reset_index()\n",
        "df_tot['Claim_Evidence'] = df_tot.Claim + df_tot.Evidence"
      ]
    },
    {
      "cell_type": "markdown",
      "metadata": {
        "id": "tbSeumrRgscB"
      },
      "source": [
        "Let's see how the resulting dataframe looks like"
      ]
    },
    {
      "cell_type": "code",
      "execution_count": 5,
      "metadata": {
        "colab": {
          "base_uri": "https://localhost:8080/",
          "height": 206
        },
        "id": "evoJpSSygscB",
        "outputId": "2d2d7339-c651-4af4-86ea-e4c5a792a8b5"
      },
      "outputs": [
        {
          "output_type": "execute_result",
          "data": {
            "text/html": [
              "<div>\n",
              "<style scoped>\n",
              "    .dataframe tbody tr th:only-of-type {\n",
              "        vertical-align: middle;\n",
              "    }\n",
              "\n",
              "    .dataframe tbody tr th {\n",
              "        vertical-align: top;\n",
              "    }\n",
              "\n",
              "    .dataframe thead th {\n",
              "        text-align: right;\n",
              "    }\n",
              "</style>\n",
              "<table border=\"1\" class=\"dataframe\">\n",
              "  <thead>\n",
              "    <tr style=\"text-align: right;\">\n",
              "      <th></th>\n",
              "      <th>Claim</th>\n",
              "      <th>Evidence</th>\n",
              "      <th>Label</th>\n",
              "      <th>Claim_Evidence</th>\n",
              "    </tr>\n",
              "  </thead>\n",
              "  <tbody>\n",
              "    <tr>\n",
              "      <th>0</th>\n",
              "      <td>Chris Hemsworth appeared in A Perfect Getaway.</td>\n",
              "      <td>Hemsworth has also appeared in the science fic...</td>\n",
              "      <td>SUPPORTS</td>\n",
              "      <td>Chris Hemsworth appeared in A Perfect Getaway....</td>\n",
              "    </tr>\n",
              "    <tr>\n",
              "      <th>1</th>\n",
              "      <td>Roald Dahl is a writer.</td>\n",
              "      <td>Roald Dahl   langpronˈroʊ.əld _ ˈdɑːl  ,  ˈɾuː...</td>\n",
              "      <td>SUPPORTS</td>\n",
              "      <td>Roald Dahl is a writer.Roald Dahl   langpronˈr...</td>\n",
              "    </tr>\n",
              "    <tr>\n",
              "      <th>2</th>\n",
              "      <td>Roald Dahl is a governor.</td>\n",
              "      <td>Roald Dahl   langpronˈroʊ.əld _ ˈdɑːl  ,  ˈɾuː...</td>\n",
              "      <td>REFUTES</td>\n",
              "      <td>Roald Dahl is a governor.Roald Dahl   langpron...</td>\n",
              "    </tr>\n",
              "    <tr>\n",
              "      <th>3</th>\n",
              "      <td>Ireland has relatively low-lying mountains.</td>\n",
              "      <td>The island 's geography comprises relatively l...</td>\n",
              "      <td>SUPPORTS</td>\n",
              "      <td>Ireland has relatively low-lying mountains.The...</td>\n",
              "    </tr>\n",
              "    <tr>\n",
              "      <th>4</th>\n",
              "      <td>Ireland does not have relatively low-lying mou...</td>\n",
              "      <td>The island 's geography comprises relatively l...</td>\n",
              "      <td>REFUTES</td>\n",
              "      <td>Ireland does not have relatively low-lying mou...</td>\n",
              "    </tr>\n",
              "  </tbody>\n",
              "</table>\n",
              "</div>"
            ],
            "text/plain": [
              "                                               Claim  ...                                     Claim_Evidence\n",
              "0     Chris Hemsworth appeared in A Perfect Getaway.  ...  Chris Hemsworth appeared in A Perfect Getaway....\n",
              "1                            Roald Dahl is a writer.  ...  Roald Dahl is a writer.Roald Dahl   langpronˈr...\n",
              "2                          Roald Dahl is a governor.  ...  Roald Dahl is a governor.Roald Dahl   langpron...\n",
              "3        Ireland has relatively low-lying mountains.  ...  Ireland has relatively low-lying mountains.The...\n",
              "4  Ireland does not have relatively low-lying mou...  ...  Ireland does not have relatively low-lying mou...\n",
              "\n",
              "[5 rows x 4 columns]"
            ]
          },
          "metadata": {},
          "execution_count": 5
        }
      ],
      "source": [
        "df.head()"
      ]
    },
    {
      "cell_type": "markdown",
      "metadata": {
        "id": "ki23iZ3RgscC"
      },
      "source": [
        "Turning claims and Evidences into sequences of integers"
      ]
    },
    {
      "cell_type": "code",
      "execution_count": 6,
      "metadata": {
        "id": "pZ9MhzeWgscC"
      },
      "outputs": [],
      "source": [
        "def make_sequences(texts, lower=True, filters='!\"#$%&()*+-/:;<=>?@[\\\\]^_`{|}~\\t\\n'):\n",
        "    \"\"\"\n",
        "    Turn a set of texts into sequences of integers\n",
        "    \n",
        "    :param texts: the set of texts to turn into sequences\n",
        "    :param lower: boolean. Whether to convert the texts to lowercase\n",
        "    :param filters: a string where each element is a character that will be filtered from the texts\n",
        "    \"\"\"\n",
        "    \n",
        "    # Create the tokenizer object and train on texts\n",
        "    tokenizer = Tokenizer(lower=lower, filters=filters)\n",
        "    tokenizer.fit_on_texts(texts)\n",
        "    \n",
        "    # Create look-up dictionaries and reverse look-ups\n",
        "    word_idx = tokenizer.word_index\n",
        "    idx_word = tokenizer.index_word\n",
        "    num_words = len(word_idx) + 1\n",
        "    word_counts = tokenizer.word_counts\n",
        "    \n",
        "    # Convert text to sequences of integers\n",
        "    sequences = tokenizer.texts_to_sequences(texts)\n",
        "    \n",
        "    return word_idx, idx_word, num_words, word_counts, sequences\n",
        "\n",
        "def encode_dataframe(dataframe):\n",
        "    \"\"\"\n",
        "    Creates sequences of integers for both Claim and Evidence columns\n",
        "    \"\"\"\n",
        "    \n",
        "    # creates lists of claims and evidences\n",
        "    #claims = list(dataframe['Claim'])\n",
        "    #evidences = list(dataframe['Evidence'])\n",
        "    claims_evidences = list(dataframe['Claim_Evidence'])\n",
        "    \n",
        "    cl_word_idx, cl_idx_word, cl_num_words, cl_word_counts, seq_claim_ev = make_sequences(claims_evidences)\n",
        "    #ev_word_idx, ev_idx_word, ev_num_words, ev_word_counts, seq_evidences = make_sequences(evidences)\n",
        "\n",
        "    \n",
        "    return seq_claim_ev\n",
        "\n",
        "#seq_claims_evidences = encode_dataframe(df)"
      ]
    },
    {
      "cell_type": "code",
      "execution_count": 7,
      "metadata": {
        "id": "dJVPzBxg6fp9"
      },
      "outputs": [],
      "source": [
        "lower=True \n",
        "filters='!\"#$%&()*+-/:;<=>?@[\\\\]^_.`{|}~\\t\\n'\n",
        "# Create the tokenizer object and train on texts\n",
        "tokenizer = Tokenizer(lower=lower, filters=filters)\n",
        "tokenizer.fit_on_texts(df_tot[0:len(df_rows_train)].Claim_Evidence)\n",
        "# Create look-up dictionaries and reverse look-ups\n",
        "word_idx = tokenizer.word_index\n",
        "idx_word = tokenizer.index_word\n",
        "num_words = len(word_idx) + 1\n",
        "word_counts = tokenizer.word_counts\n",
        "# Convert text to sequences of integers\n",
        "token_claim = tokenizer.texts_to_sequences(df_tot.Claim)\n",
        "token_evidence = tokenizer.texts_to_sequences(df_tot.Evidence)"
      ]
    },
    {
      "cell_type": "markdown",
      "metadata": {
        "id": "d5RwC0N0gscD"
      },
      "source": [
        "Constructing the input matrices for the embedding step. We construct the matrices starting from `seq_claims` and `seq_evidences`. The number of rows of the matrices is the number of elements in `seq_claims` and `seq_evidences`, while the number of columns is the size of the longest sequences. The rows corresponding to shorter sequences are filled with zero-padding."
      ]
    },
    {
      "cell_type": "code",
      "execution_count": 8,
      "metadata": {
        "colab": {
          "base_uri": "https://localhost:8080/"
        },
        "id": "jBxP5T4ogscE",
        "outputId": "d935dac8-b7f7-4ae6-e9db-752518a8312f"
      },
      "outputs": [
        {
          "output_type": "stream",
          "name": "stdout",
          "text": [
            "(136094, 76)\n",
            "(136094, 137)\n"
          ]
        }
      ],
      "source": [
        "# computes the longest token sequence\n",
        "def longest_seq(seq):\n",
        "    seq_len = [len(i) for i in seq]\n",
        "    \n",
        "    return max(seq_len)\n",
        "\n",
        "def matrix_from_sequences(sequences):\n",
        "    \"\"\"\n",
        "    Builds a matrix of shape [batch_size, max_tokens]\n",
        "    \"\"\"\n",
        "    \n",
        "    max_tokens = longest_seq(sequences)\n",
        "    seq_length = len(sequences)\n",
        "    \n",
        "    matrix = np.zeros((len(sequences), max_tokens), dtype=np.int32)\n",
        "    \n",
        "    for i in range(0, seq_length):\n",
        "        for j in range(0, len(sequences[i])):\n",
        "            matrix[i][j] = sequences[i][j]\n",
        "    \n",
        "    return matrix\n",
        "\n",
        "claim_matrix = matrix_from_sequences(token_claim)\n",
        "evidence_matrix = matrix_from_sequences(token_evidence)\n",
        "\n",
        "print(claim_matrix.shape)\n",
        "print(evidence_matrix.shape)\n"
      ]
    },
    {
      "cell_type": "markdown",
      "source": [
        "Dataframe split"
      ],
      "metadata": {
        "id": "l1YkP0gIvMTe"
      }
    },
    {
      "cell_type": "code",
      "source": [
        "claim_matrix_train = claim_matrix[0:len(df_rows_train)]\n",
        "evidence_matrix_train = evidence_matrix[0:len(df_rows_train)]\n",
        "\n",
        "claim_matrix_val = claim_matrix[len(df_rows_train): len(df_rows_train) +len(df_rows_val)]\n",
        "evidence_matrix_val = evidence_matrix[len(df_rows_train): len(df_rows_train) +len(df_rows_val)]\n",
        "\n",
        "claim_matrix_test = claim_matrix[len(df_rows_train) +len(df_rows_val)::]\n",
        "evidence_matrix_test = evidence_matrix[len(df_rows_train) +len(df_rows_val)::]\n",
        "\n",
        "data_train = (claim_matrix_train,evidence_matrix_train)\n",
        "data_val = (claim_matrix_val,evidence_matrix_val)\n",
        "data_test = (claim_matrix_test,evidence_matrix_test)"
      ],
      "metadata": {
        "id": "ckzh7EFuBlW1"
      },
      "execution_count": 9,
      "outputs": []
    },
    {
      "cell_type": "markdown",
      "source": [
        "WORD EMBEDDING"
      ],
      "metadata": {
        "id": "zLrNrcE8l8HI"
      }
    },
    {
      "cell_type": "code",
      "source": [
        "import random"
      ],
      "metadata": {
        "id": "xxmC2B6mqVVq"
      },
      "execution_count": 10,
      "outputs": []
    },
    {
      "cell_type": "code",
      "source": [
        "import urllib\n",
        "url = \"https://nlp.stanford.edu/data/glove.6B.zip\"\n",
        "\n",
        "glove_path = os.path.join(os.getcwd(),\"Glove\")\n",
        "glove_zip = os.path.join(os.getcwd(),\"Glove\", \"glove.6B.zip\")\n",
        "\n",
        "if not os.path.exists(glove_path):\n",
        "    os.makedirs(glove_path)\n",
        "\n",
        "if not os.path.exists(glove_zip):\n",
        "    urllib.request.urlretrieve(url, glove_zip)\n",
        "    print(\"Successful download\")\n",
        "\n",
        "with zipfile.ZipFile(glove_zip, 'r') as zip_ref:\n",
        "    zip_ref.extractall(path=glove_path)\n",
        "    print(\"Successful extraction\")\n"
      ],
      "metadata": {
        "colab": {
          "base_uri": "https://localhost:8080/"
        },
        "id": "iCp53ILOmBO4",
        "outputId": "2275c943-5610-4e41-882b-0c0e5c7ac1a8"
      },
      "execution_count": 11,
      "outputs": [
        {
          "output_type": "stream",
          "name": "stdout",
          "text": [
            "Successful extraction\n"
          ]
        }
      ]
    },
    {
      "cell_type": "code",
      "source": [
        "EMBEDDING_SIZE  = 50  # dimensions of the features of GloVe \n",
        "VOCABULARY_SIZE_TRAIN = num_words\n",
        "embedding_weights = np.zeros((num_words, EMBEDDING_SIZE))\n",
        "\n",
        "V1 = {}\n",
        "glove_path = '/content/Glove'\n",
        "with open(glove_path + '/glove.6B.{}d.txt'.format(EMBEDDING_SIZE),'r', encoding=\"utf8\") as f:\n",
        "    for line in f:\n",
        "        values = line.split()\n",
        "        word = values[0]\n",
        "        vector = np.asarray(values[1:],'float32')\n",
        "        V1[word]=vector\n",
        "        \n",
        "print(\"Found %s word vectors.\" % len(V1))\n",
        "\n",
        "def compute_embedding(word2id, vocabulary,embedding_weights):\n",
        "  for word, index in tq(word2id.items()):\n",
        "    if word in vocabulary:\n",
        "      try: \n",
        "        embedding_weights[index, :] = V1[word] \n",
        "      except KeyError:\n",
        "          embedding_weights[index, :] = np.random.uniform(random.choice(list(V1.values())))\n",
        "          pass\n",
        "  return embedding_weights\n",
        "\n",
        "\n",
        "embedding_words = compute_embedding(word_idx,list(word_idx.keys()),embedding_weights)\n",
        "\n"
      ],
      "metadata": {
        "colab": {
          "base_uri": "https://localhost:8080/"
        },
        "id": "wH0dNiWbmTKS",
        "outputId": "e4845a68-87c4-41e9-a05e-ea26526e7eb8"
      },
      "execution_count": 12,
      "outputs": [
        {
          "output_type": "stream",
          "name": "stdout",
          "text": [
            "Found 400000 word vectors.\n"
          ]
        },
        {
          "output_type": "stream",
          "name": "stderr",
          "text": [
            "100%|██████████| 37318/37318 [01:29<00:00, 418.26it/s]\n"
          ]
        }
      ]
    },
    {
      "cell_type": "markdown",
      "metadata": {
        "id": "mcrImldDgscG"
      },
      "source": [
        "### Sentence Embedding"
      ]
    },
    {
      "cell_type": "code",
      "source": [
        "sequence_length_cl = 76\n",
        "sequence_length_ev = 137\n",
        "embed_dim = 50 # for glove50.txt\n",
        "embedding_matrix= embedding_words #np.random.rand(claim_matrix.shape[0],embed_dim)\n",
        "\n",
        "claim_input = Input(shape=(sequence_length_cl,), name = 'claim_input')\n",
        "embedding_layer_c = Embedding(embedding_matrix.shape[0], embed_dim, weights=[embedding_matrix], \n",
        "                            input_length = sequence_length_cl, trainable=True, \n",
        "                            name='claim_embedding')(claim_input)\n",
        "\n",
        "evidence_input = Input(shape=(sequence_length_ev,), name = 'evidence_input')\n",
        "embedding_layer_e = Embedding(embedding_matrix.shape[0], embed_dim, weights=[embedding_matrix], \n",
        "                            input_length = sequence_length_ev, trainable=True, \n",
        "                            name='evidence_embedding')(evidence_input)\n",
        "\n",
        "#¶¶¶¶¶¶¶¶¶\n",
        "X_claim = Bidirectional(LSTM(units=int(embed_dim/2), \n",
        "                         name='blstm_1', \n",
        "                         #dropout=0.25, \n",
        "                         #recurrent_dropout=0.25, \n",
        "                        return_sequences=True))(embedded_claim) \n",
        "                    # If you want to switch merge_mode='concat', for the 1 point\n",
        "                    # purpose we check it as None\n",
        "X_claim = Dropout(0.25)(X_claim) \n",
        "X_claim = Dense(embed_dim,activation='relu')(X_claim) \n",
        "X_claim = Dropout(0.25)(X_claim)\n",
        "\n",
        "\n",
        "X_evidence = Bidirectional(LSTM(units=int(embed_dim/2), \n",
        "                         name='blstm_1',\n",
        "                         return_sequences=True \n",
        "                          ))(embedded_evidence) \n",
        "                    # If you want to switch merge_mode='concat', for the 1 point\n",
        "                    # purpose we check it as None\n",
        "X_evidence = Dropout(0.25)(X_evidence) \n",
        "X_evidence = Dense(embed_dim,activation='relu')(X_evidence) \n",
        "X_evidence = Dropout(0.25)(X_evidence)\n",
        "# ¶¶¶¶¶¶¶¶¶¶¶¶¶¶¶¶\n",
        "lstm_input = concatenate([X_claim,X_evidence], name='lstm_input',axis=1)\n",
        "lstm_input = (SpatialDropout1D(0.2))(lstm_input)\n",
        "lstm_input = (Bidirectional(CuDNNLSTM(64, return_sequences=True)))(lstm_input)\n",
        "lstm_input = (Bidirectional(CuDNNLSTM(32)))(lstm_input)\n",
        "lstm_input = (Dropout(0.25))(lstm_input)\n",
        "lstm_input = (Dense(units=3, activation='sigmoid', use_bias=False))(lstm_input)\n"
      ],
      "metadata": {
        "id": "nuFCGOlk2aG-"
      },
      "execution_count": 13,
      "outputs": []
    },
    {
      "cell_type": "code",
      "source": [
        "model_main = keras.Model([claim_input,evidence_input],lstm_input)\n",
        "model_main.compile(optimizer='adam', loss='binary_crossentropy',metrics=['acc'])\n",
        "model_main.summary()"
      ],
      "metadata": {
        "colab": {
          "base_uri": "https://localhost:8080/"
        },
        "id": "9V-WedmzpFlF",
        "outputId": "d0a577f4-03d5-481f-a392-f4435756b17d"
      },
      "execution_count": 14,
      "outputs": [
        {
          "output_type": "stream",
          "name": "stdout",
          "text": [
            "Model: \"model\"\n",
            "__________________________________________________________________________________________________\n",
            " Layer (type)                   Output Shape         Param #     Connected to                     \n",
            "==================================================================================================\n",
            " claim_input (InputLayer)       [(None, 76)]         0           []                               \n",
            "                                                                                                  \n",
            " evidence_input (InputLayer)    [(None, 137)]        0           []                               \n",
            "                                                                                                  \n",
            " claim_embedding (Embedding)    (None, 76, 50)       1865950     ['claim_input[0][0]']            \n",
            "                                                                                                  \n",
            " evidence_embedding (Embedding)  (None, 137, 50)     1865950     ['evidence_input[0][0]']         \n",
            "                                                                                                  \n",
            " bidirectional (Bidirectional)  (None, 76, 50)       15200       ['claim_embedding[0][0]']        \n",
            "                                                                                                  \n",
            " bidirectional_1 (Bidirectional  (None, 137, 50)     15200       ['evidence_embedding[0][0]']     \n",
            " )                                                                                                \n",
            "                                                                                                  \n",
            " dropout (Dropout)              (None, 76, 50)       0           ['bidirectional[0][0]']          \n",
            "                                                                                                  \n",
            " dropout_2 (Dropout)            (None, 137, 50)      0           ['bidirectional_1[0][0]']        \n",
            "                                                                                                  \n",
            " dense (Dense)                  (None, 76, 50)       2550        ['dropout[0][0]']                \n",
            "                                                                                                  \n",
            " dense_1 (Dense)                (None, 137, 50)      2550        ['dropout_2[0][0]']              \n",
            "                                                                                                  \n",
            " dropout_1 (Dropout)            (None, 76, 50)       0           ['dense[0][0]']                  \n",
            "                                                                                                  \n",
            " dropout_3 (Dropout)            (None, 137, 50)      0           ['dense_1[0][0]']                \n",
            "                                                                                                  \n",
            " lstm_input (Concatenate)       (None, 213, 50)      0           ['dropout_1[0][0]',              \n",
            "                                                                  'dropout_3[0][0]']              \n",
            "                                                                                                  \n",
            " spatial_dropout1d (SpatialDrop  (None, 213, 50)     0           ['lstm_input[0][0]']             \n",
            " out1D)                                                                                           \n",
            "                                                                                                  \n",
            " bidirectional_2 (Bidirectional  (None, 213, 128)    59392       ['spatial_dropout1d[0][0]']      \n",
            " )                                                                                                \n",
            "                                                                                                  \n",
            " bidirectional_3 (Bidirectional  (None, 64)          41472       ['bidirectional_2[0][0]']        \n",
            " )                                                                                                \n",
            "                                                                                                  \n",
            " dropout_4 (Dropout)            (None, 64)           0           ['bidirectional_3[0][0]']        \n",
            "                                                                                                  \n",
            " dense_2 (Dense)                (None, 3)            192         ['dropout_4[0][0]']              \n",
            "                                                                                                  \n",
            "==================================================================================================\n",
            "Total params: 3,868,456\n",
            "Trainable params: 3,868,456\n",
            "Non-trainable params: 0\n",
            "__________________________________________________________________________________________________\n"
          ]
        }
      ]
    },
    {
      "cell_type": "code",
      "source": [
        "tf.keras.utils.plot_model(model_main,show_shapes=True)"
      ],
      "metadata": {
        "colab": {
          "base_uri": "https://localhost:8080/",
          "height": 1000
        },
        "id": "V7GyWoaipamf",
        "outputId": "54079192-2d1f-4474-93a4-e6c5c01d8c14"
      },
      "execution_count": 15,
      "outputs": [
        {
          "output_type": "execute_result",
          "data": {
            "image/png": "[encoded data removed]",
            "text/plain": [
              "<IPython.core.display.Image object>"
            ]
          },
          "metadata": {},
          "execution_count": 15
        }
      ]
    },
    {
      "cell_type": "code",
      "source": [
        "y_train = df_train.Label\n",
        "tokenizer_y = Tokenizer()\n",
        "tokenizer_y.fit_on_texts(y_train)\n",
        "y_train = tokenizer_y.texts_to_sequences(y_train)\n",
        "y_train = tf.keras.utils.to_categorical( y_train, num_classes=None, dtype='int')"
      ],
      "metadata": {
        "id": "OLRFBsqj8qo4"
      },
      "execution_count": 16,
      "outputs": []
    },
    {
      "cell_type": "code",
      "source": [
        "y_val = df_val.Label\n",
        "y_val = tokenizer_y.texts_to_sequences(y_val)\n",
        "y_val = tf.keras.utils.to_categorical( y_val, num_classes=None, dtype='int')"
      ],
      "metadata": {
        "id": "f8LJVM5xyG3k"
      },
      "execution_count": 17,
      "outputs": []
    },
    {
      "cell_type": "code",
      "source": [
        "y_test = df_test.Label\n",
        "y_test = tokenizer_y.texts_to_sequences(y_test)\n",
        "y_test = tf.keras.utils.to_categorical( y_test, num_classes=None, dtype='int')"
      ],
      "metadata": {
        "id": "hiZLCoFVyHxW"
      },
      "execution_count": 18,
      "outputs": []
    },
    {
      "cell_type": "code",
      "source": [
        "history = model_main.fit(data_train, y_train,validation_data=(data_val,y_val),epochs=10, batch_size=1280, verbose=1)"
      ],
      "metadata": {
        "colab": {
          "base_uri": "https://localhost:8080/"
        },
        "id": "NSlOW1vo9n8s",
        "outputId": "09672a40-4bfb-4e4d-bd94-be6a230c0a5e"
      },
      "execution_count": 19,
      "outputs": [
        {
          "output_type": "stream",
          "name": "stdout",
          "text": [
            "Epoch 1/10\n",
            "96/96 [==============================] - 59s 490ms/step - loss: 0.4121 - acc: 0.7321 - val_loss: 0.5478 - val_acc: 0.5040\n",
            "Epoch 2/10\n",
            "96/96 [==============================] - 44s 461ms/step - loss: 0.3378 - acc: 0.7746 - val_loss: 0.4310 - val_acc: 0.6863\n",
            "Epoch 3/10\n",
            "96/96 [==============================] - 44s 462ms/step - loss: 0.2768 - acc: 0.8307 - val_loss: 0.4256 - val_acc: 0.6911\n",
            "Epoch 4/10\n",
            "96/96 [==============================] - 44s 462ms/step - loss: 0.2506 - acc: 0.8460 - val_loss: 0.3949 - val_acc: 0.7100\n",
            "Epoch 5/10\n",
            "96/96 [==============================] - 44s 460ms/step - loss: 0.2320 - acc: 0.8577 - val_loss: 0.3742 - val_acc: 0.7242\n",
            "Epoch 6/10\n",
            "96/96 [==============================] - 44s 462ms/step - loss: 0.2176 - acc: 0.8669 - val_loss: 0.3560 - val_acc: 0.7403\n",
            "Epoch 7/10\n",
            "96/96 [==============================] - 44s 460ms/step - loss: 0.2070 - acc: 0.8726 - val_loss: 0.4073 - val_acc: 0.7284\n",
            "Epoch 8/10\n",
            "96/96 [==============================] - 44s 461ms/step - loss: 0.1966 - acc: 0.8798 - val_loss: 0.3785 - val_acc: 0.7358\n",
            "Epoch 9/10\n",
            "96/96 [==============================] - 44s 461ms/step - loss: 0.1879 - acc: 0.8843 - val_loss: 0.4331 - val_acc: 0.7338\n",
            "Epoch 10/10\n",
            "96/96 [==============================] - 44s 462ms/step - loss: 0.1807 - acc: 0.8890 - val_loss: 0.4169 - val_acc: 0.7299\n"
          ]
        }
      ]
    },
    {
      "cell_type": "code",
      "source": [
        "preds = model_main.predict(data_test, batch_size=1280, verbose=1)\n",
        "b = pd.DataFrame(y_test)\n",
        "b.head(50)"
      ],
      "metadata": {
        "colab": {
          "base_uri": "https://localhost:8080/",
          "height": 1000
        },
        "id": "K0W5iIfsta_2",
        "outputId": "61b0e71e-19bf-4548-f4d7-f4ca321ba224"
      },
      "execution_count": 26,
      "outputs": [
        {
          "output_type": "stream",
          "name": "stdout",
          "text": [
            "6/6 [==============================] - 1s 180ms/step\n"
          ]
        },
        {
          "output_type": "execute_result",
          "data": {
            "text/html": [
              "<div>\n",
              "<style scoped>\n",
              "    .dataframe tbody tr th:only-of-type {\n",
              "        vertical-align: middle;\n",
              "    }\n",
              "\n",
              "    .dataframe tbody tr th {\n",
              "        vertical-align: top;\n",
              "    }\n",
              "\n",
              "    .dataframe thead th {\n",
              "        text-align: right;\n",
              "    }\n",
              "</style>\n",
              "<table border=\"1\" class=\"dataframe\">\n",
              "  <thead>\n",
              "    <tr style=\"text-align: right;\">\n",
              "      <th></th>\n",
              "      <th>0</th>\n",
              "      <th>1</th>\n",
              "      <th>2</th>\n",
              "    </tr>\n",
              "  </thead>\n",
              "  <tbody>\n",
              "    <tr>\n",
              "      <th>0</th>\n",
              "      <td>0</td>\n",
              "      <td>1</td>\n",
              "      <td>0</td>\n",
              "    </tr>\n",
              "    <tr>\n",
              "      <th>1</th>\n",
              "      <td>0</td>\n",
              "      <td>1</td>\n",
              "      <td>0</td>\n",
              "    </tr>\n",
              "    <tr>\n",
              "      <th>2</th>\n",
              "      <td>0</td>\n",
              "      <td>1</td>\n",
              "      <td>0</td>\n",
              "    </tr>\n",
              "    <tr>\n",
              "      <th>3</th>\n",
              "      <td>0</td>\n",
              "      <td>1</td>\n",
              "      <td>0</td>\n",
              "    </tr>\n",
              "    <tr>\n",
              "      <th>4</th>\n",
              "      <td>0</td>\n",
              "      <td>0</td>\n",
              "      <td>1</td>\n",
              "    </tr>\n",
              "    <tr>\n",
              "      <th>5</th>\n",
              "      <td>0</td>\n",
              "      <td>1</td>\n",
              "      <td>0</td>\n",
              "    </tr>\n",
              "    <tr>\n",
              "      <th>6</th>\n",
              "      <td>0</td>\n",
              "      <td>1</td>\n",
              "      <td>0</td>\n",
              "    </tr>\n",
              "    <tr>\n",
              "      <th>7</th>\n",
              "      <td>0</td>\n",
              "      <td>1</td>\n",
              "      <td>0</td>\n",
              "    </tr>\n",
              "    <tr>\n",
              "      <th>8</th>\n",
              "      <td>0</td>\n",
              "      <td>1</td>\n",
              "      <td>0</td>\n",
              "    </tr>\n",
              "    <tr>\n",
              "      <th>9</th>\n",
              "      <td>0</td>\n",
              "      <td>0</td>\n",
              "      <td>1</td>\n",
              "    </tr>\n",
              "    <tr>\n",
              "      <th>10</th>\n",
              "      <td>0</td>\n",
              "      <td>0</td>\n",
              "      <td>1</td>\n",
              "    </tr>\n",
              "    <tr>\n",
              "      <th>11</th>\n",
              "      <td>0</td>\n",
              "      <td>0</td>\n",
              "      <td>1</td>\n",
              "    </tr>\n",
              "    <tr>\n",
              "      <th>12</th>\n",
              "      <td>0</td>\n",
              "      <td>0</td>\n",
              "      <td>1</td>\n",
              "    </tr>\n",
              "    <tr>\n",
              "      <th>13</th>\n",
              "      <td>0</td>\n",
              "      <td>0</td>\n",
              "      <td>1</td>\n",
              "    </tr>\n",
              "    <tr>\n",
              "      <th>14</th>\n",
              "      <td>0</td>\n",
              "      <td>1</td>\n",
              "      <td>0</td>\n",
              "    </tr>\n",
              "    <tr>\n",
              "      <th>15</th>\n",
              "      <td>0</td>\n",
              "      <td>0</td>\n",
              "      <td>1</td>\n",
              "    </tr>\n",
              "    <tr>\n",
              "      <th>16</th>\n",
              "      <td>0</td>\n",
              "      <td>1</td>\n",
              "      <td>0</td>\n",
              "    </tr>\n",
              "    <tr>\n",
              "      <th>17</th>\n",
              "      <td>0</td>\n",
              "      <td>0</td>\n",
              "      <td>1</td>\n",
              "    </tr>\n",
              "    <tr>\n",
              "      <th>18</th>\n",
              "      <td>0</td>\n",
              "      <td>0</td>\n",
              "      <td>1</td>\n",
              "    </tr>\n",
              "    <tr>\n",
              "      <th>19</th>\n",
              "      <td>0</td>\n",
              "      <td>0</td>\n",
              "      <td>1</td>\n",
              "    </tr>\n",
              "    <tr>\n",
              "      <th>20</th>\n",
              "      <td>0</td>\n",
              "      <td>1</td>\n",
              "      <td>0</td>\n",
              "    </tr>\n",
              "    <tr>\n",
              "      <th>21</th>\n",
              "      <td>0</td>\n",
              "      <td>1</td>\n",
              "      <td>0</td>\n",
              "    </tr>\n",
              "    <tr>\n",
              "      <th>22</th>\n",
              "      <td>0</td>\n",
              "      <td>0</td>\n",
              "      <td>1</td>\n",
              "    </tr>\n",
              "    <tr>\n",
              "      <th>23</th>\n",
              "      <td>0</td>\n",
              "      <td>1</td>\n",
              "      <td>0</td>\n",
              "    </tr>\n",
              "    <tr>\n",
              "      <th>24</th>\n",
              "      <td>0</td>\n",
              "      <td>0</td>\n",
              "      <td>1</td>\n",
              "    </tr>\n",
              "    <tr>\n",
              "      <th>25</th>\n",
              "      <td>0</td>\n",
              "      <td>1</td>\n",
              "      <td>0</td>\n",
              "    </tr>\n",
              "    <tr>\n",
              "      <th>26</th>\n",
              "      <td>0</td>\n",
              "      <td>1</td>\n",
              "      <td>0</td>\n",
              "    </tr>\n",
              "    <tr>\n",
              "      <th>27</th>\n",
              "      <td>0</td>\n",
              "      <td>1</td>\n",
              "      <td>0</td>\n",
              "    </tr>\n",
              "    <tr>\n",
              "      <th>28</th>\n",
              "      <td>0</td>\n",
              "      <td>0</td>\n",
              "      <td>1</td>\n",
              "    </tr>\n",
              "    <tr>\n",
              "      <th>29</th>\n",
              "      <td>0</td>\n",
              "      <td>0</td>\n",
              "      <td>1</td>\n",
              "    </tr>\n",
              "    <tr>\n",
              "      <th>30</th>\n",
              "      <td>0</td>\n",
              "      <td>1</td>\n",
              "      <td>0</td>\n",
              "    </tr>\n",
              "    <tr>\n",
              "      <th>31</th>\n",
              "      <td>0</td>\n",
              "      <td>1</td>\n",
              "      <td>0</td>\n",
              "    </tr>\n",
              "    <tr>\n",
              "      <th>32</th>\n",
              "      <td>0</td>\n",
              "      <td>1</td>\n",
              "      <td>0</td>\n",
              "    </tr>\n",
              "    <tr>\n",
              "      <th>33</th>\n",
              "      <td>0</td>\n",
              "      <td>1</td>\n",
              "      <td>0</td>\n",
              "    </tr>\n",
              "    <tr>\n",
              "      <th>34</th>\n",
              "      <td>0</td>\n",
              "      <td>0</td>\n",
              "      <td>1</td>\n",
              "    </tr>\n",
              "    <tr>\n",
              "      <th>35</th>\n",
              "      <td>0</td>\n",
              "      <td>0</td>\n",
              "      <td>1</td>\n",
              "    </tr>\n",
              "    <tr>\n",
              "      <th>36</th>\n",
              "      <td>0</td>\n",
              "      <td>1</td>\n",
              "      <td>0</td>\n",
              "    </tr>\n",
              "    <tr>\n",
              "      <th>37</th>\n",
              "      <td>0</td>\n",
              "      <td>0</td>\n",
              "      <td>1</td>\n",
              "    </tr>\n",
              "    <tr>\n",
              "      <th>38</th>\n",
              "      <td>0</td>\n",
              "      <td>1</td>\n",
              "      <td>0</td>\n",
              "    </tr>\n",
              "    <tr>\n",
              "      <th>39</th>\n",
              "      <td>0</td>\n",
              "      <td>1</td>\n",
              "      <td>0</td>\n",
              "    </tr>\n",
              "    <tr>\n",
              "      <th>40</th>\n",
              "      <td>0</td>\n",
              "      <td>1</td>\n",
              "      <td>0</td>\n",
              "    </tr>\n",
              "    <tr>\n",
              "      <th>41</th>\n",
              "      <td>0</td>\n",
              "      <td>0</td>\n",
              "      <td>1</td>\n",
              "    </tr>\n",
              "    <tr>\n",
              "      <th>42</th>\n",
              "      <td>0</td>\n",
              "      <td>0</td>\n",
              "      <td>1</td>\n",
              "    </tr>\n",
              "    <tr>\n",
              "      <th>43</th>\n",
              "      <td>0</td>\n",
              "      <td>0</td>\n",
              "      <td>1</td>\n",
              "    </tr>\n",
              "    <tr>\n",
              "      <th>44</th>\n",
              "      <td>0</td>\n",
              "      <td>1</td>\n",
              "      <td>0</td>\n",
              "    </tr>\n",
              "    <tr>\n",
              "      <th>45</th>\n",
              "      <td>0</td>\n",
              "      <td>1</td>\n",
              "      <td>0</td>\n",
              "    </tr>\n",
              "    <tr>\n",
              "      <th>46</th>\n",
              "      <td>0</td>\n",
              "      <td>1</td>\n",
              "      <td>0</td>\n",
              "    </tr>\n",
              "    <tr>\n",
              "      <th>47</th>\n",
              "      <td>0</td>\n",
              "      <td>0</td>\n",
              "      <td>1</td>\n",
              "    </tr>\n",
              "    <tr>\n",
              "      <th>48</th>\n",
              "      <td>0</td>\n",
              "      <td>1</td>\n",
              "      <td>0</td>\n",
              "    </tr>\n",
              "    <tr>\n",
              "      <th>49</th>\n",
              "      <td>0</td>\n",
              "      <td>0</td>\n",
              "      <td>1</td>\n",
              "    </tr>\n",
              "  </tbody>\n",
              "</table>\n",
              "</div>"
            ],
            "text/plain": [
              "    0  1  2\n",
              "0   0  1  0\n",
              "1   0  1  0\n",
              "2   0  1  0\n",
              "3   0  1  0\n",
              "4   0  0  1\n",
              "5   0  1  0\n",
              "6   0  1  0\n",
              "7   0  1  0\n",
              "8   0  1  0\n",
              "9   0  0  1\n",
              "10  0  0  1\n",
              "11  0  0  1\n",
              "12  0  0  1\n",
              "13  0  0  1\n",
              "14  0  1  0\n",
              "15  0  0  1\n",
              "16  0  1  0\n",
              "17  0  0  1\n",
              "18  0  0  1\n",
              "19  0  0  1\n",
              "20  0  1  0\n",
              "21  0  1  0\n",
              "22  0  0  1\n",
              "23  0  1  0\n",
              "24  0  0  1\n",
              "25  0  1  0\n",
              "26  0  1  0\n",
              "27  0  1  0\n",
              "28  0  0  1\n",
              "29  0  0  1\n",
              "30  0  1  0\n",
              "31  0  1  0\n",
              "32  0  1  0\n",
              "33  0  1  0\n",
              "34  0  0  1\n",
              "35  0  0  1\n",
              "36  0  1  0\n",
              "37  0  0  1\n",
              "38  0  1  0\n",
              "39  0  1  0\n",
              "40  0  1  0\n",
              "41  0  0  1\n",
              "42  0  0  1\n",
              "43  0  0  1\n",
              "44  0  1  0\n",
              "45  0  1  0\n",
              "46  0  1  0\n",
              "47  0  0  1\n",
              "48  0  1  0\n",
              "49  0  0  1"
            ]
          },
          "metadata": {},
          "execution_count": 26
        }
      ]
    },
    {
      "cell_type": "code",
      "source": [
        "a = pd.DataFrame((np.around(preds, decimals = 0, out = None)), dtype='int')\n",
        "a.head(20)"
      ],
      "metadata": {
        "colab": {
          "base_uri": "https://localhost:8080/",
          "height": 676
        },
        "id": "S3f1rIBat30u",
        "outputId": "e1c778ea-610f-449b-b216-a24220ee71a0"
      },
      "execution_count": 28,
      "outputs": [
        {
          "output_type": "execute_result",
          "data": {
            "text/html": [
              "<div>\n",
              "<style scoped>\n",
              "    .dataframe tbody tr th:only-of-type {\n",
              "        vertical-align: middle;\n",
              "    }\n",
              "\n",
              "    .dataframe tbody tr th {\n",
              "        vertical-align: top;\n",
              "    }\n",
              "\n",
              "    .dataframe thead th {\n",
              "        text-align: right;\n",
              "    }\n",
              "</style>\n",
              "<table border=\"1\" class=\"dataframe\">\n",
              "  <thead>\n",
              "    <tr style=\"text-align: right;\">\n",
              "      <th></th>\n",
              "      <th>0</th>\n",
              "      <th>1</th>\n",
              "      <th>2</th>\n",
              "    </tr>\n",
              "  </thead>\n",
              "  <tbody>\n",
              "    <tr>\n",
              "      <th>0</th>\n",
              "      <td>0</td>\n",
              "      <td>1</td>\n",
              "      <td>0</td>\n",
              "    </tr>\n",
              "    <tr>\n",
              "      <th>1</th>\n",
              "      <td>0</td>\n",
              "      <td>1</td>\n",
              "      <td>0</td>\n",
              "    </tr>\n",
              "    <tr>\n",
              "      <th>2</th>\n",
              "      <td>0</td>\n",
              "      <td>1</td>\n",
              "      <td>0</td>\n",
              "    </tr>\n",
              "    <tr>\n",
              "      <th>3</th>\n",
              "      <td>0</td>\n",
              "      <td>1</td>\n",
              "      <td>0</td>\n",
              "    </tr>\n",
              "    <tr>\n",
              "      <th>4</th>\n",
              "      <td>0</td>\n",
              "      <td>0</td>\n",
              "      <td>1</td>\n",
              "    </tr>\n",
              "    <tr>\n",
              "      <th>5</th>\n",
              "      <td>0</td>\n",
              "      <td>1</td>\n",
              "      <td>0</td>\n",
              "    </tr>\n",
              "    <tr>\n",
              "      <th>6</th>\n",
              "      <td>0</td>\n",
              "      <td>1</td>\n",
              "      <td>0</td>\n",
              "    </tr>\n",
              "    <tr>\n",
              "      <th>7</th>\n",
              "      <td>0</td>\n",
              "      <td>1</td>\n",
              "      <td>0</td>\n",
              "    </tr>\n",
              "    <tr>\n",
              "      <th>8</th>\n",
              "      <td>0</td>\n",
              "      <td>1</td>\n",
              "      <td>0</td>\n",
              "    </tr>\n",
              "    <tr>\n",
              "      <th>9</th>\n",
              "      <td>0</td>\n",
              "      <td>0</td>\n",
              "      <td>1</td>\n",
              "    </tr>\n",
              "    <tr>\n",
              "      <th>10</th>\n",
              "      <td>0</td>\n",
              "      <td>1</td>\n",
              "      <td>0</td>\n",
              "    </tr>\n",
              "    <tr>\n",
              "      <th>11</th>\n",
              "      <td>0</td>\n",
              "      <td>0</td>\n",
              "      <td>1</td>\n",
              "    </tr>\n",
              "    <tr>\n",
              "      <th>12</th>\n",
              "      <td>0</td>\n",
              "      <td>0</td>\n",
              "      <td>1</td>\n",
              "    </tr>\n",
              "    <tr>\n",
              "      <th>13</th>\n",
              "      <td>0</td>\n",
              "      <td>1</td>\n",
              "      <td>0</td>\n",
              "    </tr>\n",
              "    <tr>\n",
              "      <th>14</th>\n",
              "      <td>0</td>\n",
              "      <td>1</td>\n",
              "      <td>0</td>\n",
              "    </tr>\n",
              "    <tr>\n",
              "      <th>15</th>\n",
              "      <td>0</td>\n",
              "      <td>0</td>\n",
              "      <td>1</td>\n",
              "    </tr>\n",
              "    <tr>\n",
              "      <th>16</th>\n",
              "      <td>0</td>\n",
              "      <td>1</td>\n",
              "      <td>0</td>\n",
              "    </tr>\n",
              "    <tr>\n",
              "      <th>17</th>\n",
              "      <td>0</td>\n",
              "      <td>0</td>\n",
              "      <td>1</td>\n",
              "    </tr>\n",
              "    <tr>\n",
              "      <th>18</th>\n",
              "      <td>0</td>\n",
              "      <td>1</td>\n",
              "      <td>0</td>\n",
              "    </tr>\n",
              "    <tr>\n",
              "      <th>19</th>\n",
              "      <td>0</td>\n",
              "      <td>1</td>\n",
              "      <td>0</td>\n",
              "    </tr>\n",
              "  </tbody>\n",
              "</table>\n",
              "</div>"
            ],
            "text/plain": [
              "    0  1  2\n",
              "0   0  1  0\n",
              "1   0  1  0\n",
              "2   0  1  0\n",
              "3   0  1  0\n",
              "4   0  0  1\n",
              "5   0  1  0\n",
              "6   0  1  0\n",
              "7   0  1  0\n",
              "8   0  1  0\n",
              "9   0  0  1\n",
              "10  0  1  0\n",
              "11  0  0  1\n",
              "12  0  0  1\n",
              "13  0  1  0\n",
              "14  0  1  0\n",
              "15  0  0  1\n",
              "16  0  1  0\n",
              "17  0  0  1\n",
              "18  0  1  0\n",
              "19  0  1  0"
            ]
          },
          "metadata": {},
          "execution_count": 28
        }
      ]
    },
    {
      "cell_type": "code",
      "source": [
        "count = 0\n",
        "for i in range (0,a.shape[0]):\n",
        "  if not(a[0][i] == b[0][i]) or not(a[1][i] == b[1][i]) or not(a[2][i] == b[2][i]):\n",
        "    count =+1\n",
        "print(count/a.shape[0]*100)"
      ],
      "metadata": {
        "colab": {
          "base_uri": "https://localhost:8080/"
        },
        "id": "ZNysW4PW3k-T",
        "outputId": "1767dc22-fd2e-4435-bab6-faba9e9df911"
      },
      "execution_count": 42,
      "outputs": [
        {
          "output_type": "stream",
          "name": "stdout",
          "text": [
            "0.013910140492418973\n"
          ]
        }
      ]
    },
    {
      "cell_type": "code",
      "source": [
        "a.shape[0]"
      ],
      "metadata": {
        "colab": {
          "base_uri": "https://localhost:8080/"
        },
        "id": "0wpfq1a05ItP",
        "outputId": "8e5ea790-52c3-4b7a-a8ab-de58a9e32668"
      },
      "execution_count": 43,
      "outputs": [
        {
          "output_type": "execute_result",
          "data": {
            "text/plain": [
              "7189"
            ]
          },
          "metadata": {},
          "execution_count": 43
        }
      ]
    },
    {
      "cell_type": "code",
      "source": [
        "a[0][0]"
      ],
      "metadata": {
        "colab": {
          "base_uri": "https://localhost:8080/",
          "height": 451
        },
        "id": "iqyFt1Ak4gfK",
        "outputId": "91cbec07-6ba1-4ab7-b3ce-85f279b644ac"
      },
      "execution_count": 37,
      "outputs": [
        {
          "output_type": "error",
          "ename": "KeyError",
          "evalue": "ignored",
          "traceback": [
            "\u001b[0;31m---------------------------------------------------------------------------\u001b[0m",
            "\u001b[0;31mValueError\u001b[0m                                Traceback (most recent call last)",
            "\u001b[0;32m/usr/local/lib/python3.7/dist-packages/pandas/core/indexes/range.py\u001b[0m in \u001b[0;36mget_loc\u001b[0;34m(self, key, method, tolerance)\u001b[0m\n\u001b[1;32m    354\u001b[0m                 \u001b[0;32mtry\u001b[0m\u001b[0;34m:\u001b[0m\u001b[0;34m\u001b[0m\u001b[0;34m\u001b[0m\u001b[0m\n\u001b[0;32m--> 355\u001b[0;31m                     \u001b[0;32mreturn\u001b[0m \u001b[0mself\u001b[0m\u001b[0;34m.\u001b[0m\u001b[0m_range\u001b[0m\u001b[0;34m.\u001b[0m\u001b[0mindex\u001b[0m\u001b[0;34m(\u001b[0m\u001b[0mnew_key\u001b[0m\u001b[0;34m)\u001b[0m\u001b[0;34m\u001b[0m\u001b[0;34m\u001b[0m\u001b[0m\n\u001b[0m\u001b[1;32m    356\u001b[0m                 \u001b[0;32mexcept\u001b[0m \u001b[0mValueError\u001b[0m \u001b[0;32mas\u001b[0m \u001b[0merr\u001b[0m\u001b[0;34m:\u001b[0m\u001b[0;34m\u001b[0m\u001b[0;34m\u001b[0m\u001b[0m\n",
            "\u001b[0;31mValueError\u001b[0m: 4 is not in range",
            "\nThe above exception was the direct cause of the following exception:\n",
            "\u001b[0;31mKeyError\u001b[0m                                  Traceback (most recent call last)",
            "\u001b[0;32m<ipython-input-37-da9bca5f16e4>\u001b[0m in \u001b[0;36m<module>\u001b[0;34m()\u001b[0m\n\u001b[0;32m----> 1\u001b[0;31m \u001b[0ma\u001b[0m\u001b[0;34m[\u001b[0m\u001b[0;36m4\u001b[0m\u001b[0;34m]\u001b[0m\u001b[0;34m[\u001b[0m\u001b[0;36m0\u001b[0m\u001b[0;34m]\u001b[0m\u001b[0;34m\u001b[0m\u001b[0;34m\u001b[0m\u001b[0m\n\u001b[0m",
            "\u001b[0;32m/usr/local/lib/python3.7/dist-packages/pandas/core/frame.py\u001b[0m in \u001b[0;36m__getitem__\u001b[0;34m(self, key)\u001b[0m\n\u001b[1;32m   2904\u001b[0m             \u001b[0;32mif\u001b[0m \u001b[0mself\u001b[0m\u001b[0;34m.\u001b[0m\u001b[0mcolumns\u001b[0m\u001b[0;34m.\u001b[0m\u001b[0mnlevels\u001b[0m \u001b[0;34m>\u001b[0m \u001b[0;36m1\u001b[0m\u001b[0;34m:\u001b[0m\u001b[0;34m\u001b[0m\u001b[0;34m\u001b[0m\u001b[0m\n\u001b[1;32m   2905\u001b[0m                 \u001b[0;32mreturn\u001b[0m \u001b[0mself\u001b[0m\u001b[0;34m.\u001b[0m\u001b[0m_getitem_multilevel\u001b[0m\u001b[0;34m(\u001b[0m\u001b[0mkey\u001b[0m\u001b[0;34m)\u001b[0m\u001b[0;34m\u001b[0m\u001b[0;34m\u001b[0m\u001b[0m\n\u001b[0;32m-> 2906\u001b[0;31m             \u001b[0mindexer\u001b[0m \u001b[0;34m=\u001b[0m \u001b[0mself\u001b[0m\u001b[0;34m.\u001b[0m\u001b[0mcolumns\u001b[0m\u001b[0;34m.\u001b[0m\u001b[0mget_loc\u001b[0m\u001b[0;34m(\u001b[0m\u001b[0mkey\u001b[0m\u001b[0;34m)\u001b[0m\u001b[0;34m\u001b[0m\u001b[0;34m\u001b[0m\u001b[0m\n\u001b[0m\u001b[1;32m   2907\u001b[0m             \u001b[0;32mif\u001b[0m \u001b[0mis_integer\u001b[0m\u001b[0;34m(\u001b[0m\u001b[0mindexer\u001b[0m\u001b[0;34m)\u001b[0m\u001b[0;34m:\u001b[0m\u001b[0;34m\u001b[0m\u001b[0;34m\u001b[0m\u001b[0m\n\u001b[1;32m   2908\u001b[0m                 \u001b[0mindexer\u001b[0m \u001b[0;34m=\u001b[0m \u001b[0;34m[\u001b[0m\u001b[0mindexer\u001b[0m\u001b[0;34m]\u001b[0m\u001b[0;34m\u001b[0m\u001b[0;34m\u001b[0m\u001b[0m\n",
            "\u001b[0;32m/usr/local/lib/python3.7/dist-packages/pandas/core/indexes/range.py\u001b[0m in \u001b[0;36mget_loc\u001b[0;34m(self, key, method, tolerance)\u001b[0m\n\u001b[1;32m    355\u001b[0m                     \u001b[0;32mreturn\u001b[0m \u001b[0mself\u001b[0m\u001b[0;34m.\u001b[0m\u001b[0m_range\u001b[0m\u001b[0;34m.\u001b[0m\u001b[0mindex\u001b[0m\u001b[0;34m(\u001b[0m\u001b[0mnew_key\u001b[0m\u001b[0;34m)\u001b[0m\u001b[0;34m\u001b[0m\u001b[0;34m\u001b[0m\u001b[0m\n\u001b[1;32m    356\u001b[0m                 \u001b[0;32mexcept\u001b[0m \u001b[0mValueError\u001b[0m \u001b[0;32mas\u001b[0m \u001b[0merr\u001b[0m\u001b[0;34m:\u001b[0m\u001b[0;34m\u001b[0m\u001b[0;34m\u001b[0m\u001b[0m\n\u001b[0;32m--> 357\u001b[0;31m                     \u001b[0;32mraise\u001b[0m \u001b[0mKeyError\u001b[0m\u001b[0;34m(\u001b[0m\u001b[0mkey\u001b[0m\u001b[0;34m)\u001b[0m \u001b[0;32mfrom\u001b[0m \u001b[0merr\u001b[0m\u001b[0;34m\u001b[0m\u001b[0;34m\u001b[0m\u001b[0m\n\u001b[0m\u001b[1;32m    358\u001b[0m             \u001b[0;32mraise\u001b[0m \u001b[0mKeyError\u001b[0m\u001b[0;34m(\u001b[0m\u001b[0mkey\u001b[0m\u001b[0;34m)\u001b[0m\u001b[0;34m\u001b[0m\u001b[0;34m\u001b[0m\u001b[0m\n\u001b[1;32m    359\u001b[0m         \u001b[0;32mreturn\u001b[0m \u001b[0msuper\u001b[0m\u001b[0;34m(\u001b[0m\u001b[0;34m)\u001b[0m\u001b[0;34m.\u001b[0m\u001b[0mget_loc\u001b[0m\u001b[0;34m(\u001b[0m\u001b[0mkey\u001b[0m\u001b[0;34m,\u001b[0m \u001b[0mmethod\u001b[0m\u001b[0;34m=\u001b[0m\u001b[0mmethod\u001b[0m\u001b[0;34m,\u001b[0m \u001b[0mtolerance\u001b[0m\u001b[0;34m=\u001b[0m\u001b[0mtolerance\u001b[0m\u001b[0;34m)\u001b[0m\u001b[0;34m\u001b[0m\u001b[0;34m\u001b[0m\u001b[0m\n",
            "\u001b[0;31mKeyError\u001b[0m: 4"
          ]
        }
      ]
    },
    {
      "cell_type": "code",
      "source": [
        "a.head(20)"
      ],
      "metadata": {
        "colab": {
          "base_uri": "https://localhost:8080/",
          "height": 676
        },
        "id": "JjBFfSej4jem",
        "outputId": "45c630b4-f0b2-4980-a7d1-5e83522802b4"
      },
      "execution_count": 36,
      "outputs": [
        {
          "output_type": "execute_result",
          "data": {
            "text/html": [
              "<div>\n",
              "<style scoped>\n",
              "    .dataframe tbody tr th:only-of-type {\n",
              "        vertical-align: middle;\n",
              "    }\n",
              "\n",
              "    .dataframe tbody tr th {\n",
              "        vertical-align: top;\n",
              "    }\n",
              "\n",
              "    .dataframe thead th {\n",
              "        text-align: right;\n",
              "    }\n",
              "</style>\n",
              "<table border=\"1\" class=\"dataframe\">\n",
              "  <thead>\n",
              "    <tr style=\"text-align: right;\">\n",
              "      <th></th>\n",
              "      <th>0</th>\n",
              "      <th>1</th>\n",
              "      <th>2</th>\n",
              "    </tr>\n",
              "  </thead>\n",
              "  <tbody>\n",
              "    <tr>\n",
              "      <th>0</th>\n",
              "      <td>0</td>\n",
              "      <td>1</td>\n",
              "      <td>0</td>\n",
              "    </tr>\n",
              "    <tr>\n",
              "      <th>1</th>\n",
              "      <td>0</td>\n",
              "      <td>1</td>\n",
              "      <td>0</td>\n",
              "    </tr>\n",
              "    <tr>\n",
              "      <th>2</th>\n",
              "      <td>0</td>\n",
              "      <td>1</td>\n",
              "      <td>0</td>\n",
              "    </tr>\n",
              "    <tr>\n",
              "      <th>3</th>\n",
              "      <td>0</td>\n",
              "      <td>1</td>\n",
              "      <td>0</td>\n",
              "    </tr>\n",
              "    <tr>\n",
              "      <th>4</th>\n",
              "      <td>0</td>\n",
              "      <td>0</td>\n",
              "      <td>1</td>\n",
              "    </tr>\n",
              "    <tr>\n",
              "      <th>5</th>\n",
              "      <td>0</td>\n",
              "      <td>1</td>\n",
              "      <td>0</td>\n",
              "    </tr>\n",
              "    <tr>\n",
              "      <th>6</th>\n",
              "      <td>0</td>\n",
              "      <td>1</td>\n",
              "      <td>0</td>\n",
              "    </tr>\n",
              "    <tr>\n",
              "      <th>7</th>\n",
              "      <td>0</td>\n",
              "      <td>1</td>\n",
              "      <td>0</td>\n",
              "    </tr>\n",
              "    <tr>\n",
              "      <th>8</th>\n",
              "      <td>0</td>\n",
              "      <td>1</td>\n",
              "      <td>0</td>\n",
              "    </tr>\n",
              "    <tr>\n",
              "      <th>9</th>\n",
              "      <td>0</td>\n",
              "      <td>0</td>\n",
              "      <td>1</td>\n",
              "    </tr>\n",
              "    <tr>\n",
              "      <th>10</th>\n",
              "      <td>0</td>\n",
              "      <td>1</td>\n",
              "      <td>0</td>\n",
              "    </tr>\n",
              "    <tr>\n",
              "      <th>11</th>\n",
              "      <td>0</td>\n",
              "      <td>0</td>\n",
              "      <td>1</td>\n",
              "    </tr>\n",
              "    <tr>\n",
              "      <th>12</th>\n",
              "      <td>0</td>\n",
              "      <td>0</td>\n",
              "      <td>1</td>\n",
              "    </tr>\n",
              "    <tr>\n",
              "      <th>13</th>\n",
              "      <td>0</td>\n",
              "      <td>1</td>\n",
              "      <td>0</td>\n",
              "    </tr>\n",
              "    <tr>\n",
              "      <th>14</th>\n",
              "      <td>0</td>\n",
              "      <td>1</td>\n",
              "      <td>0</td>\n",
              "    </tr>\n",
              "    <tr>\n",
              "      <th>15</th>\n",
              "      <td>0</td>\n",
              "      <td>0</td>\n",
              "      <td>1</td>\n",
              "    </tr>\n",
              "    <tr>\n",
              "      <th>16</th>\n",
              "      <td>0</td>\n",
              "      <td>1</td>\n",
              "      <td>0</td>\n",
              "    </tr>\n",
              "    <tr>\n",
              "      <th>17</th>\n",
              "      <td>0</td>\n",
              "      <td>0</td>\n",
              "      <td>1</td>\n",
              "    </tr>\n",
              "    <tr>\n",
              "      <th>18</th>\n",
              "      <td>0</td>\n",
              "      <td>1</td>\n",
              "      <td>0</td>\n",
              "    </tr>\n",
              "    <tr>\n",
              "      <th>19</th>\n",
              "      <td>0</td>\n",
              "      <td>1</td>\n",
              "      <td>0</td>\n",
              "    </tr>\n",
              "  </tbody>\n",
              "</table>\n",
              "</div>"
            ],
            "text/plain": [
              "    0  1  2\n",
              "0   0  1  0\n",
              "1   0  1  0\n",
              "2   0  1  0\n",
              "3   0  1  0\n",
              "4   0  0  1\n",
              "5   0  1  0\n",
              "6   0  1  0\n",
              "7   0  1  0\n",
              "8   0  1  0\n",
              "9   0  0  1\n",
              "10  0  1  0\n",
              "11  0  0  1\n",
              "12  0  0  1\n",
              "13  0  1  0\n",
              "14  0  1  0\n",
              "15  0  0  1\n",
              "16  0  1  0\n",
              "17  0  0  1\n",
              "18  0  1  0\n",
              "19  0  1  0"
            ]
          },
          "metadata": {},
          "execution_count": 36
        }
      ]
    }
  ],
  "metadata": {
    "accelerator": "GPU",
    "colab": {
      "collapsed_sections": [],
      "name": "assignment2_official.ipynb",
      "provenance": []
    },
    "kernelspec": {
      "display_name": "Python 3 (ipykernel)",
      "language": "python",
      "name": "python3"
    },
    "language_info": {
      "codemirror_mode": {
        "name": "ipython",
        "version": 3
      },
      "file_extension": ".py",
      "mimetype": "text/x-python",
      "name": "python",
      "nbconvert_exporter": "python",
      "pygments_lexer": "ipython3",
      "version": "3.9.9"
    }
  },
  "nbformat": 4,
  "nbformat_minor": 0
}