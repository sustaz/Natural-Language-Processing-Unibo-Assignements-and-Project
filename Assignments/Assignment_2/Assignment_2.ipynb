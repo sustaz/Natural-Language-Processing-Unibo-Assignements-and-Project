{
  "cells": [
    {
      "cell_type": "markdown",
      "metadata": {
        "id": "e1G5ro3Qgsbx"
      },
      "source": [
        "# Assignment 2\n"
      ]
    },
    {
      "cell_type": "markdown",
      "metadata": {
        "id": "lEavjZOw6arL"
      },
      "source": [
        "## Preliminary Steps\n",
        "\n",
        "Importing Libraries"
      ]
    },
    {
      "cell_type": "code",
      "execution_count": 1,
      "metadata": {
        "colab": {
          "base_uri": "https://localhost:8080/"
        },
        "id": "zQ0pMOoQgsb3",
        "outputId": "c14a2f8f-c4f2-442b-bea8-4017e9a81d53"
      },
      "outputs": [
        {
          "output_type": "stream",
          "name": "stdout",
          "text": [
            "[nltk_data] Downloading package punkt to /root/nltk_data...\n",
            "[nltk_data]   Unzipping tokenizers/punkt.zip.\n",
            "Requirement already satisfied: tqdm in /usr/local/lib/python3.7/dist-packages (4.62.3)\n"
          ]
        }
      ],
      "source": [
        "# Handle files and unzip\n",
        "import os\n",
        "import requests\n",
        "import zipfile\n",
        "\n",
        "import re\n",
        "\n",
        "import pandas as pd\n",
        "import numpy as np\n",
        "\n",
        "# Neural Networks\n",
        "import tensorflow as tf\n",
        "from tensorflow import keras\n",
        "from tensorflow.keras import layers\n",
        "\n",
        "# Word tokenization\n",
        "from tensorflow.keras.preprocessing.text import Tokenizer\n",
        "\n",
        "\n",
        "import nltk\n",
        "nltk.download('punkt')\n",
        "from nltk.tokenize import word_tokenize\n",
        "!pip install tqdm\n",
        "from tqdm import tqdm as tq \n",
        "from gensim.models.doc2vec import Doc2Vec, TaggedDocument\n",
        "import tensorflow as tf\n",
        "from keras.layers import * \n",
        "from keras.initializers import Constant\n",
        "from keras.models import *\n",
        "\n",
        "import random\n",
        "from copy import copy \n",
        "import urllib\n",
        "\n",
        "import matplotlib.pyplot as plt\n",
        "from sklearn.metrics import confusion_matrix\n",
        "from sklearn.metrics import classification_report\n",
        "import seaborn as sns"
      ]
    },
    {
      "cell_type": "markdown",
      "metadata": {
        "id": "_hKWjQnngsb4"
      },
      "source": [
        "### Downloading the dataset"
      ]
    },
    {
      "cell_type": "code",
      "execution_count": 2,
      "metadata": {
        "colab": {
          "base_uri": "https://localhost:8080/"
        },
        "id": "LdxMyEnXgsb6",
        "outputId": "8b4df922-ae29-4499-9866-b80686e53718"
      },
      "outputs": [
        {
          "output_type": "stream",
          "name": "stdout",
          "text": [
            "Downloading FEVER data splits...\n",
            "Download completed!\n",
            "Extracting dataset...\n",
            "Extraction completed!\n"
          ]
        }
      ],
      "source": [
        "def save_response_content(response, destination):\n",
        "    CHUNK_SIZE = 32768\n",
        "    \n",
        "    with open(destination, \"wb\") as f:\n",
        "        for chunk in response.iter_content(CHUNK_SIZE):\n",
        "            if chunk: # filter out keep-alive new chunks\n",
        "                f.write(chunk)\n",
        "\n",
        "def download_data(data_path):\n",
        "    toy_data_path = os.path.join(data_path, 'fever_data.zip')\n",
        "    toy_data_url_id = \"1wArZhF9_SHW17WKNGeLmX-QTYw9Zscl1\"\n",
        "    toy_url = \"https://docs.google.com/uc?export=download\"\n",
        "\n",
        "    if not os.path.exists(data_path):\n",
        "        os.makedirs(data_path)\n",
        "\n",
        "    if not os.path.exists(toy_data_path):\n",
        "        print(\"Downloading FEVER data splits...\")\n",
        "        with requests.Session() as current_session:\n",
        "            response = current_session.get(toy_url,\n",
        "                                   params={'id': toy_data_url_id},\n",
        "                                   stream=True)\n",
        "        save_response_content(response, toy_data_path)\n",
        "        print(\"Download completed!\")\n",
        "\n",
        "        print(\"Extracting dataset...\")\n",
        "        with zipfile.ZipFile(toy_data_path) as loaded_zip:\n",
        "            loaded_zip.extractall(data_path)\n",
        "        print(\"Extraction completed!\")\n",
        "\n",
        "download_data('dataset')"
      ]
    },
    {
      "cell_type": "markdown",
      "metadata": {
        "id": "PXcFrhqOgsb7"
      },
      "source": [
        "Look inside our dataset creating a first dataframe reading the `test_pairs.csv` file"
      ]
    },
    {
      "cell_type": "code",
      "execution_count": 3,
      "metadata": {
        "id": "OwkhN6Digsb8"
      },
      "outputs": [],
      "source": [
        "train_path = os.path.join(os.getcwd(), 'dataset', 'train_pairs.csv')\n",
        "val_path = os.path.join(os.getcwd(), 'dataset', 'val_pairs.csv')\n",
        "test_path = os.path.join(os.getcwd(), 'dataset', 'test_pairs.csv')"
      ]
    },
    {
      "cell_type": "markdown",
      "metadata": {
        "id": "Lc5CHrVCgsb-"
      },
      "source": [
        "## Data preparation"
      ]
    },
    {
      "cell_type": "markdown",
      "metadata": {
        "id": "Ba7-IVsOgsb_"
      },
      "source": [
        "As stated in [specifications.ipynb](specifications.ipynb), each dataset sample is comprised of:\n",
        "\n",
        "*     A claim to verify\n",
        "*     A set of semantically related statements (evidence set)\n",
        "*     Fact checking label: either evidences support or refute the claim.\n",
        "\n",
        "Handling the evidence set from the point of view of neural models may imply some additional complexity: if the evidence set is comprised of several sentences we might incur in memory problems.\n",
        "\n",
        "To this end, we further simplify the problem by building (claim, evidence) pairs. The fact checking label is propagated as well.\n",
        "\n",
        "Example:\n",
        "\n",
        "     Claim: c1 \n",
        "     Evidence set: [e1, e2, e3]\n",
        "     Label: S (support)\n",
        "\n",
        "--->\n",
        "\n",
        "    (c1, e1, S),\n",
        "    (c1, e2, S),\n",
        "    (c1, e3, S)\n",
        "\n"
      ]
    },
    {
      "cell_type": "markdown",
      "metadata": {
        "id": "cvz4fEl3zYdb"
      },
      "source": [
        "Now is time to clean up our data a little bit and construct our dataframe. We created two methods:\n",
        "\n",
        "1.   `sentence_cleaning` to clean the dataset from  \"-LRB-\", \"-RRB-\", \"-LSB-\" and \"-RSB-\".\n",
        "2.   `format_dataset` that read the csv file and create a dataset with 'Claim' 'Evidence' and 'Label' labels."
      ]
    },
    {
      "cell_type": "code",
      "execution_count": 4,
      "metadata": {
        "id": "xMslRQmygsb_"
      },
      "outputs": [],
      "source": [
        "dataset_path = os.path.join(os.getcwd(), 'dataset', 'train_pairs.csv')\n",
        "\n",
        "def sentence_cleaning(sentence: str) -> str:\n",
        "    \"\"\"\n",
        "    cleans up a sentence in the dataset using regular expressions\n",
        "    :param sentence: the sentence to clean-up\n",
        "    :return\n",
        "        - string cleaned\n",
        "    \"\"\"\n",
        "    \n",
        "    # removes \"-LRB-\" and \"-RRB-\" \"-LSB-\" and \"-RSB-\" strings \n",
        "    sentence = re.sub(\"-LRB-\",\"\", sentence)\n",
        "    sentence = re.sub(\"-RRB-\", \"\", sentence)\n",
        "    #sentence = re.sub(\",\", \"\", sentence) #TODO ?\n",
        "    sentence = re.sub(\"-LSB-\", \"\", sentence)\n",
        "    sentence = re.sub(\"-RSB-\", \"\", sentence)\n",
        "    \n",
        "    return sentence"
      ]
    },
    {
      "cell_type": "code",
      "execution_count": 5,
      "metadata": {
        "id": "nSTcoIhK0c6s"
      },
      "outputs": [],
      "source": [
        "def format_dataset(dataset: str, debug: bool = True) -> pd.DataFrame:\n",
        "    \"\"\"\n",
        "    Reads out the csv file and returns a dataframe with \n",
        "    {Claim, Evidence, Label} row\n",
        "    \n",
        "    :param dataset: dataset csv file path\n",
        "    :param debug: if True prints out data for debugging purposes\n",
        "    \n",
        "    :return\n",
        "        - dataframe with (claim, evidence, label) rows\n",
        "    \"\"\"\n",
        "    \n",
        "    df = pd.read_csv(dataset)\n",
        "    dataframe_rows = []\n",
        "    df_size = df.shape[0]\n",
        "\n",
        "    for i in range(0, df_size):\n",
        "\n",
        "        claim = df[\"Claim\"][i]\n",
        "        claim = sentence_cleaning(str(claim))\n",
        "\n",
        "        label = df[\"Label\"][i]\n",
        "\n",
        "        ev_list = df[\"Evidence\"][i].split('\\t')\n",
        "        evidence = sentence_cleaning(str(ev_list[1]))\n",
        "        #evidence = ev_list[1] #TODO ?\n",
        "\n",
        "        # create single dataframe row\n",
        "        dataframe_row = {\n",
        "            \"Claim\": claim,\n",
        "            \"Evidence\": evidence,\n",
        "            \"Label\": label\n",
        "        }\n",
        "\n",
        "        if debug: \n",
        "            print(claim)\n",
        "            print(evidence)\n",
        "            print(label)\n",
        "\n",
        "        dataframe_rows.append(dataframe_row)\n",
        "\n",
        "    df = pd.DataFrame(dataframe_rows)\n",
        "    \n",
        "    return df, dataframe_rows"
      ]
    },
    {
      "cell_type": "code",
      "execution_count": 6,
      "metadata": {
        "id": "q2QgtcfgwgGN"
      },
      "outputs": [],
      "source": [
        "df, df_rows = format_dataset(dataset_path, False)\n",
        "\n",
        "df['Claim_Evidence'] = df.Claim + df.Evidence\n",
        "df['Label'] = df.Label\n",
        "\n",
        "df_train, df_rows_train = format_dataset(train_path, False)\n",
        "df_val, df_rows_val = format_dataset(val_path, False)\n",
        "df_test, df_rows_test = format_dataset(test_path, False)\n",
        "\n",
        "\n",
        "df_tot = pd.concat([df_train, df_val, df_test])\n",
        "df_tot = df_tot.reset_index()\n",
        "df_tot['Claim_Evidence'] = df_tot.Claim + df_tot.Evidence"
      ]
    },
    {
      "cell_type": "markdown",
      "metadata": {
        "id": "8IXvLik73ggW"
      },
      "source": [
        "We plotted the quantities of support labels and refutes labels for our datasets. Let's see how our **training set** looks like:"
      ]
    },
    {
      "cell_type": "code",
      "execution_count": 7,
      "metadata": {
        "colab": {
          "base_uri": "https://localhost:8080/",
          "height": 324
        },
        "id": "repfMAIp27Np",
        "outputId": "f5eae754-354f-4c5e-ed73-30460ca7dcbe"
      },
      "outputs": [
        {
          "output_type": "execute_result",
          "data": {
            "text/plain": [
              "<matplotlib.axes._subplots.AxesSubplot at 0x7f3cb30cfa50>"
            ]
          },
          "metadata": {},
          "execution_count": 7
        },
        {
          "output_type": "display_data",
          "data": {
            "image/png": "[encoded data removed]",
            "text/plain": [
              "<Figure size 504x288 with 1 Axes>"
            ]
          },
          "metadata": {
            "needs_background": "light"
          }
        }
      ],
      "source": [
        "#Plotting the quantity of the classes on the training set\n",
        "fig_size = plt.rcParams[\"figure.figsize\"]\n",
        "fig_size[0] = 7\n",
        "fig_size[1] = 4\n",
        "plt.rcParams[\"figure.figsize\"] = fig_size\n",
        "\n",
        "df_train[\"Label\"].value_counts().plot.bar()"
      ]
    },
    {
      "cell_type": "markdown",
      "metadata": {
        "id": "ac79rhi_LBsT"
      },
      "source": [
        "We can see that the training set is unbalanced"
      ]
    },
    {
      "cell_type": "markdown",
      "metadata": {
        "id": "gU4VEHBELBsV"
      },
      "source": [
        "Now, it's the turn of our **validation set**"
      ]
    },
    {
      "cell_type": "code",
      "execution_count": 8,
      "metadata": {
        "colab": {
          "base_uri": "https://localhost:8080/",
          "height": 324
        },
        "id": "YJJnCYXq3Zom",
        "outputId": "63486b5a-5024-4006-8bb2-14ff3c0883a4"
      },
      "outputs": [
        {
          "output_type": "execute_result",
          "data": {
            "text/plain": [
              "<matplotlib.axes._subplots.AxesSubplot at 0x7f3cb2b0b610>"
            ]
          },
          "metadata": {},
          "execution_count": 8
        },
        {
          "output_type": "display_data",
          "data": {
            "image/png": "[encoded data removed]",
            "text/plain": [
              "<Figure size 504x288 with 1 Axes>"
            ]
          },
          "metadata": {
            "needs_background": "light"
          }
        }
      ],
      "source": [
        "#Plotting the quantity of the classes on the validation set\n",
        "fig_size = plt.rcParams[\"figure.figsize\"]\n",
        "fig_size[0] = 7\n",
        "fig_size[1] = 4\n",
        "plt.rcParams[\"figure.figsize\"] = fig_size\n",
        "\n",
        "df_val[\"Label\"].value_counts().plot.bar()"
      ]
    },
    {
      "cell_type": "markdown",
      "metadata": {
        "id": "ku9jtyTkLBsZ"
      },
      "source": [
        "Last but not least, our **test set**"
      ]
    },
    {
      "cell_type": "code",
      "execution_count": 9,
      "metadata": {
        "colab": {
          "base_uri": "https://localhost:8080/",
          "height": 324
        },
        "id": "c_cauApE3cqT",
        "outputId": "2dd1c1e9-0220-4460-c872-e10f571d51b9"
      },
      "outputs": [
        {
          "output_type": "execute_result",
          "data": {
            "text/plain": [
              "<matplotlib.axes._subplots.AxesSubplot at 0x7f3cb2afef10>"
            ]
          },
          "metadata": {},
          "execution_count": 9
        },
        {
          "output_type": "display_data",
          "data": {
            "image/png": "[encoded data removed]",
            "text/plain": [
              "<Figure size 504x288 with 1 Axes>"
            ]
          },
          "metadata": {
            "needs_background": "light"
          }
        }
      ],
      "source": [
        "#Plotting the quantity of the classes on the test set\n",
        "fig_size = plt.rcParams[\"figure.figsize\"]\n",
        "fig_size[0] = 7\n",
        "fig_size[1] = 4\n",
        "plt.rcParams[\"figure.figsize\"] = fig_size\n",
        "\n",
        "df_test[\"Label\"].value_counts().plot.bar()"
      ]
    },
    {
      "cell_type": "markdown",
      "metadata": {
        "id": "tbSeumrRgscB"
      },
      "source": [
        "Let's show the first 5 rows of the resulting dataframe"
      ]
    },
    {
      "cell_type": "code",
      "execution_count": 11,
      "metadata": {
        "colab": {
          "base_uri": "https://localhost:8080/",
          "height": 206
        },
        "id": "evoJpSSygscB",
        "outputId": "30244612-f6be-4fde-e3cb-6671d5435cc9"
      },
      "outputs": [
        {
          "output_type": "execute_result",
          "data": {
            "text/html": [
              "\n",
              "  <div id=\"df-b927d931-c0be-4a1e-99f0-6e1a104d67c6\">\n",
              "    <div class=\"colab-df-container\">\n",
              "      <div>\n",
              "<style scoped>\n",
              "    .dataframe tbody tr th:only-of-type {\n",
              "        vertical-align: middle;\n",
              "    }\n",
              "\n",
              "    .dataframe tbody tr th {\n",
              "        vertical-align: top;\n",
              "    }\n",
              "\n",
              "    .dataframe thead th {\n",
              "        text-align: right;\n",
              "    }\n",
              "</style>\n",
              "<table border=\"1\" class=\"dataframe\">\n",
              "  <thead>\n",
              "    <tr style=\"text-align: right;\">\n",
              "      <th></th>\n",
              "      <th>Claim</th>\n",
              "      <th>Evidence</th>\n",
              "      <th>Label</th>\n",
              "      <th>Claim_Evidence</th>\n",
              "    </tr>\n",
              "  </thead>\n",
              "  <tbody>\n",
              "    <tr>\n",
              "      <th>0</th>\n",
              "      <td>Chris Hemsworth appeared in A Perfect Getaway.</td>\n",
              "      <td>Hemsworth has also appeared in the science fic...</td>\n",
              "      <td>SUPPORTS</td>\n",
              "      <td>Chris Hemsworth appeared in A Perfect Getaway....</td>\n",
              "    </tr>\n",
              "    <tr>\n",
              "      <th>1</th>\n",
              "      <td>Roald Dahl is a writer.</td>\n",
              "      <td>Roald Dahl   langpronˈroʊ.əld _ ˈdɑːl  ,  ˈɾuː...</td>\n",
              "      <td>SUPPORTS</td>\n",
              "      <td>Roald Dahl is a writer.Roald Dahl   langpronˈr...</td>\n",
              "    </tr>\n",
              "    <tr>\n",
              "      <th>2</th>\n",
              "      <td>Roald Dahl is a governor.</td>\n",
              "      <td>Roald Dahl   langpronˈroʊ.əld _ ˈdɑːl  ,  ˈɾuː...</td>\n",
              "      <td>REFUTES</td>\n",
              "      <td>Roald Dahl is a governor.Roald Dahl   langpron...</td>\n",
              "    </tr>\n",
              "    <tr>\n",
              "      <th>3</th>\n",
              "      <td>Ireland has relatively low-lying mountains.</td>\n",
              "      <td>The island 's geography comprises relatively l...</td>\n",
              "      <td>SUPPORTS</td>\n",
              "      <td>Ireland has relatively low-lying mountains.The...</td>\n",
              "    </tr>\n",
              "    <tr>\n",
              "      <th>4</th>\n",
              "      <td>Ireland does not have relatively low-lying mou...</td>\n",
              "      <td>The island 's geography comprises relatively l...</td>\n",
              "      <td>REFUTES</td>\n",
              "      <td>Ireland does not have relatively low-lying mou...</td>\n",
              "    </tr>\n",
              "  </tbody>\n",
              "</table>\n",
              "</div>\n",
              "      <button class=\"colab-df-convert\" onclick=\"convertToInteractive('df-b927d931-c0be-4a1e-99f0-6e1a104d67c6')\"\n",
              "              title=\"Convert this dataframe to an interactive table.\"\n",
              "              style=\"display:none;\">\n",
              "        \n",
              "  <svg xmlns=\"http://www.w3.org/2000/svg\" height=\"24px\"viewBox=\"0 0 24 24\"\n",
              "       width=\"24px\">\n",
              "    <path d=\"M0 0h24v24H0V0z\" fill=\"none\"/>\n",
              "    <path d=\"M18.56 5.44l.94 2.06.94-2.06 2.06-.94-2.06-.94-.94-2.06-.94 2.06-2.06.94zm-11 1L8.5 8.5l.94-2.06 2.06-.94-2.06-.94L8.5 2.5l-.94 2.06-2.06.94zm10 10l.94 2.06.94-2.06 2.06-.94-2.06-.94-.94-2.06-.94 2.06-2.06.94z\"/><path d=\"M17.41 7.96l-1.37-1.37c-.4-.4-.92-.59-1.43-.59-.52 0-1.04.2-1.43.59L10.3 9.45l-7.72 7.72c-.78.78-.78 2.05 0 2.83L4 21.41c.39.39.9.59 1.41.59.51 0 1.02-.2 1.41-.59l7.78-7.78 2.81-2.81c.8-.78.8-2.07 0-2.86zM5.41 20L4 18.59l7.72-7.72 1.47 1.35L5.41 20z\"/>\n",
              "  </svg>\n",
              "      </button>\n",
              "      \n",
              "  <style>\n",
              "    .colab-df-container {\n",
              "      display:flex;\n",
              "      flex-wrap:wrap;\n",
              "      gap: 12px;\n",
              "    }\n",
              "\n",
              "    .colab-df-convert {\n",
              "      background-color: #E8F0FE;\n",
              "      border: none;\n",
              "      border-radius: 50%;\n",
              "      cursor: pointer;\n",
              "      display: none;\n",
              "      fill: #1967D2;\n",
              "      height: 32px;\n",
              "      padding: 0 0 0 0;\n",
              "      width: 32px;\n",
              "    }\n",
              "\n",
              "    .colab-df-convert:hover {\n",
              "      background-color: #E2EBFA;\n",
              "      box-shadow: 0px 1px 2px rgba(60, 64, 67, 0.3), 0px 1px 3px 1px rgba(60, 64, 67, 0.15);\n",
              "      fill: #174EA6;\n",
              "    }\n",
              "\n",
              "    [theme=dark] .colab-df-convert {\n",
              "      background-color: #3B4455;\n",
              "      fill: #D2E3FC;\n",
              "    }\n",
              "\n",
              "    [theme=dark] .colab-df-convert:hover {\n",
              "      background-color: #434B5C;\n",
              "      box-shadow: 0px 1px 3px 1px rgba(0, 0, 0, 0.15);\n",
              "      filter: drop-shadow(0px 1px 2px rgba(0, 0, 0, 0.3));\n",
              "      fill: #FFFFFF;\n",
              "    }\n",
              "  </style>\n",
              "\n",
              "      <script>\n",
              "        const buttonEl =\n",
              "          document.querySelector('#df-b927d931-c0be-4a1e-99f0-6e1a104d67c6 button.colab-df-convert');\n",
              "        buttonEl.style.display =\n",
              "          google.colab.kernel.accessAllowed ? 'block' : 'none';\n",
              "\n",
              "        async function convertToInteractive(key) {\n",
              "          const element = document.querySelector('#df-b927d931-c0be-4a1e-99f0-6e1a104d67c6');\n",
              "          const dataTable =\n",
              "            await google.colab.kernel.invokeFunction('convertToInteractive',\n",
              "                                                     [key], {});\n",
              "          if (!dataTable) return;\n",
              "\n",
              "          const docLinkHtml = 'Like what you see? Visit the ' +\n",
              "            '<a target=\"_blank\" href=https://colab.research.google.com/notebooks/data_table.ipynb>data table notebook</a>'\n",
              "            + ' to learn more about interactive tables.';\n",
              "          element.innerHTML = '';\n",
              "          dataTable['output_type'] = 'display_data';\n",
              "          await google.colab.output.renderOutput(dataTable, element);\n",
              "          const docLink = document.createElement('div');\n",
              "          docLink.innerHTML = docLinkHtml;\n",
              "          element.appendChild(docLink);\n",
              "        }\n",
              "      </script>\n",
              "    </div>\n",
              "  </div>\n",
              "  "
            ],
            "text/plain": [
              "                                               Claim  ...                                     Claim_Evidence\n",
              "0     Chris Hemsworth appeared in A Perfect Getaway.  ...  Chris Hemsworth appeared in A Perfect Getaway....\n",
              "1                            Roald Dahl is a writer.  ...  Roald Dahl is a writer.Roald Dahl   langpronˈr...\n",
              "2                          Roald Dahl is a governor.  ...  Roald Dahl is a governor.Roald Dahl   langpron...\n",
              "3        Ireland has relatively low-lying mountains.  ...  Ireland has relatively low-lying mountains.The...\n",
              "4  Ireland does not have relatively low-lying mou...  ...  Ireland does not have relatively low-lying mou...\n",
              "\n",
              "[5 rows x 4 columns]"
            ]
          },
          "metadata": {},
          "execution_count": 11
        }
      ],
      "source": [
        "df.head()"
      ]
    },
    {
      "cell_type": "markdown",
      "metadata": {
        "id": "rUTOIq8L1kmJ"
      },
      "source": [
        "## Tokenization"
      ]
    },
    {
      "cell_type": "markdown",
      "metadata": {
        "id": "ki23iZ3RgscC"
      },
      "source": [
        "Turning claims and evidences into sequences of integers using the Keras `Tokenizer`. The text we fit the Tokenizer on is the set of all values from the `Claim_Evidence` column."
      ]
    },
    {
      "cell_type": "code",
      "execution_count": 12,
      "metadata": {
        "id": "dJVPzBxg6fp9"
      },
      "outputs": [],
      "source": [
        "lower=True \n",
        "filters='!\"#$%&()*+-/:;<=>?@[\\\\]^_.`{|}~\\t\\n'\n",
        "\n",
        "# Create the tokenizer object and train on texts\n",
        "tokenizer = Tokenizer(lower=lower, filters=filters)\n",
        "tokenizer.fit_on_texts(df_tot[0:len(df_rows_train)].Claim_Evidence)\n",
        "\n",
        "# Create look-up dictionaries and reverse look-ups\n",
        "word_idx = tokenizer.word_index\n",
        "idx_word = tokenizer.index_word\n",
        "num_words = len(word_idx) + 1\n",
        "word_counts = tokenizer.word_counts\n",
        "\n",
        "# Convert text to sequences of integers\n",
        "token_claim = tokenizer.texts_to_sequences(df_tot.Claim)\n",
        "token_evidence = tokenizer.texts_to_sequences(df_tot.Evidence)"
      ]
    },
    {
      "cell_type": "markdown",
      "metadata": {
        "id": "d5RwC0N0gscD"
      },
      "source": [
        "Now is time to construct the input matrices for the embedding step. We build those matrices starting from `token_claim` and `token_evidence`. The number of rows of the matrices is the number of elements in `token_claim` and `token_evidence`, while the number of columns is the size of the longest sequences. The rows corresponding to shorter sequences are filled with zero-padding."
      ]
    },
    {
      "cell_type": "code",
      "execution_count": 13,
      "metadata": {
        "id": "jBxP5T4ogscE"
      },
      "outputs": [],
      "source": [
        "# computes the longest token sequence\n",
        "def longest_seq(seq):\n",
        "    seq_len = [len(i) for i in seq]\n",
        "    print(max(seq_len))\n",
        "    return max(seq_len)"
      ]
    },
    {
      "cell_type": "code",
      "execution_count": 14,
      "metadata": {
        "id": "H2vN8D_GzJwg"
      },
      "outputs": [],
      "source": [
        "def matrix_from_sequences(sequences):\n",
        "    \"\"\"\n",
        "    Builds a matrix of shape [batch_size, max_tokens]\n",
        "    \"\"\"\n",
        "    \n",
        "    max_tokens = longest_seq(sequences)\n",
        "    seq_length = len(sequences)\n",
        "    \n",
        "    matrix = np.zeros((len(sequences), max_tokens), dtype=np.int32)\n",
        "    \n",
        "    for i in range(0, seq_length):\n",
        "        for j in range(0, len(sequences[i])):\n",
        "            matrix[i][j] = sequences[i][j]\n",
        "    \n",
        "    return matrix"
      ]
    },
    {
      "cell_type": "code",
      "execution_count": 15,
      "metadata": {
        "colab": {
          "base_uri": "https://localhost:8080/"
        },
        "id": "F7k5_cRUzMCt",
        "outputId": "de41c2c7-d97e-4469-8795-fc9a5964d46e"
      },
      "outputs": [
        {
          "output_type": "stream",
          "name": "stdout",
          "text": [
            "76\n",
            "137\n"
          ]
        }
      ],
      "source": [
        "claim_matrix = matrix_from_sequences(token_claim)\n",
        "evidence_matrix = matrix_from_sequences(token_evidence)"
      ]
    },
    {
      "cell_type": "markdown",
      "metadata": {
        "id": "l1YkP0gIvMTe"
      },
      "source": [
        "### Dataframe split\n",
        "\n",
        "Now we create matrices for Claims and Evidences starting from the other dataframes of training and validation sets. Then, we group all the training, validation and test data together."
      ]
    },
    {
      "cell_type": "code",
      "execution_count": 16,
      "metadata": {
        "id": "ckzh7EFuBlW1"
      },
      "outputs": [],
      "source": [
        "claim_matrix_train = claim_matrix[0:len(df_rows_train)]\n",
        "evidence_matrix_train = evidence_matrix[0:len(df_rows_train)]\n",
        "\n",
        "claim_matrix_val = claim_matrix[len(df_rows_train): len(df_rows_train) +len(df_rows_val)]\n",
        "evidence_matrix_val = evidence_matrix[len(df_rows_train): len(df_rows_train) +len(df_rows_val)]\n",
        "\n",
        "claim_matrix_test = claim_matrix[len(df_rows_train) +len(df_rows_val)::]\n",
        "evidence_matrix_test = evidence_matrix[len(df_rows_train) +len(df_rows_val)::]\n",
        "\n",
        "data_train = (claim_matrix_train,evidence_matrix_train)\n",
        "data_val = (claim_matrix_val,evidence_matrix_val)\n",
        "data_test = (claim_matrix_test,evidence_matrix_test)"
      ]
    },
    {
      "cell_type": "markdown",
      "metadata": {
        "id": "zLrNrcE8l8HI"
      },
      "source": [
        "## Word Embedding\n",
        "Now, we have to first create embedding for single words. For this purpose, we rely on the pre-trained **GloVe** embeddings. So we proceed downloading them."
      ]
    },
    {
      "cell_type": "markdown",
      "metadata": {
        "id": "CcQv4TiO2Eva"
      },
      "source": [
        "We start downloading GloVe"
      ]
    },
    {
      "cell_type": "code",
      "execution_count": 17,
      "metadata": {
        "colab": {
          "base_uri": "https://localhost:8080/"
        },
        "id": "iCp53ILOmBO4",
        "outputId": "87fd9ab6-f914-40d3-b9d5-6b89514b5a96"
      },
      "outputs": [
        {
          "output_type": "stream",
          "name": "stdout",
          "text": [
            "Successful download\n",
            "Successful extraction\n"
          ]
        }
      ],
      "source": [
        "url = \"https://nlp.stanford.edu/data/glove.6B.zip\"\n",
        "\n",
        "glove_path = os.path.join(os.getcwd(),\"Glove\")\n",
        "glove_zip = os.path.join(os.getcwd(),\"Glove\", \"glove.6B.zip\")\n",
        "\n",
        "if not os.path.exists(glove_path):\n",
        "    os.makedirs(glove_path)\n",
        "\n",
        "if not os.path.exists(glove_zip):\n",
        "    urllib.request.urlretrieve(url, glove_zip)\n",
        "    print(\"Successful download\")\n",
        "\n",
        "with zipfile.ZipFile(glove_zip, 'r') as zip_ref:\n",
        "    zip_ref.extractall(path=glove_path)\n",
        "    print(\"Successful extraction\")\n"
      ]
    },
    {
      "cell_type": "markdown",
      "metadata": {
        "id": "jkJy8NZo2Kha"
      },
      "source": [
        "Creating GloVe dictionary"
      ]
    },
    {
      "cell_type": "code",
      "execution_count": 18,
      "metadata": {
        "colab": {
          "base_uri": "https://localhost:8080/"
        },
        "id": "wH0dNiWbmTKS",
        "outputId": "f1993cf5-21d4-431e-cffe-c4eff4e9c01a"
      },
      "outputs": [
        {
          "output_type": "stream",
          "name": "stdout",
          "text": [
            "Found 400000 word vectors.\n"
          ]
        }
      ],
      "source": [
        "EMBEDDING_SIZE  = 50  # dimensions of the features of GloVe \n",
        "VOCABULARY_SIZE_TRAIN = num_words\n",
        "embedding_weights = np.zeros((num_words, EMBEDDING_SIZE))\n",
        "\n",
        "V1 = {}\n",
        "glove_path = '/content/Glove'\n",
        "with open(glove_path + '/glove.6B.{}d.txt'.format(EMBEDDING_SIZE),'r', encoding=\"utf8\") as f:\n",
        "    for line in f:\n",
        "        values = line.split()\n",
        "        word = values[0]\n",
        "        vector = np.asarray(values[1:],'float32')\n",
        "        V1[word]=vector\n",
        "        \n",
        "print(\"Found %s word vectors.\" % len(V1))"
      ]
    },
    {
      "cell_type": "markdown",
      "metadata": {
        "id": "W-R3_68c2YQK"
      },
      "source": [
        "we created compute_embedding method to create the embeddings"
      ]
    },
    {
      "cell_type": "code",
      "execution_count": 19,
      "metadata": {
        "id": "BjNi7XRx2UfE"
      },
      "outputs": [],
      "source": [
        "def compute_embedding(word2id, vocabulary,embedding_weights):\n",
        "  for word, index in tq(word2id.items()):\n",
        "    if word in vocabulary:\n",
        "      try: \n",
        "        embedding_weights[index, :] = V1[word] \n",
        "      except KeyError:\n",
        "          embedding_weights[index, :] = np.random.uniform(random.choice(list(V1.values())))\n",
        "          pass\n",
        "  return embedding_weights"
      ]
    },
    {
      "cell_type": "code",
      "execution_count": 20,
      "metadata": {
        "colab": {
          "base_uri": "https://localhost:8080/"
        },
        "id": "iTUMioLeJp0r",
        "outputId": "37eda21a-a1d8-4c01-f05c-666ac3912641"
      },
      "outputs": [
        {
          "output_type": "stream",
          "name": "stderr",
          "text": [
            "100%|██████████| 37318/37318 [01:16<00:00, 486.88it/s]\n"
          ]
        }
      ],
      "source": [
        "embedding_words = compute_embedding(word_idx,list(word_idx.keys()),embedding_weights)"
      ]
    },
    {
      "cell_type": "markdown",
      "metadata": {
        "id": "mcrImldDgscG"
      },
      "source": [
        "### Sentence Embedding\n",
        "\n",
        "Now it's time to actually compute **sentence embeddings**. After the computing sentence embeddings for Claim and Evidences, we must merge them, and we can choose between different strategies. Now we will try out the different approaches proposed in the specifications for computing our sentence embeddings. In particular we will implement 6 different approaches, which differs by technique used to compute embeddings and/or the technique used to merge embeddings. \n",
        "\n",
        "Those will be the merging strategies used:\n",
        "\n",
        "*     **Concatenation**: define the classification input as the concatenation of evidence and claim sentence embeddings\n",
        "\n",
        "*     **Sum**: define the classification input as the sum of evidence and claim sentence embeddings\n",
        "\n",
        "*     **Mean**: define the classification input as the mean of evidence and claim sentence embeddings"
      ]
    },
    {
      "cell_type": "markdown",
      "source": [
        "As a preliminary procedure, we defined a method to_cat that we used to encode the label column in order to make it computable by the models."
      ],
      "metadata": {
        "id": "j_cEn3zCRcbA"
      }
    },
    {
      "cell_type": "code",
      "execution_count": 21,
      "metadata": {
        "id": "zlGjY6c1R-qq"
      },
      "outputs": [],
      "source": [
        "def to_cat(y, tokenizer):\n",
        "  tokenizer.fit_on_texts(y)\n",
        "  y = tokenizer.texts_to_sequences(y)\n",
        "  y = tf.keras.utils.to_categorical( y, num_classes=None, dtype='int')\n",
        "  return y"
      ]
    },
    {
      "cell_type": "code",
      "execution_count": 22,
      "metadata": {
        "id": "VAi0Sl1s2jWi"
      },
      "outputs": [],
      "source": [
        "y_train = df_train.Label\n",
        "tokenizer_y = Tokenizer()\n",
        "tokenizer_y.fit_on_texts(y_train)\n",
        "y_train = to_cat(y_train, tokenizer_y)\n",
        "\n",
        "y_val = to_cat(df_val.Label, tokenizer_y)\n",
        "\n",
        "y_test = to_cat(df_test.Label, tokenizer_y)"
      ]
    },
    {
      "cell_type": "markdown",
      "metadata": {
        "id": "4rZZgNoAzwhg"
      },
      "source": [
        "### 1. Encode token sequences via a RNN and take the last state as the sentence embedding.\n",
        "\n",
        "We created the method model_creation() that encodes token sequences via a RNN taking the **last state as the sentence embedding**."
      ]
    },
    {
      "cell_type": "code",
      "execution_count": 23,
      "metadata": {
        "id": "DxUPe1Z5zt87"
      },
      "outputs": [],
      "source": [
        "def model_creation_last():  \n",
        "  sequence_length_cl = claim_matrix.shape[1]\n",
        "  sequence_length_ev = evidence_matrix.shape[1]\n",
        "  embed_dim = 50 # dimensions of Vectors's GloVe\n",
        "  embedding_matrix= embedding_words #np.random.rand(claim_matrix.shape[0],embed_dim)\n",
        "\n",
        "  claim_input = Input(shape=(sequence_length_cl,), name = 'claim_input')\n",
        "  embedding_layer_c = Embedding(embedding_matrix.shape[0], embed_dim, weights=[embedding_matrix], \n",
        "                              input_length = sequence_length_cl, trainable=True, \n",
        "                              name='claim_embedding')\n",
        "\n",
        "  evidence_input = Input(shape=(sequence_length_ev,), name = 'evidence_input')\n",
        "  embedding_layer_e = Embedding(embedding_matrix.shape[0], embed_dim, weights=[embedding_matrix], \n",
        "                              input_length = sequence_length_ev, trainable=True, \n",
        "                              name='evidence_embedding')\n",
        "\n",
        "  embedded_claim = embedding_layer_c(claim_input)\n",
        "  embedded_evidence = embedding_layer_e(evidence_input)\n",
        "\n",
        "  X_claim = Bidirectional(LSTM(units=int(embed_dim/2), \n",
        "                          name='Bidirectional_Claim', \n",
        "                          #dropout=0.25,  #TODO ?\n",
        "                          #recurrent_dropout=0.25, \n",
        "                          return_sequences=False))(embedded_claim) \n",
        "                      # If you want to switch merge_mode='concat', for the 1 point\n",
        "                      # purpose we check it as None #TODO ?\n",
        "\n",
        "\n",
        "  X_evidence = Bidirectional(LSTM(units=int(embed_dim/2), \n",
        "                          name='Bidirectional_Evidence',\n",
        "                          return_sequences=False \n",
        "                            ))(embedded_evidence) \n",
        "                      # If you want to switch merge_mode='concat', for the 1 point\n",
        "                      # purpose we check it as None\n",
        "  return X_claim, X_evidence, claim_input, evidence_input\n"
      ]
    },
    {
      "cell_type": "markdown",
      "metadata": {
        "id": "C4G93h8tyBMY"
      },
      "source": [
        "## 2. Encode token sequences via a RNN and average all the output states.\n",
        "\n",
        "We will compute emeddings with the method model_creation_ave() by encoding token sequences via a RNN and **average all the output states**."
      ]
    },
    {
      "cell_type": "code",
      "execution_count": 24,
      "metadata": {
        "id": "nuFCGOlk2aG-"
      },
      "outputs": [],
      "source": [
        "def  model_creation_ave():\n",
        "  sequence_length_cl = claim_matrix.shape[1]\n",
        "  sequence_length_ev = evidence_matrix.shape[1]\n",
        "  embed_dim = 50 # for glove50.txt\n",
        "  embedding_matrix= embedding_words #np.random.rand(claim_matrix.shape[0],embed_dim) #TODO ?\n",
        "\n",
        "  claim_input = Input(shape=(sequence_length_cl,), name = 'claim_input')\n",
        "  embedding_layer_c = Embedding(embedding_matrix.shape[0], embed_dim, weights=[embedding_matrix], \n",
        "                              input_length = sequence_length_cl, trainable=True, \n",
        "                              name='claim_embedding')\n",
        "\n",
        "  evidence_input = Input(shape=(sequence_length_ev,), name = 'evidence_input')\n",
        "  embedding_layer_e = Embedding(embedding_matrix.shape[0], embed_dim, weights=[embedding_matrix], \n",
        "                              input_length = sequence_length_ev, trainable=True, \n",
        "                              name='evidence_embedding')\n",
        "\n",
        "  embedded_claim = embedding_layer_c(claim_input)\n",
        "  embedded_evidence = embedding_layer_e(evidence_input)\n",
        "\n",
        "  X_claim = Bidirectional(LSTM(units=int(embed_dim/2), \n",
        "                          name='Bidirectional_Claim', \n",
        "                          #dropout=0.25,  \n",
        "                          #recurrent_dropout=0.25, \n",
        "                          return_sequences=True))(embedded_claim) \n",
        "                      # If you want to switch merge_mode='concat', for the 1 point\n",
        "                      # purpose we check it as None\n",
        "\n",
        "\n",
        "\n",
        "  X_evidence = Bidirectional(LSTM(units=int(embed_dim/2), \n",
        "                          name='Bidirectional_Evidence',\n",
        "                          return_sequences=True \n",
        "                            ))(embedded_evidence) \n",
        "                      # If you want to switch merge_mode='concat', for the 1 point\n",
        "                      # purpose we check it as None\n",
        "\n",
        "  #\n",
        "  X_evidence = tf.reduce_mean(X_evidence, 1, \n",
        "                          name='Mean_evidence')\n",
        "  X_claim = tf.reduce_mean(X_claim, 1, \n",
        "                          name='Bidirectional_Evidence')\n",
        "\n",
        "  return X_claim,X_evidence, claim_input, evidence_input\n"
      ]
    },
    {
      "cell_type": "markdown",
      "metadata": {
        "id": "59iP6nzP0_iO"
      },
      "source": [
        "## 3. Encode token sequences via a simple MLP layer. \n",
        "\n",
        "In the method model_creation_NLP we compute the embedding encoding token sequences via a simple **MLP layer**. "
      ]
    },
    {
      "cell_type": "code",
      "execution_count": 25,
      "metadata": {
        "id": "ph5nGRSK1PNm"
      },
      "outputs": [],
      "source": [
        "def model_creation_MLP():  \n",
        "  sequence_length_cl = claim_matrix.shape[1] \n",
        "  sequence_length_ev = evidence_matrix.shape[1] \n",
        "  embed_dim = 50 # for glove50.txt \n",
        "  embedding_matrix= embedding_words #np.random.rand(claim_matrix.shape[0],embed_dim) \n",
        "  \n",
        "  claim_input = Input(shape=(sequence_length_cl,), name = 'claim_input') \n",
        "  embedding_layer_c = Embedding(embedding_matrix.shape[0], embed_dim, weights=[embedding_matrix],  \n",
        "                              input_length = sequence_length_cl, trainable=True,  \n",
        "                              name='claim_embedding') \n",
        "  \n",
        "  evidence_input = Input(shape=(sequence_length_ev,), name = 'evidence_input') \n",
        "  embedding_layer_e = Embedding(embedding_matrix.shape[0], embed_dim, weights=[embedding_matrix],  \n",
        "                              input_length = sequence_length_ev, trainable=True,  \n",
        "                              name='evidence_embedding') \n",
        "  \n",
        "  embedded_claim = embedding_layer_c(claim_input) \n",
        "  embedded_evidence = embedding_layer_e(evidence_input) \n",
        "  \n",
        "  X_claim = tf.reshape(embedded_claim, [-1, sequence_length_cl*embed_dim]) \n",
        "  X_evidence = tf.reshape(embedded_evidence, [-1, sequence_length_ev*embed_dim]) \n",
        "  \n",
        "  \n",
        "  X_claim = Dense(embed_dim,activation='relu')(X_claim)  \n",
        "  X_evidence = Dense(embed_dim,activation='relu')(X_evidence)  \n",
        "  \n",
        "  return X_claim,X_evidence, claim_input, evidence_input"
      ]
    },
    {
      "cell_type": "markdown",
      "metadata": {
        "id": "oc9NR2jlc-or"
      },
      "source": [
        "### 4. Compute the sentence embedding as the mean of its token embeddings (bag of vectors).\n",
        "\n",
        "We compute the sentence embedding as the **mean of its token embeddings (Bag of Vectors)** with the methos model_creation_bov()\n",
        "\n"
      ]
    },
    {
      "cell_type": "code",
      "execution_count": 26,
      "metadata": {
        "id": "CqiQ9VU-c-Ed"
      },
      "outputs": [],
      "source": [
        "def model_creation_bov():  \n",
        "  sequence_length_cl = claim_matrix.shape[1]\n",
        "  sequence_length_ev = evidence_matrix.shape[1]\n",
        "  embed_dim = 50 # for glove50.txt \n",
        "  embedding_matrix= embedding_words #np.random.rand(claim_matrix.shape[0],embed_dim) \n",
        "  \n",
        "  claim_input = Input(shape=(sequence_length_cl,), name = 'claim_input') \n",
        "  embedding_layer_c = Embedding(embedding_matrix.shape[0], embed_dim, weights=[embedding_matrix],  \n",
        "                              input_length = sequence_length_cl, trainable=True,  \n",
        "                              name='claim_embedding') \n",
        "  \n",
        "  evidence_input = Input(shape=(sequence_length_ev,), name = 'evidence_input') \n",
        "  embedding_layer_e = Embedding(embedding_matrix.shape[0], embed_dim, weights=[embedding_matrix],  \n",
        "                              input_length = sequence_length_ev, trainable=True,  \n",
        "                              name='evidence_embedding') \n",
        "  \n",
        "  embedded_claim = embedding_layer_c(claim_input) \n",
        "  embedded_evidence = embedding_layer_e(evidence_input) \n",
        "  \n",
        "  \n",
        "  X_claim = tf.math.reduce_mean( \n",
        "      embedded_claim, axis=-1, keepdims=False, name=None \n",
        "  ) \n",
        "  \n",
        "  X_evidence = tf.math.reduce_mean( \n",
        "      embedded_evidence, axis=-1, keepdims=False, name=None \n",
        "  ) \n",
        "\n",
        "  X_claim = Dense(embed_dim,activation='relu')(X_claim)  \n",
        "  X_evidence = Dense(embed_dim,activation='relu')(X_evidence)  \n",
        " \n",
        "  return X_claim,X_evidence, claim_input, evidence_input"
      ]
    },
    {
      "cell_type": "markdown",
      "metadata": {
        "id": "oyxL5TSHvA5j"
      },
      "source": [
        "We create the method `model_compile_fit` to compile and fit each model"
      ]
    },
    {
      "cell_type": "code",
      "execution_count": 38,
      "metadata": {
        "id": "xBT-xcDRRbHV"
      },
      "outputs": [],
      "source": [
        "def model_compile_fit(claim_input, evidence_input, model_input,epochs, batch_size):\n",
        "  model = keras.Model([claim_input,evidence_input], model_input)\n",
        "  model.compile(optimizer='adam', loss='binary_crossentropy', metrics=['acc'])\n",
        "  model.summary()\n",
        "  history = model.fit(data_train, y_train,validation_data=(data_val,y_val),epochs= epochs, batch_size= batch_size, verbose=1)\n",
        "  return model, history"
      ]
    },
    {
      "cell_type": "markdown",
      "metadata": {
        "id": "Ie66rl1ZEnDC"
      },
      "source": [
        "## Model creation and fitting"
      ]
    },
    {
      "cell_type": "markdown",
      "metadata": {
        "id": "aaGz1p8ME4KN"
      },
      "source": [
        "We start to compute the sentence embedding, for merging we use **Concatenation**."
      ]
    },
    {
      "cell_type": "code",
      "execution_count": 28,
      "metadata": {
        "id": "aeMnVR1AExEm"
      },
      "outputs": [],
      "source": [
        "#1. Encode token sequences via a RNN and take the last state as the sentence embedding.\n",
        "X_claim_last_c, X_evidence_last_c, claim_input_last_c, evidence_input_last_c = model_creation_last()\n",
        "last_input_conc = concatenate([X_claim_last_c, X_evidence_last_c], name='last_input_conc',axis=1)\n",
        "last_input_conc = (Dropout(0.25))(last_input_conc)\n",
        "last_input_conc = (Dense(units=3, activation='sigmoid', use_bias=False))(last_input_conc)"
      ]
    },
    {
      "cell_type": "code",
      "execution_count": 39,
      "metadata": {
        "colab": {
          "base_uri": "https://localhost:8080/"
        },
        "id": "5E_sd-a6SB34",
        "outputId": "b9828b17-03f5-43ca-c867-7c3f65450af8"
      },
      "outputs": [
        {
          "output_type": "stream",
          "name": "stdout",
          "text": [
            "Model: \"model_4\"\n",
            "__________________________________________________________________________________________________\n",
            " Layer (type)                   Output Shape         Param #     Connected to                     \n",
            "==================================================================================================\n",
            " claim_input (InputLayer)       [(None, 76)]         0           []                               \n",
            "                                                                                                  \n",
            " evidence_input (InputLayer)    [(None, 137)]        0           []                               \n",
            "                                                                                                  \n",
            " claim_embedding (Embedding)    (None, 76, 50)       1865950     ['claim_input[0][0]']            \n",
            "                                                                                                  \n",
            " evidence_embedding (Embedding)  (None, 137, 50)     1865950     ['evidence_input[0][0]']         \n",
            "                                                                                                  \n",
            " bidirectional (Bidirectional)  (None, 50)           15200       ['claim_embedding[0][0]']        \n",
            "                                                                                                  \n",
            " bidirectional_1 (Bidirectional  (None, 50)          15200       ['evidence_embedding[0][0]']     \n",
            " )                                                                                                \n",
            "                                                                                                  \n",
            " last_input_conc (Concatenate)  (None, 100)          0           ['bidirectional[0][0]',          \n",
            "                                                                  'bidirectional_1[0][0]']        \n",
            "                                                                                                  \n",
            " dropout (Dropout)              (None, 100)          0           ['last_input_conc[0][0]']        \n",
            "                                                                                                  \n",
            " dense (Dense)                  (None, 3)            300         ['dropout[0][0]']                \n",
            "                                                                                                  \n",
            "==================================================================================================\n",
            "Total params: 3,762,600\n",
            "Trainable params: 3,762,600\n",
            "Non-trainable params: 0\n",
            "__________________________________________________________________________________________________\n",
            "Epoch 1/10\n",
            "96/96 [==============================] - 21s 148ms/step - loss: 0.1724 - acc: 0.8963 - val_loss: 0.4685 - val_acc: 0.7313\n",
            "Epoch 2/10\n",
            "96/96 [==============================] - 12s 129ms/step - loss: 0.1660 - acc: 0.9007 - val_loss: 0.4246 - val_acc: 0.7390\n",
            "Epoch 3/10\n",
            "96/96 [==============================] - 12s 130ms/step - loss: 0.1615 - acc: 0.9036 - val_loss: 0.4554 - val_acc: 0.7362\n",
            "Epoch 4/10\n",
            "96/96 [==============================] - 12s 130ms/step - loss: 0.1565 - acc: 0.9059 - val_loss: 0.4909 - val_acc: 0.7291\n",
            "Epoch 5/10\n",
            "96/96 [==============================] - 12s 129ms/step - loss: 0.1529 - acc: 0.9082 - val_loss: 0.4757 - val_acc: 0.7304\n",
            "Epoch 6/10\n",
            "96/96 [==============================] - 12s 130ms/step - loss: 0.1489 - acc: 0.9106 - val_loss: 0.4845 - val_acc: 0.7376\n",
            "Epoch 7/10\n",
            "96/96 [==============================] - 12s 130ms/step - loss: 0.1457 - acc: 0.9127 - val_loss: 0.5297 - val_acc: 0.7271\n",
            "Epoch 8/10\n",
            "96/96 [==============================] - 12s 129ms/step - loss: 0.1431 - acc: 0.9146 - val_loss: 0.5271 - val_acc: 0.7262\n",
            "Epoch 9/10\n",
            "96/96 [==============================] - 12s 129ms/step - loss: 0.1385 - acc: 0.9172 - val_loss: 0.5057 - val_acc: 0.7278\n",
            "Epoch 10/10\n",
            "96/96 [==============================] - 12s 129ms/step - loss: 0.1361 - acc: 0.9175 - val_loss: 0.5497 - val_acc: 0.7253\n"
          ]
        }
      ],
      "source": [
        "model_last_conc, history_last_conc = model_compile_fit(claim_input_last_c, evidence_input_last_c, last_input_conc, 10, 1280)"
      ]
    },
    {
      "cell_type": "code",
      "execution_count": 64,
      "metadata": {
        "id": "5aCrOej6FY-T"
      },
      "outputs": [],
      "source": [
        "#2. Encode token sequences via a RNN and average all the output states. \n",
        "X_claim_ave_c, X_evidence_ave_c, claim_input_ave_c, evidence_input_ave_c = model_creation_ave()\n",
        "ave_input_conc = concatenate([X_claim_ave_c, X_evidence_ave_c], name='ave_input_conc',axis=1)\n",
        "ave_input_conc = (Dropout(0.25))(ave_input_conc)\n",
        "ave_input_conc = (Dense(units=3, activation='sigmoid', use_bias=False))(ave_input_conc)"
      ]
    },
    {
      "cell_type": "code",
      "execution_count": 65,
      "metadata": {
        "colab": {
          "base_uri": "https://localhost:8080/"
        },
        "id": "8k9KMtx9eiBN",
        "outputId": "da3e7c4d-37f6-497e-f0c8-3d3338922570"
      },
      "outputs": [
        {
          "output_type": "stream",
          "name": "stdout",
          "text": [
            "Model: \"model_9\"\n",
            "__________________________________________________________________________________________________\n",
            " Layer (type)                   Output Shape         Param #     Connected to                     \n",
            "==================================================================================================\n",
            " claim_input (InputLayer)       [(None, 76)]         0           []                               \n",
            "                                                                                                  \n",
            " evidence_input (InputLayer)    [(None, 137)]        0           []                               \n",
            "                                                                                                  \n",
            " claim_embedding (Embedding)    (None, 76, 50)       1865950     ['claim_input[0][0]']            \n",
            "                                                                                                  \n",
            " evidence_embedding (Embedding)  (None, 137, 50)     1865950     ['evidence_input[0][0]']         \n",
            "                                                                                                  \n",
            " bidirectional_12 (Bidirectiona  (None, 76, 50)      15200       ['claim_embedding[0][0]']        \n",
            " l)                                                                                               \n",
            "                                                                                                  \n",
            " bidirectional_13 (Bidirectiona  (None, 137, 50)     15200       ['evidence_embedding[0][0]']     \n",
            " l)                                                                                               \n",
            "                                                                                                  \n",
            " tf.math.reduce_mean_7 (TFOpLam  (None, 50)          0           ['bidirectional_12[0][0]']       \n",
            " bda)                                                                                             \n",
            "                                                                                                  \n",
            " tf.math.reduce_mean_6 (TFOpLam  (None, 50)          0           ['bidirectional_13[0][0]']       \n",
            " bda)                                                                                             \n",
            "                                                                                                  \n",
            " ave_input_conc (Concatenate)   (None, 100)          0           ['tf.math.reduce_mean_7[0][0]',  \n",
            "                                                                  'tf.math.reduce_mean_6[0][0]']  \n",
            "                                                                                                  \n",
            " dropout_6 (Dropout)            (None, 100)          0           ['ave_input_conc[0][0]']         \n",
            "                                                                                                  \n",
            " dense_6 (Dense)                (None, 3)            300         ['dropout_6[0][0]']              \n",
            "                                                                                                  \n",
            "==================================================================================================\n",
            "Total params: 3,762,600\n",
            "Trainable params: 3,762,600\n",
            "Non-trainable params: 0\n",
            "__________________________________________________________________________________________________\n",
            "Epoch 1/10\n",
            "96/96 [==============================] - 22s 154ms/step - loss: 0.4468 - acc: 0.7263 - val_loss: 0.5415 - val_acc: 0.5040\n",
            "Epoch 2/10\n",
            "96/96 [==============================] - 13s 135ms/step - loss: 0.3859 - acc: 0.7343 - val_loss: 0.4911 - val_acc: 0.5040\n",
            "Epoch 3/10\n",
            "96/96 [==============================] - 13s 135ms/step - loss: 0.3374 - acc: 0.7646 - val_loss: 0.4352 - val_acc: 0.6791\n",
            "Epoch 4/10\n",
            "96/96 [==============================] - 13s 136ms/step - loss: 0.2837 - acc: 0.8263 - val_loss: 0.4151 - val_acc: 0.6978\n",
            "Epoch 5/10\n",
            "96/96 [==============================] - 13s 137ms/step - loss: 0.2556 - acc: 0.8439 - val_loss: 0.4196 - val_acc: 0.7077\n",
            "Epoch 6/10\n",
            "96/96 [==============================] - 13s 136ms/step - loss: 0.2377 - acc: 0.8559 - val_loss: 0.4202 - val_acc: 0.7164\n",
            "Epoch 7/10\n",
            "96/96 [==============================] - 13s 136ms/step - loss: 0.2213 - acc: 0.8663 - val_loss: 0.3955 - val_acc: 0.7266\n",
            "Epoch 8/10\n",
            "96/96 [==============================] - 13s 136ms/step - loss: 0.2103 - acc: 0.8741 - val_loss: 0.4264 - val_acc: 0.7260\n",
            "Epoch 9/10\n",
            "96/96 [==============================] - 13s 135ms/step - loss: 0.2036 - acc: 0.8794 - val_loss: 0.4261 - val_acc: 0.7267\n",
            "Epoch 10/10\n",
            "96/96 [==============================] - 13s 136ms/step - loss: 0.1937 - acc: 0.8858 - val_loss: 0.4414 - val_acc: 0.7299\n"
          ]
        }
      ],
      "source": [
        "#Fitting the model \n",
        "model_ave_conc, history_ave_conc = model_compile_fit(claim_input_ave_c, evidence_input_ave_c, ave_input_conc, 10, 1280)"
      ]
    },
    {
      "cell_type": "code",
      "execution_count": 134,
      "metadata": {
        "id": "InyU6iK2FZFx"
      },
      "outputs": [],
      "source": [
        "#3. Encode token sequences via a simple MLP layer.\n",
        "X_claim_mlp_c, X_evidence_mlp_c, claim_input_mlp_c, evidence_input_mlp_c = model_creation_MLP()\n",
        "mlp_input_conc = concatenate([X_claim_mlp_c, X_evidence_mlp_c], name='mlp_input_conc',axis=1) \n",
        "mlp_input_conc = (Dropout(0.5))(mlp_input_conc) \n",
        "mlp_input_conc = (Dense(units=3, activation='sigmoid', use_bias=False))(mlp_input_conc)"
      ]
    },
    {
      "cell_type": "code",
      "execution_count": 136,
      "metadata": {
        "colab": {
          "base_uri": "https://localhost:8080/"
        },
        "id": "Wk4jQrL5e1YX",
        "outputId": "02652b64-8e54-4716-db29-638181142f34"
      },
      "outputs": [
        {
          "output_type": "stream",
          "name": "stdout",
          "text": [
            "Model: \"model_11\"\n",
            "__________________________________________________________________________________________________\n",
            " Layer (type)                   Output Shape         Param #     Connected to                     \n",
            "==================================================================================================\n",
            " claim_input (InputLayer)       [(None, 76)]         0           []                               \n",
            "                                                                                                  \n",
            " evidence_input (InputLayer)    [(None, 137)]        0           []                               \n",
            "                                                                                                  \n",
            " claim_embedding (Embedding)    (None, 76, 50)       1865950     ['claim_input[0][0]']            \n",
            "                                                                                                  \n",
            " evidence_embedding (Embedding)  (None, 137, 50)     1865950     ['evidence_input[0][0]']         \n",
            "                                                                                                  \n",
            " tf.reshape (TFOpLambda)        (None, 3800)         0           ['claim_embedding[0][0]']        \n",
            "                                                                                                  \n",
            " tf.reshape_1 (TFOpLambda)      (None, 6850)         0           ['evidence_embedding[0][0]']     \n",
            "                                                                                                  \n",
            " dense_7 (Dense)                (None, 50)           190050      ['tf.reshape[0][0]']             \n",
            "                                                                                                  \n",
            " dense_8 (Dense)                (None, 50)           342550      ['tf.reshape_1[0][0]']           \n",
            "                                                                                                  \n",
            " mlp_input_conc (Concatenate)   (None, 100)          0           ['dense_7[0][0]',                \n",
            "                                                                  'dense_8[0][0]']                \n",
            "                                                                                                  \n",
            " dropout_7 (Dropout)            (None, 100)          0           ['mlp_input_conc[0][0]']         \n",
            "                                                                                                  \n",
            " dense_9 (Dense)                (None, 3)            300         ['dropout_7[0][0]']              \n",
            "                                                                                                  \n",
            "==================================================================================================\n",
            "Total params: 4,264,800\n",
            "Trainable params: 4,264,800\n",
            "Non-trainable params: 0\n",
            "__________________________________________________________________________________________________\n",
            "Epoch 1/10\n",
            "96/96 [==============================] - 3s 28ms/step - loss: 0.2419 - acc: 0.8462 - val_loss: 0.4467 - val_acc: 0.6840\n",
            "Epoch 2/10\n",
            "96/96 [==============================] - 2s 25ms/step - loss: 0.2286 - acc: 0.8554 - val_loss: 0.4661 - val_acc: 0.6865\n",
            "Epoch 3/10\n",
            "96/96 [==============================] - 2s 25ms/step - loss: 0.2188 - acc: 0.8611 - val_loss: 0.4703 - val_acc: 0.6856\n",
            "Epoch 4/10\n",
            "96/96 [==============================] - 2s 25ms/step - loss: 0.2083 - acc: 0.8680 - val_loss: 0.4608 - val_acc: 0.7050\n",
            "Epoch 5/10\n",
            "96/96 [==============================] - 2s 25ms/step - loss: 0.1989 - acc: 0.8736 - val_loss: 0.4592 - val_acc: 0.7100\n",
            "Epoch 6/10\n",
            "96/96 [==============================] - 2s 25ms/step - loss: 0.1902 - acc: 0.8793 - val_loss: 0.4663 - val_acc: 0.7151\n",
            "Epoch 7/10\n",
            "96/96 [==============================] - 2s 25ms/step - loss: 0.1818 - acc: 0.8843 - val_loss: 0.4749 - val_acc: 0.7171\n",
            "Epoch 8/10\n",
            "96/96 [==============================] - 2s 25ms/step - loss: 0.1744 - acc: 0.8906 - val_loss: 0.5023 - val_acc: 0.7124\n",
            "Epoch 9/10\n",
            "96/96 [==============================] - 2s 25ms/step - loss: 0.1662 - acc: 0.8952 - val_loss: 0.5193 - val_acc: 0.7126\n",
            "Epoch 10/10\n",
            "96/96 [==============================] - 2s 25ms/step - loss: 0.1599 - acc: 0.8988 - val_loss: 0.5247 - val_acc: 0.7193\n"
          ]
        }
      ],
      "source": [
        "#Fitting the model \n",
        "model_mlp_conc , history_mlp_conc= model_compile_fit(claim_input_mlp_c, evidence_input_mlp_c, mlp_input_conc, 10, 1280)"
      ]
    },
    {
      "cell_type": "code",
      "execution_count": 137,
      "metadata": {
        "id": "2QOxhL6gFZOF"
      },
      "outputs": [],
      "source": [
        "#4. Compute the sentence embedding as the mean of its token embeddings (bag of vectors).\n",
        "X_claim_bov_c, X_evidence_bov_c, claim_input_bov_c, evidence_input_bov_c = model_creation_bov()\n",
        "bov_input_conc = concatenate([X_claim_bov_c, X_evidence_bov_c], name='bov_input_conc',axis=1) \n",
        "bov_input_conc = (Dropout(0.5))(bov_input_conc) \n",
        "bov_input_conc = (Dense(units=3, activation='sigmoid', use_bias=False))(bov_input_conc)"
      ]
    },
    {
      "cell_type": "code",
      "execution_count": 138,
      "metadata": {
        "colab": {
          "base_uri": "https://localhost:8080/"
        },
        "id": "fd3-Os0ge8dl",
        "outputId": "f7f0c1da-91a9-4d9a-e90c-c522f54a1a9b"
      },
      "outputs": [
        {
          "output_type": "stream",
          "name": "stdout",
          "text": [
            "Model: \"model_12\"\n",
            "__________________________________________________________________________________________________\n",
            " Layer (type)                   Output Shape         Param #     Connected to                     \n",
            "==================================================================================================\n",
            " claim_input (InputLayer)       [(None, 76)]         0           []                               \n",
            "                                                                                                  \n",
            " evidence_input (InputLayer)    [(None, 137)]        0           []                               \n",
            "                                                                                                  \n",
            " claim_embedding (Embedding)    (None, 76, 50)       1865950     ['claim_input[0][0]']            \n",
            "                                                                                                  \n",
            " evidence_embedding (Embedding)  (None, 137, 50)     1865950     ['evidence_input[0][0]']         \n",
            "                                                                                                  \n",
            " tf.math.reduce_mean_8 (TFOpLam  (None, 76)          0           ['claim_embedding[0][0]']        \n",
            " bda)                                                                                             \n",
            "                                                                                                  \n",
            " tf.math.reduce_mean_9 (TFOpLam  (None, 137)         0           ['evidence_embedding[0][0]']     \n",
            " bda)                                                                                             \n",
            "                                                                                                  \n",
            " dense_10 (Dense)               (None, 50)           3850        ['tf.math.reduce_mean_8[0][0]']  \n",
            "                                                                                                  \n",
            " dense_11 (Dense)               (None, 50)           6900        ['tf.math.reduce_mean_9[0][0]']  \n",
            "                                                                                                  \n",
            " bov_input_conc (Concatenate)   (None, 100)          0           ['dense_10[0][0]',               \n",
            "                                                                  'dense_11[0][0]']               \n",
            "                                                                                                  \n",
            " dropout_8 (Dropout)            (None, 100)          0           ['bov_input_conc[0][0]']         \n",
            "                                                                                                  \n",
            " dense_12 (Dense)               (None, 3)            300         ['dropout_8[0][0]']              \n",
            "                                                                                                  \n",
            "==================================================================================================\n",
            "Total params: 3,742,950\n",
            "Trainable params: 3,742,950\n",
            "Non-trainable params: 0\n",
            "__________________________________________________________________________________________________\n",
            "Epoch 1/10\n",
            "96/96 [==============================] - 3s 27ms/step - loss: 0.4939 - acc: 0.7069 - val_loss: 0.5488 - val_acc: 0.5040\n",
            "Epoch 2/10\n",
            "96/96 [==============================] - 2s 23ms/step - loss: 0.3909 - acc: 0.7342 - val_loss: 0.5294 - val_acc: 0.5040\n",
            "Epoch 3/10\n",
            "96/96 [==============================] - 2s 23ms/step - loss: 0.3613 - acc: 0.7399 - val_loss: 0.4868 - val_acc: 0.5428\n",
            "Epoch 4/10\n",
            "96/96 [==============================] - 2s 23ms/step - loss: 0.3235 - acc: 0.7843 - val_loss: 0.4596 - val_acc: 0.6288\n",
            "Epoch 5/10\n",
            "96/96 [==============================] - 2s 23ms/step - loss: 0.2975 - acc: 0.8142 - val_loss: 0.4457 - val_acc: 0.6561\n",
            "Epoch 6/10\n",
            "96/96 [==============================] - 2s 23ms/step - loss: 0.2797 - acc: 0.8284 - val_loss: 0.4324 - val_acc: 0.6783\n",
            "Epoch 7/10\n",
            "96/96 [==============================] - 2s 23ms/step - loss: 0.2649 - acc: 0.8366 - val_loss: 0.4295 - val_acc: 0.6900\n",
            "Epoch 8/10\n",
            "96/96 [==============================] - 2s 23ms/step - loss: 0.2547 - acc: 0.8436 - val_loss: 0.4137 - val_acc: 0.6998\n",
            "Epoch 9/10\n",
            "96/96 [==============================] - 2s 23ms/step - loss: 0.2460 - acc: 0.8489 - val_loss: 0.4297 - val_acc: 0.6999\n",
            "Epoch 10/10\n",
            "96/96 [==============================] - 2s 23ms/step - loss: 0.2390 - acc: 0.8526 - val_loss: 0.4268 - val_acc: 0.7033\n"
          ]
        }
      ],
      "source": [
        "#Fitting the model \n",
        "model_bov_conc, history_bov_conc = model_compile_fit(claim_input_bov_c, evidence_input_bov_c, bov_input_conc, 10, 1280)"
      ]
    },
    {
      "cell_type": "markdown",
      "metadata": {
        "id": "7BE6RBfiLKy9"
      },
      "source": [
        "We start to compute the sentence embedding, for merging we use **Summation**.\n",
        "\n"
      ]
    },
    {
      "cell_type": "code",
      "execution_count": 147,
      "metadata": {
        "id": "bIGWoyp7Lpld"
      },
      "outputs": [],
      "source": [
        "#1. Encode token sequences via a RNN and take the last state as the sentence embedding.\n",
        "X_claim_last_s, X_evidence_last_s, claim_input_last_s, evidence_input_last_s = model_creation_last()\n",
        "last_input_sum = Add(name='last_input_sum')([X_claim_last_s, X_evidence_last_s])\n",
        "last_input_sum = (Dropout(0.25))(last_input_sum)\n",
        "last_input_sum = (Dense(units=3, activation='sigmoid', use_bias=False))(last_input_sum)"
      ]
    },
    {
      "cell_type": "code",
      "execution_count": 63,
      "metadata": {
        "colab": {
          "base_uri": "https://localhost:8080/"
        },
        "id": "t9-nHN9agPiY",
        "outputId": "75c1680c-ed35-4387-d53c-8410783b3adf"
      },
      "outputs": [
        {
          "output_type": "stream",
          "name": "stdout",
          "text": [
            "Model: \"model_8\"\n",
            "__________________________________________________________________________________________________\n",
            " Layer (type)                   Output Shape         Param #     Connected to                     \n",
            "==================================================================================================\n",
            " claim_input (InputLayer)       [(None, 76)]         0           []                               \n",
            "                                                                                                  \n",
            " evidence_input (InputLayer)    [(None, 137)]        0           []                               \n",
            "                                                                                                  \n",
            " claim_embedding (Embedding)    (None, 76, 50)       1865950     ['claim_input[0][0]']            \n",
            "                                                                                                  \n",
            " evidence_embedding (Embedding)  (None, 137, 50)     1865950     ['evidence_input[0][0]']         \n",
            "                                                                                                  \n",
            " bidirectional_10 (Bidirectiona  (None, 50)          15200       ['claim_embedding[0][0]']        \n",
            " l)                                                                                               \n",
            "                                                                                                  \n",
            " bidirectional_11 (Bidirectiona  (None, 50)          15200       ['evidence_embedding[0][0]']     \n",
            " l)                                                                                               \n",
            "                                                                                                  \n",
            " last_input_sum (Add)           (None, 50)           0           ['bidirectional_10[0][0]',       \n",
            "                                                                  'bidirectional_11[0][0]']       \n",
            "                                                                                                  \n",
            " dropout_5 (Dropout)            (None, 50)           0           ['last_input_sum[0][0]']         \n",
            "                                                                                                  \n",
            " dense_5 (Dense)                (None, 3)            150         ['dropout_5[0][0]']              \n",
            "                                                                                                  \n",
            "==================================================================================================\n",
            "Total params: 3,762,450\n",
            "Trainable params: 3,762,450\n",
            "Non-trainable params: 0\n",
            "__________________________________________________________________________________________________\n",
            "Epoch 1/10\n",
            "96/96 [==============================] - 29s 151ms/step - loss: 0.4269 - acc: 0.7248 - val_loss: 0.5100 - val_acc: 0.5064\n",
            "Epoch 2/10\n",
            "96/96 [==============================] - 12s 128ms/step - loss: 0.3342 - acc: 0.7776 - val_loss: 0.4317 - val_acc: 0.6684\n",
            "Epoch 3/10\n",
            "96/96 [==============================] - 12s 129ms/step - loss: 0.2754 - acc: 0.8313 - val_loss: 0.4239 - val_acc: 0.6930\n",
            "Epoch 4/10\n",
            "96/96 [==============================] - 12s 129ms/step - loss: 0.2477 - acc: 0.8476 - val_loss: 0.4208 - val_acc: 0.7114\n",
            "Epoch 5/10\n",
            "96/96 [==============================] - 12s 129ms/step - loss: 0.2290 - acc: 0.8590 - val_loss: 0.4024 - val_acc: 0.7244\n",
            "Epoch 6/10\n",
            "96/96 [==============================] - 12s 129ms/step - loss: 0.2137 - acc: 0.8685 - val_loss: 0.3948 - val_acc: 0.7351\n",
            "Epoch 7/10\n",
            "96/96 [==============================] - 12s 129ms/step - loss: 0.2018 - acc: 0.8760 - val_loss: 0.4415 - val_acc: 0.7249\n",
            "Epoch 8/10\n",
            "96/96 [==============================] - 12s 129ms/step - loss: 0.1912 - acc: 0.8822 - val_loss: 0.4500 - val_acc: 0.7224\n",
            "Epoch 9/10\n",
            "96/96 [==============================] - 12s 129ms/step - loss: 0.1821 - acc: 0.8890 - val_loss: 0.3917 - val_acc: 0.7414\n",
            "Epoch 10/10\n",
            "96/96 [==============================] - 12s 129ms/step - loss: 0.1792 - acc: 0.8914 - val_loss: 0.4453 - val_acc: 0.7337\n"
          ]
        }
      ],
      "source": [
        "#Fitting the model \n",
        "model_last_sum, history_last_sum = model_compile_fit(claim_input_last_s, evidence_input_last_s, last_input_sum, 10, 1280)"
      ]
    },
    {
      "cell_type": "code",
      "execution_count": 32,
      "metadata": {
        "id": "WIsAfGiQLple"
      },
      "outputs": [],
      "source": [
        "#2. Encode token sequences via a RNN and average all the output states. \n",
        "X_claim_ave_s, X_evidence_ave_s, claim_input_ave_s, evidence_input_ave_s = model_creation_ave()\n",
        "ave_input_sum  = Add(name='ave_input_sum')([X_claim_ave_s, X_evidence_ave_s])\n",
        "ave_input_sum  = (Dropout(0.25))(ave_input_sum )\n",
        "ave_input_sum  = (Dense(units=3, activation='sigmoid', use_bias=False))(ave_input_sum )"
      ]
    },
    {
      "cell_type": "code",
      "execution_count": 40,
      "metadata": {
        "colab": {
          "base_uri": "https://localhost:8080/"
        },
        "id": "p4WStuP4gpsT",
        "outputId": "a7a2a24e-5b91-4264-be11-7be6c37cfc24"
      },
      "outputs": [
        {
          "output_type": "stream",
          "name": "stdout",
          "text": [
            "Model: \"model_5\"\n",
            "__________________________________________________________________________________________________\n",
            " Layer (type)                   Output Shape         Param #     Connected to                     \n",
            "==================================================================================================\n",
            " claim_input (InputLayer)       [(None, 76)]         0           []                               \n",
            "                                                                                                  \n",
            " evidence_input (InputLayer)    [(None, 137)]        0           []                               \n",
            "                                                                                                  \n",
            " claim_embedding (Embedding)    (None, 76, 50)       1865950     ['claim_input[0][0]']            \n",
            "                                                                                                  \n",
            " evidence_embedding (Embedding)  (None, 137, 50)     1865950     ['evidence_input[0][0]']         \n",
            "                                                                                                  \n",
            " bidirectional_4 (Bidirectional  (None, 76, 50)      15200       ['claim_embedding[0][0]']        \n",
            " )                                                                                                \n",
            "                                                                                                  \n",
            " bidirectional_5 (Bidirectional  (None, 137, 50)     15200       ['evidence_embedding[0][0]']     \n",
            " )                                                                                                \n",
            "                                                                                                  \n",
            " tf.math.reduce_mean_3 (TFOpLam  (None, 50)          0           ['bidirectional_4[0][0]']        \n",
            " bda)                                                                                             \n",
            "                                                                                                  \n",
            " tf.math.reduce_mean_2 (TFOpLam  (None, 50)          0           ['bidirectional_5[0][0]']        \n",
            " bda)                                                                                             \n",
            "                                                                                                  \n",
            " ave_input_sum (Add)            (None, 50)           0           ['tf.math.reduce_mean_3[0][0]',  \n",
            "                                                                  'tf.math.reduce_mean_2[0][0]']  \n",
            "                                                                                                  \n",
            " dropout_2 (Dropout)            (None, 50)           0           ['ave_input_sum[0][0]']          \n",
            "                                                                                                  \n",
            " dense_2 (Dense)                (None, 3)            150         ['dropout_2[0][0]']              \n",
            "                                                                                                  \n",
            "==================================================================================================\n",
            "Total params: 3,762,450\n",
            "Trainable params: 3,762,450\n",
            "Non-trainable params: 0\n",
            "__________________________________________________________________________________________________\n",
            "Epoch 1/10\n",
            "96/96 [==============================] - 23s 154ms/step - loss: 0.1761 - acc: 0.8968 - val_loss: 0.4879 - val_acc: 0.7164\n",
            "Epoch 2/10\n",
            "96/96 [==============================] - 13s 135ms/step - loss: 0.1691 - acc: 0.9008 - val_loss: 0.4660 - val_acc: 0.7196\n",
            "Epoch 3/10\n",
            "96/96 [==============================] - 13s 137ms/step - loss: 0.1654 - acc: 0.9023 - val_loss: 0.4734 - val_acc: 0.7252\n",
            "Epoch 4/10\n",
            "96/96 [==============================] - 13s 135ms/step - loss: 0.1620 - acc: 0.9047 - val_loss: 0.4777 - val_acc: 0.7269\n",
            "Epoch 5/10\n",
            "96/96 [==============================] - 13s 135ms/step - loss: 0.1573 - acc: 0.9074 - val_loss: 0.5300 - val_acc: 0.7172\n",
            "Epoch 6/10\n",
            "96/96 [==============================] - 13s 135ms/step - loss: 0.1530 - acc: 0.9096 - val_loss: 0.5056 - val_acc: 0.7246\n",
            "Epoch 7/10\n",
            "96/96 [==============================] - 13s 136ms/step - loss: 0.1514 - acc: 0.9110 - val_loss: 0.5408 - val_acc: 0.7195\n",
            "Epoch 8/10\n",
            "96/96 [==============================] - 13s 136ms/step - loss: 0.1484 - acc: 0.9122 - val_loss: 0.4922 - val_acc: 0.7259\n",
            "Epoch 9/10\n",
            "96/96 [==============================] - 13s 138ms/step - loss: 0.1449 - acc: 0.9140 - val_loss: 0.5240 - val_acc: 0.7207\n",
            "Epoch 10/10\n",
            "96/96 [==============================] - 13s 135ms/step - loss: 0.1423 - acc: 0.9151 - val_loss: 0.5138 - val_acc: 0.7249\n"
          ]
        }
      ],
      "source": [
        "#Fitting the model \n",
        "model_ave_sum, history_ave_sum = model_compile_fit(claim_input_ave_s, evidence_input_ave_s, ave_input_sum, 10, 1280)"
      ]
    },
    {
      "cell_type": "code",
      "execution_count": 139,
      "metadata": {
        "id": "_nPEcqlxLplf"
      },
      "outputs": [],
      "source": [
        "#3. Encode token sequences via a simple MLP layer.\n",
        "X_claim_mlp_s, X_evidence_mlp_s, claim_input_mlp_s, evidence_input_mlp_s = model_creation_MLP()\n",
        "mlp_input_sum  = Add(name='mlp_input_sum')([X_claim_mlp_s, X_evidence_mlp_s])\n",
        "mlp_input_sum  = (Dropout(0.5))(mlp_input_sum ) \n",
        "mlp_input_sum  = (Dense(units=3, activation='sigmoid', use_bias=False))(mlp_input_sum )"
      ]
    },
    {
      "cell_type": "code",
      "execution_count": 140,
      "metadata": {
        "colab": {
          "base_uri": "https://localhost:8080/"
        },
        "id": "N_MypfEyg0Rg",
        "outputId": "7fb58206-9550-4618-9d9e-f4dfe4890335"
      },
      "outputs": [
        {
          "output_type": "stream",
          "name": "stdout",
          "text": [
            "Model: \"model_13\"\n",
            "__________________________________________________________________________________________________\n",
            " Layer (type)                   Output Shape         Param #     Connected to                     \n",
            "==================================================================================================\n",
            " claim_input (InputLayer)       [(None, 76)]         0           []                               \n",
            "                                                                                                  \n",
            " evidence_input (InputLayer)    [(None, 137)]        0           []                               \n",
            "                                                                                                  \n",
            " claim_embedding (Embedding)    (None, 76, 50)       1865950     ['claim_input[0][0]']            \n",
            "                                                                                                  \n",
            " evidence_embedding (Embedding)  (None, 137, 50)     1865950     ['evidence_input[0][0]']         \n",
            "                                                                                                  \n",
            " tf.reshape_2 (TFOpLambda)      (None, 3800)         0           ['claim_embedding[0][0]']        \n",
            "                                                                                                  \n",
            " tf.reshape_3 (TFOpLambda)      (None, 6850)         0           ['evidence_embedding[0][0]']     \n",
            "                                                                                                  \n",
            " dense_13 (Dense)               (None, 50)           190050      ['tf.reshape_2[0][0]']           \n",
            "                                                                                                  \n",
            " dense_14 (Dense)               (None, 50)           342550      ['tf.reshape_3[0][0]']           \n",
            "                                                                                                  \n",
            " mlp_input_sum (Add)            (None, 50)           0           ['dense_13[0][0]',               \n",
            "                                                                  'dense_14[0][0]']               \n",
            "                                                                                                  \n",
            " dropout_9 (Dropout)            (None, 50)           0           ['mlp_input_sum[0][0]']          \n",
            "                                                                                                  \n",
            " dense_15 (Dense)               (None, 3)            150         ['dropout_9[0][0]']              \n",
            "                                                                                                  \n",
            "==================================================================================================\n",
            "Total params: 4,264,650\n",
            "Trainable params: 4,264,650\n",
            "Non-trainable params: 0\n",
            "__________________________________________________________________________________________________\n",
            "Epoch 1/10\n",
            "96/96 [==============================] - 3s 27ms/step - loss: 0.4091 - acc: 0.7339 - val_loss: 0.4971 - val_acc: 0.5845\n",
            "Epoch 2/10\n",
            "96/96 [==============================] - 2s 25ms/step - loss: 0.3305 - acc: 0.7888 - val_loss: 0.4450 - val_acc: 0.6286\n",
            "Epoch 3/10\n",
            "96/96 [==============================] - 2s 25ms/step - loss: 0.2952 - acc: 0.8127 - val_loss: 0.4496 - val_acc: 0.6447\n",
            "Epoch 4/10\n",
            "96/96 [==============================] - 2s 25ms/step - loss: 0.2704 - acc: 0.8291 - val_loss: 0.4375 - val_acc: 0.6656\n",
            "Epoch 5/10\n",
            "96/96 [==============================] - 2s 25ms/step - loss: 0.2528 - acc: 0.8404 - val_loss: 0.4257 - val_acc: 0.6881\n",
            "Epoch 6/10\n",
            "96/96 [==============================] - 2s 25ms/step - loss: 0.2383 - acc: 0.8505 - val_loss: 0.4194 - val_acc: 0.6955\n",
            "Epoch 7/10\n",
            "96/96 [==============================] - 2s 25ms/step - loss: 0.2252 - acc: 0.8593 - val_loss: 0.4326 - val_acc: 0.7005\n",
            "Epoch 8/10\n",
            "96/96 [==============================] - 2s 25ms/step - loss: 0.2146 - acc: 0.8660 - val_loss: 0.4508 - val_acc: 0.7057\n",
            "Epoch 9/10\n",
            "96/96 [==============================] - 2s 26ms/step - loss: 0.2046 - acc: 0.8725 - val_loss: 0.4522 - val_acc: 0.7122\n",
            "Epoch 10/10\n",
            "96/96 [==============================] - 2s 25ms/step - loss: 0.1949 - acc: 0.8790 - val_loss: 0.4498 - val_acc: 0.7158\n"
          ]
        }
      ],
      "source": [
        "#Fitting the model \n",
        "model_mlp_sum, history_mlp_sum = model_compile_fit(claim_input_mlp_s, evidence_input_mlp_s, mlp_input_sum, 10, 1280)"
      ]
    },
    {
      "cell_type": "code",
      "execution_count": 141,
      "metadata": {
        "id": "BaQ4PCb6Lplg"
      },
      "outputs": [],
      "source": [
        "#4. Compute the sentence embedding as the mean of its token embeddings (bag of vectors).\n",
        "X_claim_bov_s, X_evidence_bov_s, claim_input_bov_s, evidence_input_bov_s = model_creation_bov()\n",
        "\n",
        "bov_input_sum  = Add(name='bov_input_sum')([ X_claim_bov_s, X_evidence_bov_s])\n",
        "bov_input_sum  = (Dropout(0.5))(bov_input_sum) \n",
        "bov_input_sum  = (Dense(units=3, activation='sigmoid', use_bias=False))(bov_input_sum )"
      ]
    },
    {
      "cell_type": "code",
      "execution_count": 142,
      "metadata": {
        "colab": {
          "base_uri": "https://localhost:8080/"
        },
        "id": "2OAmYAcUg7nq",
        "outputId": "a35cf550-6a45-4cb8-d4fd-ed9fcb572386"
      },
      "outputs": [
        {
          "output_type": "stream",
          "name": "stdout",
          "text": [
            "Model: \"model_14\"\n",
            "__________________________________________________________________________________________________\n",
            " Layer (type)                   Output Shape         Param #     Connected to                     \n",
            "==================================================================================================\n",
            " claim_input (InputLayer)       [(None, 76)]         0           []                               \n",
            "                                                                                                  \n",
            " evidence_input (InputLayer)    [(None, 137)]        0           []                               \n",
            "                                                                                                  \n",
            " claim_embedding (Embedding)    (None, 76, 50)       1865950     ['claim_input[0][0]']            \n",
            "                                                                                                  \n",
            " evidence_embedding (Embedding)  (None, 137, 50)     1865950     ['evidence_input[0][0]']         \n",
            "                                                                                                  \n",
            " tf.math.reduce_mean_10 (TFOpLa  (None, 76)          0           ['claim_embedding[0][0]']        \n",
            " mbda)                                                                                            \n",
            "                                                                                                  \n",
            " tf.math.reduce_mean_11 (TFOpLa  (None, 137)         0           ['evidence_embedding[0][0]']     \n",
            " mbda)                                                                                            \n",
            "                                                                                                  \n",
            " dense_16 (Dense)               (None, 50)           3850        ['tf.math.reduce_mean_10[0][0]'] \n",
            "                                                                                                  \n",
            " dense_17 (Dense)               (None, 50)           6900        ['tf.math.reduce_mean_11[0][0]'] \n",
            "                                                                                                  \n",
            " bov_input_sum (Add)            (None, 50)           0           ['dense_16[0][0]',               \n",
            "                                                                  'dense_17[0][0]']               \n",
            "                                                                                                  \n",
            " dropout_10 (Dropout)           (None, 50)           0           ['bov_input_sum[0][0]']          \n",
            "                                                                                                  \n",
            " dense_18 (Dense)               (None, 3)            150         ['dropout_10[0][0]']             \n",
            "                                                                                                  \n",
            "==================================================================================================\n",
            "Total params: 3,742,800\n",
            "Trainable params: 3,742,800\n",
            "Non-trainable params: 0\n",
            "__________________________________________________________________________________________________\n",
            "Epoch 1/10\n",
            "96/96 [==============================] - 3s 26ms/step - loss: 0.4942 - acc: 0.6937 - val_loss: 0.5391 - val_acc: 0.5040\n",
            "Epoch 2/10\n",
            "96/96 [==============================] - 2s 23ms/step - loss: 0.3961 - acc: 0.7342 - val_loss: 0.5271 - val_acc: 0.5040\n",
            "Epoch 3/10\n",
            "96/96 [==============================] - 2s 23ms/step - loss: 0.3736 - acc: 0.7349 - val_loss: 0.5095 - val_acc: 0.5037\n",
            "Epoch 4/10\n",
            "96/96 [==============================] - 2s 23ms/step - loss: 0.3503 - acc: 0.7523 - val_loss: 0.4864 - val_acc: 0.5707\n",
            "Epoch 5/10\n",
            "96/96 [==============================] - 2s 23ms/step - loss: 0.3315 - acc: 0.7764 - val_loss: 0.4853 - val_acc: 0.6063\n",
            "Epoch 6/10\n",
            "96/96 [==============================] - 2s 23ms/step - loss: 0.3128 - acc: 0.7990 - val_loss: 0.4722 - val_acc: 0.6339\n",
            "Epoch 7/10\n",
            "96/96 [==============================] - 2s 23ms/step - loss: 0.2984 - acc: 0.8110 - val_loss: 0.4680 - val_acc: 0.6441\n",
            "Epoch 8/10\n",
            "96/96 [==============================] - 2s 23ms/step - loss: 0.2863 - acc: 0.8191 - val_loss: 0.4400 - val_acc: 0.6649\n",
            "Epoch 9/10\n",
            "96/96 [==============================] - 2s 23ms/step - loss: 0.2755 - acc: 0.8263 - val_loss: 0.4414 - val_acc: 0.6699\n",
            "Epoch 10/10\n",
            "96/96 [==============================] - 2s 23ms/step - loss: 0.2668 - acc: 0.8325 - val_loss: 0.4434 - val_acc: 0.6766\n"
          ]
        }
      ],
      "source": [
        "#Fitting the model \n",
        "model_bov_sum, history_bov_sum = model_compile_fit(claim_input_bov_s, evidence_input_bov_s, bov_input_sum, 10, 1280)"
      ]
    },
    {
      "cell_type": "markdown",
      "metadata": {
        "id": "O83GhMIDNkp2"
      },
      "source": [
        "We start to compute the sentence embedding, for merging we use the **mean**."
      ]
    },
    {
      "cell_type": "code",
      "execution_count": 34,
      "metadata": {
        "id": "EKNo2ChkiYqS"
      },
      "outputs": [],
      "source": [
        "#1. Encode token sequences via a RNN and take the last state as the sentence embedding.\n",
        "X_claim_last_m, X_evidence_last_m, claim_input_last_m, evidence_input_last_m = model_creation_last()\n",
        "last_input_mean = Average(name='last_input_mean')([X_claim_last_m, X_evidence_last_m])\n",
        "last_input_mean = (Dropout(0.25))(last_input_mean)\n",
        "last_input_mean = (Dense(units=3, activation='sigmoid', use_bias=False))(last_input_mean)"
      ]
    },
    {
      "cell_type": "code",
      "execution_count": 56,
      "metadata": {
        "colab": {
          "base_uri": "https://localhost:8080/"
        },
        "id": "tWvOwwFGiYqU",
        "outputId": "4b87247d-e648-4e6c-bd88-5222dd15d3cf"
      },
      "outputs": [
        {
          "output_type": "stream",
          "name": "stdout",
          "text": [
            "Model: \"model_6\"\n",
            "__________________________________________________________________________________________________\n",
            " Layer (type)                   Output Shape         Param #     Connected to                     \n",
            "==================================================================================================\n",
            " claim_input (InputLayer)       [(None, 76)]         0           []                               \n",
            "                                                                                                  \n",
            " evidence_input (InputLayer)    [(None, 137)]        0           []                               \n",
            "                                                                                                  \n",
            " claim_embedding (Embedding)    (None, 76, 50)       1865950     ['claim_input[0][0]']            \n",
            "                                                                                                  \n",
            " evidence_embedding (Embedding)  (None, 137, 50)     1865950     ['evidence_input[0][0]']         \n",
            "                                                                                                  \n",
            " bidirectional_6 (Bidirectional  (None, 50)          15200       ['claim_embedding[0][0]']        \n",
            " )                                                                                                \n",
            "                                                                                                  \n",
            " bidirectional_7 (Bidirectional  (None, 50)          15200       ['evidence_embedding[0][0]']     \n",
            " )                                                                                                \n",
            "                                                                                                  \n",
            " last_input_mean (Average)      (None, 50)           0           ['bidirectional_6[0][0]',        \n",
            "                                                                  'bidirectional_7[0][0]']        \n",
            "                                                                                                  \n",
            " dropout_3 (Dropout)            (None, 50)           0           ['last_input_mean[0][0]']        \n",
            "                                                                                                  \n",
            " dense_3 (Dense)                (None, 3)            150         ['dropout_3[0][0]']              \n",
            "                                                                                                  \n",
            "==================================================================================================\n",
            "Total params: 3,762,450\n",
            "Trainable params: 3,762,450\n",
            "Non-trainable params: 0\n",
            "__________________________________________________________________________________________________\n",
            "Epoch 1/10\n",
            "96/96 [==============================] - 21s 149ms/step - loss: 0.1720 - acc: 0.8992 - val_loss: 0.4376 - val_acc: 0.7337\n",
            "Epoch 2/10\n",
            "96/96 [==============================] - 13s 136ms/step - loss: 0.1658 - acc: 0.9023 - val_loss: 0.4471 - val_acc: 0.7318\n",
            "Epoch 3/10\n",
            "96/96 [==============================] - 13s 135ms/step - loss: 0.1615 - acc: 0.9048 - val_loss: 0.4755 - val_acc: 0.7277\n",
            "Epoch 4/10\n",
            "96/96 [==============================] - 13s 133ms/step - loss: 0.1567 - acc: 0.9072 - val_loss: 0.4964 - val_acc: 0.7277\n",
            "Epoch 5/10\n",
            "96/96 [==============================] - 12s 128ms/step - loss: 0.1535 - acc: 0.9083 - val_loss: 0.5183 - val_acc: 0.7251\n",
            "Epoch 6/10\n",
            "96/96 [==============================] - 13s 132ms/step - loss: 0.1485 - acc: 0.9123 - val_loss: 0.5289 - val_acc: 0.7258\n",
            "Epoch 7/10\n",
            "96/96 [==============================] - 13s 132ms/step - loss: 0.1461 - acc: 0.9138 - val_loss: 0.5216 - val_acc: 0.7306\n",
            "Epoch 8/10\n",
            "96/96 [==============================] - 12s 129ms/step - loss: 0.1413 - acc: 0.9159 - val_loss: 0.5144 - val_acc: 0.7284\n",
            "Epoch 9/10\n",
            "96/96 [==============================] - 12s 129ms/step - loss: 0.1385 - acc: 0.9178 - val_loss: 0.5423 - val_acc: 0.7252\n",
            "Epoch 10/10\n",
            "96/96 [==============================] - 12s 128ms/step - loss: 0.1342 - acc: 0.9204 - val_loss: 0.5704 - val_acc: 0.7252\n"
          ]
        }
      ],
      "source": [
        "#Fitting the model \n",
        "model_last_mean, history_last_mean = model_compile_fit(claim_input_last_m, evidence_input_last_m, last_input_mean, 10, 1280)"
      ]
    },
    {
      "cell_type": "code",
      "execution_count": 59,
      "metadata": {
        "id": "qlp5eBK6iYqU"
      },
      "outputs": [],
      "source": [
        "#2. Encode token sequences via a RNN and average all the output states. \n",
        "X_claim_ave_m, X_evidence_ave_m, claim_input_ave_m, evidence_input_ave_m = model_creation_ave()\n",
        "ave_input_mean = Average(name='ave_input_mean')([X_claim_ave_m, X_evidence_ave_m])\n",
        "ave_input_mean = (Dropout(0.25))(ave_input_mean)\n",
        "ave_input_mean = (Dense(units=3, activation='sigmoid', use_bias=False))(ave_input_mean)"
      ]
    },
    {
      "cell_type": "code",
      "execution_count": 60,
      "metadata": {
        "colab": {
          "base_uri": "https://localhost:8080/"
        },
        "id": "eYsS6doPiYqV",
        "outputId": "502dd6d8-3a4a-48b7-e295-a4159036bb1e"
      },
      "outputs": [
        {
          "output_type": "stream",
          "name": "stdout",
          "text": [
            "Model: \"model_7\"\n",
            "__________________________________________________________________________________________________\n",
            " Layer (type)                   Output Shape         Param #     Connected to                     \n",
            "==================================================================================================\n",
            " claim_input (InputLayer)       [(None, 76)]         0           []                               \n",
            "                                                                                                  \n",
            " evidence_input (InputLayer)    [(None, 137)]        0           []                               \n",
            "                                                                                                  \n",
            " claim_embedding (Embedding)    (None, 76, 50)       1865950     ['claim_input[0][0]']            \n",
            "                                                                                                  \n",
            " evidence_embedding (Embedding)  (None, 137, 50)     1865950     ['evidence_input[0][0]']         \n",
            "                                                                                                  \n",
            " bidirectional_8 (Bidirectional  (None, 76, 50)      15200       ['claim_embedding[0][0]']        \n",
            " )                                                                                                \n",
            "                                                                                                  \n",
            " bidirectional_9 (Bidirectional  (None, 137, 50)     15200       ['evidence_embedding[0][0]']     \n",
            " )                                                                                                \n",
            "                                                                                                  \n",
            " tf.math.reduce_mean_5 (TFOpLam  (None, 50)          0           ['bidirectional_8[0][0]']        \n",
            " bda)                                                                                             \n",
            "                                                                                                  \n",
            " tf.math.reduce_mean_4 (TFOpLam  (None, 50)          0           ['bidirectional_9[0][0]']        \n",
            " bda)                                                                                             \n",
            "                                                                                                  \n",
            " ave_input_mean (Average)       (None, 50)           0           ['tf.math.reduce_mean_5[0][0]',  \n",
            "                                                                  'tf.math.reduce_mean_4[0][0]']  \n",
            "                                                                                                  \n",
            " dropout_4 (Dropout)            (None, 50)           0           ['ave_input_mean[0][0]']         \n",
            "                                                                                                  \n",
            " dense_4 (Dense)                (None, 3)            150         ['dropout_4[0][0]']              \n",
            "                                                                                                  \n",
            "==================================================================================================\n",
            "Total params: 3,762,450\n",
            "Trainable params: 3,762,450\n",
            "Non-trainable params: 0\n",
            "__________________________________________________________________________________________________\n",
            "Epoch 1/10\n",
            "96/96 [==============================] - 24s 156ms/step - loss: 0.4576 - acc: 0.7096 - val_loss: 0.5433 - val_acc: 0.5040\n",
            "Epoch 2/10\n",
            "96/96 [==============================] - 13s 135ms/step - loss: 0.3925 - acc: 0.7343 - val_loss: 0.5482 - val_acc: 0.5040\n",
            "Epoch 3/10\n",
            "96/96 [==============================] - 13s 135ms/step - loss: 0.3672 - acc: 0.7374 - val_loss: 0.4779 - val_acc: 0.6020\n",
            "Epoch 4/10\n",
            "96/96 [==============================] - 13s 136ms/step - loss: 0.3311 - acc: 0.7828 - val_loss: 0.4562 - val_acc: 0.6604\n",
            "Epoch 5/10\n",
            "96/96 [==============================] - 13s 136ms/step - loss: 0.2993 - acc: 0.8200 - val_loss: 0.4319 - val_acc: 0.6780\n",
            "Epoch 6/10\n",
            "96/96 [==============================] - 13s 135ms/step - loss: 0.2706 - acc: 0.8379 - val_loss: 0.4523 - val_acc: 0.6816\n",
            "Epoch 7/10\n",
            "96/96 [==============================] - 13s 138ms/step - loss: 0.2494 - acc: 0.8511 - val_loss: 0.4046 - val_acc: 0.7101\n",
            "Epoch 8/10\n",
            "96/96 [==============================] - 13s 136ms/step - loss: 0.2323 - acc: 0.8630 - val_loss: 0.4042 - val_acc: 0.7216\n",
            "Epoch 9/10\n",
            "96/96 [==============================] - 13s 137ms/step - loss: 0.2181 - acc: 0.8718 - val_loss: 0.4405 - val_acc: 0.7087\n",
            "Epoch 10/10\n",
            "96/96 [==============================] - 14s 143ms/step - loss: 0.2063 - acc: 0.8782 - val_loss: 0.3819 - val_acc: 0.7359\n"
          ]
        }
      ],
      "source": [
        "#Fitting the model \n",
        "model_ave_mean,history_ave_mean = model_compile_fit(claim_input_ave_m, evidence_input_ave_m, ave_input_mean, 10, 1280)"
      ]
    },
    {
      "cell_type": "code",
      "execution_count": 143,
      "metadata": {
        "id": "z1igXrNdiYqV"
      },
      "outputs": [],
      "source": [
        "#3. Encode token sequences via a simple MLP layer.\n",
        "X_claim_mlp_m, X_evidence_mlp_m, claim_input_mlp_m, evidence_input_mlp_m = model_creation_MLP()\n",
        "mlp_input_mean = Average(name='mlp_input_mean')([X_claim_mlp_m, X_evidence_mlp_m])\n",
        "mlp_input_mean = (Dropout(0.5))(mlp_input_mean ) \n",
        "mlp_input_mean = (Dense(units=3, activation='sigmoid', use_bias=False))(mlp_input_mean)"
      ]
    },
    {
      "cell_type": "code",
      "execution_count": 144,
      "metadata": {
        "colab": {
          "base_uri": "https://localhost:8080/"
        },
        "id": "hOpJLwlHiYqW",
        "outputId": "4f7677da-2a65-4143-e51a-41ba1ecef676"
      },
      "outputs": [
        {
          "output_type": "stream",
          "name": "stdout",
          "text": [
            "Model: \"model_15\"\n",
            "__________________________________________________________________________________________________\n",
            " Layer (type)                   Output Shape         Param #     Connected to                     \n",
            "==================================================================================================\n",
            " claim_input (InputLayer)       [(None, 76)]         0           []                               \n",
            "                                                                                                  \n",
            " evidence_input (InputLayer)    [(None, 137)]        0           []                               \n",
            "                                                                                                  \n",
            " claim_embedding (Embedding)    (None, 76, 50)       1865950     ['claim_input[0][0]']            \n",
            "                                                                                                  \n",
            " evidence_embedding (Embedding)  (None, 137, 50)     1865950     ['evidence_input[0][0]']         \n",
            "                                                                                                  \n",
            " tf.reshape_4 (TFOpLambda)      (None, 3800)         0           ['claim_embedding[0][0]']        \n",
            "                                                                                                  \n",
            " tf.reshape_5 (TFOpLambda)      (None, 6850)         0           ['evidence_embedding[0][0]']     \n",
            "                                                                                                  \n",
            " dense_19 (Dense)               (None, 50)           190050      ['tf.reshape_4[0][0]']           \n",
            "                                                                                                  \n",
            " dense_20 (Dense)               (None, 50)           342550      ['tf.reshape_5[0][0]']           \n",
            "                                                                                                  \n",
            " mlp_input_mean (Average)       (None, 50)           0           ['dense_19[0][0]',               \n",
            "                                                                  'dense_20[0][0]']               \n",
            "                                                                                                  \n",
            " dropout_11 (Dropout)           (None, 50)           0           ['mlp_input_mean[0][0]']         \n",
            "                                                                                                  \n",
            " dense_21 (Dense)               (None, 3)            150         ['dropout_11[0][0]']             \n",
            "                                                                                                  \n",
            "==================================================================================================\n",
            "Total params: 4,264,650\n",
            "Trainable params: 4,264,650\n",
            "Non-trainable params: 0\n",
            "__________________________________________________________________________________________________\n",
            "Epoch 1/10\n",
            "96/96 [==============================] - 3s 27ms/step - loss: 0.4154 - acc: 0.7319 - val_loss: 0.4968 - val_acc: 0.5678\n",
            "Epoch 2/10\n",
            "96/96 [==============================] - 2s 25ms/step - loss: 0.3353 - acc: 0.7857 - val_loss: 0.4857 - val_acc: 0.6047\n",
            "Epoch 3/10\n",
            "96/96 [==============================] - 2s 25ms/step - loss: 0.2976 - acc: 0.8130 - val_loss: 0.4517 - val_acc: 0.6428\n",
            "Epoch 4/10\n",
            "96/96 [==============================] - 2s 25ms/step - loss: 0.2724 - acc: 0.8307 - val_loss: 0.4248 - val_acc: 0.6710\n",
            "Epoch 5/10\n",
            "96/96 [==============================] - 2s 25ms/step - loss: 0.2537 - acc: 0.8424 - val_loss: 0.4581 - val_acc: 0.6731\n",
            "Epoch 6/10\n",
            "96/96 [==============================] - 2s 25ms/step - loss: 0.2389 - acc: 0.8518 - val_loss: 0.4290 - val_acc: 0.6847\n",
            "Epoch 7/10\n",
            "96/96 [==============================] - 2s 25ms/step - loss: 0.2269 - acc: 0.8600 - val_loss: 0.4473 - val_acc: 0.6902\n",
            "Epoch 8/10\n",
            "96/96 [==============================] - 2s 25ms/step - loss: 0.2160 - acc: 0.8660 - val_loss: 0.4566 - val_acc: 0.6973\n",
            "Epoch 9/10\n",
            "96/96 [==============================] - 2s 25ms/step - loss: 0.2054 - acc: 0.8732 - val_loss: 0.4677 - val_acc: 0.7002\n",
            "Epoch 10/10\n",
            "96/96 [==============================] - 2s 25ms/step - loss: 0.1976 - acc: 0.8781 - val_loss: 0.4693 - val_acc: 0.7058\n"
          ]
        }
      ],
      "source": [
        "#Fitting the model \n",
        "model_mlp_mean, history_mlp_mean = model_compile_fit(claim_input_mlp_m, evidence_input_mlp_m, mlp_input_mean, 10, 1280)"
      ]
    },
    {
      "cell_type": "code",
      "execution_count": 145,
      "metadata": {
        "id": "L8xDx_SNiYqW"
      },
      "outputs": [],
      "source": [
        "#4. Compute the sentence embedding as the mean of its token embeddings (bag of vectors).\n",
        "X_claim_bov_m, X_evidence_bov_m, claim_input_bov_m, evidence_input_bov_m = model_creation_bov()\n",
        "bov_input_mean = Average(name='bov_input_mean')([ X_claim_bov_m, X_evidence_bov_m])\n",
        "bov_input_mean = (Dropout(0.5))(bov_input_mean) \n",
        "bov_input_mean = (Dense(units=3, activation='sigmoid', use_bias=False))(bov_input_mean)"
      ]
    },
    {
      "cell_type": "code",
      "execution_count": 146,
      "metadata": {
        "colab": {
          "base_uri": "https://localhost:8080/"
        },
        "id": "gQGFbn7fiYqX",
        "outputId": "e15d5568-2104-4e05-bdfd-ad2fa3cfa4c0"
      },
      "outputs": [
        {
          "output_type": "stream",
          "name": "stdout",
          "text": [
            "Model: \"model_16\"\n",
            "__________________________________________________________________________________________________\n",
            " Layer (type)                   Output Shape         Param #     Connected to                     \n",
            "==================================================================================================\n",
            " claim_input (InputLayer)       [(None, 76)]         0           []                               \n",
            "                                                                                                  \n",
            " evidence_input (InputLayer)    [(None, 137)]        0           []                               \n",
            "                                                                                                  \n",
            " claim_embedding (Embedding)    (None, 76, 50)       1865950     ['claim_input[0][0]']            \n",
            "                                                                                                  \n",
            " evidence_embedding (Embedding)  (None, 137, 50)     1865950     ['evidence_input[0][0]']         \n",
            "                                                                                                  \n",
            " tf.math.reduce_mean_12 (TFOpLa  (None, 76)          0           ['claim_embedding[0][0]']        \n",
            " mbda)                                                                                            \n",
            "                                                                                                  \n",
            " tf.math.reduce_mean_13 (TFOpLa  (None, 137)         0           ['evidence_embedding[0][0]']     \n",
            " mbda)                                                                                            \n",
            "                                                                                                  \n",
            " dense_22 (Dense)               (None, 50)           3850        ['tf.math.reduce_mean_12[0][0]'] \n",
            "                                                                                                  \n",
            " dense_23 (Dense)               (None, 50)           6900        ['tf.math.reduce_mean_13[0][0]'] \n",
            "                                                                                                  \n",
            " bov_input_mean (Average)       (None, 50)           0           ['dense_22[0][0]',               \n",
            "                                                                  'dense_23[0][0]']               \n",
            "                                                                                                  \n",
            " dropout_12 (Dropout)           (None, 50)           0           ['bov_input_mean[0][0]']         \n",
            "                                                                                                  \n",
            " dense_24 (Dense)               (None, 3)            150         ['dropout_12[0][0]']             \n",
            "                                                                                                  \n",
            "==================================================================================================\n",
            "Total params: 3,742,800\n",
            "Trainable params: 3,742,800\n",
            "Non-trainable params: 0\n",
            "__________________________________________________________________________________________________\n",
            "Epoch 1/10\n",
            "96/96 [==============================] - 3s 25ms/step - loss: 0.5330 - acc: 0.7062 - val_loss: 0.5518 - val_acc: 0.5040\n",
            "Epoch 2/10\n",
            "96/96 [==============================] - 2s 23ms/step - loss: 0.4051 - acc: 0.7339 - val_loss: 0.5400 - val_acc: 0.5040\n",
            "Epoch 3/10\n",
            "96/96 [==============================] - 2s 23ms/step - loss: 0.3853 - acc: 0.7342 - val_loss: 0.5342 - val_acc: 0.5040\n",
            "Epoch 4/10\n",
            "96/96 [==============================] - 2s 23ms/step - loss: 0.3631 - acc: 0.7354 - val_loss: 0.5008 - val_acc: 0.5038\n",
            "Epoch 5/10\n",
            "96/96 [==============================] - 2s 23ms/step - loss: 0.3399 - acc: 0.7639 - val_loss: 0.4879 - val_acc: 0.5841\n",
            "Epoch 6/10\n",
            "96/96 [==============================] - 2s 23ms/step - loss: 0.3184 - acc: 0.7921 - val_loss: 0.4785 - val_acc: 0.6221\n",
            "Epoch 7/10\n",
            "96/96 [==============================] - 2s 23ms/step - loss: 0.3011 - acc: 0.8071 - val_loss: 0.4578 - val_acc: 0.6493\n",
            "Epoch 8/10\n",
            "96/96 [==============================] - 2s 23ms/step - loss: 0.2886 - acc: 0.8155 - val_loss: 0.4543 - val_acc: 0.6610\n",
            "Epoch 9/10\n",
            "96/96 [==============================] - 2s 23ms/step - loss: 0.2783 - acc: 0.8226 - val_loss: 0.4508 - val_acc: 0.6678\n",
            "Epoch 10/10\n",
            "96/96 [==============================] - 2s 23ms/step - loss: 0.2698 - acc: 0.8287 - val_loss: 0.4471 - val_acc: 0.6740\n"
          ]
        }
      ],
      "source": [
        "#Fitting the model \n",
        "model_bov_mean, history_bov_mean = model_compile_fit(claim_input_bov_m, evidence_input_bov_m, bov_input_mean, 10, 1280)"
      ]
    },
    {
      "cell_type": "markdown",
      "source": [
        "###Plotting the best models\n",
        "We decided to plot only our best models (in term of accuracy). We decided to keep one model for each type of merging embeddings such as: \n",
        "\n",
        "\n",
        "1.   A model for concatenation\n",
        "2.   A model for summation\n",
        "3.   A model for the mean\n",
        "\n",
        "In these graphs we can see that there's no overfitting and that the accuracy increase very fast on the first epochs and then it starts to increase slowly.\n",
        "\n"
      ],
      "metadata": {
        "id": "MA4VKROlTeeh"
      }
    },
    {
      "cell_type": "code",
      "source": [
        "# visualizing the accuracy \n",
        "def plot_accuracy(model_fitted,name,pos): \n",
        "  plt.plot(model_fitted.history['acc']) \n",
        "  plt.plot(model_fitted.history['val_acc']) \n",
        "  plt.title(name) \n",
        "  plt.ylabel('Accuracy') \n",
        "  plt.xlabel('Epochs') \n",
        "  plt.legend(['Training Accuracy','Validation Accuracy'], loc=pos) \n",
        "  plt.show()"
      ],
      "metadata": {
        "id": "cmGrH_-TTVBe"
      },
      "execution_count": 70,
      "outputs": []
    },
    {
      "cell_type": "code",
      "source": [
        "#Visualizing the loss\n",
        "def plot_loss(model_fitted,name,pos):\n",
        "  plt.plot(model_fitted.history['loss'])\n",
        "  plt.plot(model_fitted.history['val_loss'])\n",
        "  plt.title(name)\n",
        "  plt.ylabel('Loss')\n",
        "  plt.xlabel('Epochs')\n",
        "  plt.legend(['Training Loss','Validation Loss'], loc=pos)\n",
        "  plt.show()"
      ],
      "metadata": {
        "id": "Z_nTahDsTmRl"
      },
      "execution_count": 69,
      "outputs": []
    },
    {
      "cell_type": "code",
      "source": [
        "#Plotting the accuracy of the model made with RNN output states average with the embeddings concatenated\n",
        "plot_accuracy(history_ave_conc, \"RNN with embeddings concatenated\", 'lower right')"
      ],
      "metadata": {
        "colab": {
          "base_uri": "https://localhost:8080/",
          "height": 295
        },
        "id": "YQPffO8JWAbV",
        "outputId": "5d00f791-d9ff-4752-de2a-3264cb0de095"
      },
      "execution_count": 72,
      "outputs": [
        {
          "output_type": "display_data",
          "data": {
            "image/png": "[encoded data removed]",
            "text/plain": [
              "<Figure size 504x288 with 1 Axes>"
            ]
          },
          "metadata": {
            "needs_background": "light"
          }
        }
      ]
    },
    {
      "cell_type": "code",
      "source": [
        "#Plotting the loss of the model made with RNN output states average with the embeddings concatenated\n",
        "plot_loss(history_ave_conc, \"RNN with embeddings concatenated\", 'center right')"
      ],
      "metadata": {
        "colab": {
          "base_uri": "https://localhost:8080/",
          "height": 295
        },
        "id": "baL_iG7cWT6R",
        "outputId": "2d90691e-8eaf-416c-ac4d-2d7e8b95318f"
      },
      "execution_count": 73,
      "outputs": [
        {
          "output_type": "display_data",
          "data": {
            "image/png": "[encoded data removed]",
            "text/plain": [
              "<Figure size 504x288 with 1 Axes>"
            ]
          },
          "metadata": {
            "needs_background": "light"
          }
        }
      ]
    },
    {
      "cell_type": "code",
      "source": [
        "#Plotting the accuracy of the model made with RNN last output state with the summation of the embeddings\n",
        "plot_accuracy(history_last_sum, \"RNN with embeddings summed\", 'lower right')"
      ],
      "metadata": {
        "colab": {
          "base_uri": "https://localhost:8080/",
          "height": 295
        },
        "id": "vjqdJwp7WAgt",
        "outputId": "53202053-a1e1-47ef-c192-d4093fdede69"
      },
      "execution_count": 76,
      "outputs": [
        {
          "output_type": "display_data",
          "data": {
            "image/png": "[encoded data removed]",
            "text/plain": [
              "<Figure size 504x288 with 1 Axes>"
            ]
          },
          "metadata": {
            "needs_background": "light"
          }
        }
      ]
    },
    {
      "cell_type": "code",
      "source": [
        "#Plotting the loss of the model made with RNN last output state with the summation of the embeddings\n",
        "plot_loss(history_last_mean, \"RNN with embeddings concatenated\", 'center right')"
      ],
      "metadata": {
        "colab": {
          "base_uri": "https://localhost:8080/",
          "height": 295
        },
        "id": "ZKhSoIvuWZUe",
        "outputId": "72dbfb83-86e2-4de6-d31d-95f647492ce7"
      },
      "execution_count": 77,
      "outputs": [
        {
          "output_type": "display_data",
          "data": {
            "image/png": "[encoded data removed]",
            "text/plain": [
              "<Figure size 504x288 with 1 Axes>"
            ]
          },
          "metadata": {
            "needs_background": "light"
          }
        }
      ]
    },
    {
      "cell_type": "code",
      "source": [
        "#Plotting the accuracy of the model made with RNN output states average with the mean of the embeddings\n",
        "plot_accuracy(history_ave_mean, \"RNN with the mean of embeddings\", 'lower right')"
      ],
      "metadata": {
        "colab": {
          "base_uri": "https://localhost:8080/",
          "height": 295
        },
        "id": "qBlyOnAHWAl6",
        "outputId": "98640806-aba5-4441-f7c9-4bf8e8a7a5e5"
      },
      "execution_count": 78,
      "outputs": [
        {
          "output_type": "display_data",
          "data": {
            "image/png": "[encoded data removed]",
            "text/plain": [
              "<Figure size 504x288 with 1 Axes>"
            ]
          },
          "metadata": {
            "needs_background": "light"
          }
        }
      ]
    },
    {
      "cell_type": "code",
      "source": [
        "#Plotting the loss of the model made with RNN output states average with the mean of the embeddings\n",
        "plot_loss(history_ave_mean, \"RNN with embeddings concatenated\", 'upper right')"
      ],
      "metadata": {
        "colab": {
          "base_uri": "https://localhost:8080/",
          "height": 295
        },
        "id": "-HSUUFpgWfE5",
        "outputId": "7458da87-c4a0-42c9-88f5-55f19b617ec1"
      },
      "execution_count": 149,
      "outputs": [
        {
          "output_type": "display_data",
          "data": {
            "image/png": "[encoded data removed]",
            "text/plain": [
              "<Figure size 504x288 with 1 Axes>"
            ]
          },
          "metadata": {
            "needs_background": "light"
          }
        }
      ]
    },
    {
      "cell_type": "markdown",
      "metadata": {
        "id": "D8jnJEVA8KKX"
      },
      "source": [
        "## Models' Evaluation"
      ]
    },
    {
      "cell_type": "code",
      "execution_count": 80,
      "metadata": {
        "id": "ceUTUP-Jwn3x"
      },
      "outputs": [],
      "source": [
        "def models_eval(model):\n",
        "  loss, accuracy = model.evaluate(data_test, y_test, verbose=1)"
      ]
    },
    {
      "cell_type": "code",
      "execution_count": 81,
      "metadata": {
        "colab": {
          "base_uri": "https://localhost:8080/"
        },
        "id": "uAtZ5-1htaYL",
        "outputId": "4e4e12b2-6657-4ff6-e463-85c0511d4b2f"
      },
      "outputs": [
        {
          "output_type": "stream",
          "name": "stdout",
          "text": [
            "225/225 [==============================] - 9s 38ms/step - loss: 0.4571 - acc: 0.7193\n"
          ]
        }
      ],
      "source": [
        "#Best model with Concatenation because it has 73% of accuracy on validation set\n",
        "models_eval(model_ave_conc)"
      ]
    },
    {
      "cell_type": "code",
      "execution_count": 82,
      "metadata": {
        "colab": {
          "base_uri": "https://localhost:8080/"
        },
        "id": "77sN2257xwv4",
        "outputId": "c9ef6563-ad9d-4fa5-8f1f-e4977519bdf3"
      },
      "outputs": [
        {
          "output_type": "stream",
          "name": "stdout",
          "text": [
            "225/225 [==============================] - 9s 38ms/step - loss: 0.4763 - acc: 0.7194\n"
          ]
        }
      ],
      "source": [
        "#Best model with summation because it has 72.77% of accuracy on validation set\n",
        "models_eval(model_last_sum)"
      ]
    },
    {
      "cell_type": "code",
      "execution_count": 83,
      "metadata": {
        "colab": {
          "base_uri": "https://localhost:8080/"
        },
        "id": "HtGl-JzkyGN5",
        "outputId": "04304568-e408-407f-fef9-7d75c16b4ce2"
      },
      "outputs": [
        {
          "output_type": "stream",
          "name": "stdout",
          "text": [
            "225/225 [==============================] - 9s 38ms/step - loss: 0.4081 - acc: 0.7179\n"
          ]
        }
      ],
      "source": [
        "#Best model with the mean because it has 72.99% of accuracy on validation set\n",
        "models_eval(model_ave_mean)"
      ]
    },
    {
      "cell_type": "markdown",
      "metadata": {
        "id": "Li7lXSlfxDt_"
      },
      "source": [
        "### Multi-input classification evaluation of the best models\n",
        " Precision Recall and F1 score"
      ]
    },
    {
      "cell_type": "code",
      "execution_count": 84,
      "metadata": {
        "id": "K0W5iIfsta_2"
      },
      "outputs": [],
      "source": [
        "def prediction(model):\n",
        "  predictions = model.predict(data_test)\n",
        "  return predictions"
      ]
    },
    {
      "cell_type": "code",
      "execution_count": 85,
      "metadata": {
        "id": "fkFWlZyZxyMD"
      },
      "outputs": [],
      "source": [
        "def class_report(predictions,y_test_df):\n",
        "  target_names = ['SUPPORT', 'REFUTES']                                                                                                                                                                             \n",
        "  print(classification_report(y_test_df,predictions, target_names=target_names))"
      ]
    },
    {
      "cell_type": "code",
      "execution_count": 86,
      "metadata": {
        "id": "ABOoweS0yZGC"
      },
      "outputs": [],
      "source": [
        "y_test_df = y_test.copy()\n",
        "y_test_df = pd.DataFrame(y_test)\n",
        "y_test_df = y_test_df.drop([0], axis=1)\n",
        "def to_dataframe(pred):\n",
        "  preds_df = pd.DataFrame((np.around(pred, decimals = 0, out = None)), dtype='int')\n",
        "  preds_df = preds_df.drop([0], axis=1)\n",
        "  return y_test_df,preds_df"
      ]
    },
    {
      "cell_type": "markdown",
      "metadata": {
        "id": "PbzRF_pYeLII"
      },
      "source": [
        "Classifiction report of the best concatenation model"
      ]
    },
    {
      "cell_type": "code",
      "execution_count": 87,
      "metadata": {
        "colab": {
          "base_uri": "https://localhost:8080/"
        },
        "id": "khVotT2NeEPp",
        "outputId": "bae2cc26-eac2-4995-90f8-0ca9d26f8202"
      },
      "outputs": [
        {
          "output_type": "stream",
          "name": "stdout",
          "text": [
            "              precision    recall  f1-score   support\n",
            "\n",
            "     SUPPORT       0.67      0.87      0.76      3606\n",
            "     REFUTES       0.81      0.57      0.67      3583\n",
            "\n",
            "   micro avg       0.72      0.72      0.72      7189\n",
            "   macro avg       0.74      0.72      0.71      7189\n",
            "weighted avg       0.74      0.72      0.71      7189\n",
            " samples avg       0.72      0.72      0.72      7189\n",
            "\n"
          ]
        },
        {
          "output_type": "stream",
          "name": "stderr",
          "text": [
            "/usr/local/lib/python3.7/dist-packages/sklearn/metrics/_classification.py:1308: UndefinedMetricWarning: Precision and F-score are ill-defined and being set to 0.0 in samples with no predicted labels. Use `zero_division` parameter to control this behavior.\n",
            "  _warn_prf(average, modifier, msg_start, len(result))\n"
          ]
        }
      ],
      "source": [
        "pred_conc = prediction(model_ave_conc)\n",
        "y_test_df_conc, preds_df_conc = to_dataframe(pred_conc) \n",
        "class_report(preds_df_conc,y_test_df_conc)"
      ]
    },
    {
      "cell_type": "markdown",
      "metadata": {
        "id": "kOYKJpKTympe"
      },
      "source": [
        "Evaluation of the best summation model"
      ]
    },
    {
      "cell_type": "code",
      "execution_count": 110,
      "metadata": {
        "colab": {
          "base_uri": "https://localhost:8080/"
        },
        "id": "S3f1rIBat30u",
        "outputId": "dd7fb98d-f590-4d7b-c0a1-8706cb1da295"
      },
      "outputs": [
        {
          "output_type": "stream",
          "name": "stdout",
          "text": [
            "              precision    recall  f1-score   support\n",
            "\n",
            "     SUPPORT       0.67      0.89      0.76      3606\n",
            "     REFUTES       0.83      0.55      0.66      3583\n",
            "\n",
            "   micro avg       0.72      0.72      0.72      7189\n",
            "   macro avg       0.75      0.72      0.71      7189\n",
            "weighted avg       0.75      0.72      0.71      7189\n",
            " samples avg       0.72      0.72      0.72      7189\n",
            "\n"
          ]
        },
        {
          "output_type": "stream",
          "name": "stderr",
          "text": [
            "/usr/local/lib/python3.7/dist-packages/sklearn/metrics/_classification.py:1308: UndefinedMetricWarning: Precision and F-score are ill-defined and being set to 0.0 in samples with no predicted labels. Use `zero_division` parameter to control this behavior.\n",
            "  _warn_prf(average, modifier, msg_start, len(result))\n"
          ]
        }
      ],
      "source": [
        "pred_sum = prediction(model_last_sum)\n",
        "y_test_df_sum, preds_df_sum = to_dataframe(pred_sum) \n",
        "class_report(preds_df_sum,y_test_df_sum)"
      ]
    },
    {
      "cell_type": "markdown",
      "metadata": {
        "id": "-7PqSpWJyuYS"
      },
      "source": [
        "Evaluation of the best mean model"
      ]
    },
    {
      "cell_type": "code",
      "execution_count": 120,
      "metadata": {
        "colab": {
          "base_uri": "https://localhost:8080/"
        },
        "id": "8NsSd1MYyr2y",
        "outputId": "a8451b57-3eb0-41cd-b01e-a82160a73e57"
      },
      "outputs": [
        {
          "output_type": "stream",
          "name": "stdout",
          "text": [
            "              precision    recall  f1-score   support\n",
            "\n",
            "     SUPPORT       0.67      0.87      0.76      3606\n",
            "     REFUTES       0.81      0.57      0.67      3583\n",
            "\n",
            "   micro avg       0.72      0.72      0.72      7189\n",
            "   macro avg       0.74      0.72      0.71      7189\n",
            "weighted avg       0.74      0.72      0.71      7189\n",
            " samples avg       0.72      0.72      0.72      7189\n",
            "\n"
          ]
        }
      ],
      "source": [
        "pred_mean = prediction(model_ave_mean)\n",
        "y_test_df_mean, preds_df_mean = to_dataframe(pred_mean) \n",
        "class_report(preds_df_mean,y_test_df_mean)"
      ]
    },
    {
      "cell_type": "markdown",
      "metadata": {
        "id": "H1brjzcJ34jK"
      },
      "source": [
        "### Confusion Matrix"
      ]
    },
    {
      "cell_type": "code",
      "execution_count": 90,
      "metadata": {
        "id": "zJQaykq54D4J"
      },
      "outputs": [],
      "source": [
        "def plot_cm(labels, predictions):\n",
        "  labels_tot=['SUPPORTS', 'REFUTES']\n",
        "  cm = confusion_matrix(labels, predictions)\n",
        "  fig = plt.figure(figsize=(10,8))\n",
        "  ax= plt.subplot()\n",
        "  sns.heatmap(cm, annot=True, fmt=\"d\", ax=ax)\n",
        "  ax.set_title('Confusion matrix')\n",
        "  ax.set_ylabel('Actual label')\n",
        "  ax.set_xlabel('Predicted label')\n",
        "  ax.xaxis.set_ticklabels(labels_tot); \n",
        "  ax.yaxis.set_ticklabels(labels_tot);"
      ]
    },
    {
      "cell_type": "code",
      "execution_count": 116,
      "metadata": {
        "colab": {
          "base_uri": "https://localhost:8080/",
          "height": 513
        },
        "id": "JzjhCACC4L0P",
        "outputId": "4133af52-f347-4f57-ff89-4a8e72fe0dd4"
      },
      "outputs": [
        {
          "output_type": "display_data",
          "data": {
            "image/png": "[encoded data removed]",
            "text/plain": [
              "<Figure size 720x576 with 2 Axes>"
            ]
          },
          "metadata": {
            "needs_background": "light"
          }
        }
      ],
      "source": [
        "preds_df_conc = np.array(preds_df_conc)\n",
        "y_test_df_conc = np.array(y_test_df_conc)\n",
        "plot_cm(pred_conc.argmax(axis=1),y_test.argmax(axis=1))"
      ]
    },
    {
      "cell_type": "code",
      "execution_count": 114,
      "metadata": {
        "colab": {
          "base_uri": "https://localhost:8080/",
          "height": 513
        },
        "id": "cRR0NF8o5q_i",
        "outputId": "c8e471f2-f146-4f4f-c8a9-67950c2527e1"
      },
      "outputs": [
        {
          "output_type": "display_data",
          "data": {
            "image/png": "[encoded data removed]",
            "text/plain": [
              "<Figure size 720x576 with 2 Axes>"
            ]
          },
          "metadata": {
            "needs_background": "light"
          }
        }
      ],
      "source": [
        "preds_df_sum = np.array(preds_df_sum)\n",
        "y_test_df_sum = np.array(y_test_df_sum)\n",
        "\n",
        "plot_cm(pred_sum.argmax(axis=1),y_test.argmax(axis=1))"
      ]
    },
    {
      "cell_type": "code",
      "source": [
        "len(preds_df_sum[i])\n",
        "len(y_test_df_sum[i])"
      ],
      "metadata": {
        "colab": {
          "base_uri": "https://localhost:8080/"
        },
        "id": "eod_x3XGg4nx",
        "outputId": "02352ad1-2730-442b-901c-d3f88aa948f4"
      },
      "execution_count": 108,
      "outputs": [
        {
          "output_type": "execute_result",
          "data": {
            "text/plain": [
              "2"
            ]
          },
          "metadata": {},
          "execution_count": 108
        }
      ]
    },
    {
      "cell_type": "code",
      "execution_count": 117,
      "metadata": {
        "colab": {
          "base_uri": "https://localhost:8080/",
          "height": 513
        },
        "id": "m_tTTMhy5rCM",
        "outputId": "01e14a90-fc69-436c-b20f-d0c64979c38a"
      },
      "outputs": [
        {
          "output_type": "display_data",
          "data": {
            "image/png": "[encoded data removed]",
            "text/plain": [
              "<Figure size 720x576 with 2 Axes>"
            ]
          },
          "metadata": {
            "needs_background": "light"
          }
        }
      ],
      "source": [
        "preds_df_mean = np.array(preds_df_mean)\n",
        "y_test_df_mean = np.array(y_test_df_mean)\n",
        "plot_cm(pred_mean.argmax(axis=1),y_test.argmax(axis=1))"
      ]
    },
    {
      "cell_type": "markdown",
      "metadata": {
        "id": "3Jtnjpse0p0M"
      },
      "source": [
        "## Claim verification evaluation\n",
        "For a given claim, we consider all its corresponding (claim, evidence) pairs and their corresponding classification outputs.\n",
        "\n",
        "At this point, all we need to do is to compute the final predicted claim label via majority voting.\n",
        "\n",
        "We can see that, the results are very similar to the previous once."
      ]
    },
    {
      "cell_type": "code",
      "execution_count": 121,
      "metadata": {
        "id": "eWMfTMpr0u0K"
      },
      "outputs": [],
      "source": [
        "#We check for each claim which is the majority of votes for predicted labels and true labels\n",
        "def counting_labels(preds,y_test):\n",
        "  count_supp = 0\n",
        "  count_ref = 0\n",
        "  count_supp_true = 0\n",
        "  count_ref_true = 0\n",
        "  labels = []\n",
        "  labels_true = []\n",
        "  y_test_true = np.array(y_test.copy())\n",
        "  y_test_pred = np.array(preds.copy())\n",
        "\n",
        "  for i in range(0, len(data_test[0])-1):\n",
        "    #if the two following claims are diffent it means that can evaluate the majority \n",
        "    #of the votes, so we add the last vote and we check which cotes are higher \n",
        "    #then we add it on the predicted labels\n",
        "    #e.g clam1 != claim2 and claim1 has 2 supp and 1 ref then in the labels we append the support\n",
        "    if list(data_test[0][i]) != list(data_test[0][i+1]):\n",
        "      if list(y_test_pred[i]) == [0,1]:\n",
        "        count_supp +=1\n",
        "        if count_supp > count_ref:\n",
        "          labels.append([0,1])\n",
        "        else:\n",
        "          labels.append([1,0])\n",
        "        count_supp = 0\n",
        "      else:\n",
        "        count_ref += 1\n",
        "        if count_supp > count_ref:\n",
        "          labels.append([0,1])\n",
        "        else:\n",
        "          labels.append([1,0])\n",
        "        count_ref = 0\n",
        "      #we do the same for the true labels\n",
        "      if list(y_test_true[i]) == [0,1]:\n",
        "        count_supp_true +=1\n",
        "        if count_supp_true > count_ref_true:\n",
        "          labels_true.append([0,1])\n",
        "        else:\n",
        "          labels_true.append([1,0])\n",
        "        count_supp_true = 0\n",
        "\n",
        "      else:\n",
        "        count_ref_true += 1\n",
        "        if count_supp_true > count_ref_true:\n",
        "          labels_true.append([0,1])\n",
        "        else:\n",
        "          labels_true.append([1,0])\n",
        "        count_ref_true = 0\n",
        "      \n",
        "    #if the claims are equal we just add the votes\n",
        "    else:\n",
        "      if list(y_test_pred[i]) == [0,1]:\n",
        "        count_supp +=1\n",
        "      else:\n",
        "        count_ref += 1\n",
        "      \n",
        "      #we do the same for the true labels\n",
        "      if list(y_test_true[i]) == [0,1]:\n",
        "        count_supp_true +=1\n",
        "      else:\n",
        "        count_ref_true += 1\n",
        "  return labels, labels_true"
      ]
    },
    {
      "cell_type": "markdown",
      "metadata": {
        "id": "SwCPoFVUn-jP"
      },
      "source": [
        "We evaluate the best concatanation **model**"
      ]
    },
    {
      "cell_type": "code",
      "execution_count": 128,
      "metadata": {
        "id": "ZMLmyhv5fJjP"
      },
      "outputs": [],
      "source": [
        "labels, labels_true = counting_labels(preds_df_conc,y_test_df_conc)"
      ]
    },
    {
      "cell_type": "code",
      "execution_count": 129,
      "metadata": {
        "colab": {
          "base_uri": "https://localhost:8080/"
        },
        "id": "uLeyB_2LbNRQ",
        "outputId": "e09886fd-8f44-42da-f026-63be26b7c62a"
      },
      "outputs": [
        {
          "output_type": "stream",
          "name": "stdout",
          "text": [
            "              precision    recall  f1-score   support\n",
            "\n",
            "    SUPPORTS       0.67      0.87      0.76      3308\n",
            "     REFUTES       0.81      0.57      0.67      3297\n",
            "\n",
            "   micro avg       0.72      0.72      0.72      6605\n",
            "   macro avg       0.74      0.72      0.71      6605\n",
            "weighted avg       0.74      0.72      0.71      6605\n",
            " samples avg       0.72      0.72      0.72      6605\n",
            "\n"
          ]
        }
      ],
      "source": [
        "print(classification_report(labels_true, labels,target_names =[\"SUPPORTS\",\"REFUTES\"]))"
      ]
    },
    {
      "cell_type": "markdown",
      "metadata": {
        "id": "XO8hOI5msGj3"
      },
      "source": [
        "We evaluate the best summation model"
      ]
    },
    {
      "cell_type": "code",
      "execution_count": 130,
      "metadata": {
        "id": "2AhgAA_2sK90"
      },
      "outputs": [],
      "source": [
        "labels, labels_true = counting_labels(preds_df_sum,y_test_df_sum)"
      ]
    },
    {
      "cell_type": "code",
      "execution_count": 131,
      "metadata": {
        "colab": {
          "base_uri": "https://localhost:8080/"
        },
        "id": "rZrm4EoRsLAV",
        "outputId": "82cba675-1599-470b-e5b1-79894c181b06"
      },
      "outputs": [
        {
          "output_type": "stream",
          "name": "stdout",
          "text": [
            "              precision    recall  f1-score   support\n",
            "\n",
            "    SUPPORTS       0.66      0.89      0.76      3308\n",
            "     REFUTES       0.83      0.54      0.65      3297\n",
            "\n",
            "   micro avg       0.72      0.72      0.72      6605\n",
            "   macro avg       0.75      0.72      0.71      6605\n",
            "weighted avg       0.75      0.72      0.71      6605\n",
            " samples avg       0.72      0.72      0.72      6605\n",
            "\n"
          ]
        }
      ],
      "source": [
        "print(classification_report(labels_true,labels, target_names =[\"SUPPORTS\",\"REFUTES\"]))"
      ]
    },
    {
      "cell_type": "markdown",
      "metadata": {
        "id": "-jH08PJwsGm2"
      },
      "source": [
        "We evaluate the best mean model"
      ]
    },
    {
      "cell_type": "code",
      "execution_count": 132,
      "metadata": {
        "id": "MnSFWkH9sLvL"
      },
      "outputs": [],
      "source": [
        "labels, labels_true = counting_labels(preds_df_mean,y_test_df_mean)"
      ]
    },
    {
      "cell_type": "code",
      "execution_count": 133,
      "metadata": {
        "colab": {
          "base_uri": "https://localhost:8080/"
        },
        "id": "n8fU_dchsLxu",
        "outputId": "b6f00dec-872a-40a5-d373-0de48c8f4b22"
      },
      "outputs": [
        {
          "output_type": "stream",
          "name": "stdout",
          "text": [
            "              precision    recall  f1-score   support\n",
            "\n",
            "    SUPPORTS       0.67      0.87      0.76      3308\n",
            "     REFUTES       0.81      0.56      0.66      3297\n",
            "\n",
            "   micro avg       0.72      0.72      0.72      6605\n",
            "   macro avg       0.74      0.72      0.71      6605\n",
            "weighted avg       0.74      0.72      0.71      6605\n",
            " samples avg       0.72      0.72      0.72      6605\n",
            "\n"
          ]
        }
      ],
      "source": [
        "print(classification_report(labels_true, labels, target_names =[\"SUPPORTS\",\"REFUTES\"]))"
      ]
    }
  ],
  "metadata": {
    "accelerator": "GPU",
    "colab": {
      "collapsed_sections": [],
      "name": "assignment_2 .ipynb",
      "provenance": []
    },
    "kernelspec": {
      "display_name": "Python 3",
      "language": "python",
      "name": "python3"
    },
    "language_info": {
      "codemirror_mode": {
        "name": "ipython",
        "version": 3
      },
      "file_extension": ".py",
      "mimetype": "text/x-python",
      "name": "python",
      "nbconvert_exporter": "python",
      "pygments_lexer": "ipython3",
      "version": "3.8.3"
    }
  },
  "nbformat": 4,
  "nbformat_minor": 0
}