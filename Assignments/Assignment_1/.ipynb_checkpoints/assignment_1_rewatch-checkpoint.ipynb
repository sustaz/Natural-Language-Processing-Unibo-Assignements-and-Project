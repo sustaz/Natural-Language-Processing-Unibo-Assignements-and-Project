{
 "cells": [
  {
   "cell_type": "markdown",
   "metadata": {
    "id": "-WeCeITXoxLf"
   },
   "source": [
    "# Assignment 1\n",
    "\n",
    "**Due to**: 23/12/2021 (dd/mm/yyyy)\n",
    "\n",
    "**Credits**: Andrea Galassi, Federico Ruggeri, Paolo Torroni\n",
    "\n",
    "**Summary**: Part-of Speech (POS) tagging as Sequence Labelling using Recurrent Neural Architectures"
   ]
  },
  {
   "cell_type": "markdown",
   "metadata": {
    "id": "a4_wqPdlBcKS"
   },
   "source": [
    "# Intro\n",
    "\n",
    "In this assignment  we will ask you to perform POS tagging using neural architectures\n",
    "\n",
    "You are asked to follow these steps:\n",
    "*   Download the corpora and split it in training and test sets, structuring a dataframe.\n",
    "*   Embed the words using GloVe embeddings\n",
    "*   Create a baseline model, using a simple neural architecture\n",
    "*   Experiment doing small modifications to the baseline model, choose hyperparameters using the validation set\n",
    "*   Evaluate your two best model\n",
    "*   Analyze the errors of your model\n",
    "\n",
    "\n",
    "**Task**: given a corpus of documents, predict the POS tag for each word\n",
    "\n",
    "**Corpus**:\n",
    "Ignore the numeric value in the third column, use only the words/symbols and its label. \n",
    "The corpus is available at:\n",
    "https://raw.githubusercontent.com/nltk/nltk_data/gh-pages/packages/corpora/dependency_treebank.zip\n",
    "\n",
    "**Splits**: documents 1-100 are the train set, 101-150 validation set, 151-199 test set.\n",
    "\n",
    "\n",
    "**Features**: you MUST use GloVe embeddings as the only input features to the model.\n",
    "\n",
    "**Splitting**: you can decide to split documents into sentences or not, the choice is yours.\n",
    "\n",
    "**I/O structure**: The input data will have three dimensions: 1-documents/sentences, 2-token, 3-features; for the output there are 2 possibilities: if you use one-hot encoding it will be 1-documents/sentences, 2-token labels, 3-classes, if you use a single integer that indicates the number of the class it will be 1-documents/sentences, 2-token labels.\n",
    "\n",
    "**Baseline**: two layers architecture: a Bidirectional LSTM layer and a Dense/Fully-Connected layer on top; the choice of hyper-parameters is yours.\n",
    "\n",
    "**Architectures**: experiment using a GRU instead of the LSTM, adding an additional LSTM layer, and adding an additional dense layer; do not mix these variantions.\n",
    "\n",
    "\n",
    "**Training and Experiments**: all the experiments must involve only the training and validation sets.\n",
    "\n",
    "**Evaluation**: in the end, only the two best models of your choice (according to the validation set) must be evaluated on the test set. The main metric must be F1-Macro computed between the various part of speech. DO NOT CONSIDER THE PUNCTUATION CLASSES.\n",
    "\n",
    "**Metrics**: the metric you must use to evaluate your final model is the F1-macro, WITHOUT considering punctuation/symbols classes; during the training process you can use accuracy because you can't use the F1 metric unless you use a single (gigantic) batch because there is no way to aggregate \"partial\" F1 scores computed on mini-batches.\n",
    "\n",
    "**Discussion and Error Analysis** : verify and discuss if the results on the test sets are coherent with those on the validation set; analyze the errors done by your model, try to understand which may be the causes and think about how to improve it.\n",
    "\n",
    "**Report**: you are asked to deliver the code of your experiments and a small pdf report of about 2 pages; the pdf must begin with the names of the people of your team and a small abstract (4-5 lines) that sums up your findings.\n",
    "\n",
    "# Out Of Vocabulary (OOV) terms\n",
    "\n",
    "How to handle words that are not in GloVe vocabulary?\n",
    "You can handle them as you want (random embedding, placeholder, whatever!), but they must be STATIC embeddings (you cannot train them).\n",
    "\n",
    "But there is a very important caveat! As usual, the element of the test set must not influence the elements of the other splits!\n",
    "\n",
    "So, when you compute new embeddings for train+validation, you must forget about test documents.\n",
    "The motivation is to emulate a real-world scenario, where you select and train a model in the first stage, without knowing nothing about the testing environment.\n",
    "\n",
    "For implementation convenience, you CAN use a single vocabulary file/matrix/whatever. The principle of the previous point is that the embeddings inside that file/matrix must be generated independently for train and test splits.\n",
    "\n",
    "Basically in a real-world scenario, this is what would happen:\n",
    "1. Starting vocabulary V1 (in this assignment, GloVe vocabulary)\n",
    "2. Compute embeddings for terms out of vocabulary V1 (OOV1) of the training split \n",
    "3. Add embeddings to the vocabulary, so to obtain vocabulary V2=V1+OOV1\n",
    "4. Training of the model(s)\n",
    "5. Compute embeddings for terms OOV2 of the validation split \n",
    "6. Add embeddings to the vocabulary, so to obtain vocabulary V3=V1+OOV1+OOV2\n",
    "7. Validation of the model(s)\n",
    "8. Compute embeddings for terms OOV3 of the test split \n",
    "9. Add embeddings to the vocabulary, so to obtain vocabulary V4=V1+OOV1+OOV2+OOV3\n",
    "10. Testing of the final model\n",
    "\n",
    "In this case, where we already have all the documents, we can simplify the process a bit, but the procedure must remain rigorous.\n",
    "\n",
    "1. Starting vocabulary V1 (in this assignment, GloVe vocabulary)\n",
    "2. Compute embeddings for terms out of vocabulary V1 (OOV1) of the training split \n",
    "3. Add embeddings to the vocabulary, so to obtain vocabulary V2=V1+OOV1\n",
    "4. Compute embeddings for terms OOV2 of the validation split \n",
    "5. Add embeddings to the vocabulary, so to obtain vocabulary V3=V1+OOV1+OOV2\n",
    "6. Compute embeddings for terms OOV3 of the test split \n",
    "7. Add embeddings to the vocabulary, so to obtain vocabulary V4=V1+OOV1+OOV2\n",
    "8. Training of the model(s)\n",
    "9. Validation of the model(s)\n",
    "10. Testing of the final model\n",
    "\n",
    "Step 2 and step 6 must be completely independent of each other, for what concerns the method and the documents. But they can rely on the previous vocabulary (V1 for step 2 and V3 for step 6)\n",
    "THEREFORE if a word is present both in the training set and the test split and not in the starting vocabulary, its embedding is computed in step 2) and it is not considered OOV anymore in step 6).\n",
    "\n",
    "# Report\n",
    "The report must not be just a copy and paste of graphs and tables!\n",
    "\n",
    "The report must not be longer than 2 pages and must contain:\n",
    "* The names of the member of your team\n",
    "* A short abstract (4-5 lines) that sum ups everything\n",
    "* A general description of the task you have addressed and how you have addressed it\n",
    "* A short description of the models you have used\n",
    "* Some tables that sum up your findings in validation and test and a discussion of those results\n",
    "* The most relevant findings of your error analysis\n",
    "\n",
    "# Evaluation Criterion\n",
    "\n",
    "The goal of this assignment is not to prove you can find best model ever, but to face a common task, structure it correctly, and follow a correct and rigorous experimental procedure.\n",
    "In other words, we don't care if you final models are awful as long as you have followed the correct procedure and wrote a decent report.\n",
    "\n",
    "The score of the assignment will be computed roughly as follows\n",
    "* 1 point for the general setting of the problem\n",
    "* 1 point for the handling of OOV terms\n",
    "* 1 point for the models\n",
    "* 1 point for train-validation-test procedure\n",
    "* 2 point for the discussion of the results, error analysis, and report\n",
    "\n",
    "This distribution of scores is tentative and we may decide to alter it at any moment.\n",
    "We also reserve the right to assign a small bonus (0.5 points) to any assignment that is particularly worthy. Similarly, in case of grave errors, we may decide to assign an equivalent malus (-0.5 points).\n",
    "\n",
    "# Contacts\n",
    "\n",
    "In case of any doubt, question, issue, or help we highly recommend you to check the [course useful material](https://virtuale.unibo.it/pluginfile.php/1036039/mod_resource/content/2/NLP_Course_Useful_Material.pdf) for additional information, and to use the Virtuale forums to discuss with other students.\n",
    "\n",
    "You can always contact us at the following email addresses. To increase the probability of a prompt response, we reccomend you to write to both the teaching assistants.\n",
    "\n",
    "Teaching Assistants:\n",
    "\n",
    "* Andrea Galassi -> a.galassi@unibo.it\n",
    "* Federico Ruggeri -> federico.ruggeri6@unibo.it\n",
    "\n",
    "Professor:\n",
    "\n",
    "* Paolo Torroni -> p.torroni@unibo.it\n",
    "\n",
    "\n",
    "# FAQ\n",
    "* You can use a non-trainable Embedding layer to load the glove embeddings\n",
    "* You can use any library of your choice to implement the networks. Two options are tensorflow/keras or pythorch. Both these libraries have all the classes you need to implement these simple architectures and there are plenty of tutorials around, where you can learn how to use them."
   ]
  },
  {
   "cell_type": "markdown",
   "metadata": {
    "id": "CPbooqaZWlwE"
   },
   "source": [
    "### Preliminaries operations"
   ]
  },
  {
   "cell_type": "code",
   "execution_count": null,
   "metadata": {
    "colab": {
     "base_uri": "https://localhost:8080/"
    },
    "id": "izcCGCP1WlwH",
    "outputId": "93003d72-372c-4bdd-ca2f-c242c1da6123"
   },
   "outputs": [],
   "source": [
    "#import libraries\n",
    "\n",
    "#!pip install rar\n",
    "!unzip dependency_treebank.zip\n",
    "!pip install simplejson\n",
    "import simplejson as sj\n",
    "import pandas as pd\n",
    "import numpy as np\n",
    "import matplotlib.pyplot as plt\n",
    "from collections import OrderedDict \n",
    "import zipfile\n",
    "import os\n",
    "import urllib.request\n",
    "from tensorflow import keras\n",
    "from keras.preprocessing.text import Tokenizer\n",
    "from keras.preprocessing.sequence import pad_sequences\n",
    "from keras.models import Sequential\n",
    "from keras.layers import *\n",
    "from keras.utils.np_utils import to_categorical\n",
    "from keras.initializers import Constant\n",
    "from sklearn.manifold import TSNE\n",
    "import random\n",
    "from tqdm import tqdm #for progress bar\n",
    "from scipy import spatial"
   ]
  },
  {
   "cell_type": "markdown",
   "metadata": {
    "id": "nOswUwIZWlwI"
   },
   "source": [
    "   ### Importing Data\n",
    "   We import Data from dependecy_treebank and we save it in a DataFrame that contains two column labels \"word\" where is collected each word, and in \"class_id\" where is collected each tag. \n",
    "   Then we show the Dataset."
   ]
  },
  {
   "cell_type": "code",
   "execution_count": null,
   "metadata": {
    "colab": {
     "base_uri": "https://localhost:8080/"
    },
    "id": "bAmOkTVIWlwI",
    "outputId": "8b023f7b-6ab6-4b88-b8e1-d38567494183"
   },
   "outputs": [],
   "source": [
    "list_word = []\n",
    "list_class = []\n",
    "data = []\n",
    "train_ind: int\n",
    "val_ind: int\n",
    "for i in tqdm(range(1, 200)):\n",
    "    if i<10:\n",
    "        df = pd.read_table('dependency_treebank/wsj_000{}.dp'.format(i), header = None)\n",
    "    elif i>=10 and i<100:\n",
    "        df = pd.read_table('dependency_treebank/wsj_00{}.dp'.format(i), header = None)\n",
    "    else:\n",
    "        df = pd.read_table('dependency_treebank/wsj_0{}.dp'.format(i), header = None)\n",
    "    for j in range(0,df.shape[0]):\n",
    "        list_word.append(df[0][j]) \n",
    "        list_class.append(df[1][j])\n",
    "    if i==99:\n",
    "        train_ind = len(list_word)\n",
    "    elif i==149:\n",
    "        val_ind = len(list_word)\n",
    "\n",
    "data = list(zip(list_word,list_class))\n",
    "df = pd.DataFrame(data, columns =['word', 'class_id'])\n",
    "\n",
    "print(df.head(10))"
   ]
  },
  {
   "cell_type": "code",
   "execution_count": null,
   "metadata": {
    "id": "vOuEhveGaH3S"
   },
   "outputs": [],
   "source": []
  },
  {
   "cell_type": "code",
   "execution_count": null,
   "metadata": {
    "id": "GMxWl6SLWlwJ"
   },
   "outputs": [],
   "source": [
    "df_train = df[0:train_ind]\n",
    "df_val = df[train_ind:val_ind]\n",
    "df_test = df[val_ind::]"
   ]
  },
  {
   "cell_type": "code",
   "execution_count": null,
   "metadata": {
    "id": "Eqjtf8MVWlwK"
   },
   "outputs": [],
   "source": [
    "df_val.head()"
   ]
  },
  {
   "cell_type": "markdown",
   "metadata": {
    "id": "RFMm9_I0WlwM"
   },
   "source": [
    "## Preprocessing\n",
    "We've decided to set lowercase all the words that are at the beginning of sentence and are not proper name, in order to not have duplicate on the vocabulary (e.g. \"the\" and \"The\"). Then we remove from the dataset the punctuation, as specified before. "
   ]
  },
  {
   "cell_type": "code",
   "execution_count": null,
   "metadata": {
    "id": "0yRkhX2kWlwN"
   },
   "outputs": [],
   "source": [
    "#setting lowercase\n",
    "def df_phrases_cleaned(df, label1,label2):\n",
    "    df = df.reset_index()\n",
    "    for i in range(0,df.shape[0]-1):\n",
    "        #punctuation removal\n",
    "        if df[label1][i] == '.' and df[label1][i+1] != 'NNP':\n",
    "            df[label2][i+1] = str(df[label2][i+1]).lower()\n",
    "    df = df[df[label1] != ',']\n",
    "    df = df[df[label1] != '``']\n",
    "    df = df[df[label1] != \"''\"]\n",
    "    df = df[df[label1] != ':']\n",
    "    df = df[df[label1] != '$']\n",
    "    df = df[df[label1] != '#']\n",
    "    df = df.reset_index()\n",
    "    \n",
    "    #phrase division\n",
    "    phrase= []\n",
    "    phrases=[]\n",
    "    class_phrase= []\n",
    "    class_phrases=[]\n",
    "    for i in tqdm(range(0,len(df))): \n",
    "        name = df[label2][i]\n",
    "        class_phrase.append(df[label1][i])\n",
    "        phrase.append(df[label2][i]) \n",
    "\n",
    "        if name=='.' : \n",
    "            class_phrases.append(class_phrase)\n",
    "            phrases.append(phrase)\n",
    "            class_phrase = []\n",
    "            phrase = []\n",
    "    # phrase dataframe created with . delimiters\n",
    "    data = list(zip(phrases,class_phrases))\n",
    "    df_phrases = pd.DataFrame(data, columns =['phrase', 'phrase_class_id']) \n",
    "    \n",
    "    # Remove . delimiter\n",
    "    for i in tqdm(range(0, len(df_phrases))):\n",
    "        df_phrases['phrase'][i] = df_phrases['phrase'][i][:-1]\n",
    "        df_phrases['phrase_class_id'][i] = df_phrases['phrase_class_id'][i][:-1]\n",
    "        \n",
    "    return df_phrases \n",
    "\n"
   ]
  },
  {
   "cell_type": "code",
   "execution_count": null,
   "metadata": {
    "colab": {
     "base_uri": "https://localhost:8080/"
    },
    "id": "vEz-8wIXWlwN",
    "outputId": "487bb507-8ff8-406a-dfc0-c13ee3ce48b6"
   },
   "outputs": [],
   "source": [
    "df_phrases_train = df_phrases_cleaned(df_train, 'class_id', 'word')\n",
    "df_phrases_val = df_phrases_cleaned(df_val, 'class_id', 'word') \n",
    "df_phrases_test = df_phrases_cleaned(df_test, 'class_id', 'word') "
   ]
  },
  {
   "cell_type": "code",
   "execution_count": null,
   "metadata": {
    "id": "TExnJN7mWlwO"
   },
   "outputs": [],
   "source": []
  },
  {
   "cell_type": "code",
   "execution_count": null,
   "metadata": {
    "id": "JlOy_nfCWlwO"
   },
   "outputs": [],
   "source": []
  },
  {
   "cell_type": "markdown",
   "metadata": {
    "id": "wCLwcd0SWlwP"
   },
   "source": [
    "### Vocabulary creation"
   ]
  },
  {
   "cell_type": "code",
   "execution_count": null,
   "metadata": {
    "id": "E_2yvBLcWlwQ"
   },
   "outputs": [],
   "source": [
    "#We create the vocabulary\n",
    "word_listing = np.sort(df['word'].unique())\n",
    "word_to_idx = OrderedDict(zip(word_listing,range(0,len(word_listing)))) \n",
    "idx_to_word = OrderedDict(zip(range(0,len(word_listing)), word_listing)) \n"
   ]
  },
  {
   "cell_type": "code",
   "execution_count": null,
   "metadata": {
    "colab": {
     "base_uri": "https://localhost:8080/"
    },
    "id": "lyZdJjQ1WlwQ",
    "outputId": "9bbeee1d-53a6-4a28-e8ff-537c98cb14c8"
   },
   "outputs": [],
   "source": [
    "#Saving the vocabulary in vocab.json file\n",
    "vocab_path = os.path.join(os.getcwd(), 'vocab.json')\n",
    "\n",
    "print(\"Saving vocabulary to {}\".format(vocab_path))\n",
    "with open(vocab_path, mode='w') as f:\n",
    "    sj.dumps(word_to_idx, f, indent=4)\n",
    "print(\"Saving completed!\")"
   ]
  },
  {
   "cell_type": "markdown",
   "metadata": {
    "id": "DA6eIzzNWlwR"
   },
   "source": [
    "We divide the Dataset in training set, validation set and test set"
   ]
  },
  {
   "cell_type": "code",
   "execution_count": null,
   "metadata": {
    "id": "pwGjbcbfWlwS"
   },
   "outputs": [],
   "source": []
  },
  {
   "cell_type": "markdown",
   "metadata": {
    "id": "V94bLQMIWlwT"
   },
   "source": [
    " ##  GloVe \n",
    " We start downloading GloVe"
   ]
  },
  {
   "cell_type": "code",
   "execution_count": null,
   "metadata": {
    "colab": {
     "base_uri": "https://localhost:8080/"
    },
    "id": "i-saHqarWlwT",
    "outputId": "82148797-e4c3-414b-c713-e06153ac8908"
   },
   "outputs": [],
   "source": [
    "url = \"https://nlp.stanford.edu/data/glove.6B.zip\"\n",
    "\n",
    "glove_path = os.path.join(os.getcwd(),\"Glove\")\n",
    "glove_zip = os.path.join(os.getcwd(),\"Glove\", \"glove.6B.zip\")\n",
    "\n",
    "if not os.path.exists(glove_path):\n",
    "    os.makedirs(glove_path)\n",
    "\n",
    "if not os.path.exists(glove_zip):\n",
    "    urllib.request.urlretrieve(url, glove_zip)\n",
    "    print(\"Successful download\")\n",
    "\n",
    "with zipfile.ZipFile(glove_zip, 'r') as zip_ref:\n",
    "    zip_ref.extractall(path=glove_path)\n",
    "    print(\"Successful extraction\")"
   ]
  },
  {
   "cell_type": "markdown",
   "metadata": {
    "id": "ED_gMlZhWlwU"
   },
   "source": [
    "Now we create the word embeddings of GloVe"
   ]
  },
  {
   "cell_type": "code",
   "execution_count": null,
   "metadata": {
    "colab": {
     "base_uri": "https://localhost:8080/"
    },
    "id": "EWxL7u8qWlwU",
    "outputId": "0299a3f8-0fec-4337-9796-315fd84be5e1"
   },
   "outputs": [],
   "source": [
    "num_features=50\n",
    "V1 = {}\n",
    "with open(glove_path + '/glove.6B.{}d.txt'.format(num_features),'r', encoding=\"utf8\") as f:\n",
    "    for line in f:\n",
    "        values = line.split()\n",
    "        word = values[0]\n",
    "        vector = np.asarray(values[1:],'float32')\n",
    "        V1[word]=vector\n",
    "        \n",
    "print(\"Found %s word vectors.\" % len(V1))\n",
    "dict(list(V1.items())[:3])"
   ]
  },
  {
   "cell_type": "markdown",
   "metadata": {
    "id": "EkcT84YYWlwU"
   },
   "source": [
    "Now we show a similar word by querying; in this method, we will be using euclidean distance to measure how far apart the two words are."
   ]
  },
  {
   "cell_type": "code",
   "execution_count": null,
   "metadata": {
    "id": "cjLkpr7fWlwU"
   },
   "outputs": [],
   "source": [
    "def find_similar_word(embedes):\n",
    "    nearest = sorted(V1.keys(), key=lambda word: spatial.distance.euclidean(V1[word], embedes))\n",
    "    return nearest"
   ]
  },
  {
   "cell_type": "code",
   "execution_count": null,
   "metadata": {
    "colab": {
     "base_uri": "https://localhost:8080/"
    },
    "id": "98NgsxT2WlwV",
    "outputId": "0e6f7ba0-0779-44ed-880f-8cc4f8fe34d4"
   },
   "outputs": [],
   "source": [
    "find_similar_word(V1['girl'])[0:10]"
   ]
  },
  {
   "cell_type": "markdown",
   "metadata": {
    "id": "SBzPvRRsWlwV"
   },
   "source": [
    "To visualize the vectors, we are using a method called distributed stochastic gradient neighbor embeddings in short known as TSNE, which is used to reduce data dimensions"
   ]
  },
  {
   "cell_type": "code",
   "execution_count": null,
   "metadata": {
    "colab": {
     "base_uri": "https://localhost:8080/",
     "height": 556
    },
    "id": "5L4ku6SsWlwW",
    "outputId": "03b82abb-fafa-4500-89ec-c53d080c869b"
   },
   "outputs": [],
   "source": [
    "distri = TSNE(n_components=2)\n",
    "words = list(V1.keys())\n",
    "vectors = [V1[word] for word in words]\n",
    "y = distri.fit_transform(vectors[700:900])\n",
    "plt.figure(figsize=(14,8))\n",
    "plt.scatter(y[:, 0],y[:,1])\n",
    "for label,x,y in zip(words,y[:, 0],y[:,1]):\n",
    "    plt.annotate(label,xy=(x,y),xytext=(0,0),textcoords='offset points')\n",
    "plt.show()"
   ]
  },
  {
   "cell_type": "code",
   "execution_count": null,
   "metadata": {
    "colab": {
     "base_uri": "https://localhost:8080/"
    },
    "id": "aRuNPYNAWlwW",
    "outputId": "070d9f25-7337-48ca-ff01-88874d272024"
   },
   "outputs": [],
   "source": [
    "set_difference = set(list(df_train['word'].unique())).difference(set(list(V1)))\n",
    "OOV1 = list(set_difference)\n",
    "print(len(OOV1))"
   ]
  },
  {
   "cell_type": "code",
   "execution_count": null,
   "metadata": {
    "colab": {
     "base_uri": "https://localhost:8080/"
    },
    "id": "tKDiBMIWWlwX",
    "outputId": "1f84da47-3583-4950-b4ff-766cbc510a4d"
   },
   "outputs": [],
   "source": [
    "embed_dict_train = {}\n",
    "common_train_glove = set(df_train['word'].unique()).intersection(V1.keys())\n",
    "for word in tqdm(common_train_glove):\n",
    "    embed_dict_train[word] = V1[word]"
   ]
  },
  {
   "cell_type": "code",
   "execution_count": null,
   "metadata": {
    "colab": {
     "base_uri": "https://localhost:8080/"
    },
    "id": "gXxR6aQxWlwX",
    "outputId": "6d84f7bf-b9c2-4db2-ce8b-db33ec76dbeb"
   },
   "outputs": [],
   "source": [
    "#OOV1= OOV_terms(df_train['word'],V1[word])\n",
    "print(len(np.random.uniform(random.choice(list(embed_dict_train.values())),size=num_features)))\n",
    "embed_random = dict(zip(OOV1,np.random.uniform(random.choice(list(embed_dict_train.values())),size=(len(OOV1),num_features))))"
   ]
  },
  {
   "cell_type": "code",
   "execution_count": null,
   "metadata": {
    "colab": {
     "base_uri": "https://localhost:8080/"
    },
    "id": "O7tVgjy2WlwX",
    "outputId": "ebe746fc-bf8a-4b44-aa51-ac51a0fe6df7"
   },
   "outputs": [],
   "source": [
    "#print(embed_random[\"Eric\"])\n",
    "#print(np.random.uniform(random.choice(list(embed_dict_train.values())),size=(num_features,2)))\n",
    "train_embedding={**embed_dict_train,**embed_random}\n",
    "print(train_embedding[\"Eric\"])"
   ]
  },
  {
   "cell_type": "code",
   "execution_count": null,
   "metadata": {
    "colab": {
     "base_uri": "https://localhost:8080/"
    },
    "id": "3z6UKYOMWlwY",
    "outputId": "63f7aa45-bb95-434a-dc19-b618d0a6e043"
   },
   "outputs": [],
   "source": [
    "def OOV_terms(embedding_model, word_listing):\n",
    "    embedding_vocabulary = set(embedding_model.keys())\n",
    "    oov = set(word_listing).difference(embedding_vocabulary)\n",
    "    return list(oov)\n",
    "OOV_train = OOV_terms(V1, np.sort(df_train['word'].unique()))\n",
    "print(\"Total OOV terms: {0} ({1:.2f}%)\".format(len(OOV_train), float(len(OOV_train))*100 / len(df_train['word'].unique())))"
   ]
  },
  {
   "cell_type": "code",
   "execution_count": null,
   "metadata": {
    "id": "uKzIIWr0WlwY"
   },
   "outputs": [],
   "source": [
    "find_similar_word(embed_dict_train['girl'])[0:10]"
   ]
  },
  {
   "cell_type": "code",
   "execution_count": null,
   "metadata": {
    "colab": {
     "base_uri": "https://localhost:8080/",
     "height": 556
    },
    "id": "zAebyJy5WlwY",
    "outputId": "ad06c055-eeb5-445f-c7b8-cd2ced0d8d00",
    "scrolled": true
   },
   "outputs": [],
   "source": [
    "distri = TSNE(n_components=2)\n",
    "words = list(embed_dict_train.keys())\n",
    "vectors = [embed_dict_train[word] for word in words]\n",
    "y = distri.fit_transform(vectors[500:700])\n",
    "plt.figure(figsize=(14,8))\n",
    "plt.scatter(y[:, 0],y[:,1])\n",
    "for label,x,y in zip(words,y[:, 0],y[:,1]):\n",
    "    plt.annotate(label,xy=(x,y),xytext=(0,0),textcoords='offset points')\n",
    "plt.show()"
   ]
  },
  {
   "cell_type": "code",
   "execution_count": null,
   "metadata": {
    "id": "MNJuKrbBmCwk"
   },
   "outputs": [],
   "source": [
    "tokenizer=Tokenizer()\n",
    "tokenizer.fit_on_texts(df_phrases_train['phrase'].values)\n",
    "tokenizer2=Tokenizer()\n",
    "tokenizer2.fit_on_texts(df_phrases_train['phrase_class_id'].values)\n",
    "\n",
    "\n",
    "# this takes our sentences and replaces each word with an integer\n",
    "X_train = tokenizer.texts_to_sequences(df_phrases_train['phrase'].values)\n",
    "y_train = tokenizer2.texts_to_sequences(df_phrases_train['phrase_class_id'].values)\n",
    "#####\n",
    "X_val = tokenizer.texts_to_sequences(df_phrases_val['phrase'].values)\n",
    "y_val = tokenizer2.texts_to_sequences(df_phrases_val['phrase_class_id'].values)\n",
    "####\n",
    "X_test = tokenizer.texts_to_sequences(df_phrases_test['phrase'].values)\n",
    "y_test = tokenizer2.texts_to_sequences(df_phrases_test['phrase_class_id'].values)"
   ]
  },
  {
   "cell_type": "code",
   "execution_count": null,
   "metadata": {
    "id": "V-XFYAc5WlwZ"
   },
   "outputs": [],
   "source": [
    "#PADDING pad_sequences for train...\n",
    "X_train = pad_sequences(X_train,75)#TODO: Return gently maxvalue\n",
    "y_train = pad_sequences(y_train,75)\n",
    "#... for validation...\n",
    "X_val = pad_sequences(X_val,75)\n",
    "y_val = pad_sequences(y_val, 75)\n",
    "#...for test!\n",
    "X_test = pad_sequences(y_test, 75)\n",
    "y_test = pad_sequences(y_test, 75)"
   ]
  },
  {
   "cell_type": "code",
   "execution_count": null,
   "metadata": {
    "colab": {
     "base_uri": "https://localhost:8080/"
    },
    "id": "hxa96JmLWlwZ",
    "outputId": "441c7b3d-7a91-43c2-ab0b-d5a68c6c2eef"
   },
   "outputs": [],
   "source": [
    "#print(train_embedding.values())\n",
    "mat = train_embedding.keys()\n",
    "print(len(mat))\n",
    "print(list(mat)[10])"
   ]
  },
  {
   "cell_type": "code",
   "execution_count": null,
   "metadata": {
    "colab": {
     "base_uri": "https://localhost:8080/"
    },
    "id": "gVvvn2jlKMxX",
    "outputId": "5b9e5495-5740-43a0-d928-fa8d31c5a145"
   },
   "outputs": [],
   "source": [
    "\n",
    "print(X_test.shape)\n",
    "print(y_test.shape)"
   ]
  },
  {
   "cell_type": "code",
   "execution_count": null,
   "metadata": {
    "id": "cJ-oBkZayK4e"
   },
   "outputs": [],
   "source": [
    "from keras.utils.np_utils import to_categorical\n",
    "#X_train = to_categorical(X_train)\n",
    "y_train = to_categorical(y_train)\n",
    "y_val = to_categorical(y_val)\n",
    "y_test = to_categorical(y_test)\n"
   ]
  },
  {
   "cell_type": "code",
   "execution_count": null,
   "metadata": {
    "id": "avEScyS-ypw5"
   },
   "outputs": [],
   "source": [
    "print(len(train_embedding.keys()))"
   ]
  },
  {
   "cell_type": "code",
   "execution_count": null,
   "metadata": {
    "colab": {
     "base_uri": "https://localhost:8080/"
    },
    "id": "_bhuH0F0WlwZ",
    "outputId": "255d3c8d-4a10-47ab-ea0b-7c9bb2b163b9"
   },
   "outputs": [],
   "source": [
    "num_words = len(train_embedding.keys())\n",
    "embedding_dim = num_features\n",
    "embedding_matrix = list(train_embedding.values())\n",
    "model = Sequential()\n",
    "sequence_length = 75\n",
    "model.add(Embedding(num_words,\n",
    "                    embedding_dim,\n",
    "                    embeddings_initializer=Constant(embedding_matrix),\n",
    "                    input_length=sequence_length,\n",
    "                    trainable=False))\n",
    "model.add(SpatialDropout1D(0.2))\n",
    "model.add(Bidirectional(CuDNNLSTM(64, return_sequences=True)))\n",
    "model.add(Bidirectional(CuDNNLSTM(32)))\n",
    "model.add(Dropout(0.25))\n",
    "model.add(Dense(units=40, activation='softmax', use_bias=False))\n",
    "model.compile(loss = 'categorical_crossentropy', optimizer='adam',metrics = ['accuracy'])\n",
    "batch_size = 128\n",
    "print(model.summary())"
   ]
  },
  {
   "cell_type": "code",
   "execution_count": null,
   "metadata": {
    "colab": {
     "base_uri": "https://localhost:8080/"
    },
    "id": "qOYxNsNjGc98",
    "outputId": "bbdd1ebc-368a-49f6-d17a-c89ce1ff5714"
   },
   "outputs": [],
   "source": [
    "print(y_train.shape)\n",
    "print(X_train.shape)\n",
    "y_train = y_train[:, 0, :]\n",
    "print(y_train.shape)\n",
    "print(X_train.shape)\n",
    "y_val = y_val[:, 0, :]\n",
    "print(y_train.shape)\n",
    "print(y_val.shape)\n",
    "y_test = y_test[:, 0, :]\n"
   ]
  },
  {
   "cell_type": "code",
   "execution_count": null,
   "metadata": {
    "colab": {
     "base_uri": "https://localhost:8080/"
    },
    "id": "knoIIjVrMIBC",
    "outputId": "39cf5f27-27da-4fb0-ba89-f205c7d21adb"
   },
   "outputs": [],
   "source": [
    "print(y_test.shape)"
   ]
  },
  {
   "cell_type": "code",
   "execution_count": null,
   "metadata": {
    "colab": {
     "base_uri": "https://localhost:8080/"
    },
    "id": "pLn5zJMeWlwZ",
    "outputId": "b089cadc-7b4b-41c9-c00c-a6f8c4214713"
   },
   "outputs": [],
   "source": [
    "history = model.fit(X_train, y_train, epochs=10, batch_size=batch_size, verbose=1)"
   ]
  },
  {
   "cell_type": "code",
   "execution_count": null,
   "metadata": {
    "colab": {
     "base_uri": "https://localhost:8080/"
    },
    "id": "PnCBuUQ7LNgG",
    "outputId": "ac49de18-c641-4f50-f057-d418b82bea1d"
   },
   "outputs": [],
   "source": [
    "preds = np.rint(model.predict([X_train], batch_size=batch_size, verbose=1)).astype('int')"
   ]
  },
  {
   "cell_type": "code",
   "execution_count": null,
   "metadata": {
    "colab": {
     "base_uri": "https://localhost:8080/"
    },
    "id": "_xJ9z4o5NhuE",
    "outputId": "b9126dd7-8714-49ba-c026-24af7b6c48df"
   },
   "outputs": [],
   "source": [
    "print(preds[70])"
   ]
  },
  {
   "cell_type": "code",
   "execution_count": null,
   "metadata": {
    "id": "4HGKpVi7MhwD"
   },
   "outputs": [],
   "source": [
    "e0 = preds[0]\n",
    "for e in preds:\n",
    "  if not(e.all() == e0.all( )):\n",
    "    print('diff')\n",
    "  e0 = e"
   ]
  }
 ],
 "metadata": {
  "accelerator": "GPU",
  "colab": {
   "collapsed_sections": [],
   "name": "assignment_1_rewatch.ipynb",
   "provenance": []
  },
  "kernelspec": {
   "display_name": "Python 3",
   "language": "python",
   "name": "python3"
  },
  "language_info": {
   "codemirror_mode": {
    "name": "ipython",
    "version": 3
   },
   "file_extension": ".py",
   "mimetype": "text/x-python",
   "name": "python",
   "nbconvert_exporter": "python",
   "pygments_lexer": "ipython3",
   "version": "3.8.3rc1"
  }
 },
 "nbformat": 4,
 "nbformat_minor": 1
}
