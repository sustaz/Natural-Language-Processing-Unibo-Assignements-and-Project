{
 "cells": [
  {
   "cell_type": "markdown",
   "metadata": {
    "id": "-WeCeITXoxLf"
   },
   "source": [
    "# Assignment 1\n",
    "\n",
    "**Due to**: 23/12/2021 (dd/mm/yyyy)\n",
    "\n",
    "**Credits**: Andrea Galassi, Federico Ruggeri, Paolo Torroni\n",
    "\n",
    "**Summary**: Part-of Speech (POS) tagging as Sequence Labelling using Recurrent Neural Architectures"
   ]
  },
  {
   "cell_type": "markdown",
   "metadata": {
    "id": "a4_wqPdlBcKS"
   },
   "source": [
    "# Intro\n",
    "\n",
    "In this assignment  we will ask you to perform POS tagging using neural architectures\n",
    "\n",
    "You are asked to follow these steps:\n",
    "*   Download the corpora and split it in training and test sets, structuring a dataframe.\n",
    "*   Embed the words using GloVe embeddings\n",
    "*   Create a baseline model, using a simple neural architecture\n",
    "*   Experiment doing small modifications to the baseline model, choose hyperparameters using the validation set\n",
    "*   Evaluate your two best model\n",
    "*   Analyze the errors of your model\n",
    "\n",
    "\n",
    "**Task**: given a corpus of documents, predict the POS tag for each word\n",
    "\n",
    "**Corpus**:\n",
    "Ignore the numeric value in the third column, use only the words/symbols and its label. \n",
    "The corpus is available at:\n",
    "https://raw.githubusercontent.com/nltk/nltk_data/gh-pages/packages/corpora/dependency_treebank.zip\n",
    "\n",
    "**Splits**: documents 1-100 are the train set, 101-150 validation set, 151-199 test set.\n",
    "\n",
    "\n",
    "**Features**: you MUST use GloVe embeddings as the only input features to the model.\n",
    "\n",
    "**Splitting**: you can decide to split documents into sentences or not, the choice is yours.\n",
    "\n",
    "**I/O structure**: The input data will have three dimensions: 1-documents/sentences, 2-token, 3-features; for the output there are 2 possibilities: if you use one-hot encoding it will be 1-documents/sentences, 2-token labels, 3-classes, if you use a single integer that indicates the number of the class it will be 1-documents/sentences, 2-token labels.\n",
    "\n",
    "**Baseline**: two layers architecture: a Bidirectional LSTM layer and a Dense/Fully-Connected layer on top; the choice of hyper-parameters is yours.\n",
    "\n",
    "**Architectures**: experiment using a GRU instead of the LSTM, adding an additional LSTM layer, and adding an additional dense layer; do not mix these variantions.\n",
    "\n",
    "\n",
    "**Training and Experiments**: all the experiments must involve only the training and validation sets.\n",
    "\n",
    "**Evaluation**: in the end, only the two best models of your choice (according to the validation set) must be evaluated on the test set. The main metric must be F1-Macro computed between the various part of speech. DO NOT CONSIDER THE PUNCTUATION CLASSES.\n",
    "\n",
    "**Metrics**: the metric you must use to evaluate your final model is the F1-macro, WITHOUT considering punctuation/symbols classes; during the training process you can use accuracy because you can't use the F1 metric unless you use a single (gigantic) batch because there is no way to aggregate \"partial\" F1 scores computed on mini-batches.\n",
    "\n",
    "**Discussion and Error Analysis** : verify and discuss if the results on the test sets are coherent with those on the validation set; analyze the errors done by your model, try to understand which may be the causes and think about how to improve it.\n",
    "\n",
    "**Report**: you are asked to deliver the code of your experiments and a small pdf report of about 2 pages; the pdf must begin with the names of the people of your team and a small abstract (4-5 lines) that sums up your findings.\n",
    "\n",
    "# Out Of Vocabulary (OOV) terms\n",
    "\n",
    "How to handle words that are not in GloVe vocabulary?\n",
    "You can handle them as you want (random embedding, placeholder, whatever!), but they must be STATIC embeddings (you cannot train them).\n",
    "\n",
    "But there is a very important caveat! As usual, the element of the test set must not influence the elements of the other splits!\n",
    "\n",
    "So, when you compute new embeddings for train+validation, you must forget about test documents.\n",
    "The motivation is to emulate a real-world scenario, where you select and train a model in the first stage, without knowing nothing about the testing environment.\n",
    "\n",
    "For implementation convenience, you CAN use a single vocabulary file/matrix/whatever. The principle of the previous point is that the embeddings inside that file/matrix must be generated independently for train and test splits.\n",
    "\n",
    "Basically in a real-world scenario, this is what would happen:\n",
    "1. Starting vocabulary V1 (in this assignment, GloVe vocabulary)\n",
    "2. Compute embeddings for terms out of vocabulary V1 (OOV1) of the training split \n",
    "3. Add embeddings to the vocabulary, so to obtain vocabulary V2=V1+OOV1\n",
    "4. Training of the model(s)\n",
    "5. Compute embeddings for terms OOV2 of the validation split \n",
    "6. Add embeddings to the vocabulary, so to obtain vocabulary V3=V1+OOV1+OOV2\n",
    "7. Validation of the model(s)\n",
    "8. Compute embeddings for terms OOV3 of the test split \n",
    "9. Add embeddings to the vocabulary, so to obtain vocabulary V4=V1+OOV1+OOV2+OOV3\n",
    "10. Testing of the final model\n",
    "\n",
    "In this case, where we already have all the documents, we can simplify the process a bit, but the procedure must remain rigorous.\n",
    "\n",
    "1. Starting vocabulary V1 (in this assignment, GloVe vocabulary)\n",
    "2. Compute embeddings for terms out of vocabulary V1 (OOV1) of the training split \n",
    "3. Add embeddings to the vocabulary, so to obtain vocabulary V2=V1+OOV1\n",
    "4. Compute embeddings for terms OOV2 of the validation split \n",
    "5. Add embeddings to the vocabulary, so to obtain vocabulary V3=V1+OOV1+OOV2\n",
    "6. Compute embeddings for terms OOV3 of the test split \n",
    "7. Add embeddings to the vocabulary, so to obtain vocabulary V4=V1+OOV1+OOV2\n",
    "8. Training of the model(s)\n",
    "9. Validation of the model(s)\n",
    "10. Testing of the final model\n",
    "\n",
    "Step 2 and step 6 must be completely independent of each other, for what concerns the method and the documents. But they can rely on the previous vocabulary (V1 for step 2 and V3 for step 6)\n",
    "THEREFORE if a word is present both in the training set and the test split and not in the starting vocabulary, its embedding is computed in step 2) and it is not considered OOV anymore in step 6).\n",
    "\n",
    "# Report\n",
    "The report must not be just a copy and paste of graphs and tables!\n",
    "\n",
    "The report must not be longer than 2 pages and must contain:\n",
    "* The names of the member of your team\n",
    "* A short abstract (4-5 lines) that sum ups everything\n",
    "* A general description of the task you have addressed and how you have addressed it\n",
    "* A short description of the models you have used\n",
    "* Some tables that sum up your findings in validation and test and a discussion of those results\n",
    "* The most relevant findings of your error analysis\n",
    "\n",
    "# Evaluation Criterion\n",
    "\n",
    "The goal of this assignment is not to prove you can find best model ever, but to face a common task, structure it correctly, and follow a correct and rigorous experimental procedure.\n",
    "In other words, we don't care if you final models are awful as long as you have followed the correct procedure and wrote a decent report.\n",
    "\n",
    "The score of the assignment will be computed roughly as follows\n",
    "* 1 point for the general setting of the problem\n",
    "* 1 point for the handling of OOV terms\n",
    "* 1 point for the models\n",
    "* 1 point for train-validation-test procedure\n",
    "* 2 point for the discussion of the results, error analysis, and report\n",
    "\n",
    "This distribution of scores is tentative and we may decide to alter it at any moment.\n",
    "We also reserve the right to assign a small bonus (0.5 points) to any assignment that is particularly worthy. Similarly, in case of grave errors, we may decide to assign an equivalent malus (-0.5 points).\n",
    "\n",
    "# Contacts\n",
    "\n",
    "In case of any doubt, question, issue, or help we highly recommend you to check the [course useful material](https://virtuale.unibo.it/pluginfile.php/1036039/mod_resource/content/2/NLP_Course_Useful_Material.pdf) for additional information, and to use the Virtuale forums to discuss with other students.\n",
    "\n",
    "You can always contact us at the following email addresses. To increase the probability of a prompt response, we reccomend you to write to both the teaching assistants.\n",
    "\n",
    "Teaching Assistants:\n",
    "\n",
    "* Andrea Galassi -> a.galassi@unibo.it\n",
    "* Federico Ruggeri -> federico.ruggeri6@unibo.it\n",
    "\n",
    "Professor:\n",
    "\n",
    "* Paolo Torroni -> p.torroni@unibo.it\n",
    "\n",
    "\n",
    "# FAQ\n",
    "* You can use a non-trainable Embedding layer to load the glove embeddings\n",
    "* You can use any library of your choice to implement the networks. Two options are tensorflow/keras or pythorch. Both these libraries have all the classes you need to implement these simple architectures and there are plenty of tutorials around, where you can learn how to use them."
   ]
  },
  {
   "cell_type": "markdown",
   "metadata": {
    "id": "CPbooqaZWlwE"
   },
   "source": [
    "# Preliminary Steps"
   ]
  },
  {
   "cell_type": "code",
   "execution_count": 3,
   "metadata": {
    "colab": {
     "base_uri": "https://localhost:8080/"
    },
    "id": "izcCGCP1WlwH",
    "outputId": "3395d2e5-0bb8-429b-b3d2-76b5446182de"
   },
   "outputs": [
    {
     "name": "stdout",
     "output_type": "stream",
     "text": [
      "unzip:  cannot find or open dependency_treebank.zip, dependency_treebank.zip.zip or dependency_treebank.zip.ZIP.\n"
     ]
    }
   ],
   "source": [
    "#importing libraries\n",
    "#!unzip dependency_treebank.zip\n",
    "import pandas as pd\n",
    "import numpy as np\n",
    "import matplotlib.pyplot as plt\n",
    "import zipfile\n",
    "import os\n",
    "import urllib.request\n",
    "from tensorflow import keras\n",
    "from keras.preprocessing.text import Tokenizer\n",
    "from keras.preprocessing.sequence import pad_sequences\n",
    "from keras.models import Sequential\n",
    "from keras.layers import *\n",
    "from keras.utils.np_utils import to_categorical\n",
    "from keras.initializers import Constant\n",
    "from sklearn.manifold import TSNE\n",
    "import random\n",
    "from tqdm import tqdm #for progress bar\n",
    "from scipy import spatial\n",
    "import seaborn as sns\n",
    "from keras.layers import Bidirectional\n",
    "from sklearn.metrics import classification_report\n",
    "from keras import backend as K\n",
    "import tensorflow as tf\n",
    "from sklearn.metrics import f1_score\n",
    "from sklearn import metrics"
   ]
  },
  {
   "cell_type": "markdown",
   "metadata": {
    "id": "nOswUwIZWlwI"
   },
   "source": [
    "   ### Importing Data\n",
    "   We import Data from dependecy_treebank and we save it in a DataFrame that contains two column labels \"word\" where is collected each word, and in \"class_id\" where is collected each tag. \n",
    "   Then we show the Dataset."
   ]
  },
  {
   "cell_type": "code",
   "execution_count": 4,
   "metadata": {
    "colab": {
     "base_uri": "https://localhost:8080/",
     "height": 380
    },
    "id": "bAmOkTVIWlwI",
    "outputId": "708d4ecb-a851-4c75-dd65-ad81abdd1427"
   },
   "outputs": [
    {
     "name": "stderr",
     "output_type": "stream",
     "text": [
      "100%|██████████| 199/199 [00:01<00:00, 100.43it/s]\n"
     ]
    },
    {
     "data": {
      "text/html": [
       "\n",
       "  <div id=\"df-ee26ba5c-ea89-424d-a291-e5c2fb2c9a7a\">\n",
       "    <div class=\"colab-df-container\">\n",
       "      <div>\n",
       "<style scoped>\n",
       "    .dataframe tbody tr th:only-of-type {\n",
       "        vertical-align: middle;\n",
       "    }\n",
       "\n",
       "    .dataframe tbody tr th {\n",
       "        vertical-align: top;\n",
       "    }\n",
       "\n",
       "    .dataframe thead th {\n",
       "        text-align: right;\n",
       "    }\n",
       "</style>\n",
       "<table border=\"1\" class=\"dataframe\">\n",
       "  <thead>\n",
       "    <tr style=\"text-align: right;\">\n",
       "      <th></th>\n",
       "      <th>word</th>\n",
       "      <th>class_id</th>\n",
       "    </tr>\n",
       "  </thead>\n",
       "  <tbody>\n",
       "    <tr>\n",
       "      <th>0</th>\n",
       "      <td>Pierre</td>\n",
       "      <td>NNP</td>\n",
       "    </tr>\n",
       "    <tr>\n",
       "      <th>1</th>\n",
       "      <td>Vinken</td>\n",
       "      <td>NNP</td>\n",
       "    </tr>\n",
       "    <tr>\n",
       "      <th>2</th>\n",
       "      <td>,</td>\n",
       "      <td>,</td>\n",
       "    </tr>\n",
       "    <tr>\n",
       "      <th>3</th>\n",
       "      <td>61</td>\n",
       "      <td>CD</td>\n",
       "    </tr>\n",
       "    <tr>\n",
       "      <th>4</th>\n",
       "      <td>years</td>\n",
       "      <td>NNS</td>\n",
       "    </tr>\n",
       "    <tr>\n",
       "      <th>5</th>\n",
       "      <td>old</td>\n",
       "      <td>JJ</td>\n",
       "    </tr>\n",
       "    <tr>\n",
       "      <th>6</th>\n",
       "      <td>,</td>\n",
       "      <td>,</td>\n",
       "    </tr>\n",
       "    <tr>\n",
       "      <th>7</th>\n",
       "      <td>will</td>\n",
       "      <td>MD</td>\n",
       "    </tr>\n",
       "    <tr>\n",
       "      <th>8</th>\n",
       "      <td>join</td>\n",
       "      <td>VB</td>\n",
       "    </tr>\n",
       "    <tr>\n",
       "      <th>9</th>\n",
       "      <td>the</td>\n",
       "      <td>DT</td>\n",
       "    </tr>\n",
       "  </tbody>\n",
       "</table>\n",
       "</div>\n",
       "      <button class=\"colab-df-convert\" onclick=\"convertToInteractive('df-ee26ba5c-ea89-424d-a291-e5c2fb2c9a7a')\"\n",
       "              title=\"Convert this dataframe to an interactive table.\"\n",
       "              style=\"display:none;\">\n",
       "        \n",
       "  <svg xmlns=\"http://www.w3.org/2000/svg\" height=\"24px\"viewBox=\"0 0 24 24\"\n",
       "       width=\"24px\">\n",
       "    <path d=\"M0 0h24v24H0V0z\" fill=\"none\"/>\n",
       "    <path d=\"M18.56 5.44l.94 2.06.94-2.06 2.06-.94-2.06-.94-.94-2.06-.94 2.06-2.06.94zm-11 1L8.5 8.5l.94-2.06 2.06-.94-2.06-.94L8.5 2.5l-.94 2.06-2.06.94zm10 10l.94 2.06.94-2.06 2.06-.94-2.06-.94-.94-2.06-.94 2.06-2.06.94z\"/><path d=\"M17.41 7.96l-1.37-1.37c-.4-.4-.92-.59-1.43-.59-.52 0-1.04.2-1.43.59L10.3 9.45l-7.72 7.72c-.78.78-.78 2.05 0 2.83L4 21.41c.39.39.9.59 1.41.59.51 0 1.02-.2 1.41-.59l7.78-7.78 2.81-2.81c.8-.78.8-2.07 0-2.86zM5.41 20L4 18.59l7.72-7.72 1.47 1.35L5.41 20z\"/>\n",
       "  </svg>\n",
       "      </button>\n",
       "      \n",
       "  <style>\n",
       "    .colab-df-container {\n",
       "      display:flex;\n",
       "      flex-wrap:wrap;\n",
       "      gap: 12px;\n",
       "    }\n",
       "\n",
       "    .colab-df-convert {\n",
       "      background-color: #E8F0FE;\n",
       "      border: none;\n",
       "      border-radius: 50%;\n",
       "      cursor: pointer;\n",
       "      display: none;\n",
       "      fill: #1967D2;\n",
       "      height: 32px;\n",
       "      padding: 0 0 0 0;\n",
       "      width: 32px;\n",
       "    }\n",
       "\n",
       "    .colab-df-convert:hover {\n",
       "      background-color: #E2EBFA;\n",
       "      box-shadow: 0px 1px 2px rgba(60, 64, 67, 0.3), 0px 1px 3px 1px rgba(60, 64, 67, 0.15);\n",
       "      fill: #174EA6;\n",
       "    }\n",
       "\n",
       "    [theme=dark] .colab-df-convert {\n",
       "      background-color: #3B4455;\n",
       "      fill: #D2E3FC;\n",
       "    }\n",
       "\n",
       "    [theme=dark] .colab-df-convert:hover {\n",
       "      background-color: #434B5C;\n",
       "      box-shadow: 0px 1px 3px 1px rgba(0, 0, 0, 0.15);\n",
       "      filter: drop-shadow(0px 1px 2px rgba(0, 0, 0, 0.3));\n",
       "      fill: #FFFFFF;\n",
       "    }\n",
       "  </style>\n",
       "\n",
       "      <script>\n",
       "        const buttonEl =\n",
       "          document.querySelector('#df-ee26ba5c-ea89-424d-a291-e5c2fb2c9a7a button.colab-df-convert');\n",
       "        buttonEl.style.display =\n",
       "          google.colab.kernel.accessAllowed ? 'block' : 'none';\n",
       "\n",
       "        async function convertToInteractive(key) {\n",
       "          const element = document.querySelector('#df-ee26ba5c-ea89-424d-a291-e5c2fb2c9a7a');\n",
       "          const dataTable =\n",
       "            await google.colab.kernel.invokeFunction('convertToInteractive',\n",
       "                                                     [key], {});\n",
       "          if (!dataTable) return;\n",
       "\n",
       "          const docLinkHtml = 'Like what you see? Visit the ' +\n",
       "            '<a target=\"_blank\" href=https://colab.research.google.com/notebooks/data_table.ipynb>data table notebook</a>'\n",
       "            + ' to learn more about interactive tables.';\n",
       "          element.innerHTML = '';\n",
       "          dataTable['output_type'] = 'display_data';\n",
       "          await google.colab.output.renderOutput(dataTable, element);\n",
       "          const docLink = document.createElement('div');\n",
       "          docLink.innerHTML = docLinkHtml;\n",
       "          element.appendChild(docLink);\n",
       "        }\n",
       "      </script>\n",
       "    </div>\n",
       "  </div>\n",
       "  "
      ],
      "text/plain": [
       "     word class_id\n",
       "0  Pierre      NNP\n",
       "1  Vinken      NNP\n",
       "2       ,        ,\n",
       "3      61       CD\n",
       "4   years      NNS\n",
       "5     old       JJ\n",
       "6       ,        ,\n",
       "7    will       MD\n",
       "8    join       VB\n",
       "9     the       DT"
      ]
     },
     "execution_count": 4,
     "metadata": {},
     "output_type": "execute_result"
    }
   ],
   "source": [
    "list_word = []\n",
    "list_class = []\n",
    "data = []\n",
    "train_ind: int\n",
    "val_ind: int\n",
    "for i in tqdm(range(1, 200)):\n",
    "    if i<10:\n",
    "        df = pd.read_table('/dependency_treebank/wsj_000{}.dp'.format(i), header = None)\n",
    "    elif i>=10 and i<100:\n",
    "        df = pd.read_table('/dependency_treebank/wsj_00{}.dp'.format(i), header = None)\n",
    "    else:\n",
    "        df = pd.read_table('/dependency_treebank/wsj_0{}.dp'.format(i), header = None)\n",
    "    for j in range(0,df.shape[0]):\n",
    "        list_word.append(df[0][j]) \n",
    "        list_class.append(df[1][j])\n",
    "    if i==99:\n",
    "        train_ind = len(list_word)\n",
    "    elif i==149:\n",
    "        val_ind = len(list_word)\n",
    "\n",
    "data = list(zip(list_word,list_class))\n",
    "df = pd.DataFrame(data, columns =['word', 'class_id'])\n",
    "\n",
    "df.head(10)"
   ]
  },
  {
   "cell_type": "markdown",
   "metadata": {
    "id": "T3_VfRB4Idpa"
   },
   "source": [
    "# Data Preprocessing"
   ]
  },
  {
   "cell_type": "markdown",
   "metadata": {
    "id": "GFOwWKPgIhWu"
   },
   "source": [
    "We've created the method df_cleaner that:\n",
    "\n",
    "1.   Reset the index of the dataframe (due to the division of the dataset the Validation and Test set do NOT start with the correct index)\n",
    "\n",
    "2.   Set lowercase all the words that are at the beginning of sentence and are not proper name, in     order to not have duplicate on the vocabulary (e.g. \"the\" and \"The\")."
   ]
  },
  {
   "cell_type": "code",
   "execution_count": 5,
   "metadata": {
    "id": "jiLeeGA4IHO9"
   },
   "outputs": [],
   "source": [
    "#setting lowercase\n",
    "def df_cleaner(dataframe, label1,label2):\n",
    "    dataframe = dataframe.reset_index()\n",
    "    for i in range(0,dataframe.shape[0]-1):\n",
    "        #punctuation removal\n",
    "        if dataframe[label2][i] == '.' and dataframe[label2][i+1] != 'NNP':\n",
    "            dataframe[label1][i+1] = str(dataframe[label1][i+1]).lower()\n",
    "    return dataframe "
   ]
  },
  {
   "cell_type": "markdown",
   "metadata": {
    "id": "RFMm9_I0WlwM"
   },
   "source": [
    "\n",
    "We've created the method `df_cleaner_phrases` that:\n",
    "\n",
    "1.   Reset the index of the dataframe (due to the division of the dataset the Validation and Test set do NOT start with the correct index)\n",
    "\n",
    "2.   Set lowercase all the words that are at the beginning of sentence and are not proper name, in     order to not have duplicate on the vocabulary (e.g. \"the\" and \"The\").\n",
    "\n",
    "4. We divide the Dataset in phrases and we rename the labels in \"phrase\" instead of \"word\" and       `\"phrase_class_id\"` instead of `\"class_id\"`"
   ]
  },
  {
   "cell_type": "code",
   "execution_count": 6,
   "metadata": {
    "id": "0yRkhX2kWlwN"
   },
   "outputs": [],
   "source": [
    "#setting lowercase and dividing the Dataframe by prhases\n",
    "def df_cleaner_phrases(dataframe, label1,label2):\n",
    "    dataframe = dataframe.reset_index()\n",
    "    for i in range(0,dataframe.shape[0]-1):\n",
    "        if dataframe[label2][i] == '.' and dataframe[label2][i+1] != 'NNP':\n",
    "            dataframe[label1][i+1] = str(dataframe[label1][i+1]).lower()\n",
    "  \n",
    "    #phrase division\n",
    "    phrase= []\n",
    "    phrases=[]\n",
    "    class_phrase= []\n",
    "    class_phrases=[]\n",
    "    for i in tqdm(range(0,len(dataframe))): \n",
    "        name = dataframe[label1][i]\n",
    "        phrase.append(dataframe[label1][i])\n",
    "        class_phrase.append(dataframe[label2][i]) \n",
    "\n",
    "        if name=='.' : \n",
    "            class_phrases.append(class_phrase)\n",
    "            phrases.append(phrase)\n",
    "            class_phrase = []\n",
    "            phrase = []\n",
    "    \n",
    "    # phrase dataframe created\n",
    "    data = list(zip(phrases,class_phrases))\n",
    "    df_phrases = pd.DataFrame(data, columns =['phrase', 'phrase_class_id']) \n",
    "\n",
    "    return df_phrases \n"
   ]
  },
  {
   "cell_type": "code",
   "execution_count": 71,
   "metadata": {
    "id": "_5uOehMg_gth"
   },
   "outputs": [],
   "source": [
    "def df_cleaner_punctuation(dataframe, label1,label2):\n",
    "    dataframe = dataframe[dataframe[label2] != ',']\n",
    "    dataframe = dataframe[dataframe[label2] != '``']\n",
    "    dataframe = dataframe[dataframe[label2] != \"''\"]\n",
    "    dataframe = dataframe[dataframe[label2] != ':']\n",
    "    dataframe = dataframe[dataframe[label2] != '$']\n",
    "    dataframe = dataframe[dataframe[label2] != '#']\n",
    "    dataframe = dataframe.reset_index()\n",
    "    return dataframe "
   ]
  },
  {
   "cell_type": "code",
   "execution_count": 74,
   "metadata": {
    "colab": {
     "base_uri": "https://localhost:8080/"
    },
    "id": "kg0UM1gU1fBo",
    "outputId": "fd8022cc-abf2-4115-b306-743b906bc9c9"
   },
   "outputs": [
    {
     "name": "stderr",
     "output_type": "stream",
     "text": [
      "/usr/local/lib/python3.7/dist-packages/ipykernel_launcher.py:7: SettingWithCopyWarning: \n",
      "A value is trying to be set on a copy of a slice from a DataFrame\n",
      "\n",
      "See the caveats in the documentation: https://pandas.pydata.org/pandas-docs/stable/user_guide/indexing.html#returning-a-view-versus-a-copy\n",
      "  import sys\n",
      "/usr/local/lib/python3.7/dist-packages/ipykernel_launcher.py:6: SettingWithCopyWarning: \n",
      "A value is trying to be set on a copy of a slice from a DataFrame\n",
      "\n",
      "See the caveats in the documentation: https://pandas.pydata.org/pandas-docs/stable/user_guide/indexing.html#returning-a-view-versus-a-copy\n",
      "  \n",
      "100%|██████████| 94084/94084 [00:02<00:00, 43453.46it/s]\n",
      "100%|██████████| 46451/46451 [00:01<00:00, 44116.47it/s]\n",
      "100%|██████████| 31924/31924 [00:00<00:00, 43775.67it/s]\n",
      "100%|██████████| 15709/15709 [00:00<00:00, 43624.60it/s]\n",
      "100%|██████████| 14495/14495 [00:00<00:00, 43557.79it/s]\n"
     ]
    }
   ],
   "source": [
    "#dataset composed by words and class_id divided in training, validation and test set\n",
    "df_train = df[0:train_ind] \n",
    "df_val = df[train_ind:val_ind] \n",
    "df_test = df[val_ind::] \n",
    "\n",
    "#cleaning the whole dataframe\n",
    "df_cleaned = df_cleaner(df,'word','class_id')\n",
    "\n",
    "#dataset composed by word and class_id divided in training, validation and test set\n",
    "df_train_cleaned = df_cleaner(df_train,'word','class_id')\n",
    "df_val_cleaned = df_cleaner(df_val,'word','class_id')\n",
    "df_test_cleaned = df_cleaner(df_test,'word','class_id')\n",
    "\n",
    "#cleaning the whole dataframe phrases\n",
    "df_phrases = df_cleaner_phrases(df,'word','class_id')\n",
    "\n",
    "#dataset composed by phrase and phrase_class_id divided in training, validation and test set\n",
    "df_phrases_train = df_cleaner_phrases(df_train,'word','class_id')\n",
    "df_phrases_val = df_cleaner_phrases(df_val,'word','class_id')\n",
    "df_phrases_test = df_cleaner_phrases(df_test,'word','class_id')\n",
    "\n",
    "#dataset without punctuation and symbols  (utilized to print predictions)\n",
    "df_phrases_cleaned_test = df_cleaner_phrases(df_cleaner_punctuation(df_test,'word','class_id'),'word','class_id')"
   ]
  },
  {
   "cell_type": "code",
   "execution_count": 8,
   "metadata": {
    "colab": {
     "base_uri": "https://localhost:8080/",
     "height": 518
    },
    "id": "JxaQDHWHja6Z",
    "outputId": "b3599b23-161c-4a4a-f11c-d84b48837c6a"
   },
   "outputs": [
    {
     "data": {
      "text/plain": [
       "<matplotlib.axes._subplots.AxesSubplot at 0x7fee1aa2c310>"
      ]
     },
     "execution_count": 8,
     "metadata": {},
     "output_type": "execute_result"
    },
    {
     "data": {
      "image/png": "[encoded data removed]",
      "text/plain": [
       "<Figure size 720x576 with 1 Axes>"
      ]
     },
     "metadata": {
      "needs_background": "light"
     },
     "output_type": "display_data"
    }
   ],
   "source": [
    "#Plotting the quantity of the classes\n",
    "fig_size = plt.rcParams[\"figure.figsize\"]\n",
    "fig_size[0] = 10\n",
    "fig_size[1] = 8\n",
    "plt.rcParams[\"figure.figsize\"] = fig_size\n",
    "\n",
    "df_cleaned[\"class_id\"].value_counts().plot.bar()"
   ]
  },
  {
   "cell_type": "code",
   "execution_count": 9,
   "metadata": {
    "colab": {
     "base_uri": "https://localhost:8080/",
     "height": 362
    },
    "id": "NozorclY-FWe",
    "outputId": "8c80d5a1-2889-4b27-8d0c-c2bf9283ab15"
   },
   "outputs": [
    {
     "data": {
      "text/html": [
       "\n",
       "  <div id=\"df-812c5bc8-482e-4d37-8f81-e3749b90ad77\">\n",
       "    <div class=\"colab-df-container\">\n",
       "      <div>\n",
       "<style scoped>\n",
       "    .dataframe tbody tr th:only-of-type {\n",
       "        vertical-align: middle;\n",
       "    }\n",
       "\n",
       "    .dataframe tbody tr th {\n",
       "        vertical-align: top;\n",
       "    }\n",
       "\n",
       "    .dataframe thead th {\n",
       "        text-align: right;\n",
       "    }\n",
       "</style>\n",
       "<table border=\"1\" class=\"dataframe\">\n",
       "  <thead>\n",
       "    <tr style=\"text-align: right;\">\n",
       "      <th></th>\n",
       "      <th>phrase</th>\n",
       "      <th>phrase_class_id</th>\n",
       "    </tr>\n",
       "  </thead>\n",
       "  <tbody>\n",
       "    <tr>\n",
       "      <th>0</th>\n",
       "      <td>[Pierre, Vinken, ,, 61, years, old, ,, will, j...</td>\n",
       "      <td>[NNP, NNP, ,, CD, NNS, JJ, ,, MD, VB, DT, NN, ...</td>\n",
       "    </tr>\n",
       "    <tr>\n",
       "      <th>1</th>\n",
       "      <td>[Mr., Vinken, is, chairman, of, Elsevier, N.V....</td>\n",
       "      <td>[NNP, NNP, VBZ, NN, IN, NNP, NNP, ,, DT, NNP, ...</td>\n",
       "    </tr>\n",
       "    <tr>\n",
       "      <th>2</th>\n",
       "      <td>[Rudolph, Agnew, ,, 55, years, old, and, forme...</td>\n",
       "      <td>[NNP, NNP, ,, CD, NNS, JJ, CC, JJ, NN, IN, NNP...</td>\n",
       "    </tr>\n",
       "    <tr>\n",
       "      <th>3</th>\n",
       "      <td>[a, form, of, asbestos, once, used, to, make, ...</td>\n",
       "      <td>[DT, NN, IN, NN, RB, VBN, TO, VB, NNP, NN, NNS...</td>\n",
       "    </tr>\n",
       "    <tr>\n",
       "      <th>4</th>\n",
       "      <td>[the, asbestos, fiber, ,, crocidolite, ,, is, ...</td>\n",
       "      <td>[DT, NN, NN, ,, NN, ,, VBZ, RB, JJ, IN, PRP, V...</td>\n",
       "    </tr>\n",
       "    <tr>\n",
       "      <th>5</th>\n",
       "      <td>[Lorillard, Inc., ,, the, unit, of, New, York-...</td>\n",
       "      <td>[NNP, NNP, ,, DT, NN, IN, JJ, JJ, NNP, NNP, WD...</td>\n",
       "    </tr>\n",
       "    <tr>\n",
       "      <th>6</th>\n",
       "      <td>[although, preliminary, findings, were, report...</td>\n",
       "      <td>[IN, JJ, NNS, VBD, VBN, RBR, IN, DT, NN, IN, ,...</td>\n",
       "    </tr>\n",
       "    <tr>\n",
       "      <th>7</th>\n",
       "      <td>[a, Lorillard, spokewoman, said, ,, ``, This, ...</td>\n",
       "      <td>[DT, NNP, NN, VBD, ,, ``, DT, VBZ, DT, JJ, NN, .]</td>\n",
       "    </tr>\n",
       "    <tr>\n",
       "      <th>8</th>\n",
       "      <td>[we, 're, talking, about, years, ago, before, ...</td>\n",
       "      <td>[PRP, VBP, VBG, IN, NNS, IN, IN, NN, VBD, IN, ...</td>\n",
       "    </tr>\n",
       "    <tr>\n",
       "      <th>9</th>\n",
       "      <td>[there, is, no, asbestos, in, our, products, n...</td>\n",
       "      <td>[EX, VBZ, DT, NN, IN, PRP$, NNS, RB, .]</td>\n",
       "    </tr>\n",
       "  </tbody>\n",
       "</table>\n",
       "</div>\n",
       "      <button class=\"colab-df-convert\" onclick=\"convertToInteractive('df-812c5bc8-482e-4d37-8f81-e3749b90ad77')\"\n",
       "              title=\"Convert this dataframe to an interactive table.\"\n",
       "              style=\"display:none;\">\n",
       "        \n",
       "  <svg xmlns=\"http://www.w3.org/2000/svg\" height=\"24px\"viewBox=\"0 0 24 24\"\n",
       "       width=\"24px\">\n",
       "    <path d=\"M0 0h24v24H0V0z\" fill=\"none\"/>\n",
       "    <path d=\"M18.56 5.44l.94 2.06.94-2.06 2.06-.94-2.06-.94-.94-2.06-.94 2.06-2.06.94zm-11 1L8.5 8.5l.94-2.06 2.06-.94-2.06-.94L8.5 2.5l-.94 2.06-2.06.94zm10 10l.94 2.06.94-2.06 2.06-.94-2.06-.94-.94-2.06-.94 2.06-2.06.94z\"/><path d=\"M17.41 7.96l-1.37-1.37c-.4-.4-.92-.59-1.43-.59-.52 0-1.04.2-1.43.59L10.3 9.45l-7.72 7.72c-.78.78-.78 2.05 0 2.83L4 21.41c.39.39.9.59 1.41.59.51 0 1.02-.2 1.41-.59l7.78-7.78 2.81-2.81c.8-.78.8-2.07 0-2.86zM5.41 20L4 18.59l7.72-7.72 1.47 1.35L5.41 20z\"/>\n",
       "  </svg>\n",
       "      </button>\n",
       "      \n",
       "  <style>\n",
       "    .colab-df-container {\n",
       "      display:flex;\n",
       "      flex-wrap:wrap;\n",
       "      gap: 12px;\n",
       "    }\n",
       "\n",
       "    .colab-df-convert {\n",
       "      background-color: #E8F0FE;\n",
       "      border: none;\n",
       "      border-radius: 50%;\n",
       "      cursor: pointer;\n",
       "      display: none;\n",
       "      fill: #1967D2;\n",
       "      height: 32px;\n",
       "      padding: 0 0 0 0;\n",
       "      width: 32px;\n",
       "    }\n",
       "\n",
       "    .colab-df-convert:hover {\n",
       "      background-color: #E2EBFA;\n",
       "      box-shadow: 0px 1px 2px rgba(60, 64, 67, 0.3), 0px 1px 3px 1px rgba(60, 64, 67, 0.15);\n",
       "      fill: #174EA6;\n",
       "    }\n",
       "\n",
       "    [theme=dark] .colab-df-convert {\n",
       "      background-color: #3B4455;\n",
       "      fill: #D2E3FC;\n",
       "    }\n",
       "\n",
       "    [theme=dark] .colab-df-convert:hover {\n",
       "      background-color: #434B5C;\n",
       "      box-shadow: 0px 1px 3px 1px rgba(0, 0, 0, 0.15);\n",
       "      filter: drop-shadow(0px 1px 2px rgba(0, 0, 0, 0.3));\n",
       "      fill: #FFFFFF;\n",
       "    }\n",
       "  </style>\n",
       "\n",
       "      <script>\n",
       "        const buttonEl =\n",
       "          document.querySelector('#df-812c5bc8-482e-4d37-8f81-e3749b90ad77 button.colab-df-convert');\n",
       "        buttonEl.style.display =\n",
       "          google.colab.kernel.accessAllowed ? 'block' : 'none';\n",
       "\n",
       "        async function convertToInteractive(key) {\n",
       "          const element = document.querySelector('#df-812c5bc8-482e-4d37-8f81-e3749b90ad77');\n",
       "          const dataTable =\n",
       "            await google.colab.kernel.invokeFunction('convertToInteractive',\n",
       "                                                     [key], {});\n",
       "          if (!dataTable) return;\n",
       "\n",
       "          const docLinkHtml = 'Like what you see? Visit the ' +\n",
       "            '<a target=\"_blank\" href=https://colab.research.google.com/notebooks/data_table.ipynb>data table notebook</a>'\n",
       "            + ' to learn more about interactive tables.';\n",
       "          element.innerHTML = '';\n",
       "          dataTable['output_type'] = 'display_data';\n",
       "          await google.colab.output.renderOutput(dataTable, element);\n",
       "          const docLink = document.createElement('div');\n",
       "          docLink.innerHTML = docLinkHtml;\n",
       "          element.appendChild(docLink);\n",
       "        }\n",
       "      </script>\n",
       "    </div>\n",
       "  </div>\n",
       "  "
      ],
      "text/plain": [
       "                                              phrase                                    phrase_class_id\n",
       "0  [Pierre, Vinken, ,, 61, years, old, ,, will, j...  [NNP, NNP, ,, CD, NNS, JJ, ,, MD, VB, DT, NN, ...\n",
       "1  [Mr., Vinken, is, chairman, of, Elsevier, N.V....  [NNP, NNP, VBZ, NN, IN, NNP, NNP, ,, DT, NNP, ...\n",
       "2  [Rudolph, Agnew, ,, 55, years, old, and, forme...  [NNP, NNP, ,, CD, NNS, JJ, CC, JJ, NN, IN, NNP...\n",
       "3  [a, form, of, asbestos, once, used, to, make, ...  [DT, NN, IN, NN, RB, VBN, TO, VB, NNP, NN, NNS...\n",
       "4  [the, asbestos, fiber, ,, crocidolite, ,, is, ...  [DT, NN, NN, ,, NN, ,, VBZ, RB, JJ, IN, PRP, V...\n",
       "5  [Lorillard, Inc., ,, the, unit, of, New, York-...  [NNP, NNP, ,, DT, NN, IN, JJ, JJ, NNP, NNP, WD...\n",
       "6  [although, preliminary, findings, were, report...  [IN, JJ, NNS, VBD, VBN, RBR, IN, DT, NN, IN, ,...\n",
       "7  [a, Lorillard, spokewoman, said, ,, ``, This, ...  [DT, NNP, NN, VBD, ,, ``, DT, VBZ, DT, JJ, NN, .]\n",
       "8  [we, 're, talking, about, years, ago, before, ...  [PRP, VBP, VBG, IN, NNS, IN, IN, NN, VBD, IN, ...\n",
       "9  [there, is, no, asbestos, in, our, products, n...            [EX, VBZ, DT, NN, IN, PRP$, NNS, RB, .]"
      ]
     },
     "execution_count": 9,
     "metadata": {},
     "output_type": "execute_result"
    }
   ],
   "source": [
    "#showing the training set divided in phrases \n",
    "df_phrases.head(10)"
   ]
  },
  {
   "cell_type": "markdown",
   "metadata": {
    "id": "wCLwcd0SWlwP"
   },
   "source": [
    "# Dataframe Tokenization"
   ]
  },
  {
   "cell_type": "markdown",
   "metadata": {
    "id": "f2x3mzXeLDF0"
   },
   "source": [
    "We created the method tokenization that tokenize taking in input that dataframe and returns phrases (`X_encoded`), classes_id (`y_encoded`), `tokenizer_phrase` and `tokenizer_class_id`"
   ]
  },
  {
   "cell_type": "code",
   "execution_count": 10,
   "metadata": {
    "id": "Dfxm9VgJ8tNq"
   },
   "outputs": [],
   "source": [
    "#tokenization \n",
    "def tokenization(df_phrases_divided):\n",
    "  tokenizer_phrase = Tokenizer()\n",
    "  tokenizer_class_id=Tokenizer()\n",
    "\n",
    "  tokenizer_phrase.fit_on_texts(df_phrases[\"phrase\"])\n",
    "  tokenizer_class_id.fit_on_texts(df_phrases[\"phrase_class_id\"])\n",
    "\n",
    "  X_encoded = tokenizer_phrase.texts_to_sequences(df_phrases_divided[\"phrase\"])\n",
    "\n",
    "  y_encoded = tokenizer_class_id.texts_to_sequences(df_phrases_divided[\"phrase_class_id\"])\n",
    "\n",
    "  print(\"** Raw data point **\", \"\\n\", \"-\"*100, \"\\n\") \n",
    "  print('X: ', df_phrases_divided[\"phrase\"][0], '\\n') \n",
    "  print('Y: ', df_phrases_divided[\"phrase_class_id\"][0], '\\n') \n",
    "  print() \n",
    "  print(\"** Encoded data point **\", \"\\n\", \"-\"*100, \"\\n\") \n",
    "  print('X: ', X_encoded[0], '\\n') \n",
    "  print('Y: ', y_encoded[0], '\\n')\n",
    "  print(len(X_encoded))\n",
    "  print(len(y_encoded))\n",
    "  print(df_phrases.shape)\n",
    "\n",
    "  return X_encoded, y_encoded, tokenizer_phrase, tokenizer_class_id"
   ]
  },
  {
   "cell_type": "code",
   "execution_count": 11,
   "metadata": {
    "colab": {
     "base_uri": "https://localhost:8080/"
    },
    "id": "_qgPIKS6-JYL",
    "outputId": "696cb5e3-cd55-4c12-d2d1-65fb91327f36"
   },
   "outputs": [
    {
     "name": "stdout",
     "output_type": "stream",
     "text": [
      "** Raw data point ** \n",
      " ---------------------------------------------------------------------------------------------------- \n",
      "\n",
      "X:  ['Pierre', 'Vinken', ',', '61', 'years', 'old', ',', 'will', 'join', 'the', 'board', 'as', 'a', 'nonexecutive', 'director', 'Nov.', '29', '.'] \n",
      "\n",
      "Y:  ['NNP', 'NNP', ',', 'CD', 'NNS', 'JJ', ',', 'MD', 'VB', 'DT', 'NN', 'IN', 'DT', 'JJ', 'NN', 'NNP', 'CD', '.'] \n",
      "\n",
      "\n",
      "** Encoded data point ** \n",
      " ---------------------------------------------------------------------------------------------------- \n",
      "\n",
      "X:  [5419, 3714, 1, 2005, 78, 316, 1, 39, 2383, 2, 122, 22, 6, 2006, 317, 444, 2007, 3] \n",
      "\n",
      "Y:  [3, 3, 7, 9, 5, 6, 7, 20, 12, 4, 1, 2, 4, 6, 1, 3, 9, 8] \n",
      "\n",
      "1896\n",
      "1896\n",
      "(3828, 2)\n"
     ]
    }
   ],
   "source": [
    "#tokenization of the training set\n",
    "X_encoded_train,y_encoded_train,tokenizer_phrase_train,tokenizer_class_id_train = tokenization(df_phrases_train)"
   ]
  },
  {
   "cell_type": "code",
   "execution_count": 12,
   "metadata": {
    "colab": {
     "base_uri": "https://localhost:8080/"
    },
    "id": "oUHy8bci-foY",
    "outputId": "e6ad934c-d043-4cac-a50a-3c7dda07eb86"
   },
   "outputs": [
    {
     "name": "stdout",
     "output_type": "stream",
     "text": [
      "** Raw data point ** \n",
      " ---------------------------------------------------------------------------------------------------- \n",
      "\n",
      "X:  ['For', 'six', 'years', ',', 'T.', 'Marshall', 'Hahn', 'Jr.', 'has', 'made', 'corporate', 'acquisitions', 'in', 'the', 'George', 'Bush', 'mode', ':', 'kind', 'and', 'gentle', '.'] \n",
      "\n",
      "Y:  ['IN', 'CD', 'NNS', ',', 'NNP', 'NNP', 'NNP', 'NNP', 'VBZ', 'VBN', 'JJ', 'NNS', 'IN', 'DT', 'NNP', 'NNP', 'NN', ':', 'JJ', 'CC', 'JJ', '.'] \n",
      "\n",
      "\n",
      "** Encoded data point ** \n",
      " ---------------------------------------------------------------------------------------------------- \n",
      "\n",
      "X:  [10, 332, 78, 1, 1037, 1880, 556, 977, 31, 169, 328, 1214, 7, 2, 2118, 226, 8268, 67, 799, 8, 8269, 3] \n",
      "\n",
      "Y:  [2, 9, 5, 7, 3, 3, 3, 3, 16, 15, 6, 5, 2, 4, 3, 3, 1, 26, 6, 13, 6, 8] \n",
      "\n",
      "1287\n",
      "1287\n",
      "(3828, 2)\n"
     ]
    }
   ],
   "source": [
    "#tokenization of the validation set\n",
    "X_encoded_val,y_encoded_val,tokenizer_phrase_val,tokenizer_class_id_val = tokenization(df_phrases_val)"
   ]
  },
  {
   "cell_type": "code",
   "execution_count": 13,
   "metadata": {
    "colab": {
     "base_uri": "https://localhost:8080/"
    },
    "id": "3iuapcbj__uD",
    "outputId": "fdb87e4d-0432-410d-debe-bf63ce7a39c4"
   },
   "outputs": [
    {
     "name": "stdout",
     "output_type": "stream",
     "text": [
      "** Raw data point ** \n",
      " ---------------------------------------------------------------------------------------------------- \n",
      "\n",
      "X:  ['A.L.', 'Williams', 'Corp.', 'was', 'merged', 'into', 'Primerica', 'Corp.', ',', 'New', 'York', ',', 'after', 'a', 'special', 'meeting', 'of', 'Williams', 'shareholders', 'cleared', 'the', 'transaction', ',', 'the', 'companies', 'said', '.'] \n",
      "\n",
      "Y:  ['NNP', 'NNP', 'NNP', 'VBD', 'VBN', 'IN', 'NNP', 'NNP', ',', 'NNP', 'NNP', ',', 'IN', 'DT', 'JJ', 'NN', 'IN', 'NNP', 'NNS', 'VBD', 'DT', 'NN', ',', 'DT', 'NNS', 'VBD', '.'] \n",
      "\n",
      "\n",
      "** Encoded data point ** \n",
      " ---------------------------------------------------------------------------------------------------- \n",
      "\n",
      "X:  [5305, 1216, 76, 28, 4330, 103, 2869, 76, 1, 33, 85, 1, 100, 6, 761, 703, 4, 1216, 563, 10080, 2, 564, 1, 2, 146, 16, 3] \n",
      "\n",
      "Y:  [3, 3, 3, 10, 15, 2, 3, 3, 7, 3, 3, 7, 2, 4, 6, 1, 2, 3, 5, 10, 4, 1, 7, 4, 5, 10, 8] \n",
      "\n",
      "645\n",
      "645\n",
      "(3828, 2)\n"
     ]
    }
   ],
   "source": [
    "#tokenization of the test set\n",
    "X_encoded_test,y_encoded_test,tokenizer_phrase_test, tokenizer_class_id_test = tokenization(df_phrases_test)"
   ]
  },
  {
   "cell_type": "code",
   "execution_count": 14,
   "metadata": {
    "colab": {
     "base_uri": "https://localhost:8080/"
    },
    "id": "BdExf2sdbzWV",
    "outputId": "0191a36e-9be5-49d3-ac55-9968bd3989b3"
   },
   "outputs": [
    {
     "name": "stdout",
     "output_type": "stream",
     "text": [
      "** Raw data point ** \n",
      " ---------------------------------------------------------------------------------------------------- \n",
      "\n",
      "X:  ['Pierre', 'Vinken', ',', '61', 'years', 'old', ',', 'will', 'join', 'the', 'board', 'as', 'a', 'nonexecutive', 'director', 'Nov.', '29', '.'] \n",
      "\n",
      "Y:  ['NNP', 'NNP', ',', 'CD', 'NNS', 'JJ', ',', 'MD', 'VB', 'DT', 'NN', 'IN', 'DT', 'JJ', 'NN', 'NNP', 'CD', '.'] \n",
      "\n",
      "\n",
      "** Encoded data point ** \n",
      " ---------------------------------------------------------------------------------------------------- \n",
      "\n",
      "X:  [5419, 3714, 1, 2005, 78, 316, 1, 39, 2383, 2, 122, 22, 6, 2006, 317, 444, 2007, 3] \n",
      "\n",
      "Y:  [3, 3, 7, 9, 5, 6, 7, 20, 12, 4, 1, 2, 4, 6, 1, 3, 9, 8] \n",
      "\n",
      "3828\n",
      "3828\n",
      "(3828, 2)\n"
     ]
    }
   ],
   "source": [
    "#tokenization of ALL DATA\n",
    "X_encoded,y_encoded,tokenizer_phrase,tokenizer_class_id = tokenization(df_phrases)\n",
    "X_decoded = tokenizer_phrase.sequences_to_texts(X_encoded)"
   ]
  },
  {
   "cell_type": "code",
   "execution_count": 15,
   "metadata": {
    "colab": {
     "base_uri": "https://localhost:8080/"
    },
    "id": "8kuJgQ-n8tae",
    "outputId": "fcacfcbb-5897-4e60-9b52-be2048b79bcf"
   },
   "outputs": [
    {
     "name": "stdout",
     "output_type": "stream",
     "text": [
      "0 sentences have disparate input-output lengths.\n"
     ]
    }
   ],
   "source": [
    "#We check that each sequence of input and output is same length \n",
    " \n",
    "different_length = [1 if len(input) != len(output) else 0 for input, output in zip(X_encoded_train, y_encoded_train)] \n",
    "print(\"{} sentences have disparate input-output lengths.\".format(sum(different_length)))"
   ]
  },
  {
   "cell_type": "markdown",
   "metadata": {
    "id": "iNG4ylhf2vgp"
   },
   "source": [
    "## Padding the dataframe"
   ]
  },
  {
   "cell_type": "markdown",
   "metadata": {
    "id": "vh9mEJ1iLlae"
   },
   "source": [
    "We created the method `longest_sentence` to check the longest sentence in the dataframe"
   ]
  },
  {
   "cell_type": "code",
   "execution_count": 16,
   "metadata": {
    "id": "fb7aY7bE8tgA"
   },
   "outputs": [],
   "source": [
    "#PADDING\n",
    "# check length of longest sentence\n",
    "def longest_sentence(X_encoded):\n",
    "  lengths = [len(seq) for seq in X_encoded] \n",
    "  print(\"Length of longest sentence: {}\".format(max(lengths))) \n",
    "  sns.boxplot(lengths) \n",
    "  plt.show()\n",
    "  return max(lengths)"
   ]
  },
  {
   "cell_type": "markdown",
   "metadata": {
    "id": "BiiCuoTdyvWW"
   },
   "source": [
    "We can see in the plot that there are many outliers as the longest sentence that contains 250 words and others sentences that contains from 50 to 120 words."
   ]
  },
  {
   "cell_type": "code",
   "execution_count": 17,
   "metadata": {
    "colab": {
     "base_uri": "https://localhost:8080/",
     "height": 572
    },
    "id": "qx5X2uLUyiDZ",
    "outputId": "00bd98e0-9ffe-47be-9041-14fab5631f87"
   },
   "outputs": [
    {
     "name": "stdout",
     "output_type": "stream",
     "text": [
      "Length of longest sentence: 250\n"
     ]
    },
    {
     "name": "stderr",
     "output_type": "stream",
     "text": [
      "/usr/local/lib/python3.7/dist-packages/seaborn/_decorators.py:43: FutureWarning: Pass the following variable as a keyword arg: x. From version 0.12, the only valid positional argument will be `data`, and passing other arguments without an explicit keyword will result in an error or misinterpretation.\n",
      "  FutureWarning\n"
     ]
    },
    {
     "data": {
      "image/png": "[encoded data removed]",
      "text/plain": [
       "<Figure size 720x576 with 1 Axes>"
      ]
     },
     "metadata": {
      "needs_background": "light"
     },
     "output_type": "display_data"
    },
    {
     "data": {
      "text/plain": [
       "250"
      ]
     },
     "execution_count": 17,
     "metadata": {},
     "output_type": "execute_result"
    }
   ],
   "source": [
    "longest_sentence(X_encoded)"
   ]
  },
  {
   "cell_type": "code",
   "execution_count": 18,
   "metadata": {
    "id": "eGOlKZdmA-LM"
   },
   "outputs": [],
   "source": [
    "#Found the longest sentence in the training set\n",
    "MAX_SEQUENCE = 50"
   ]
  },
  {
   "cell_type": "markdown",
   "metadata": {
    "id": "FBGt92guL8-K"
   },
   "source": [
    "We created the method `padding` to create the padding of the dataframe with the correct length"
   ]
  },
  {
   "cell_type": "code",
   "execution_count": 19,
   "metadata": {
    "id": "jdZf78Q58tiU"
   },
   "outputs": [],
   "source": [
    "#PADDING pad_sequences\n",
    "def padding(X_encoded, y_encoded, MAX_SEQ_LENGTH):\n",
    "  X_padded = pad_sequences(X_encoded,MAX_SEQ_LENGTH)\n",
    "  y_padded = pad_sequences(y_encoded,MAX_SEQ_LENGTH)\n",
    "  return X_padded, y_padded\n"
   ]
  },
  {
   "cell_type": "code",
   "execution_count": 20,
   "metadata": {
    "id": "hGIjM5MsCZd8"
   },
   "outputs": [],
   "source": [
    "#padding creation for the training set\n",
    "X_padded_train, y_padded_train = padding(X_encoded_train, y_encoded_train, MAX_SEQUENCE)"
   ]
  },
  {
   "cell_type": "code",
   "execution_count": 21,
   "metadata": {
    "id": "bGWFWvG5CZje"
   },
   "outputs": [],
   "source": [
    "#padding creation for the validation set\n",
    "X_padded_val, y_padded_val = padding(X_encoded_val, y_encoded_val,  MAX_SEQUENCE)"
   ]
  },
  {
   "cell_type": "code",
   "execution_count": 22,
   "metadata": {
    "id": "dHqpDEQfCZpC"
   },
   "outputs": [],
   "source": [
    "#padding creation for the training set\n",
    "X_padded_test,y_padded_testt = padding(X_encoded_test,y_encoded_test,  MAX_SEQUENCE)"
   ]
  },
  {
   "cell_type": "code",
   "execution_count": 23,
   "metadata": {
    "id": "RQp2H92nduKG"
   },
   "outputs": [],
   "source": [
    "#padding creation for all data set\n",
    "X_padded,y_padded = padding(X_encoded,y_encoded, MAX_SEQUENCE)"
   ]
  },
  {
   "cell_type": "code",
   "execution_count": 24,
   "metadata": {
    "colab": {
     "base_uri": "https://localhost:8080/"
    },
    "id": "D9ypGgp-8tlF",
    "outputId": "40f385b3-2f58-450d-9ac0-b9f13984807f"
   },
   "outputs": [
    {
     "name": "stdout",
     "output_type": "stream",
     "text": [
      "[   0    0    0    0    0    0    0    0    0    0    0    0    0    0\n",
      "    0    0    0    0    0    0    0    0    0    0    0    0    0    0\n",
      "    0    0    0    0 5419 3714    1 2005   78  316    1   39 2383    2\n",
      "  122   22    6 2006  317  444 2007    3] \n",
      "\n",
      "\n",
      "\n",
      "[ 0  0  0  0  0  0  0  0  0  0  0  0  0  0  0  0  0  0  0  0  0  0  0  0\n",
      "  0  0  0  0  0  0  0  0  3  3  7  9  5  6  7 20 12  4  1  2  4  6  1  3\n",
      "  9  8]\n"
     ]
    }
   ],
   "source": [
    "#we show a word's padding of the training set\n",
    "print(X_padded_train[0], \"\\n\"*3) \n",
    "print(y_padded_train[0])"
   ]
  },
  {
   "cell_type": "markdown",
   "metadata": {
    "id": "A_20D04Drxd_"
   },
   "source": [
    "Adding the padding to tokenizers"
   ]
  },
  {
   "cell_type": "code",
   "execution_count": 25,
   "metadata": {
    "id": "wAl-t1T8ricu"
   },
   "outputs": [],
   "source": [
    "tokenizer_class_id.word_index['0']= 0\n",
    "tokenizer_class_id.index_word[0]='0'\n",
    "tokenizer_class_id_test.word_index['0']= 0\n",
    "tokenizer_class_id_val.word_index['0']= 0\n",
    "tokenizer_class_id_train.word_index['0']= 0\n",
    "\n",
    "tokenizer_phrase.word_index['0']= 0\n",
    "tokenizer_phrase_test.word_index['0']= 0\n",
    "tokenizer_phrase_val.word_index['0']=0\n",
    "tokenizer_phrase_train.word_index['0']= 0\n"
   ]
  },
  {
   "cell_type": "markdown",
   "metadata": {
    "id": "V94bLQMIWlwT"
   },
   "source": [
    " # Creating Embeddings\n",
    " \n",
    " ##  GloVe \n",
    " \n",
    " We start by downloading GloVe pre-trained embeddings"
   ]
  },
  {
   "cell_type": "code",
   "execution_count": 26,
   "metadata": {
    "colab": {
     "base_uri": "https://localhost:8080/"
    },
    "id": "i-saHqarWlwT",
    "outputId": "841eb8ef-f427-4442-f5c9-0cafd90eee3e"
   },
   "outputs": [
    {
     "name": "stdout",
     "output_type": "stream",
     "text": [
      "Successful download\n",
      "Successful extraction\n"
     ]
    }
   ],
   "source": [
    "url = \"https://nlp.stanford.edu/data/glove.6B.zip\"\n",
    "\n",
    "glove_path = os.path.join(os.getcwd(),\"Glove\")\n",
    "glove_zip = os.path.join(os.getcwd(),\"Glove\", \"glove.6B.zip\")\n",
    "\n",
    "if not os.path.exists(glove_path):\n",
    "    os.makedirs(glove_path)\n",
    "\n",
    "if not os.path.exists(glove_zip):\n",
    "    urllib.request.urlretrieve(url, glove_zip)\n",
    "    print(\"Successful download\")\n",
    "\n",
    "with zipfile.ZipFile(glove_zip, 'r') as zip_ref:\n",
    "    zip_ref.extractall(path=glove_path)\n",
    "    print(\"Successful extraction\")"
   ]
  },
  {
   "cell_type": "markdown",
   "metadata": {
    "id": "gI-PK4aqMeau"
   },
   "source": [
    "## Embeddings creation"
   ]
  },
  {
   "cell_type": "code",
   "execution_count": 27,
   "metadata": {
    "id": "ZhitdkjVCeg3"
   },
   "outputs": [],
   "source": [
    "#size of the vocabularies \n",
    "EMBEDDING_SIZE  = 50  # dimensions of the features of GloVe \n",
    "VOCABULARY_SIZE_TRAIN = len(tokenizer_phrase_train.word_index) + 1 \n",
    "VOCABULARY_SIZE_VAL = len(tokenizer_phrase_val.word_index) + 1 \n",
    "VOCABULARY_SIZE_TEST = len(tokenizer_phrase_test.word_index) + 1 \n",
    "\n",
    "VOCABULARY_SIZE = len(tokenizer_phrase.word_index) + 1 \n",
    "\n",
    "# create an empty embedding matix \n",
    "embedding_weights_train = np.zeros((VOCABULARY_SIZE_TRAIN, EMBEDDING_SIZE)) \n",
    "embedding_weights_val = np.zeros((VOCABULARY_SIZE_VAL, EMBEDDING_SIZE)) \n",
    "embedding_weights_test = np.zeros((VOCABULARY_SIZE_TEST, EMBEDDING_SIZE)) \n",
    "\n",
    "embedding_weights = np.zeros((VOCABULARY_SIZE, EMBEDDING_SIZE)) \n",
    "\n",
    "\n",
    "# create a word to index dictionary mapping \n",
    "word2id_train = tokenizer_phrase_train.word_index\n",
    "word2id_val= tokenizer_phrase_val.word_index\n",
    "word2id_test = tokenizer_phrase_test.word_index\n",
    "\n",
    "word2id = tokenizer_phrase.word_index"
   ]
  },
  {
   "cell_type": "markdown",
   "metadata": {
    "id": "ED_gMlZhWlwU"
   },
   "source": [
    "Now we create the vocabulary of GloVe `V1`"
   ]
  },
  {
   "cell_type": "code",
   "execution_count": 28,
   "metadata": {
    "colab": {
     "base_uri": "https://localhost:8080/"
    },
    "id": "EWxL7u8qWlwU",
    "outputId": "00d561ad-0bc3-4f1b-997e-c155fc5463b1"
   },
   "outputs": [
    {
     "name": "stdout",
     "output_type": "stream",
     "text": [
      "Found 400000 word vectors.\n"
     ]
    }
   ],
   "source": [
    "V1 = {}\n",
    "glove_path = '/content/Glove'\n",
    "with open(glove_path + '/glove.6B.{}d.txt'.format(EMBEDDING_SIZE),'r', encoding=\"utf8\") as f:\n",
    "    for line in f:\n",
    "        values = line.split()\n",
    "        word = values[0]\n",
    "        vector = np.asarray(values[1:],'float32')\n",
    "        V1[word]=vector\n",
    "        \n",
    "print(\"Found %s word vectors.\" % len(V1))"
   ]
  },
  {
   "cell_type": "markdown",
   "metadata": {
    "id": "girPSsJX3STe"
   },
   "source": [
    "We created the method `OOV_terms` that creates the out of vocabulary"
   ]
  },
  {
   "cell_type": "code",
   "execution_count": 29,
   "metadata": {
    "id": "u7o3EGMz2-bc"
   },
   "outputs": [],
   "source": [
    "def OOV_terms(embedding_model, word_listing):\n",
    "    embedding_vocabulary = set(embedding_model)\n",
    "    oov = set(word_listing).difference(embedding_vocabulary)\n",
    "    return list(oov)"
   ]
  },
  {
   "cell_type": "code",
   "execution_count": 30,
   "metadata": {
    "id": "blCgE9LY3J2i"
   },
   "outputs": [],
   "source": [
    "#Generation of all vocabularies and out of vocabularies\n",
    "OOV1 = OOV_terms(V1.keys(), np.sort(df_train_cleaned['word'].unique()))\n",
    "\n",
    "V2= list(V1)+OOV1\n",
    "\n",
    "OOV2 = OOV_terms(V2, np.sort(df_val_cleaned['word'].unique()))\n",
    "V3= list(V2)+OOV2\n",
    "\n",
    "OOV3 = OOV_terms(V3, np.sort(df_test_cleaned['word'].unique()))\n",
    "V4= list(V3)+OOV3"
   ]
  },
  {
   "cell_type": "code",
   "execution_count": 31,
   "metadata": {
    "colab": {
     "base_uri": "https://localhost:8080/"
    },
    "id": "ObnmbngM3Lv7",
    "outputId": "e8de3567-0cc8-4279-fa3b-04f99118bd85"
   },
   "outputs": [
    {
     "name": "stdout",
     "output_type": "stream",
     "text": [
      "Total OOV1 terms: 2136 (27.03%)\n",
      "Total OOV2 terms: 864 (14.38%)\n",
      "Total OOV3 terms: 426 (11.70%)\n",
      "402136\n"
     ]
    }
   ],
   "source": [
    "print(\"Total OOV1 terms: {0} ({1:.2f}%)\".format(len(OOV1), float(len(OOV1))*100 / len(df_train['word'].unique())))\n",
    "print(\"Total OOV2 terms: {0} ({1:.2f}%)\".format(len(OOV2), float(len(OOV2))*100 / len(df_val['word'].unique())))\n",
    "print(\"Total OOV3 terms: {0} ({1:.2f}%)\".format(len(OOV3), float(len(OOV3))*100 / len(df_test['word'].unique())))\n",
    "\n",
    "print(len(V2))"
   ]
  },
  {
   "cell_type": "markdown",
   "metadata": {
    "id": "MkFLW6CK4FAM"
   },
   "source": [
    "Computing embeddings with the method `compute_embedding`"
   ]
  },
  {
   "cell_type": "code",
   "execution_count": 32,
   "metadata": {
    "id": "hzawTRfFHDqN"
   },
   "outputs": [],
   "source": [
    "#We created this method to generate all the embeddings that we need\n",
    "#It checks if a word exists in the vocabulary, in that case tries to adds the corresponding features of V1(if they exist), else adds random features of V1\n",
    "#Then it returns the embedding\n",
    "def compute_embedding(word2id, vocabulary,embedding_weights):\n",
    "  for word, index in tqdm(word2id.items()):\n",
    "    if word in vocabulary:\n",
    "      try: \n",
    "        embedding_weights[index, :] = V1[word] \n",
    "      except KeyError:\n",
    "          embedding_weights[index, :] = np.random.uniform(random.choice(list(V1.values())))\n",
    "          pass\n",
    "  return embedding_weights"
   ]
  },
  {
   "cell_type": "code",
   "execution_count": 33,
   "metadata": {
    "colab": {
     "base_uri": "https://localhost:8080/"
    },
    "id": "3M-rifgZHHAx",
    "outputId": "6b4bfc02-d77b-4e55-b16a-d89574bfdfb1"
   },
   "outputs": [
    {
     "name": "stderr",
     "output_type": "stream",
     "text": [
      "100%|██████████| 10948/10948 [00:12<00:00, 861.24it/s]\n",
      "100%|██████████| 10948/10948 [00:14<00:00, 779.89it/s]\n",
      "100%|██████████| 10948/10948 [00:14<00:00, 731.01it/s]\n"
     ]
    }
   ],
   "source": [
    "embedding_V2 = compute_embedding(word2id_train,V2,embedding_weights_train)\n",
    "embedding_V3 = compute_embedding(word2id_val, V3, embedding_weights_val) \n",
    "embedding_V4 = compute_embedding(word2id_test, V4, embedding_weights_test)"
   ]
  },
  {
   "cell_type": "code",
   "execution_count": 34,
   "metadata": {
    "id": "D-Rqv9ugSz4d"
   },
   "outputs": [],
   "source": [
    "y_padded = to_categorical(y_padded)"
   ]
  },
  {
   "cell_type": "code",
   "execution_count": 35,
   "metadata": {
    "id": "m2TjcLhUZq_w"
   },
   "outputs": [],
   "source": [
    "#we divide y_padded in train validation and test\n",
    "y_padded_train = y_padded[0:1896]\n",
    "y_padded_val = y_padded[1896:3183]\n",
    "y_padded_test = y_padded[3183:]"
   ]
  },
  {
   "cell_type": "markdown",
   "metadata": {
    "id": "-E0nXtZfJRi2"
   },
   "source": [
    "# Plotting methods\n",
    "\n",
    "We created three methods to plot the accuracy, real accuracy and loss of the model"
   ]
  },
  {
   "cell_type": "code",
   "execution_count": 36,
   "metadata": {
    "id": "L56LRtW2T5Iq"
   },
   "outputs": [],
   "source": [
    "# visualizing the accuracy and real accuracy of the training set\n",
    "def plot_accuracy(model_fitted,name):\n",
    "  plt.plot(model_fitted.history['accuracy'])\n",
    "  plt.plot(model_fitted.history['real_accuracy'])\n",
    "  plt.title(name)\n",
    "  plt.ylabel('Accuracy')\n",
    "  plt.xlabel('Epochs')\n",
    "  plt.legend(['Training Accuracy','Real Training Accuracy'], loc=\"lower right\")\n",
    "  plt.show()"
   ]
  },
  {
   "cell_type": "code",
   "execution_count": 37,
   "metadata": {
    "id": "hD-CLa8wLNfI"
   },
   "outputs": [],
   "source": [
    "# visualizing the real accuracy\n",
    "def plot_accuracy_real(model_fitted,name):\n",
    "  plt.plot(model_fitted.history['real_accuracy'])\n",
    "  plt.plot(model_fitted.history['val_real_accuracy'])\n",
    "  plt.title(name)\n",
    "  plt.ylabel('Accuracy')\n",
    "  plt.xlabel('Epochs')\n",
    "  plt.legend(['Real Training Accuracy','Real Validation Accuracy'], loc=\"lower right\")\n",
    "  plt.show()"
   ]
  },
  {
   "cell_type": "code",
   "execution_count": 38,
   "metadata": {
    "id": "u6j6UoWbxUBX"
   },
   "outputs": [],
   "source": [
    "#Visualizing the loss of training and validation set\n",
    "def plot_loss(model_fitted,name):\n",
    "  plt.plot(model_fitted.history['loss'])\n",
    "  plt.plot(model_fitted.history['val_loss'])\n",
    "  plt.title(name)\n",
    "  plt.ylabel('Loss')\n",
    "  plt.xlabel('Epochs')\n",
    "  plt.legend(['Training Loss','Validation Loss'], loc=\"upper right\")\n",
    "  plt.show()"
   ]
  },
  {
   "cell_type": "markdown",
   "metadata": {
    "id": "5oDH-_C7ZsT-"
   },
   "source": [
    "# Method for custom Accuracy\n",
    "\n",
    "With this method we ignore the padding and the punctuation from the accuracy.\n",
    "\n",
    "1.  We create a mask comparing all the True Labels with a list containing the classes that we don't want to evaluate.   are 0 the others are 1. We update the mask for each value that we want to ignore doing an Exlusive NOR in order to preserve all the previous 0.\n",
    "2.  Then we create matches tensor that first of all checks all the equal occurences between predicted values and true values are equal. Sequently we multiply it with the mask, so we have the all correct matches.\n",
    "3.  We compute the accuracy, just checking how many correct matches and how many values we had to predict.\n",
    "\n",
    "Example:\n",
    "\n",
    "True Values = [0,0,0,0,1,2,3,4,8] \n",
    "\n",
    "Predicted Values = [0,0,0,0,1,2,2,4,9] \n",
    "\n",
    "Values to be ignored = [0,8] \n",
    "\n",
    "1. The mask will be equal to [0,0,0,0,1,1,1,1,0] because we want to ignore 0 and 8 \n",
    "2. Matches will be equal to [1,1,1,1,1,1,0,1,0] then we compute the matches with the mask and we obtain [0,0,0,0,1,1,0,1,0]\n",
    "3. We compute the accuracy dividing the sum of the matches that is 3 over the sum of mask that is 4. The accuracy is 75%\n",
    "\n"
   ]
  },
  {
   "cell_type": "code",
   "execution_count": 39,
   "metadata": {
    "id": "JYPf74va-3gX"
   },
   "outputs": [],
   "source": [
    "def ignore_class_accuracy():\n",
    "    def real_accuracy(y_true, y_pred):\n",
    "        y_true_class = tf.argmax(y_true, axis=-1)\n",
    "        y_pred_class = tf.argmax(y_pred, axis=-1)\n",
    "        to_ignore = [0,7,8,23,24,25,26,40] #'0': 0,',': 7, '.': 8,'$': 23, '``': 24, \"''\": 25, ':': 26,'#': 40\n",
    "        ignore_mask = np.ones((y_true_class.shape)) \n",
    "        for i in range(0,len(to_ignore)):\n",
    "          ignore_mask = np.logical_not(np.logical_xor(ignore_mask, K.cast(K.not_equal(y_true_class, to_ignore[i]), 'int32')))\n",
    "        ignore_mask = tf.convert_to_tensor(ignore_mask,dtype='int32')\n",
    "        matches = K.cast(K.equal(y_true_class, y_pred_class), 'int32') * ignore_mask\n",
    "        accuracy = K.sum(matches) / K.maximum(K.sum(ignore_mask), 1)\n",
    "        return accuracy\n",
    "    return real_accuracy"
   ]
  },
  {
   "cell_type": "markdown",
   "metadata": {
    "id": "L4gCPas509oC"
   },
   "source": [
    "# Method for F1 Score\n",
    "\n",
    "For each epoch we compute the f1 score only for the classes that are not puctuation, symbols or padding, for training and validation set.\n"
   ]
  },
  {
   "cell_type": "code",
   "execution_count": 40,
   "metadata": {
    "id": "ucU9fBwcTbby"
   },
   "outputs": [],
   "source": [
    "def f1_score_():\n",
    "  def f1_score_real(y_true,y_pred):\n",
    "    y_true = tf.argmax(y_true, axis=-1)\n",
    "    y_pred = tf.argmax(y_pred, axis=-1)\n",
    "    y_true_ = y_true.numpy()\n",
    "    y_pred_ = y_pred.numpy()\n",
    "    #calculate F1 score\n",
    "    f1 = metrics.f1_score(y_true_.flatten(), y_pred_.flatten(), labels=[1,2,3,4,5,6,9,10,11,12,13,14,15,16,17,18,19,20,21,22,27,28,29,30,31,32,33,34,35,36,37,38,39,41,42,43,44,45], average='micro')\n",
    "    return f1\n",
    "  return f1_score_real"
   ]
  },
  {
   "cell_type": "markdown",
   "metadata": {
    "id": "j44PomP0ZdL0"
   },
   "source": [
    "# LSTM Neural Network"
   ]
  },
  {
   "cell_type": "code",
   "execution_count": 41,
   "metadata": {
    "colab": {
     "base_uri": "https://localhost:8080/"
    },
    "id": "ZI9fWnwdgjzd",
    "outputId": "5384fa0f-f2e3-4348-b3b9-98dc996b6249"
   },
   "outputs": [
    {
     "name": "stdout",
     "output_type": "stream",
     "text": [
      "Model: \"sequential\"\n",
      "_________________________________________________________________\n",
      " Layer (type)                Output Shape              Param #   \n",
      "=================================================================\n",
      " embedding (Embedding)       (None, 50, 50)            547450    \n",
      "                                                                 \n",
      " bidirectional (Bidirectiona  (None, 50, 256)          183296    \n",
      " l)                                                              \n",
      "                                                                 \n",
      " time_distributed (TimeDistr  (None, 50, 46)           11822     \n",
      " ibuted)                                                         \n",
      "                                                                 \n",
      "=================================================================\n",
      "Total params: 742,568\n",
      "Trainable params: 195,118\n",
      "Non-trainable params: 547,450\n",
      "_________________________________________________________________\n"
     ]
    }
   ],
   "source": [
    "#Creation LSTM model with custom accuracy\n",
    "NUM_CLASSES = y_padded.shape[2]\n",
    "lstm_model_acc = Sequential()\n",
    "lstm_model_acc.add(Embedding(input_dim    = VOCABULARY_SIZE,         # vocabulary size - number of unique words in data\n",
    "                        output_dim        = EMBEDDING_SIZE,          # length of vector with which each word is represented\n",
    "                        input_length      = MAX_SEQUENCE,            # length of input sequence\n",
    "                        weights           = [embedding_V4],          # word embedding matrix\n",
    "                        trainable         = False                    # False - not update embeddings_weight matrix\n",
    "))\n",
    "lstm_model_acc.add(Bidirectional(LSTM(128, return_sequences=True),input_shape=(46, 1)))\n",
    "lstm_model_acc.add(TimeDistributed(Dense(NUM_CLASSES, activation='softmax')))\n",
    "lstm_model_acc.compile(loss     =  'categorical_crossentropy',\n",
    "                  optimizer     =  'adam',\n",
    "                  metrics       =  ['accuracy',ignore_class_accuracy(),f1_score_()],\n",
    "                  run_eagerly   =   True)\n",
    "lstm_model_acc.summary()"
   ]
  },
  {
   "cell_type": "code",
   "execution_count": 42,
   "metadata": {
    "colab": {
     "base_uri": "https://localhost:8080/"
    },
    "id": "7UmetrSfhZ8H",
    "outputId": "9fa3021e-a231-4318-b817-b2d82fb11ad0"
   },
   "outputs": [
    {
     "name": "stdout",
     "output_type": "stream",
     "text": [
      "Epoch 1/40\n",
      "240/240 [==============================] - 70s 256ms/step - loss: 0.9904 - accuracy: 0.7421 - real_accuracy: 0.4491 - f1_score_real: 0.4497 - val_loss: 0.5511 - val_accuracy: 0.8548 - val_real_accuracy: 0.6703 - val_f1_score_real: 0.6710\n",
      "Epoch 2/40\n",
      "240/240 [==============================] - 51s 213ms/step - loss: 0.4321 - accuracy: 0.8816 - real_accuracy: 0.7253 - f1_score_real: 0.7257 - val_loss: 0.3684 - val_accuracy: 0.8961 - val_real_accuracy: 0.7632 - val_f1_score_real: 0.7631\n",
      "Epoch 3/40\n",
      "240/240 [==============================] - 61s 255ms/step - loss: 0.3268 - accuracy: 0.9073 - real_accuracy: 0.7841 - f1_score_real: 0.7842 - val_loss: 0.3000 - val_accuracy: 0.9133 - val_real_accuracy: 0.8018 - val_f1_score_real: 0.8017\n",
      "Epoch 4/40\n",
      "240/240 [==============================] - 61s 255ms/step - loss: 0.2762 - accuracy: 0.9205 - real_accuracy: 0.8147 - f1_score_real: 0.8147 - val_loss: 0.2674 - val_accuracy: 0.9203 - val_real_accuracy: 0.8183 - val_f1_score_real: 0.8181\n",
      "Epoch 5/40\n",
      "240/240 [==============================] - 61s 255ms/step - loss: 0.2431 - accuracy: 0.9294 - real_accuracy: 0.8354 - f1_score_real: 0.8353 - val_loss: 0.2308 - val_accuracy: 0.9322 - val_real_accuracy: 0.8450 - val_f1_score_real: 0.8448\n",
      "Epoch 6/40\n",
      "240/240 [==============================] - 51s 214ms/step - loss: 0.2167 - accuracy: 0.9372 - real_accuracy: 0.8538 - f1_score_real: 0.8537 - val_loss: 0.2032 - val_accuracy: 0.9411 - val_real_accuracy: 0.8651 - val_f1_score_real: 0.8649\n",
      "Epoch 7/40\n",
      "240/240 [==============================] - 51s 214ms/step - loss: 0.1948 - accuracy: 0.9433 - real_accuracy: 0.8677 - f1_score_real: 0.8677 - val_loss: 0.1833 - val_accuracy: 0.9468 - val_real_accuracy: 0.8782 - val_f1_score_real: 0.8783\n",
      "Epoch 8/40\n",
      "240/240 [==============================] - 61s 255ms/step - loss: 0.1765 - accuracy: 0.9487 - real_accuracy: 0.8803 - f1_score_real: 0.8803 - val_loss: 0.1627 - val_accuracy: 0.9540 - val_real_accuracy: 0.8945 - val_f1_score_real: 0.8945\n",
      "Epoch 9/40\n",
      "240/240 [==============================] - 51s 213ms/step - loss: 0.1610 - accuracy: 0.9536 - real_accuracy: 0.8917 - f1_score_real: 0.8917 - val_loss: 0.1489 - val_accuracy: 0.9577 - val_real_accuracy: 0.9030 - val_f1_score_real: 0.9031\n",
      "Epoch 10/40\n",
      "240/240 [==============================] - 61s 254ms/step - loss: 0.1479 - accuracy: 0.9578 - real_accuracy: 0.9011 - f1_score_real: 0.9011 - val_loss: 0.1386 - val_accuracy: 0.9606 - val_real_accuracy: 0.9094 - val_f1_score_real: 0.9094\n",
      "Epoch 11/40\n",
      "240/240 [==============================] - 61s 255ms/step - loss: 0.1363 - accuracy: 0.9610 - real_accuracy: 0.9089 - f1_score_real: 0.9088 - val_loss: 0.1257 - val_accuracy: 0.9646 - val_real_accuracy: 0.9187 - val_f1_score_real: 0.9187\n",
      "Epoch 12/40\n",
      "240/240 [==============================] - 61s 255ms/step - loss: 0.1264 - accuracy: 0.9643 - real_accuracy: 0.9168 - f1_score_real: 0.9168 - val_loss: 0.1152 - val_accuracy: 0.9682 - val_real_accuracy: 0.9269 - val_f1_score_real: 0.9269\n",
      "Epoch 13/40\n",
      "240/240 [==============================] - 51s 212ms/step - loss: 0.1166 - accuracy: 0.9669 - real_accuracy: 0.9226 - f1_score_real: 0.9226 - val_loss: 0.1046 - val_accuracy: 0.9720 - val_real_accuracy: 0.9355 - val_f1_score_real: 0.9355\n",
      "Epoch 14/40\n",
      "240/240 [==============================] - 61s 254ms/step - loss: 0.1074 - accuracy: 0.9700 - real_accuracy: 0.9297 - f1_score_real: 0.9297 - val_loss: 0.0963 - val_accuracy: 0.9736 - val_real_accuracy: 0.9392 - val_f1_score_real: 0.9392\n",
      "Epoch 15/40\n",
      "240/240 [==============================] - 61s 255ms/step - loss: 0.0998 - accuracy: 0.9722 - real_accuracy: 0.9349 - f1_score_real: 0.9349 - val_loss: 0.0884 - val_accuracy: 0.9771 - val_real_accuracy: 0.9474 - val_f1_score_real: 0.9474\n",
      "Epoch 16/40\n",
      "240/240 [==============================] - 61s 256ms/step - loss: 0.0918 - accuracy: 0.9746 - real_accuracy: 0.9406 - f1_score_real: 0.9407 - val_loss: 0.0843 - val_accuracy: 0.9778 - val_real_accuracy: 0.9487 - val_f1_score_real: 0.9487\n",
      "Epoch 17/40\n",
      "240/240 [==============================] - 62s 258ms/step - loss: 0.0847 - accuracy: 0.9768 - real_accuracy: 0.9455 - f1_score_real: 0.9455 - val_loss: 0.0756 - val_accuracy: 0.9805 - val_real_accuracy: 0.9550 - val_f1_score_real: 0.9550\n",
      "Epoch 18/40\n",
      "240/240 [==============================] - 52s 216ms/step - loss: 0.0780 - accuracy: 0.9791 - real_accuracy: 0.9510 - f1_score_real: 0.9510 - val_loss: 0.0686 - val_accuracy: 0.9833 - val_real_accuracy: 0.9616 - val_f1_score_real: 0.9616\n",
      "Epoch 19/40\n",
      "240/240 [==============================] - 52s 216ms/step - loss: 0.0717 - accuracy: 0.9808 - real_accuracy: 0.9550 - f1_score_real: 0.9550 - val_loss: 0.0611 - val_accuracy: 0.9860 - val_real_accuracy: 0.9678 - val_f1_score_real: 0.9678\n",
      "Epoch 20/40\n",
      "240/240 [==============================] - 51s 214ms/step - loss: 0.0659 - accuracy: 0.9831 - real_accuracy: 0.9605 - f1_score_real: 0.9604 - val_loss: 0.0565 - val_accuracy: 0.9869 - val_real_accuracy: 0.9699 - val_f1_score_real: 0.9699\n",
      "Epoch 21/40\n",
      "240/240 [==============================] - 61s 253ms/step - loss: 0.0597 - accuracy: 0.9851 - real_accuracy: 0.9650 - f1_score_real: 0.9650 - val_loss: 0.0504 - val_accuracy: 0.9888 - val_real_accuracy: 0.9743 - val_f1_score_real: 0.9743\n",
      "Epoch 22/40\n",
      "240/240 [==============================] - 51s 211ms/step - loss: 0.0540 - accuracy: 0.9868 - real_accuracy: 0.9690 - f1_score_real: 0.9690 - val_loss: 0.0444 - val_accuracy: 0.9911 - val_real_accuracy: 0.9795 - val_f1_score_real: 0.9795\n",
      "Epoch 23/40\n",
      "240/240 [==============================] - 50s 210ms/step - loss: 0.0492 - accuracy: 0.9885 - real_accuracy: 0.9729 - f1_score_real: 0.9729 - val_loss: 0.0413 - val_accuracy: 0.9919 - val_real_accuracy: 0.9812 - val_f1_score_real: 0.9812\n",
      "Epoch 24/40\n",
      "240/240 [==============================] - 51s 213ms/step - loss: 0.0439 - accuracy: 0.9902 - real_accuracy: 0.9769 - f1_score_real: 0.9769 - val_loss: 0.0354 - val_accuracy: 0.9939 - val_real_accuracy: 0.9859 - val_f1_score_real: 0.9859\n",
      "Epoch 25/40\n",
      "240/240 [==============================] - 51s 212ms/step - loss: 0.0392 - accuracy: 0.9920 - real_accuracy: 0.9812 - f1_score_real: 0.9812 - val_loss: 0.0320 - val_accuracy: 0.9950 - val_real_accuracy: 0.9884 - val_f1_score_real: 0.9884\n",
      "Epoch 26/40\n",
      "240/240 [==============================] - 61s 253ms/step - loss: 0.0349 - accuracy: 0.9931 - real_accuracy: 0.9838 - f1_score_real: 0.9838 - val_loss: 0.0292 - val_accuracy: 0.9962 - val_real_accuracy: 0.9914 - val_f1_score_real: 0.9914\n",
      "Epoch 27/40\n",
      "240/240 [==============================] - 50s 210ms/step - loss: 0.0312 - accuracy: 0.9944 - real_accuracy: 0.9869 - f1_score_real: 0.9869 - val_loss: 0.0245 - val_accuracy: 0.9970 - val_real_accuracy: 0.9931 - val_f1_score_real: 0.9931\n",
      "Epoch 28/40\n",
      "240/240 [==============================] - 61s 253ms/step - loss: 0.0271 - accuracy: 0.9957 - real_accuracy: 0.9898 - f1_score_real: 0.9898 - val_loss: 0.0215 - val_accuracy: 0.9977 - val_real_accuracy: 0.9946 - val_f1_score_real: 0.9946\n",
      "Epoch 29/40\n",
      "240/240 [==============================] - 61s 254ms/step - loss: 0.0237 - accuracy: 0.9967 - real_accuracy: 0.9923 - f1_score_real: 0.9923 - val_loss: 0.0181 - val_accuracy: 0.9984 - val_real_accuracy: 0.9962 - val_f1_score_real: 0.9962\n",
      "Epoch 30/40\n",
      "240/240 [==============================] - 61s 254ms/step - loss: 0.0210 - accuracy: 0.9974 - real_accuracy: 0.9938 - f1_score_real: 0.9938 - val_loss: 0.0166 - val_accuracy: 0.9986 - val_real_accuracy: 0.9967 - val_f1_score_real: 0.9967\n",
      "Epoch 31/40\n",
      "240/240 [==============================] - 51s 214ms/step - loss: 0.0179 - accuracy: 0.9981 - real_accuracy: 0.9955 - f1_score_real: 0.9955 - val_loss: 0.0138 - val_accuracy: 0.9993 - val_real_accuracy: 0.9983 - val_f1_score_real: 0.9983\n",
      "Epoch 32/40\n",
      "240/240 [==============================] - 61s 254ms/step - loss: 0.0156 - accuracy: 0.9986 - real_accuracy: 0.9967 - f1_score_real: 0.9967 - val_loss: 0.0121 - val_accuracy: 0.9995 - val_real_accuracy: 0.9988 - val_f1_score_real: 0.9988\n",
      "Epoch 33/40\n",
      "240/240 [==============================] - 51s 213ms/step - loss: 0.0132 - accuracy: 0.9990 - real_accuracy: 0.9976 - f1_score_real: 0.9976 - val_loss: 0.0108 - val_accuracy: 0.9996 - val_real_accuracy: 0.9992 - val_f1_score_real: 0.9992\n",
      "Epoch 34/40\n",
      "240/240 [==============================] - 61s 254ms/step - loss: 0.0114 - accuracy: 0.9993 - real_accuracy: 0.9983 - f1_score_real: 0.9983 - val_loss: 0.0087 - val_accuracy: 0.9999 - val_real_accuracy: 0.9997 - val_f1_score_real: 0.9997\n",
      "Epoch 35/40\n",
      "240/240 [==============================] - 51s 212ms/step - loss: 0.0099 - accuracy: 0.9995 - real_accuracy: 0.9988 - f1_score_real: 0.9988 - val_loss: 0.0078 - val_accuracy: 0.9999 - val_real_accuracy: 0.9997 - val_f1_score_real: 0.9997\n",
      "Epoch 36/40\n",
      "240/240 [==============================] - 61s 255ms/step - loss: 0.0084 - accuracy: 0.9997 - real_accuracy: 0.9992 - f1_score_real: 0.9992 - val_loss: 0.0067 - val_accuracy: 1.0000 - val_real_accuracy: 1.0000 - val_f1_score_real: 1.0000\n",
      "Epoch 37/40\n",
      "240/240 [==============================] - 61s 254ms/step - loss: 0.0072 - accuracy: 0.9998 - real_accuracy: 0.9995 - f1_score_real: 0.9995 - val_loss: 0.0060 - val_accuracy: 1.0000 - val_real_accuracy: 1.0000 - val_f1_score_real: 1.0000\n",
      "Epoch 38/40\n",
      "240/240 [==============================] - 51s 213ms/step - loss: 0.0063 - accuracy: 0.9999 - real_accuracy: 0.9997 - f1_score_real: 0.9997 - val_loss: 0.0051 - val_accuracy: 1.0000 - val_real_accuracy: 1.0000 - val_f1_score_real: 1.0000\n",
      "Epoch 39/40\n",
      "240/240 [==============================] - 51s 213ms/step - loss: 0.0054 - accuracy: 0.9999 - real_accuracy: 0.9997 - f1_score_real: 0.9997 - val_loss: 0.0046 - val_accuracy: 1.0000 - val_real_accuracy: 1.0000 - val_f1_score_real: 1.0000\n",
      "Epoch 40/40\n",
      "240/240 [==============================] - 51s 212ms/step - loss: 0.0047 - accuracy: 0.9999 - real_accuracy: 0.9998 - f1_score_real: 0.9998 - val_loss: 0.0038 - val_accuracy: 1.0000 - val_real_accuracy: 1.0000 - val_f1_score_real: 1.0000\n"
     ]
    }
   ],
   "source": [
    "#Fitting the LSTM model with custom accuracy\n",
    "lstm_acc = lstm_model_acc.fit(X_padded, y_padded, batch_size=16, epochs=40,validation_data=(X_padded_val,y_padded_val))"
   ]
  },
  {
   "cell_type": "code",
   "execution_count": 43,
   "metadata": {
    "colab": {
     "base_uri": "https://localhost:8080/",
     "height": 512
    },
    "id": "ux_IT_ACgDBm",
    "outputId": "668ab193-68fd-44c7-e328-29d7290baa0e"
   },
   "outputs": [
    {
     "data": {
      "image/png": "[encoded data removed]",
      "text/plain": [
       "<Figure size 720x576 with 1 Axes>"
      ]
     },
     "metadata": {
      "needs_background": "light"
     },
     "output_type": "display_data"
    }
   ],
   "source": [
    "#Plotting the LSTM model's accuracy and real accuracy of training set\n",
    "plot_accuracy(lstm_acc, \"LSTM\")"
   ]
  },
  {
   "cell_type": "code",
   "execution_count": 44,
   "metadata": {
    "colab": {
     "base_uri": "https://localhost:8080/",
     "height": 512
    },
    "id": "eeHPqTciPtvb",
    "outputId": "2451e401-2b1f-49ee-bfd1-9a54c8c978b2"
   },
   "outputs": [
    {
     "data": {
      "image/png": "[encoded data removed]",
      "text/plain": [
       "<Figure size 720x576 with 1 Axes>"
      ]
     },
     "metadata": {
      "needs_background": "light"
     },
     "output_type": "display_data"
    }
   ],
   "source": [
    "#Plotting the LSTM model's real accuracy of training set and validation set\n",
    "plot_accuracy_real(lstm_acc,\"LSTM\")"
   ]
  },
  {
   "cell_type": "code",
   "execution_count": 45,
   "metadata": {
    "colab": {
     "base_uri": "https://localhost:8080/",
     "height": 512
    },
    "id": "HbSoeNGEgJhw",
    "outputId": "82273f49-a300-4560-86d7-0407f8b09e44"
   },
   "outputs": [
    {
     "data": {
      "image/png": "[encoded data removed]",
      "text/plain": [
       "<Figure size 720x576 with 1 Axes>"
      ]
     },
     "metadata": {
      "needs_background": "light"
     },
     "output_type": "display_data"
    }
   ],
   "source": [
    "#Plotting the LSTM model loss\n",
    "plot_loss(lstm_acc,\"LSTM\")"
   ]
  },
  {
   "cell_type": "markdown",
   "metadata": {
    "id": "l8do0W0EZivA"
   },
   "source": [
    "# GRU Neural Network"
   ]
  },
  {
   "cell_type": "code",
   "execution_count": 46,
   "metadata": {
    "colab": {
     "base_uri": "https://localhost:8080/"
    },
    "id": "Efamnrit_Fjm",
    "outputId": "8fd75afd-91c6-4805-c1cb-f718223f96ae"
   },
   "outputs": [
    {
     "name": "stdout",
     "output_type": "stream",
     "text": [
      "Model: \"sequential_1\"\n",
      "_________________________________________________________________\n",
      " Layer (type)                Output Shape              Param #   \n",
      "=================================================================\n",
      " embedding_1 (Embedding)     (None, 50, 50)            547450    \n",
      "                                                                 \n",
      " gru (GRU)                   (None, 50, 128)           69120     \n",
      "                                                                 \n",
      " lstm_1 (LSTM)               (None, 50, 64)            49408     \n",
      "                                                                 \n",
      " time_distributed_1 (TimeDis  (None, 50, 46)           2990      \n",
      " tributed)                                                       \n",
      "                                                                 \n",
      "=================================================================\n",
      "Total params: 668,968\n",
      "Trainable params: 121,518\n",
      "Non-trainable params: 547,450\n",
      "_________________________________________________________________\n"
     ]
    }
   ],
   "source": [
    "#model creation\n",
    "NUM_CLASSES = y_padded.shape[2]\n",
    "gru_model_acc = Sequential()\n",
    "gru_model_acc.add(Embedding(input_dim     = VOCABULARY_SIZE,\n",
    "                        output_dim        = EMBEDDING_SIZE,\n",
    "                        input_length      = MAX_SEQUENCE,\n",
    "                        weights           = [embedding_V4],\n",
    "                        trainable         = False\n",
    "))\n",
    "gru_model_acc.add(GRU(128, return_sequences=True))\n",
    "gru_model_acc.add(LSTM(64, return_sequences=True))\n",
    "gru_model_acc.add(TimeDistributed(Dense(NUM_CLASSES, activation='softmax')))\n",
    "gru_model_acc.compile(loss          = 'categorical_crossentropy',\n",
    "                      optimizer     = 'adam',\n",
    "                      metrics       = ['accuracy', ignore_class_accuracy(), f1_score_()],\n",
    "                      run_eagerly   =   True)\n",
    "gru_model_acc.summary()"
   ]
  },
  {
   "cell_type": "code",
   "execution_count": 47,
   "metadata": {
    "colab": {
     "base_uri": "https://localhost:8080/"
    },
    "id": "JEXBWomN_9QF",
    "outputId": "86eaacd1-48ce-4d35-9a0d-1feb64b9b421"
   },
   "outputs": [
    {
     "name": "stdout",
     "output_type": "stream",
     "text": [
      "Epoch 1/50\n",
      "240/240 [==============================] - 49s 204ms/step - loss: 1.2925 - accuracy: 0.6642 - real_accuracy: 0.3215 - f1_score_real: 0.3125 - val_loss: 0.8058 - val_accuracy: 0.7870 - val_real_accuracy: 0.5381 - val_f1_score_real: 0.5361\n",
      "Epoch 2/50\n",
      "240/240 [==============================] - 49s 204ms/step - loss: 0.5966 - accuracy: 0.8422 - real_accuracy: 0.6443 - f1_score_real: 0.6438 - val_loss: 0.4856 - val_accuracy: 0.8728 - val_real_accuracy: 0.7125 - val_f1_score_real: 0.7136\n",
      "Epoch 3/50\n",
      "240/240 [==============================] - 49s 203ms/step - loss: 0.4126 - accuracy: 0.8893 - real_accuracy: 0.7433 - f1_score_real: 0.7439 - val_loss: 0.3705 - val_accuracy: 0.8971 - val_real_accuracy: 0.7653 - val_f1_score_real: 0.7655\n",
      "Epoch 4/50\n",
      "240/240 [==============================] - 49s 202ms/step - loss: 0.3291 - accuracy: 0.9079 - real_accuracy: 0.7854 - f1_score_real: 0.7857 - val_loss: 0.3032 - val_accuracy: 0.9158 - val_real_accuracy: 0.8079 - val_f1_score_real: 0.8080\n",
      "Epoch 5/50\n",
      "240/240 [==============================] - 49s 203ms/step - loss: 0.2772 - accuracy: 0.9223 - real_accuracy: 0.8191 - f1_score_real: 0.8192 - val_loss: 0.2601 - val_accuracy: 0.9264 - val_real_accuracy: 0.8318 - val_f1_score_real: 0.8316\n",
      "Epoch 6/50\n",
      "240/240 [==============================] - 49s 203ms/step - loss: 0.2412 - accuracy: 0.9321 - real_accuracy: 0.8419 - f1_score_real: 0.8419 - val_loss: 0.2299 - val_accuracy: 0.9332 - val_real_accuracy: 0.8476 - val_f1_score_real: 0.8474\n",
      "Epoch 7/50\n",
      "240/240 [==============================] - 48s 201ms/step - loss: 0.2151 - accuracy: 0.9388 - real_accuracy: 0.8574 - f1_score_real: 0.8573 - val_loss: 0.2030 - val_accuracy: 0.9422 - val_real_accuracy: 0.8681 - val_f1_score_real: 0.8678\n",
      "Epoch 8/50\n",
      "240/240 [==============================] - 49s 203ms/step - loss: 0.1932 - accuracy: 0.9443 - real_accuracy: 0.8704 - f1_score_real: 0.8703 - val_loss: 0.1849 - val_accuracy: 0.9461 - val_real_accuracy: 0.8770 - val_f1_score_real: 0.8768\n",
      "Epoch 9/50\n",
      "240/240 [==============================] - 49s 203ms/step - loss: 0.1768 - accuracy: 0.9487 - real_accuracy: 0.8805 - f1_score_real: 0.8803 - val_loss: 0.1665 - val_accuracy: 0.9518 - val_real_accuracy: 0.8904 - val_f1_score_real: 0.8902\n",
      "Epoch 10/50\n",
      "240/240 [==============================] - 49s 203ms/step - loss: 0.1625 - accuracy: 0.9525 - real_accuracy: 0.8892 - f1_score_real: 0.8891 - val_loss: 0.1493 - val_accuracy: 0.9570 - val_real_accuracy: 0.9017 - val_f1_score_real: 0.9014\n",
      "Epoch 11/50\n",
      "240/240 [==============================] - 49s 202ms/step - loss: 0.1506 - accuracy: 0.9557 - real_accuracy: 0.8966 - f1_score_real: 0.8965 - val_loss: 0.1431 - val_accuracy: 0.9588 - val_real_accuracy: 0.9057 - val_f1_score_real: 0.9054\n",
      "Epoch 12/50\n",
      "240/240 [==============================] - 49s 204ms/step - loss: 0.1404 - accuracy: 0.9587 - real_accuracy: 0.9037 - f1_score_real: 0.9036 - val_loss: 0.1314 - val_accuracy: 0.9612 - val_real_accuracy: 0.9120 - val_f1_score_real: 0.9116\n",
      "Epoch 13/50\n",
      "240/240 [==============================] - 49s 202ms/step - loss: 0.1321 - accuracy: 0.9611 - real_accuracy: 0.9094 - f1_score_real: 0.9092 - val_loss: 0.1222 - val_accuracy: 0.9648 - val_real_accuracy: 0.9192 - val_f1_score_real: 0.9191\n",
      "Epoch 14/50\n",
      "240/240 [==============================] - 49s 203ms/step - loss: 0.1228 - accuracy: 0.9636 - real_accuracy: 0.9152 - f1_score_real: 0.9151 - val_loss: 0.1129 - val_accuracy: 0.9672 - val_real_accuracy: 0.9248 - val_f1_score_real: 0.9247\n",
      "Epoch 15/50\n",
      "240/240 [==============================] - 59s 248ms/step - loss: 0.1149 - accuracy: 0.9660 - real_accuracy: 0.9209 - f1_score_real: 0.9208 - val_loss: 0.1114 - val_accuracy: 0.9684 - val_real_accuracy: 0.9272 - val_f1_score_real: 0.9272\n",
      "Epoch 16/50\n",
      "240/240 [==============================] - 49s 205ms/step - loss: 0.1093 - accuracy: 0.9677 - real_accuracy: 0.9248 - f1_score_real: 0.9247 - val_loss: 0.0986 - val_accuracy: 0.9716 - val_real_accuracy: 0.9346 - val_f1_score_real: 0.9346\n",
      "Epoch 17/50\n",
      "240/240 [==============================] - 59s 248ms/step - loss: 0.1023 - accuracy: 0.9697 - real_accuracy: 0.9292 - f1_score_real: 0.9291 - val_loss: 0.0928 - val_accuracy: 0.9740 - val_real_accuracy: 0.9400 - val_f1_score_real: 0.9399\n",
      "Epoch 18/50\n",
      "240/240 [==============================] - 59s 246ms/step - loss: 0.0961 - accuracy: 0.9715 - real_accuracy: 0.9332 - f1_score_real: 0.9332 - val_loss: 0.0862 - val_accuracy: 0.9760 - val_real_accuracy: 0.9447 - val_f1_score_real: 0.9447\n",
      "Epoch 19/50\n",
      "240/240 [==============================] - 49s 204ms/step - loss: 0.0903 - accuracy: 0.9738 - real_accuracy: 0.9389 - f1_score_real: 0.9388 - val_loss: 0.0801 - val_accuracy: 0.9775 - val_real_accuracy: 0.9482 - val_f1_score_real: 0.9482\n",
      "Epoch 20/50\n",
      "240/240 [==============================] - 59s 248ms/step - loss: 0.0853 - accuracy: 0.9749 - real_accuracy: 0.9413 - f1_score_real: 0.9412 - val_loss: 0.0761 - val_accuracy: 0.9786 - val_real_accuracy: 0.9507 - val_f1_score_real: 0.9507\n",
      "Epoch 21/50\n",
      "240/240 [==============================] - 49s 204ms/step - loss: 0.0803 - accuracy: 0.9763 - real_accuracy: 0.9447 - f1_score_real: 0.9447 - val_loss: 0.0724 - val_accuracy: 0.9797 - val_real_accuracy: 0.9533 - val_f1_score_real: 0.9532\n",
      "Epoch 22/50\n",
      "240/240 [==============================] - 59s 247ms/step - loss: 0.0765 - accuracy: 0.9775 - real_accuracy: 0.9473 - f1_score_real: 0.9473 - val_loss: 0.0655 - val_accuracy: 0.9824 - val_real_accuracy: 0.9593 - val_f1_score_real: 0.9593\n",
      "Epoch 23/50\n",
      "240/240 [==============================] - 49s 204ms/step - loss: 0.0715 - accuracy: 0.9796 - real_accuracy: 0.9521 - f1_score_real: 0.9521 - val_loss: 0.0657 - val_accuracy: 0.9822 - val_real_accuracy: 0.9589 - val_f1_score_real: 0.9589\n",
      "Epoch 24/50\n",
      "240/240 [==============================] - 49s 204ms/step - loss: 0.0675 - accuracy: 0.9805 - real_accuracy: 0.9542 - f1_score_real: 0.9542 - val_loss: 0.0596 - val_accuracy: 0.9845 - val_real_accuracy: 0.9641 - val_f1_score_real: 0.9641\n",
      "Epoch 25/50\n",
      "240/240 [==============================] - 49s 204ms/step - loss: 0.0633 - accuracy: 0.9819 - real_accuracy: 0.9577 - f1_score_real: 0.9577 - val_loss: 0.0547 - val_accuracy: 0.9858 - val_real_accuracy: 0.9676 - val_f1_score_real: 0.9676\n",
      "Epoch 26/50\n",
      "240/240 [==============================] - 49s 205ms/step - loss: 0.0594 - accuracy: 0.9831 - real_accuracy: 0.9605 - f1_score_real: 0.9605 - val_loss: 0.0531 - val_accuracy: 0.9858 - val_real_accuracy: 0.9675 - val_f1_score_real: 0.9675\n",
      "Epoch 27/50\n",
      "240/240 [==============================] - 60s 249ms/step - loss: 0.0553 - accuracy: 0.9844 - real_accuracy: 0.9635 - f1_score_real: 0.9635 - val_loss: 0.0489 - val_accuracy: 0.9872 - val_real_accuracy: 0.9708 - val_f1_score_real: 0.9708\n",
      "Epoch 28/50\n",
      "240/240 [==============================] - 59s 247ms/step - loss: 0.0527 - accuracy: 0.9852 - real_accuracy: 0.9653 - f1_score_real: 0.9653 - val_loss: 0.0459 - val_accuracy: 0.9881 - val_real_accuracy: 0.9726 - val_f1_score_real: 0.9726\n",
      "Epoch 29/50\n",
      "240/240 [==============================] - 49s 203ms/step - loss: 0.0488 - accuracy: 0.9867 - real_accuracy: 0.9688 - f1_score_real: 0.9688 - val_loss: 0.0418 - val_accuracy: 0.9898 - val_real_accuracy: 0.9766 - val_f1_score_real: 0.9766\n",
      "Epoch 30/50\n",
      "240/240 [==============================] - 59s 247ms/step - loss: 0.0459 - accuracy: 0.9873 - real_accuracy: 0.9703 - f1_score_real: 0.9703 - val_loss: 0.0422 - val_accuracy: 0.9890 - val_real_accuracy: 0.9746 - val_f1_score_real: 0.9746\n",
      "Epoch 31/50\n",
      "240/240 [==============================] - 59s 247ms/step - loss: 0.0428 - accuracy: 0.9884 - real_accuracy: 0.9729 - f1_score_real: 0.9729 - val_loss: 0.0370 - val_accuracy: 0.9912 - val_real_accuracy: 0.9796 - val_f1_score_real: 0.9796\n",
      "Epoch 32/50\n",
      "240/240 [==============================] - 49s 206ms/step - loss: 0.0392 - accuracy: 0.9897 - real_accuracy: 0.9760 - f1_score_real: 0.9759 - val_loss: 0.0338 - val_accuracy: 0.9925 - val_real_accuracy: 0.9828 - val_f1_score_real: 0.9828\n",
      "Epoch 33/50\n",
      "240/240 [==============================] - 59s 248ms/step - loss: 0.0374 - accuracy: 0.9903 - real_accuracy: 0.9772 - f1_score_real: 0.9772 - val_loss: 0.0339 - val_accuracy: 0.9918 - val_real_accuracy: 0.9812 - val_f1_score_real: 0.9812\n",
      "Epoch 34/50\n",
      "240/240 [==============================] - 49s 206ms/step - loss: 0.0347 - accuracy: 0.9912 - real_accuracy: 0.9793 - f1_score_real: 0.9793 - val_loss: 0.0350 - val_accuracy: 0.9909 - val_real_accuracy: 0.9791 - val_f1_score_real: 0.9791\n",
      "Epoch 35/50\n",
      "240/240 [==============================] - 49s 205ms/step - loss: 0.0340 - accuracy: 0.9910 - real_accuracy: 0.9789 - f1_score_real: 0.9789 - val_loss: 0.0275 - val_accuracy: 0.9940 - val_real_accuracy: 0.9861 - val_f1_score_real: 0.9861\n",
      "Epoch 36/50\n",
      "240/240 [==============================] - 59s 247ms/step - loss: 0.0302 - accuracy: 0.9927 - real_accuracy: 0.9827 - f1_score_real: 0.9827 - val_loss: 0.0262 - val_accuracy: 0.9943 - val_real_accuracy: 0.9869 - val_f1_score_real: 0.9869\n",
      "Epoch 37/50\n",
      "240/240 [==============================] - 49s 204ms/step - loss: 0.0286 - accuracy: 0.9929 - real_accuracy: 0.9835 - f1_score_real: 0.9835 - val_loss: 0.0252 - val_accuracy: 0.9943 - val_real_accuracy: 0.9868 - val_f1_score_real: 0.9868\n",
      "Epoch 38/50\n",
      "240/240 [==============================] - 49s 205ms/step - loss: 0.0264 - accuracy: 0.9936 - real_accuracy: 0.9850 - f1_score_real: 0.9850 - val_loss: 0.0235 - val_accuracy: 0.9946 - val_real_accuracy: 0.9875 - val_f1_score_real: 0.9875\n",
      "Epoch 39/50\n",
      "240/240 [==============================] - 49s 204ms/step - loss: 0.0247 - accuracy: 0.9944 - real_accuracy: 0.9868 - f1_score_real: 0.9868 - val_loss: 0.0223 - val_accuracy: 0.9951 - val_real_accuracy: 0.9887 - val_f1_score_real: 0.9887\n",
      "Epoch 40/50\n",
      "240/240 [==============================] - 59s 248ms/step - loss: 0.0232 - accuracy: 0.9948 - real_accuracy: 0.9878 - f1_score_real: 0.9878 - val_loss: 0.0197 - val_accuracy: 0.9965 - val_real_accuracy: 0.9919 - val_f1_score_real: 0.9919\n",
      "Epoch 41/50\n",
      "240/240 [==============================] - 50s 209ms/step - loss: 0.0221 - accuracy: 0.9950 - real_accuracy: 0.9882 - f1_score_real: 0.9882 - val_loss: 0.0200 - val_accuracy: 0.9957 - val_real_accuracy: 0.9901 - val_f1_score_real: 0.9901\n",
      "Epoch 42/50\n",
      "240/240 [==============================] - 59s 248ms/step - loss: 0.0209 - accuracy: 0.9952 - real_accuracy: 0.9887 - f1_score_real: 0.9887 - val_loss: 0.0177 - val_accuracy: 0.9963 - val_real_accuracy: 0.9917 - val_f1_score_real: 0.9917\n",
      "Epoch 43/50\n",
      "240/240 [==============================] - 49s 206ms/step - loss: 0.0191 - accuracy: 0.9958 - real_accuracy: 0.9900 - f1_score_real: 0.9900 - val_loss: 0.0169 - val_accuracy: 0.9968 - val_real_accuracy: 0.9928 - val_f1_score_real: 0.9928\n",
      "Epoch 44/50\n",
      "240/240 [==============================] - 50s 207ms/step - loss: 0.0179 - accuracy: 0.9962 - real_accuracy: 0.9911 - f1_score_real: 0.9911 - val_loss: 0.0159 - val_accuracy: 0.9972 - val_real_accuracy: 0.9936 - val_f1_score_real: 0.9936\n",
      "Epoch 45/50\n",
      "240/240 [==============================] - 60s 249ms/step - loss: 0.0176 - accuracy: 0.9962 - real_accuracy: 0.9909 - f1_score_real: 0.9909 - val_loss: 0.0147 - val_accuracy: 0.9977 - val_real_accuracy: 0.9947 - val_f1_score_real: 0.9947\n",
      "Epoch 46/50\n",
      "240/240 [==============================] - 60s 251ms/step - loss: 0.0162 - accuracy: 0.9967 - real_accuracy: 0.9922 - f1_score_real: 0.9922 - val_loss: 0.0126 - val_accuracy: 0.9981 - val_real_accuracy: 0.9955 - val_f1_score_real: 0.9955\n",
      "Epoch 47/50\n",
      "240/240 [==============================] - 49s 205ms/step - loss: 0.0149 - accuracy: 0.9970 - real_accuracy: 0.9929 - f1_score_real: 0.9929 - val_loss: 0.0140 - val_accuracy: 0.9972 - val_real_accuracy: 0.9936 - val_f1_score_real: 0.9936\n",
      "Epoch 48/50\n",
      "240/240 [==============================] - 60s 248ms/step - loss: 0.0143 - accuracy: 0.9971 - real_accuracy: 0.9930 - f1_score_real: 0.9930 - val_loss: 0.0111 - val_accuracy: 0.9983 - val_real_accuracy: 0.9960 - val_f1_score_real: 0.9960\n",
      "Epoch 49/50\n",
      "240/240 [==============================] - 50s 208ms/step - loss: 0.0144 - accuracy: 0.9969 - real_accuracy: 0.9927 - f1_score_real: 0.9928 - val_loss: 0.0107 - val_accuracy: 0.9984 - val_real_accuracy: 0.9964 - val_f1_score_real: 0.9964\n",
      "Epoch 50/50\n",
      "240/240 [==============================] - 50s 207ms/step - loss: 0.0120 - accuracy: 0.9977 - real_accuracy: 0.9945 - f1_score_real: 0.9945 - val_loss: 0.0093 - val_accuracy: 0.9988 - val_real_accuracy: 0.9972 - val_f1_score_real: 0.9972\n"
     ]
    }
   ],
   "source": [
    "#Fitting the model\n",
    "gru_acc = gru_model_acc.fit(X_padded, y_padded, batch_size=16, epochs=50,validation_data=(X_padded_val,y_padded_val))"
   ]
  },
  {
   "cell_type": "code",
   "execution_count": 48,
   "metadata": {
    "colab": {
     "base_uri": "https://localhost:8080/",
     "height": 512
    },
    "id": "JlsIpDTtipIK",
    "outputId": "49c792fd-8e2f-4ad9-d78f-02190507d289"
   },
   "outputs": [
    {
     "data": {
      "image/png": "[encoded data removed]",
      "text/plain": [
       "<Figure size 720x576 with 1 Axes>"
      ]
     },
     "metadata": {
      "needs_background": "light"
     },
     "output_type": "display_data"
    }
   ],
   "source": [
    "#Plotting GRU model's accuracy and real accuracy of the training set\n",
    "plot_accuracy(gru_acc, \"GRU's model accuracy of Training set\")"
   ]
  },
  {
   "cell_type": "code",
   "execution_count": 49,
   "metadata": {
    "colab": {
     "base_uri": "https://localhost:8080/",
     "height": 512
    },
    "id": "XcOm_FCcRsI8",
    "outputId": "c94e3f16-f74f-416e-e4aa-f875c0b3ceba"
   },
   "outputs": [
    {
     "data": {
      "image/png": "[encoded data removed]",
      "text/plain": [
       "<Figure size 720x576 with 1 Axes>"
      ]
     },
     "metadata": {
      "needs_background": "light"
     },
     "output_type": "display_data"
    }
   ],
   "source": [
    "#Plotting GRU model's real accuracy of training set and validation set\n",
    "plot_accuracy_real(gru_acc,\"GRU's model real accuracy of Training and Validation\")"
   ]
  },
  {
   "cell_type": "code",
   "execution_count": 50,
   "metadata": {
    "colab": {
     "base_uri": "https://localhost:8080/",
     "height": 512
    },
    "id": "goWTYI9OiyF6",
    "outputId": "5ffc8875-c06a-4814-9b87-fea2d79ab758"
   },
   "outputs": [
    {
     "data": {
      "image/png": "[encoded data removed]",
      "text/plain": [
       "<Figure size 720x576 with 1 Axes>"
      ]
     },
     "metadata": {
      "needs_background": "light"
     },
     "output_type": "display_data"
    }
   ],
   "source": [
    "#Plotting GRU model's loss\n",
    "plot_loss(gru_acc,\"GRU's model loss\")"
   ]
  },
  {
   "cell_type": "markdown",
   "metadata": {
    "id": "5tu-h1Nto9Jx"
   },
   "source": [
    "# Models Evaluation"
   ]
  },
  {
   "cell_type": "markdown",
   "metadata": {
    "id": "kkfTqLQXku4C"
   },
   "source": [
    "The results on the test sets are coherent with those on the validation set, in fact the validation's accuracy is around 99% and the accuracy on the test set is 99%"
   ]
  },
  {
   "cell_type": "code",
   "execution_count": 51,
   "metadata": {
    "colab": {
     "base_uri": "https://localhost:8080/"
    },
    "id": "0Hh_alQljKFw",
    "outputId": "cac1f3ad-af09-4617-a5d7-09099cc071c9"
   },
   "outputs": [
    {
     "name": "stdout",
     "output_type": "stream",
     "text": [
      "21/21 [==============================] - 3s 145ms/step - loss: 0.0035 - accuracy: 1.0000 - real_accuracy: 0.9999 - f1_score_real: 0.9999\n",
      "Loss: 0.0035134039353579283,\n",
      "Accuracy: 0.9999690055847168,\n",
      "Real_accuracy: 0.9999245405197144,\n",
      "F1_score: 0.9999245405197144\n"
     ]
    }
   ],
   "source": [
    "#LSTM model evaluation\n",
    "loss, accuracy, real_accuracy,f1_score = lstm_model_acc.evaluate(X_padded_test, y_padded_test, verbose = 1)\n",
    "print(\"Loss: {0},\\nAccuracy: {1},\\nReal_accuracy: {2},\\nF1_score: {3}\".format(loss, accuracy, real_accuracy,f1_score))"
   ]
  },
  {
   "cell_type": "markdown",
   "metadata": {
    "id": "fnWbT6tso0uS"
   },
   "source": [
    "The results on the test sets are coherent with those on the validation set, in fact the validation's accuracy is around 99% and the accuracy on the test set is around 99%"
   ]
  },
  {
   "cell_type": "code",
   "execution_count": 52,
   "metadata": {
    "colab": {
     "base_uri": "https://localhost:8080/"
    },
    "id": "pGZ8ZLzwjKOO",
    "outputId": "c4209934-ff8d-45d8-b568-705d60a8e020"
   },
   "outputs": [
    {
     "name": "stdout",
     "output_type": "stream",
     "text": [
      "21/21 [==============================] - 3s 141ms/step - loss: 0.0078 - accuracy: 0.9989 - real_accuracy: 0.9974 - f1_score_real: 0.9974\n",
      "Loss: 0.0077667138539254665,\n",
      "Accuracy: 0.9988527297973633,\n",
      "Real_accuracy: 0.9973853826522827,\n",
      "F1_score: 0.9973853826522827\n"
     ]
    }
   ],
   "source": [
    "loss, accuracy, real_accuracy,f1_score = gru_model_acc.evaluate(X_padded_test, y_padded_test, verbose = 1)\n",
    "print(\"Loss: {0},\\nAccuracy: {1},\\nReal_accuracy: {2},\\nF1_score: {3}\".format(loss, accuracy, real_accuracy, f1_score))"
   ]
  },
  {
   "cell_type": "markdown",
   "metadata": {
    "id": "9gX3TiyrqBdZ"
   },
   "source": [
    "# Error Analisys"
   ]
  },
  {
   "cell_type": "markdown",
   "metadata": {
    "id": "-Q2gKtWBZ_3W"
   },
   "source": [
    "### Showing Predictions"
   ]
  },
  {
   "cell_type": "code",
   "execution_count": 53,
   "metadata": {
    "id": "XPuXq3d7AQbA"
   },
   "outputs": [],
   "source": [
    "def prediction(model):\n",
    "  predictions = model.predict(X_padded_test)\n",
    "  return predictions"
   ]
  },
  {
   "cell_type": "code",
   "execution_count": 54,
   "metadata": {
    "id": "se7-tOIrBoXD"
   },
   "outputs": [],
   "source": [
    "def logits_to_tokens(sequences, dict):\n",
    "    token_sequences = []\n",
    "    for categorical_sequence in sequences:\n",
    "        token_sequence = []\n",
    "        for categorical in categorical_sequence:\n",
    "            token_sequence.append(dict[np.argmax(categorical)])\n",
    " \n",
    "        token_sequences.append(token_sequence)\n",
    " \n",
    "    return token_sequences"
   ]
  },
  {
   "cell_type": "code",
   "execution_count": 55,
   "metadata": {
    "id": "0htLbCfCsmeS"
   },
   "outputs": [],
   "source": [
    "def unpadding(test):\n",
    "  l=[]\n",
    "  for i in range(0,len(test)):\n",
    "    l.append(list(filter(lambda x: x != '0' and x!='$' and x!='.' and x!=',' and x!='%' and x!=':' and x!='``' and x!= \"''\", test[i])))\n",
    "  return l"
   ]
  },
  {
   "cell_type": "code",
   "execution_count": 56,
   "metadata": {
    "id": "DWPQq4Y5vAxz"
   },
   "outputs": [],
   "source": [
    "#prediction of lstm model\n",
    "predictions_lstm = prediction(lstm_model_acc)"
   ]
  },
  {
   "cell_type": "code",
   "execution_count": 57,
   "metadata": {
    "id": "3uaCY6e9vI65"
   },
   "outputs": [],
   "source": [
    "#prediction of gru model\n",
    "predictions_gru = prediction(gru_model_acc)"
   ]
  },
  {
   "cell_type": "code",
   "execution_count": 58,
   "metadata": {
    "id": "no2vD5ADAbKz"
   },
   "outputs": [],
   "source": [
    "#digit to tokens lstm model\n",
    "dict_class_id = dict(tokenizer_class_id.index_word)\n",
    "predictions_lstm_detokenized = logits_to_tokens(predictions_lstm, dict_class_id)\n",
    "true = logits_to_tokens(y_padded_test, dict_class_id)"
   ]
  },
  {
   "cell_type": "code",
   "execution_count": 59,
   "metadata": {
    "id": "TTEHOmG0vklZ"
   },
   "outputs": [],
   "source": [
    "#digit to tokens gru model\n",
    "predictions_gru_detokenized = logits_to_tokens(predictions_gru, dict_class_id)"
   ]
  },
  {
   "cell_type": "code",
   "execution_count": 80,
   "metadata": {
    "id": "ZVk5HvmbAj2O"
   },
   "outputs": [],
   "source": [
    "def showing_predictions(pred, true):\n",
    "  pre = np.array(unpadding(pred),dtype=list)\n",
    "  true = np.array(unpadding(true), dtype=list)\n",
    "  \n",
    "  #to show the wrong labels\n",
    "  for i in range(0,len(pre)):\n",
    "    for j in range(0,len(pre[i])):\n",
    "      if pre[i][j] != true[i][j]:\n",
    "        print(\"Predicted word as: \", pre[i][j])\n",
    "        print(\"Actual label: \", true[i][j])\n",
    "        print(\"Word: \" ,df_phrases_cleaned_test['phrase'][i][j], '\\n')"
   ]
  },
  {
   "cell_type": "markdown",
   "metadata": {
    "id": "9pWRk9nipBnu"
   },
   "source": [
    "Here we show all the wrong prediction of the LSTM model on the test set, we can see that is coherent, because in all the test set there only one wrong label. The word is trading and is predicted as VBG instead of NN"
   ]
  },
  {
   "cell_type": "code",
   "execution_count": 81,
   "metadata": {
    "colab": {
     "base_uri": "https://localhost:8080/"
    },
    "id": "vDtv2aARwLMf",
    "outputId": "28ca47e6-9abe-4077-f6ac-521db31db6d8"
   },
   "outputs": [
    {
     "name": "stdout",
     "output_type": "stream",
     "text": [
      "Predicted word as:  vbg\n",
      "Actual label:  nn\n",
      "Word:  trading \n",
      "\n"
     ]
    }
   ],
   "source": [
    "#showing predictions lstm model\n",
    "showing_predictions(predictions_lstm_detokenized,true)"
   ]
  },
  {
   "cell_type": "markdown",
   "metadata": {
    "id": "odnOrR9mpc1N"
   },
   "source": [
    "Here we show all the wrong prediction of the GRU model on the test set, we can see that is coherent, because in all the test set there are some classification errors, expecially for the labels \"adjective\", \"noun\". "
   ]
  },
  {
   "cell_type": "code",
   "execution_count": 82,
   "metadata": {
    "colab": {
     "base_uri": "https://localhost:8080/"
    },
    "id": "aoZgnJMpwX2r",
    "outputId": "9e6239d3-56f8-4cc6-cf08-32d54da226e4"
   },
   "outputs": [
    {
     "name": "stdout",
     "output_type": "stream",
     "text": [
      "Predicted word as:  jjs\n",
      "Actual label:  rbs\n",
      "Word:  most \n",
      "\n",
      "Predicted word as:  nns\n",
      "Actual label:  nnps\n",
      "Word:  grains \n",
      "\n",
      "Predicted word as:  jjr\n",
      "Actual label:  rbr\n",
      "Word:  more \n",
      "\n",
      "Predicted word as:  nnp\n",
      "Actual label:  nns\n",
      "Word:  younkers \n",
      "\n",
      "Predicted word as:  nns\n",
      "Actual label:  nn\n",
      "Word:  committee \n",
      "\n",
      "Predicted word as:  nnp\n",
      "Actual label:  nnps\n",
      "Word:  Donuts \n",
      "\n",
      "Predicted word as:  nnps\n",
      "Actual label:  nnp\n",
      "Word:  Savings \n",
      "\n",
      "Predicted word as:  nnp\n",
      "Actual label:  jj\n",
      "Word:  new \n",
      "\n",
      "Predicted word as:  vbn\n",
      "Actual label:  vbg\n",
      "Word:  staying \n",
      "\n",
      "Predicted word as:  jjr\n",
      "Actual label:  rbr\n",
      "Word:  more \n",
      "\n",
      "Predicted word as:  jj\n",
      "Actual label:  nnp\n",
      "Word:  African \n",
      "\n",
      "Predicted word as:  nnp\n",
      "Actual label:  jj\n",
      "Word:  pro-Iranian \n",
      "\n",
      "Predicted word as:  nn\n",
      "Actual label:  jj\n",
      "Word:  net \n",
      "\n",
      "Predicted word as:  dt\n",
      "Actual label:  pdt\n",
      "Word:  all \n",
      "\n",
      "Predicted word as:  jj\n",
      "Actual label:  pdt\n",
      "Word:  such \n",
      "\n",
      "Predicted word as:  nnp\n",
      "Actual label:  jj\n",
      "Word:  new \n",
      "\n",
      "Predicted word as:  vbg\n",
      "Actual label:  nn\n",
      "Word:  rating \n",
      "\n",
      "Predicted word as:  vbg\n",
      "Actual label:  nn\n",
      "Word:  rating \n",
      "\n",
      "Predicted word as:  nnp\n",
      "Actual label:  nn\n",
      "Word:  metallgesellschaft \n",
      "\n",
      "Predicted word as:  nnp\n",
      "Actual label:  nn\n",
      "Word:  h. \n",
      "\n",
      "Predicted word as:  jjr\n",
      "Actual label:  rbr\n",
      "Word:  earlier \n",
      "\n",
      "Predicted word as:  jj\n",
      "Actual label:  rb\n",
      "Word:  first \n",
      "\n",
      "Predicted word as:  nnp\n",
      "Actual label:  nnps\n",
      "Word:  Mercedes \n",
      "\n",
      "Predicted word as:  vbg\n",
      "Actual label:  nn\n",
      "Word:  trading \n",
      "\n",
      "Predicted word as:  jj\n",
      "Actual label:  nn\n",
      "Word:  record \n",
      "\n",
      "Predicted word as:  nnp\n",
      "Actual label:  jj\n",
      "Word:  Soviet \n",
      "\n",
      "Predicted word as:  rbs\n",
      "Actual label:  jjs\n",
      "Word:  most \n",
      "\n",
      "Predicted word as:  jj\n",
      "Actual label:  rb\n",
      "Word:  real \n",
      "\n",
      "Predicted word as:  rb\n",
      "Actual label:  in\n",
      "Word:  so \n",
      "\n",
      "Predicted word as:  nnp\n",
      "Actual label:  jj\n",
      "Word:  Soviet \n",
      "\n",
      "Predicted word as:  nnp\n",
      "Actual label:  nn\n",
      "Word:  ENERGY \n",
      "\n",
      "Predicted word as:  nnp\n",
      "Actual label:  jj\n",
      "Word:  precious \n",
      "\n",
      "Predicted word as:  rbr\n",
      "Actual label:  jjr\n",
      "Word:  more \n",
      "\n",
      "Predicted word as:  vbg\n",
      "Actual label:  nnp\n",
      "Word:  Purchasing \n",
      "\n",
      "Predicted word as:  jjr\n",
      "Actual label:  rbr\n",
      "Word:  more \n",
      "\n",
      "Predicted word as:  jjr\n",
      "Actual label:  rbr\n",
      "Word:  earlier \n",
      "\n",
      "Predicted word as:  vbg\n",
      "Actual label:  nns\n",
      "Word:  proceeds \n",
      "\n"
     ]
    }
   ],
   "source": [
    "#showing predictions gru model\n",
    "showing_predictions(predictions_gru_detokenized,true)"
   ]
  },
  {
   "cell_type": "markdown",
   "metadata": {
    "id": "uZ97KOcTfEjH"
   },
   "source": [
    "### Confusion Matrix"
   ]
  },
  {
   "cell_type": "markdown",
   "metadata": {
    "id": "hvuGh1MXqSGH"
   },
   "source": [
    "We created the methos plot_cm to plot the confusion matrix for the models"
   ]
  },
  {
   "cell_type": "code",
   "execution_count": 83,
   "metadata": {
    "id": "_fZKzV-UsNHD"
   },
   "outputs": [],
   "source": [
    "from sklearn.metrics import confusion_matrix\n",
    "def plot_cm(labels, predictions):\n",
    "  labels_tot=['0','nn','in','nnp','dt','nns','jj',',','.','cd',\n",
    "                'vbd','rb', 'vb', 'cc', 'to', 'vbn', 'vbz', 'prp', \n",
    "                'vbg', 'vbp', 'md', 'pos', 'prp$', '$', '``', \"''\", \n",
    "                ':', 'wdt', 'jjr', 'nnps', 'wp', 'rp', 'jjs', 'wrb', \n",
    "                'rbr', '-rrb-', '-lrb-', 'ex', 'rbs', 'pdt', 'wp$']\n",
    "  eq = 0\n",
    "  not_eq = 0\n",
    "  zeros = 0\n",
    "  cm = confusion_matrix(labels, predictions)\n",
    "  fig = plt.figure(figsize=(18,15))\n",
    "  ax= plt.subplot()\n",
    "  sns.heatmap(cm, annot=True, fmt=\"d\", ax=ax)\n",
    "  ax.set_title('Confusion matrix')\n",
    "  ax.set_ylabel('Actual label')\n",
    "  ax.set_xlabel('Predicted label')\n",
    "  ax.xaxis.set_ticklabels(labels_tot); \n",
    "  ax.yaxis.set_ticklabels(labels_tot);\n",
    "  \n",
    "  for i in range(0,len(cm)-1):\n",
    "    for j in range(0,len(cm[i])):\n",
    "      if not cm[i][j] == 0 and i == j:\n",
    "        eq += cm[i][j]\n",
    "        if i==0 and j==0:\n",
    "          zeros += cm[i][j]\n",
    "        elif i==7 and j==7:\n",
    "          zeros += cm[i][j]\n",
    "        elif i==8 and j==8:\n",
    "          zeros += cm[i][j]\n",
    "        elif i==23 and j==23:\n",
    "          zeros += cm[i][j]\n",
    "        elif i==24 and j==24: \n",
    "          zeros += cm[i][j]\n",
    "        elif i==25 and j==25:\n",
    "          zeros += cm[i][j]\n",
    "        elif i==26 and j==26: \n",
    "          zeros += cm[i][j]\n",
    "        elif i==40 and j==40: \n",
    "          zeros += cm[i][j]        \n",
    "      elif not cm[i][j] == 0 and i!=j:\n",
    "        not_eq += cm[i][j]\n",
    "  eq_true = eq - zeros\n",
    "  \n",
    "  print('Correct Labels: ' , eq)\n",
    "  print('Sentence length: ',(eq + not_eq)-zeros )\n",
    "  print('Correct Labels (without padding,symbols,punctuation): ', eq_true)\n",
    "  print('Wrong Labels: ', not_eq)\n",
    "  print('Padding,symbols,punctuation:', zeros)\n"
   ]
  },
  {
   "cell_type": "markdown",
   "metadata": {
    "id": "tFQCUmk2qaKx"
   },
   "source": [
    "We can see that the predictions on the test set in LSTM model are very precise, in fact, there is one incorrected labels, predicted as VBG instead of NN (over 13777 total words). "
   ]
  },
  {
   "cell_type": "code",
   "execution_count": 84,
   "metadata": {
    "colab": {
     "base_uri": "https://localhost:8080/",
     "height": 980
    },
    "id": "pArQ1FYEfJQG",
    "outputId": "af9b4946-bca1-4a84-dbe6-aa63dd45f049"
   },
   "outputs": [
    {
     "name": "stdout",
     "output_type": "stream",
     "text": [
      "Correct Labels:  32245\n",
      "Sentence length:  13777\n",
      "Correct Labels (without padding,symbols,punctuation):  13776\n",
      "Wrong Labels:  1\n",
      "Padding,symbols,punctuation: 18469\n"
     ]
    },
    {
     "data": {
      "image/png": "[encoded data removed]",
      "text/plain": [
       "<Figure size 1296x1080 with 2 Axes>"
      ]
     },
     "metadata": {
      "needs_background": "light"
     },
     "output_type": "display_data"
    }
   ],
   "source": [
    "#LSTM Model\n",
    "plot_cm(y_padded_test.argmax(axis=2).flatten(),predictions_lstm.argmax(axis=2).flatten())"
   ]
  },
  {
   "cell_type": "markdown",
   "metadata": {
    "id": "n5ezF13TqoCp"
   },
   "source": [
    "We can see that the classification of the GRU model on the test set is not as accurate as LSTM model, in fact, there are more errors: 37. We can see that the majority of the errors concern the classes: JJ, VBN, RBR, NN and NNP"
   ]
  },
  {
   "cell_type": "code",
   "execution_count": 85,
   "metadata": {
    "colab": {
     "base_uri": "https://localhost:8080/",
     "height": 980
    },
    "id": "84jl9R5gumIT",
    "outputId": "6c387a7e-8af9-44d7-cf02-7fe9983bf938"
   },
   "outputs": [
    {
     "name": "stdout",
     "output_type": "stream",
     "text": [
      "Correct Labels:  32209\n",
      "Sentence length:  13777\n",
      "Correct Labels (without padding,symbols,punctuation):  13740\n",
      "Wrong Labels:  37\n",
      "Padding,symbols,punctuation: 18469\n"
     ]
    },
    {
     "data": {
      "image/png": "[encoded data removed]",
      "text/plain": [
       "<Figure size 1296x1080 with 2 Axes>"
      ]
     },
     "metadata": {
      "needs_background": "light"
     },
     "output_type": "display_data"
    }
   ],
   "source": [
    "#GRU Model\n",
    "plot_cm(y_padded_test.argmax(axis=2).flatten(),predictions_gru.argmax(axis=2).flatten())"
   ]
  },
  {
   "cell_type": "markdown",
   "metadata": {
    "id": "hxCvMgEnt9ez"
   },
   "source": [
    "### Classification Report"
   ]
  },
  {
   "cell_type": "code",
   "execution_count": 86,
   "metadata": {
    "id": "ybeC0tAZTa4m"
   },
   "outputs": [],
   "source": [
    "def class_report(predictions):\n",
    "  target_names = ['0','nn','in','nnp','dt','nns','jj',',','.','cd',\n",
    "                'vbd','rb', 'vb', 'cc', 'to', 'vbn', 'vbz', 'prp', \n",
    "                'vbg', 'vbp', 'md', 'pos', 'prp$', '$', '``', \"''\", \n",
    "                ':', 'wdt', 'jjr', 'nnps', 'wp', 'rp', 'jjs', 'wrb', \n",
    "                'rbr', '-rrb-', '-lrb-', 'ex', 'rbs', 'pdt', 'wp$']                                                                                                                                                                             \n",
    "  print(classification_report(y_padded_test.argmax(axis=2).flatten(),predictions.argmax(axis=2).flatten(), target_names=target_names))"
   ]
  },
  {
   "cell_type": "markdown",
   "metadata": {
    "id": "6dVxpDSqrAkd"
   },
   "source": [
    "We plot the classification report for LSTM model, where we can see that almost all the classes reach 1.00 as precision, recall and f1-score for each class"
   ]
  },
  {
   "cell_type": "code",
   "execution_count": 89,
   "metadata": {
    "colab": {
     "base_uri": "https://localhost:8080/"
    },
    "id": "0XjcEH2tuRy6",
    "outputId": "1b8f0dfa-0727-4e5d-932a-6680f100a3c8"
   },
   "outputs": [
    {
     "name": "stdout",
     "output_type": "stream",
     "text": [
      "              precision    recall  f1-score   support\n",
      "\n",
      "           0       1.00      1.00      1.00     16620\n",
      "          nn       1.00      1.00      1.00      2387\n",
      "          in       1.00      1.00      1.00      1641\n",
      "         nnp       1.00      1.00      1.00      1515\n",
      "          dt       1.00      1.00      1.00      1339\n",
      "         nns       1.00      1.00      1.00       948\n",
      "          jj       1.00      1.00      1.00       917\n",
      "           ,       1.00      1.00      1.00       800\n",
      "           .       1.00      1.00      1.00       647\n",
      "          cd       1.00      1.00      1.00       864\n",
      "         vbd       1.00      1.00      1.00       643\n",
      "          rb       1.00      1.00      1.00       389\n",
      "          vb       1.00      1.00      1.00       405\n",
      "          cc       1.00      1.00      1.00       367\n",
      "          to       1.00      1.00      1.00       384\n",
      "         vbn       1.00      1.00      1.00       374\n",
      "         vbz       1.00      1.00      1.00       281\n",
      "         prp       1.00      1.00      1.00       191\n",
      "         vbg       1.00      1.00      1.00       220\n",
      "         vbp       1.00      1.00      1.00       132\n",
      "          md       1.00      1.00      1.00       169\n",
      "         pos       1.00      1.00      1.00       153\n",
      "        prp$       1.00      1.00      1.00       100\n",
      "           $       1.00      1.00      1.00       211\n",
      "          ``       1.00      1.00      1.00        72\n",
      "          ''       1.00      1.00      1.00        69\n",
      "           :       1.00      1.00      1.00        50\n",
      "         wdt       1.00      1.00      1.00        86\n",
      "         jjr       1.00      1.00      1.00        59\n",
      "        nnps       1.00      1.00      1.00        45\n",
      "          wp       1.00      1.00      1.00        20\n",
      "          rp       1.00      1.00      1.00        32\n",
      "         jjs       1.00      1.00      1.00        31\n",
      "         wrb       1.00      1.00      1.00        24\n",
      "         rbr       1.00      1.00      1.00        15\n",
      "       -rrb-       1.00      1.00      1.00        17\n",
      "       -lrb-       1.00      1.00      1.00        17\n",
      "          ex       1.00      1.00      1.00         5\n",
      "         rbs       1.00      1.00      1.00         3\n",
      "         pdt       1.00      1.00      1.00         4\n",
      "         wp$       1.00      1.00      1.00         4\n",
      "\n",
      "    accuracy                           1.00     32250\n",
      "   macro avg       1.00      1.00      1.00     32250\n",
      "weighted avg       1.00      1.00      1.00     32250\n",
      "\n"
     ]
    }
   ],
   "source": [
    "#LSTM Model\n",
    "class_report(predictions_lstm)"
   ]
  },
  {
   "cell_type": "markdown",
   "metadata": {
    "id": "VLk765ytrRWp"
   },
   "source": [
    "We plot the classification report for GRU model, where we can see that the most critics classes to be predicted are RBS, RBR, NNP and VBG."
   ]
  },
  {
   "cell_type": "code",
   "execution_count": 88,
   "metadata": {
    "colab": {
     "base_uri": "https://localhost:8080/"
    },
    "id": "hLM2jp8nuR-z",
    "outputId": "ab7085c9-f508-4956-e382-9856721443fa"
   },
   "outputs": [
    {
     "name": "stdout",
     "output_type": "stream",
     "text": [
      "              precision    recall  f1-score   support\n",
      "\n",
      "           0       1.00      1.00      1.00     16620\n",
      "          nn       1.00      1.00      1.00      2387\n",
      "          in       1.00      1.00      1.00      1641\n",
      "         nnp       0.99      1.00      1.00      1515\n",
      "          dt       1.00      1.00      1.00      1339\n",
      "         nns       1.00      1.00      1.00       948\n",
      "          jj       0.99      0.99      0.99       917\n",
      "           ,       1.00      1.00      1.00       800\n",
      "           .       1.00      1.00      1.00       647\n",
      "          cd       1.00      1.00      1.00       864\n",
      "         vbd       1.00      1.00      1.00       643\n",
      "          rb       1.00      0.99      1.00       389\n",
      "          vb       1.00      1.00      1.00       405\n",
      "          cc       1.00      1.00      1.00       367\n",
      "          to       1.00      1.00      1.00       384\n",
      "         vbn       1.00      1.00      1.00       374\n",
      "         vbz       1.00      1.00      1.00       281\n",
      "         prp       1.00      1.00      1.00       191\n",
      "         vbg       0.98      1.00      0.99       220\n",
      "         vbp       1.00      1.00      1.00       132\n",
      "          md       1.00      1.00      1.00       169\n",
      "         pos       1.00      1.00      1.00       153\n",
      "        prp$       1.00      1.00      1.00       100\n",
      "           $       1.00      1.00      1.00       211\n",
      "          ``       1.00      1.00      1.00        72\n",
      "          ''       1.00      1.00      1.00        69\n",
      "           :       1.00      1.00      1.00        50\n",
      "         wdt       1.00      1.00      1.00        86\n",
      "         jjr       0.92      0.98      0.95        59\n",
      "        nnps       0.98      0.93      0.95        45\n",
      "          wp       1.00      1.00      1.00        20\n",
      "          rp       1.00      1.00      1.00        32\n",
      "         jjs       0.97      0.97      0.97        31\n",
      "         wrb       1.00      1.00      1.00        24\n",
      "         rbr       0.91      0.67      0.77        15\n",
      "       -rrb-       1.00      1.00      1.00        17\n",
      "       -lrb-       1.00      1.00      1.00        17\n",
      "          ex       1.00      1.00      1.00         5\n",
      "         rbs       0.67      0.67      0.67         3\n",
      "         pdt       1.00      0.50      0.67         4\n",
      "         wp$       1.00      1.00      1.00         4\n",
      "\n",
      "    accuracy                           1.00     32250\n",
      "   macro avg       0.99      0.97      0.97     32250\n",
      "weighted avg       1.00      1.00      1.00     32250\n",
      "\n"
     ]
    }
   ],
   "source": [
    "#GRU Model\n",
    "class_report(predictions_gru)"
   ]
  }
 ],
 "metadata": {
  "accelerator": "GPU",
  "colab": {
   "collapsed_sections": [],
   "name": "assignment_1.ipynb",
   "provenance": []
  },
  "kernelspec": {
   "display_name": "Python 3",
   "language": "python",
   "name": "python3"
  },
  "language_info": {
   "codemirror_mode": {
    "name": "ipython",
    "version": 3
   },
   "file_extension": ".py",
   "mimetype": "text/x-python",
   "name": "python",
   "nbconvert_exporter": "python",
   "pygments_lexer": "ipython3",
   "version": "3.8.3"
  }
 },
 "nbformat": 4,
 "nbformat_minor": 1
}
