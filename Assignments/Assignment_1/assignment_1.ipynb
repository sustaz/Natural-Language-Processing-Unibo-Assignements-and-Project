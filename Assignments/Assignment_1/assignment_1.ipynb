{
  "nbformat": 4,
  "nbformat_minor": 0,
  "metadata": {
    "accelerator": "GPU",
    "colab": {
      "name": "assignment1_migliorare_i_vocabolari_super (3).ipynb",
      "provenance": [],
      "collapsed_sections": [
        "SmmJJnENLWfV",
        "l8do0W0EZivA"
      ]
    },
    "kernelspec": {
      "display_name": "Python 3",
      "language": "python",
      "name": "python3"
    },
    "language_info": {
      "codemirror_mode": {
        "name": "ipython",
        "version": 3
      },
      "file_extension": ".py",
      "mimetype": "text/x-python",
      "name": "python",
      "nbconvert_exporter": "python",
      "pygments_lexer": "ipython3",
      "version": "3.8.3rc1"
    }
  },
  "cells": [
    {
      "cell_type": "markdown",
      "metadata": {
        "id": "-WeCeITXoxLf"
      },
      "source": [
        "# Assignment 1\n",
        "\n",
        "**Due to**: 23/12/2021 (dd/mm/yyyy)\n",
        "\n",
        "**Credits**: Andrea Galassi, Federico Ruggeri, Paolo Torroni\n",
        "\n",
        "**Summary**: Part-of Speech (POS) tagging as Sequence Labelling using Recurrent Neural Architectures"
      ]
    },
    {
      "cell_type": "markdown",
      "metadata": {
        "id": "a4_wqPdlBcKS"
      },
      "source": [
        "# Intro\n",
        "\n",
        "In this assignment  we will ask you to perform POS tagging using neural architectures\n",
        "\n",
        "You are asked to follow these steps:\n",
        "*   Download the corpora and split it in training and test sets, structuring a dataframe.\n",
        "*   Embed the words using GloVe embeddings\n",
        "*   Create a baseline model, using a simple neural architecture\n",
        "*   Experiment doing small modifications to the baseline model, choose hyperparameters using the validation set\n",
        "*   Evaluate your two best model\n",
        "*   Analyze the errors of your model\n",
        "\n",
        "\n",
        "**Task**: given a corpus of documents, predict the POS tag for each word\n",
        "\n",
        "**Corpus**:\n",
        "Ignore the numeric value in the third column, use only the words/symbols and its label. \n",
        "The corpus is available at:\n",
        "https://raw.githubusercontent.com/nltk/nltk_data/gh-pages/packages/corpora/dependency_treebank.zip\n",
        "\n",
        "**Splits**: documents 1-100 are the train set, 101-150 validation set, 151-199 test set.\n",
        "\n",
        "\n",
        "**Features**: you MUST use GloVe embeddings as the only input features to the model.\n",
        "\n",
        "**Splitting**: you can decide to split documents into sentences or not, the choice is yours.\n",
        "\n",
        "**I/O structure**: The input data will have three dimensions: 1-documents/sentences, 2-token, 3-features; for the output there are 2 possibilities: if you use one-hot encoding it will be 1-documents/sentences, 2-token labels, 3-classes, if you use a single integer that indicates the number of the class it will be 1-documents/sentences, 2-token labels.\n",
        "\n",
        "**Baseline**: two layers architecture: a Bidirectional LSTM layer and a Dense/Fully-Connected layer on top; the choice of hyper-parameters is yours.\n",
        "\n",
        "**Architectures**: experiment using a GRU instead of the LSTM, adding an additional LSTM layer, and adding an additional dense layer; do not mix these variantions.\n",
        "\n",
        "\n",
        "**Training and Experiments**: all the experiments must involve only the training and validation sets.\n",
        "\n",
        "**Evaluation**: in the end, only the two best models of your choice (according to the validation set) must be evaluated on the test set. The main metric must be F1-Macro computed between the various part of speech. DO NOT CONSIDER THE PUNCTUATION CLASSES.\n",
        "\n",
        "**Metrics**: the metric you must use to evaluate your final model is the F1-macro, WITHOUT considering punctuation/symbols classes; during the training process you can use accuracy because you can't use the F1 metric unless you use a single (gigantic) batch because there is no way to aggregate \"partial\" F1 scores computed on mini-batches.\n",
        "\n",
        "**Discussion and Error Analysis** : verify and discuss if the results on the test sets are coherent with those on the validation set; analyze the errors done by your model, try to understand which may be the causes and think about how to improve it.\n",
        "\n",
        "**Report**: you are asked to deliver the code of your experiments and a small pdf report of about 2 pages; the pdf must begin with the names of the people of your team and a small abstract (4-5 lines) that sums up your findings.\n",
        "\n",
        "# Out Of Vocabulary (OOV) terms\n",
        "\n",
        "How to handle words that are not in GloVe vocabulary?\n",
        "You can handle them as you want (random embedding, placeholder, whatever!), but they must be STATIC embeddings (you cannot train them).\n",
        "\n",
        "But there is a very important caveat! As usual, the element of the test set must not influence the elements of the other splits!\n",
        "\n",
        "So, when you compute new embeddings for train+validation, you must forget about test documents.\n",
        "The motivation is to emulate a real-world scenario, where you select and train a model in the first stage, without knowing nothing about the testing environment.\n",
        "\n",
        "For implementation convenience, you CAN use a single vocabulary file/matrix/whatever. The principle of the previous point is that the embeddings inside that file/matrix must be generated independently for train and test splits.\n",
        "\n",
        "Basically in a real-world scenario, this is what would happen:\n",
        "1. Starting vocabulary V1 (in this assignment, GloVe vocabulary)\n",
        "2. Compute embeddings for terms out of vocabulary V1 (OOV1) of the training split \n",
        "3. Add embeddings to the vocabulary, so to obtain vocabulary V2=V1+OOV1\n",
        "4. Training of the model(s)\n",
        "5. Compute embeddings for terms OOV2 of the validation split \n",
        "6. Add embeddings to the vocabulary, so to obtain vocabulary V3=V1+OOV1+OOV2\n",
        "7. Validation of the model(s)\n",
        "8. Compute embeddings for terms OOV3 of the test split \n",
        "9. Add embeddings to the vocabulary, so to obtain vocabulary V4=V1+OOV1+OOV2+OOV3\n",
        "10. Testing of the final model\n",
        "\n",
        "In this case, where we already have all the documents, we can simplify the process a bit, but the procedure must remain rigorous.\n",
        "\n",
        "1. Starting vocabulary V1 (in this assignment, GloVe vocabulary)\n",
        "2. Compute embeddings for terms out of vocabulary V1 (OOV1) of the training split \n",
        "3. Add embeddings to the vocabulary, so to obtain vocabulary V2=V1+OOV1\n",
        "4. Compute embeddings for terms OOV2 of the validation split \n",
        "5. Add embeddings to the vocabulary, so to obtain vocabulary V3=V1+OOV1+OOV2\n",
        "6. Compute embeddings for terms OOV3 of the test split \n",
        "7. Add embeddings to the vocabulary, so to obtain vocabulary V4=V1+OOV1+OOV2\n",
        "8. Training of the model(s)\n",
        "9. Validation of the model(s)\n",
        "10. Testing of the final model\n",
        "\n",
        "Step 2 and step 6 must be completely independent of each other, for what concerns the method and the documents. But they can rely on the previous vocabulary (V1 for step 2 and V3 for step 6)\n",
        "THEREFORE if a word is present both in the training set and the test split and not in the starting vocabulary, its embedding is computed in step 2) and it is not considered OOV anymore in step 6).\n",
        "\n",
        "# Report\n",
        "The report must not be just a copy and paste of graphs and tables!\n",
        "\n",
        "The report must not be longer than 2 pages and must contain:\n",
        "* The names of the member of your team\n",
        "* A short abstract (4-5 lines) that sum ups everything\n",
        "* A general description of the task you have addressed and how you have addressed it\n",
        "* A short description of the models you have used\n",
        "* Some tables that sum up your findings in validation and test and a discussion of those results\n",
        "* The most relevant findings of your error analysis\n",
        "\n",
        "# Evaluation Criterion\n",
        "\n",
        "The goal of this assignment is not to prove you can find best model ever, but to face a common task, structure it correctly, and follow a correct and rigorous experimental procedure.\n",
        "In other words, we don't care if you final models are awful as long as you have followed the correct procedure and wrote a decent report.\n",
        "\n",
        "The score of the assignment will be computed roughly as follows\n",
        "* 1 point for the general setting of the problem\n",
        "* 1 point for the handling of OOV terms\n",
        "* 1 point for the models\n",
        "* 1 point for train-validation-test procedure\n",
        "* 2 point for the discussion of the results, error analysis, and report\n",
        "\n",
        "This distribution of scores is tentative and we may decide to alter it at any moment.\n",
        "We also reserve the right to assign a small bonus (0.5 points) to any assignment that is particularly worthy. Similarly, in case of grave errors, we may decide to assign an equivalent malus (-0.5 points).\n",
        "\n",
        "# Contacts\n",
        "\n",
        "In case of any doubt, question, issue, or help we highly recommend you to check the [course useful material](https://virtuale.unibo.it/pluginfile.php/1036039/mod_resource/content/2/NLP_Course_Useful_Material.pdf) for additional information, and to use the Virtuale forums to discuss with other students.\n",
        "\n",
        "You can always contact us at the following email addresses. To increase the probability of a prompt response, we reccomend you to write to both the teaching assistants.\n",
        "\n",
        "Teaching Assistants:\n",
        "\n",
        "* Andrea Galassi -> a.galassi@unibo.it\n",
        "* Federico Ruggeri -> federico.ruggeri6@unibo.it\n",
        "\n",
        "Professor:\n",
        "\n",
        "* Paolo Torroni -> p.torroni@unibo.it\n",
        "\n",
        "\n",
        "# FAQ\n",
        "* You can use a non-trainable Embedding layer to load the glove embeddings\n",
        "* You can use any library of your choice to implement the networks. Two options are tensorflow/keras or pythorch. Both these libraries have all the classes you need to implement these simple architectures and there are plenty of tutorials around, where you can learn how to use them."
      ]
    },
    {
      "cell_type": "markdown",
      "metadata": {
        "id": "CPbooqaZWlwE"
      },
      "source": [
        "### Preliminaries operations"
      ]
    },
    {
      "cell_type": "code",
      "metadata": {
        "colab": {
          "base_uri": "https://localhost:8080/"
        },
        "id": "izcCGCP1WlwH",
        "outputId": "4eb3da27-8c84-4a2e-943e-8e5363d37f45"
      },
      "source": [
        "#importing libraries\n",
        "!unzip dependency_treebank.zip\n",
        "!pip install simplejson\n",
        "import simplejson as sj\n",
        "import pandas as pd\n",
        "import numpy as np\n",
        "import matplotlib.pyplot as plt\n",
        "from collections import OrderedDict \n",
        "import zipfile\n",
        "import os\n",
        "import urllib.request\n",
        "from tensorflow import keras\n",
        "from keras.preprocessing.text import Tokenizer\n",
        "from keras.preprocessing.sequence import pad_sequences\n",
        "from keras.models import Sequential\n",
        "from keras.layers import *\n",
        "from keras.utils.np_utils import to_categorical\n",
        "from keras.initializers import Constant\n",
        "from sklearn.manifold import TSNE\n",
        "import random\n",
        "from tqdm import tqdm #for progress bar\n",
        "from scipy import spatial\n",
        "import seaborn as sns\n",
        "from keras.layers import Bidirectional"
      ],
      "execution_count": 5,
      "outputs": [
        {
          "output_type": "stream",
          "name": "stdout",
          "text": [
            "unzip:  cannot find or open dependency_treebank.zip, dependency_treebank.zip.zip or dependency_treebank.zip.ZIP.\n",
            "Requirement already satisfied: simplejson in /usr/local/lib/python3.7/dist-packages (3.17.6)\n"
          ]
        }
      ]
    },
    {
      "cell_type": "markdown",
      "metadata": {
        "id": "nOswUwIZWlwI"
      },
      "source": [
        "   ### Importing Data\n",
        "   We import Data from dependecy_treebank and we save it in a DataFrame that contains two column labels \"word\" where is collected each word, and in \"class_id\" where is collected each tag. \n",
        "   Then we show the Dataset."
      ]
    },
    {
      "cell_type": "code",
      "metadata": {
        "colab": {
          "base_uri": "https://localhost:8080/",
          "height": 380
        },
        "id": "bAmOkTVIWlwI",
        "outputId": "18a6e205-b018-44a8-fd43-d63b532acc22"
      },
      "source": [
        "list_word = []\n",
        "list_class = []\n",
        "data = []\n",
        "train_ind: int\n",
        "val_ind: int\n",
        "for i in tqdm(range(1, 200)):\n",
        "    if i<10:\n",
        "        df = pd.read_table('/content/wsj_000{}.dp'.format(i), header = None)\n",
        "    elif i>=10 and i<100:\n",
        "        df = pd.read_table('/content/wsj_00{}.dp'.format(i), header = None)\n",
        "    else:\n",
        "        df = pd.read_table('/content/wsj_0{}.dp'.format(i), header = None)\n",
        "    for j in range(0,df.shape[0]):\n",
        "        list_word.append(df[0][j]) \n",
        "        list_class.append(df[1][j])\n",
        "    if i==99:\n",
        "        train_ind = len(list_word)\n",
        "    elif i==149:\n",
        "        val_ind = len(list_word)\n",
        "\n",
        "data = list(zip(list_word,list_class))\n",
        "df = pd.DataFrame(data, columns =['word', 'class_id'])\n",
        "\n",
        "df.head(10)"
      ],
      "execution_count": 6,
      "outputs": [
        {
          "output_type": "stream",
          "name": "stderr",
          "text": [
            "100%|██████████| 199/199 [00:01<00:00, 103.98it/s]\n"
          ]
        },
        {
          "output_type": "execute_result",
          "data": {
            "text/html": [
              "<div>\n",
              "<style scoped>\n",
              "    .dataframe tbody tr th:only-of-type {\n",
              "        vertical-align: middle;\n",
              "    }\n",
              "\n",
              "    .dataframe tbody tr th {\n",
              "        vertical-align: top;\n",
              "    }\n",
              "\n",
              "    .dataframe thead th {\n",
              "        text-align: right;\n",
              "    }\n",
              "</style>\n",
              "<table border=\"1\" class=\"dataframe\">\n",
              "  <thead>\n",
              "    <tr style=\"text-align: right;\">\n",
              "      <th></th>\n",
              "      <th>word</th>\n",
              "      <th>class_id</th>\n",
              "    </tr>\n",
              "  </thead>\n",
              "  <tbody>\n",
              "    <tr>\n",
              "      <th>0</th>\n",
              "      <td>Pierre</td>\n",
              "      <td>NNP</td>\n",
              "    </tr>\n",
              "    <tr>\n",
              "      <th>1</th>\n",
              "      <td>Vinken</td>\n",
              "      <td>NNP</td>\n",
              "    </tr>\n",
              "    <tr>\n",
              "      <th>2</th>\n",
              "      <td>,</td>\n",
              "      <td>,</td>\n",
              "    </tr>\n",
              "    <tr>\n",
              "      <th>3</th>\n",
              "      <td>61</td>\n",
              "      <td>CD</td>\n",
              "    </tr>\n",
              "    <tr>\n",
              "      <th>4</th>\n",
              "      <td>years</td>\n",
              "      <td>NNS</td>\n",
              "    </tr>\n",
              "    <tr>\n",
              "      <th>5</th>\n",
              "      <td>old</td>\n",
              "      <td>JJ</td>\n",
              "    </tr>\n",
              "    <tr>\n",
              "      <th>6</th>\n",
              "      <td>,</td>\n",
              "      <td>,</td>\n",
              "    </tr>\n",
              "    <tr>\n",
              "      <th>7</th>\n",
              "      <td>will</td>\n",
              "      <td>MD</td>\n",
              "    </tr>\n",
              "    <tr>\n",
              "      <th>8</th>\n",
              "      <td>join</td>\n",
              "      <td>VB</td>\n",
              "    </tr>\n",
              "    <tr>\n",
              "      <th>9</th>\n",
              "      <td>the</td>\n",
              "      <td>DT</td>\n",
              "    </tr>\n",
              "  </tbody>\n",
              "</table>\n",
              "</div>"
            ],
            "text/plain": [
              "     word class_id\n",
              "0  Pierre      NNP\n",
              "1  Vinken      NNP\n",
              "2       ,        ,\n",
              "3      61       CD\n",
              "4   years      NNS\n",
              "5     old       JJ\n",
              "6       ,        ,\n",
              "7    will       MD\n",
              "8    join       VB\n",
              "9     the       DT"
            ]
          },
          "metadata": {},
          "execution_count": 6
        }
      ]
    },
    {
      "cell_type": "markdown",
      "metadata": {
        "id": "T3_VfRB4Idpa"
      },
      "source": [
        "##Preprocessing"
      ]
    },
    {
      "cell_type": "markdown",
      "metadata": {
        "id": "GFOwWKPgIhWu"
      },
      "source": [
        "We've created the method df_cleaner that:\n",
        "\n",
        "1.   Reset the index of the dataframe (due to the division of the dataset the Validation and Test set do NOT start with the correct index)\n",
        "\n",
        "2.   Set lowercase all the words that are at the beginning of sentence and are not proper name, in     order to not have duplicate on the vocabulary (e.g. \"the\" and \"The\")."
      ]
    },
    {
      "cell_type": "code",
      "metadata": {
        "id": "jiLeeGA4IHO9"
      },
      "source": [
        "#setting lowercase and deleting punctuation\n",
        "def df_cleaner(dataframe, label1,label2):\n",
        "    dataframe = dataframe.reset_index()\n",
        "    for i in range(0,dataframe.shape[0]-1):\n",
        "        #punctuation removal\n",
        "        if dataframe[label2][i] == '.' and dataframe[label2][i+1] != 'NNP':\n",
        "            dataframe[label1][i+1] = str(dataframe[label1][i+1]).lower()\n",
        "    '''dataframe = dataframe[dataframe[label2] != ',']\n",
        "    dataframe = dataframe[dataframe[label2] != '``']\n",
        "    dataframe = dataframe[dataframe[label2] != \"''\"]\n",
        "    dataframe = dataframe[dataframe[label2] != ':']\n",
        "    dataframe = dataframe[dataframe[label2] != '$']\n",
        "    dataframe = dataframe[dataframe[label2] != '#']\n",
        "    dataframe = dataframe[dataframe[label2] != '.']\n",
        "    dataframe = dataframe.reset_index()'''\n",
        "    return dataframe "
      ],
      "execution_count": 7,
      "outputs": []
    },
    {
      "cell_type": "markdown",
      "metadata": {
        "id": "RFMm9_I0WlwM"
      },
      "source": [
        "\n",
        "We've created the method df_cleaner_phrases that:\n",
        "\n",
        "1.   Reset the index of the dataframe (due to the division of the dataset the Validation and Test set do NOT start with the correct index)\n",
        "\n",
        "2.   Set lowercase all the words that are at the beginning of sentence and are not proper name, in     order to not have duplicate on the vocabulary (e.g. \"the\" and \"The\").\n",
        "\n",
        "4. We divide the Dataset in phrases and we rename the labels in \"phrase\" instead of \"word\" and       \"phrase_class_id\" instead of \"class_id\n",
        "\n"
      ]
    },
    {
      "cell_type": "code",
      "metadata": {
        "id": "0yRkhX2kWlwN"
      },
      "source": [
        "#setting lowercase\n",
        "def df_cleaner_phrases(dataframe, label1,label2):\n",
        "    dataframe = dataframe.reset_index()\n",
        "    for i in range(0,dataframe.shape[0]-1):\n",
        "        if dataframe[label2][i] == '.' and dataframe[label2][i+1] != 'NNP':\n",
        "            dataframe[label1][i+1] = str(dataframe[label1][i+1]).lower()\n",
        "  \n",
        "    #phrase division\n",
        "    phrase= []\n",
        "    phrases=[]\n",
        "    class_phrase= []\n",
        "    class_phrases=[]\n",
        "    for i in tqdm(range(0,len(dataframe))): \n",
        "        name = dataframe[label1][i]\n",
        "        phrase.append(dataframe[label1][i])\n",
        "        class_phrase.append(dataframe[label2][i]) \n",
        "\n",
        "        if name=='.' : \n",
        "            class_phrases.append(class_phrase)\n",
        "            phrases.append(phrase)\n",
        "            class_phrase = []\n",
        "            phrase = []\n",
        "    \n",
        "    # phrase dataframe created\n",
        "    data = list(zip(phrases,class_phrases))\n",
        "    df_phrases = pd.DataFrame(data, columns =['phrase', 'phrase_class_id']) \n",
        "\n",
        "    return df_phrases \n"
      ],
      "execution_count": 8,
      "outputs": []
    },
    {
      "cell_type": "code",
      "metadata": {
        "colab": {
          "base_uri": "https://localhost:8080/"
        },
        "id": "kg0UM1gU1fBo",
        "outputId": "f531e014-f034-4f76-e3df-16624eb82cf6"
      },
      "source": [
        "#dataset composed by words and class_id divided in training, validation and test set\n",
        "df_train = df[0:train_ind] \n",
        "df_val = df[train_ind:val_ind] \n",
        "df_test = df[val_ind::] \n",
        "\n",
        "#cleaning the whole dataframe\n",
        "df_cleaned = df_cleaner(df,'word','class_id')\n",
        "\n",
        "#dataset composed by phrases and class_id divided in training, validation and test set\n",
        "df_train_cleaned = df_cleaner(df_train,'word','class_id')\n",
        "df_val_cleaned = df_cleaner(df_val,'word','class_id')\n",
        "df_test_cleaned = df_cleaner(df_test,'word','class_id')\n",
        "\n",
        "#cleaning the whole dataframe phrases\n",
        "df_phrases = df_cleaner_phrases(df,'word','class_id')\n",
        "\n",
        "#df_phrases_train = df_cleaner(df_train,'word','class_id')\n",
        "df_phrases_train = df_cleaner_phrases(df_train,'word','class_id')\n",
        "df_phrases_val = df_cleaner_phrases(df_val,'word','class_id')\n",
        "df_phrases_test = df_cleaner_phrases(df_test,'word','class_id')"
      ],
      "execution_count": 9,
      "outputs": [
        {
          "output_type": "stream",
          "name": "stderr",
          "text": [
            "/usr/local/lib/python3.7/dist-packages/ipykernel_launcher.py:7: SettingWithCopyWarning: \n",
            "A value is trying to be set on a copy of a slice from a DataFrame\n",
            "\n",
            "See the caveats in the documentation: https://pandas.pydata.org/pandas-docs/stable/user_guide/indexing.html#returning-a-view-versus-a-copy\n",
            "  import sys\n",
            "/usr/local/lib/python3.7/dist-packages/ipykernel_launcher.py:6: SettingWithCopyWarning: \n",
            "A value is trying to be set on a copy of a slice from a DataFrame\n",
            "\n",
            "See the caveats in the documentation: https://pandas.pydata.org/pandas-docs/stable/user_guide/indexing.html#returning-a-view-versus-a-copy\n",
            "  \n",
            "100%|██████████| 94084/94084 [00:02<00:00, 44836.81it/s]\n",
            "100%|██████████| 46451/46451 [00:01<00:00, 44751.78it/s]\n",
            "100%|██████████| 31924/31924 [00:00<00:00, 42785.60it/s]\n",
            "100%|██████████| 15709/15709 [00:00<00:00, 44291.04it/s]\n"
          ]
        }
      ]
    },
    {
      "cell_type": "code",
      "metadata": {
        "colab": {
          "base_uri": "https://localhost:8080/",
          "height": 518
        },
        "id": "JxaQDHWHja6Z",
        "outputId": "2f3bf36c-0ab8-4971-fe66-191b7cbc3c4e"
      },
      "source": [
        "fig_size = plt.rcParams[\"figure.figsize\"]\n",
        "fig_size[0] = 10\n",
        "fig_size[1] = 8\n",
        "plt.rcParams[\"figure.figsize\"] = fig_size\n",
        "\n",
        "df_cleaned[\"class_id\"].value_counts().plot.bar()"
      ],
      "execution_count": 10,
      "outputs": [
        {
          "output_type": "execute_result",
          "data": {
            "text/plain": [
              "<matplotlib.axes._subplots.AxesSubplot at 0x7efe17b8a590>"
            ]
          },
          "metadata": {},
          "execution_count": 10
        },
        {
          "output_type": "display_data",
          "data": {
            "image/png": "[encoded data removed]",
            "text/plain": [
              "<Figure size 720x576 with 1 Axes>"
            ]
          },
          "metadata": {
            "needs_background": "light"
          }
        }
      ]
    },
    {
      "cell_type": "code",
      "metadata": {
        "colab": {
          "base_uri": "https://localhost:8080/",
          "height": 363
        },
        "id": "NozorclY-FWe",
        "outputId": "5cfd1b20-1638-466f-8300-da8f49c67c93"
      },
      "source": [
        "#showing the training set divided in phrases \n",
        "#df_train_cleaned.head(10)\n",
        "df_phrases.head(10)"
      ],
      "execution_count": 11,
      "outputs": [
        {
          "output_type": "execute_result",
          "data": {
            "text/html": [
              "<div>\n",
              "<style scoped>\n",
              "    .dataframe tbody tr th:only-of-type {\n",
              "        vertical-align: middle;\n",
              "    }\n",
              "\n",
              "    .dataframe tbody tr th {\n",
              "        vertical-align: top;\n",
              "    }\n",
              "\n",
              "    .dataframe thead th {\n",
              "        text-align: right;\n",
              "    }\n",
              "</style>\n",
              "<table border=\"1\" class=\"dataframe\">\n",
              "  <thead>\n",
              "    <tr style=\"text-align: right;\">\n",
              "      <th></th>\n",
              "      <th>phrase</th>\n",
              "      <th>phrase_class_id</th>\n",
              "    </tr>\n",
              "  </thead>\n",
              "  <tbody>\n",
              "    <tr>\n",
              "      <th>0</th>\n",
              "      <td>[Pierre, Vinken, ,, 61, years, old, ,, will, j...</td>\n",
              "      <td>[NNP, NNP, ,, CD, NNS, JJ, ,, MD, VB, DT, NN, ...</td>\n",
              "    </tr>\n",
              "    <tr>\n",
              "      <th>1</th>\n",
              "      <td>[Mr., Vinken, is, chairman, of, Elsevier, N.V....</td>\n",
              "      <td>[NNP, NNP, VBZ, NN, IN, NNP, NNP, ,, DT, NNP, ...</td>\n",
              "    </tr>\n",
              "    <tr>\n",
              "      <th>2</th>\n",
              "      <td>[Rudolph, Agnew, ,, 55, years, old, and, forme...</td>\n",
              "      <td>[NNP, NNP, ,, CD, NNS, JJ, CC, JJ, NN, IN, NNP...</td>\n",
              "    </tr>\n",
              "    <tr>\n",
              "      <th>3</th>\n",
              "      <td>[a, form, of, asbestos, once, used, to, make, ...</td>\n",
              "      <td>[DT, NN, IN, NN, RB, VBN, TO, VB, NNP, NN, NNS...</td>\n",
              "    </tr>\n",
              "    <tr>\n",
              "      <th>4</th>\n",
              "      <td>[the, asbestos, fiber, ,, crocidolite, ,, is, ...</td>\n",
              "      <td>[DT, NN, NN, ,, NN, ,, VBZ, RB, JJ, IN, PRP, V...</td>\n",
              "    </tr>\n",
              "    <tr>\n",
              "      <th>5</th>\n",
              "      <td>[Lorillard, Inc., ,, the, unit, of, New, York-...</td>\n",
              "      <td>[NNP, NNP, ,, DT, NN, IN, JJ, JJ, NNP, NNP, WD...</td>\n",
              "    </tr>\n",
              "    <tr>\n",
              "      <th>6</th>\n",
              "      <td>[although, preliminary, findings, were, report...</td>\n",
              "      <td>[IN, JJ, NNS, VBD, VBN, RBR, IN, DT, NN, IN, ,...</td>\n",
              "    </tr>\n",
              "    <tr>\n",
              "      <th>7</th>\n",
              "      <td>[a, Lorillard, spokewoman, said, ,, ``, This, ...</td>\n",
              "      <td>[DT, NNP, NN, VBD, ,, ``, DT, VBZ, DT, JJ, NN, .]</td>\n",
              "    </tr>\n",
              "    <tr>\n",
              "      <th>8</th>\n",
              "      <td>[we, 're, talking, about, years, ago, before, ...</td>\n",
              "      <td>[PRP, VBP, VBG, IN, NNS, IN, IN, NN, VBD, IN, ...</td>\n",
              "    </tr>\n",
              "    <tr>\n",
              "      <th>9</th>\n",
              "      <td>[there, is, no, asbestos, in, our, products, n...</td>\n",
              "      <td>[EX, VBZ, DT, NN, IN, PRP$, NNS, RB, .]</td>\n",
              "    </tr>\n",
              "  </tbody>\n",
              "</table>\n",
              "</div>"
            ],
            "text/plain": [
              "                                              phrase                                    phrase_class_id\n",
              "0  [Pierre, Vinken, ,, 61, years, old, ,, will, j...  [NNP, NNP, ,, CD, NNS, JJ, ,, MD, VB, DT, NN, ...\n",
              "1  [Mr., Vinken, is, chairman, of, Elsevier, N.V....  [NNP, NNP, VBZ, NN, IN, NNP, NNP, ,, DT, NNP, ...\n",
              "2  [Rudolph, Agnew, ,, 55, years, old, and, forme...  [NNP, NNP, ,, CD, NNS, JJ, CC, JJ, NN, IN, NNP...\n",
              "3  [a, form, of, asbestos, once, used, to, make, ...  [DT, NN, IN, NN, RB, VBN, TO, VB, NNP, NN, NNS...\n",
              "4  [the, asbestos, fiber, ,, crocidolite, ,, is, ...  [DT, NN, NN, ,, NN, ,, VBZ, RB, JJ, IN, PRP, V...\n",
              "5  [Lorillard, Inc., ,, the, unit, of, New, York-...  [NNP, NNP, ,, DT, NN, IN, JJ, JJ, NNP, NNP, WD...\n",
              "6  [although, preliminary, findings, were, report...  [IN, JJ, NNS, VBD, VBN, RBR, IN, DT, NN, IN, ,...\n",
              "7  [a, Lorillard, spokewoman, said, ,, ``, This, ...  [DT, NNP, NN, VBD, ,, ``, DT, VBZ, DT, JJ, NN, .]\n",
              "8  [we, 're, talking, about, years, ago, before, ...  [PRP, VBP, VBG, IN, NNS, IN, IN, NN, VBD, IN, ...\n",
              "9  [there, is, no, asbestos, in, our, products, n...            [EX, VBZ, DT, NN, IN, PRP$, NNS, RB, .]"
            ]
          },
          "metadata": {},
          "execution_count": 11
        }
      ]
    },
    {
      "cell_type": "markdown",
      "metadata": {
        "id": "wCLwcd0SWlwP"
      },
      "source": [
        "### Dataframes's tokenization"
      ]
    },
    {
      "cell_type": "markdown",
      "metadata": {
        "id": "f2x3mzXeLDF0"
      },
      "source": [
        "We created the method tokenization that tokenize taking in input that dataframe and returns phrases,classes_id, tokenizer_phrase and tokenizer_class_id"
      ]
    },
    {
      "cell_type": "code",
      "metadata": {
        "id": "Dfxm9VgJ8tNq"
      },
      "source": [
        "#tokenization \n",
        "def tokenization(df_phrases_divided):\n",
        "  tokenizer_phrase = Tokenizer()\n",
        "  tokenizer_class_id=Tokenizer()\n",
        "\n",
        "  tokenizer_phrase.fit_on_texts(df_phrases[\"phrase\"])\n",
        "  tokenizer_class_id.fit_on_texts(df_phrases[\"phrase_class_id\"])\n",
        "\n",
        "  X_encoded = tokenizer_phrase.texts_to_sequences(df_phrases_divided[\"phrase\"])\n",
        "\n",
        "  y_encoded = tokenizer_class_id.texts_to_sequences(df_phrases_divided[\"phrase_class_id\"])\n",
        "\n",
        "  print(\"** Raw data point **\", \"\\n\", \"-\"*100, \"\\n\") \n",
        "  print('X: ', df_phrases_divided[\"phrase\"][0], '\\n') \n",
        "  print('Y: ', df_phrases_divided[\"phrase_class_id\"][0], '\\n') \n",
        "  print() \n",
        "  print(\"** Encoded data point **\", \"\\n\", \"-\"*100, \"\\n\") \n",
        "  print('X: ', X_encoded[0], '\\n') \n",
        "  print('Y: ', y_encoded[0], '\\n')\n",
        "  print(len(X_encoded))\n",
        "  print(len(y_encoded))\n",
        "  print(df_phrases.shape)\n",
        "\n",
        "  return X_encoded, y_encoded, tokenizer_phrase, tokenizer_class_id"
      ],
      "execution_count": 12,
      "outputs": []
    },
    {
      "cell_type": "code",
      "metadata": {
        "colab": {
          "base_uri": "https://localhost:8080/"
        },
        "id": "_qgPIKS6-JYL",
        "outputId": "858491a7-15df-4202-f18b-cad7b8ededb0"
      },
      "source": [
        "#tokenization of the training set\n",
        "X_encoded_train,y_encoded_train,tokenizer_phrase_train,tokenizer_class_id_train = tokenization(df_phrases_train)"
      ],
      "execution_count": 13,
      "outputs": [
        {
          "output_type": "stream",
          "name": "stdout",
          "text": [
            "** Raw data point ** \n",
            " ---------------------------------------------------------------------------------------------------- \n",
            "\n",
            "X:  ['Pierre', 'Vinken', ',', '61', 'years', 'old', ',', 'will', 'join', 'the', 'board', 'as', 'a', 'nonexecutive', 'director', 'Nov.', '29', '.'] \n",
            "\n",
            "Y:  ['NNP', 'NNP', ',', 'CD', 'NNS', 'JJ', ',', 'MD', 'VB', 'DT', 'NN', 'IN', 'DT', 'JJ', 'NN', 'NNP', 'CD', '.'] \n",
            "\n",
            "\n",
            "** Encoded data point ** \n",
            " ---------------------------------------------------------------------------------------------------- \n",
            "\n",
            "X:  [5419, 3714, 1, 2005, 78, 316, 1, 39, 2383, 2, 122, 22, 6, 2006, 317, 444, 2007, 3] \n",
            "\n",
            "Y:  [3, 3, 7, 9, 5, 6, 7, 20, 12, 4, 1, 2, 4, 6, 1, 3, 9, 8] \n",
            "\n",
            "1896\n",
            "1896\n",
            "(3828, 2)\n"
          ]
        }
      ]
    },
    {
      "cell_type": "code",
      "metadata": {
        "colab": {
          "base_uri": "https://localhost:8080/"
        },
        "id": "oUHy8bci-foY",
        "outputId": "d546a68b-fbb2-4a3e-eb8b-9b40aeecfc66"
      },
      "source": [
        "#tokenization of the validation set\n",
        "X_encoded_val,y_encoded_val,tokenizer_phrase_val,tokenizer_class_id_val = tokenization(df_phrases_val)"
      ],
      "execution_count": 14,
      "outputs": [
        {
          "output_type": "stream",
          "name": "stdout",
          "text": [
            "** Raw data point ** \n",
            " ---------------------------------------------------------------------------------------------------- \n",
            "\n",
            "X:  ['For', 'six', 'years', ',', 'T.', 'Marshall', 'Hahn', 'Jr.', 'has', 'made', 'corporate', 'acquisitions', 'in', 'the', 'George', 'Bush', 'mode', ':', 'kind', 'and', 'gentle', '.'] \n",
            "\n",
            "Y:  ['IN', 'CD', 'NNS', ',', 'NNP', 'NNP', 'NNP', 'NNP', 'VBZ', 'VBN', 'JJ', 'NNS', 'IN', 'DT', 'NNP', 'NNP', 'NN', ':', 'JJ', 'CC', 'JJ', '.'] \n",
            "\n",
            "\n",
            "** Encoded data point ** \n",
            " ---------------------------------------------------------------------------------------------------- \n",
            "\n",
            "X:  [10, 332, 78, 1, 1037, 1880, 556, 977, 31, 169, 328, 1214, 7, 2, 2118, 226, 8268, 67, 799, 8, 8269, 3] \n",
            "\n",
            "Y:  [2, 9, 5, 7, 3, 3, 3, 3, 16, 15, 6, 5, 2, 4, 3, 3, 1, 26, 6, 13, 6, 8] \n",
            "\n",
            "1287\n",
            "1287\n",
            "(3828, 2)\n"
          ]
        }
      ]
    },
    {
      "cell_type": "code",
      "metadata": {
        "colab": {
          "base_uri": "https://localhost:8080/"
        },
        "id": "3iuapcbj__uD",
        "outputId": "51f15bf4-4e2d-4780-f399-dcbdb0ac3927"
      },
      "source": [
        "#tokenization of the test set\n",
        "X_encoded_test,y_encoded_test,tokenizer_phrase_test, tokenizer_class_id_test = tokenization(df_phrases_test)"
      ],
      "execution_count": 15,
      "outputs": [
        {
          "output_type": "stream",
          "name": "stdout",
          "text": [
            "** Raw data point ** \n",
            " ---------------------------------------------------------------------------------------------------- \n",
            "\n",
            "X:  ['A.L.', 'Williams', 'Corp.', 'was', 'merged', 'into', 'Primerica', 'Corp.', ',', 'New', 'York', ',', 'after', 'a', 'special', 'meeting', 'of', 'Williams', 'shareholders', 'cleared', 'the', 'transaction', ',', 'the', 'companies', 'said', '.'] \n",
            "\n",
            "Y:  ['NNP', 'NNP', 'NNP', 'VBD', 'VBN', 'IN', 'NNP', 'NNP', ',', 'NNP', 'NNP', ',', 'IN', 'DT', 'JJ', 'NN', 'IN', 'NNP', 'NNS', 'VBD', 'DT', 'NN', ',', 'DT', 'NNS', 'VBD', '.'] \n",
            "\n",
            "\n",
            "** Encoded data point ** \n",
            " ---------------------------------------------------------------------------------------------------- \n",
            "\n",
            "X:  [5305, 1216, 76, 28, 4330, 103, 2869, 76, 1, 33, 85, 1, 100, 6, 761, 703, 4, 1216, 563, 10080, 2, 564, 1, 2, 146, 16, 3] \n",
            "\n",
            "Y:  [3, 3, 3, 10, 15, 2, 3, 3, 7, 3, 3, 7, 2, 4, 6, 1, 2, 3, 5, 10, 4, 1, 7, 4, 5, 10, 8] \n",
            "\n",
            "645\n",
            "645\n",
            "(3828, 2)\n"
          ]
        }
      ]
    },
    {
      "cell_type": "code",
      "metadata": {
        "colab": {
          "base_uri": "https://localhost:8080/"
        },
        "id": "BdExf2sdbzWV",
        "outputId": "8972dcc4-ddb2-4832-9145-cc218a6f83a8"
      },
      "source": [
        "#tokenization of ALL DATA\n",
        "X_encoded,y_encoded,tokenizer_phrase,tokenizer_class_id = tokenization(df_phrases)\n",
        "X_decoded = tokenizer_phrase.sequences_to_texts(X_encoded)"
      ],
      "execution_count": 16,
      "outputs": [
        {
          "output_type": "stream",
          "name": "stdout",
          "text": [
            "** Raw data point ** \n",
            " ---------------------------------------------------------------------------------------------------- \n",
            "\n",
            "X:  ['Pierre', 'Vinken', ',', '61', 'years', 'old', ',', 'will', 'join', 'the', 'board', 'as', 'a', 'nonexecutive', 'director', 'Nov.', '29', '.'] \n",
            "\n",
            "Y:  ['NNP', 'NNP', ',', 'CD', 'NNS', 'JJ', ',', 'MD', 'VB', 'DT', 'NN', 'IN', 'DT', 'JJ', 'NN', 'NNP', 'CD', '.'] \n",
            "\n",
            "\n",
            "** Encoded data point ** \n",
            " ---------------------------------------------------------------------------------------------------- \n",
            "\n",
            "X:  [5419, 3714, 1, 2005, 78, 316, 1, 39, 2383, 2, 122, 22, 6, 2006, 317, 444, 2007, 3] \n",
            "\n",
            "Y:  [3, 3, 7, 9, 5, 6, 7, 20, 12, 4, 1, 2, 4, 6, 1, 3, 9, 8] \n",
            "\n",
            "3828\n",
            "3828\n",
            "(3828, 2)\n"
          ]
        }
      ]
    },
    {
      "cell_type": "code",
      "metadata": {
        "colab": {
          "base_uri": "https://localhost:8080/"
        },
        "id": "dIqZcoQt1C9o",
        "outputId": "59672baf-f3b1-4f5e-e629-5d4db2e8249f"
      },
      "source": [
        "print(tokenizer_class_id.word_index)"
      ],
      "execution_count": 17,
      "outputs": [
        {
          "output_type": "stream",
          "name": "stdout",
          "text": [
            "{'nn': 1, 'in': 2, 'nnp': 3, 'dt': 4, 'nns': 5, 'jj': 6, ',': 7, '.': 8, 'cd': 9, 'vbd': 10, 'rb': 11, 'vb': 12, 'cc': 13, 'to': 14, 'vbn': 15, 'vbz': 16, 'prp': 17, 'vbg': 18, 'vbp': 19, 'md': 20, 'pos': 21, 'prp$': 22, '$': 23, '``': 24, \"''\": 25, ':': 26, 'wdt': 27, 'jjr': 28, 'nnps': 29, 'wp': 30, 'rp': 31, 'jjs': 32, 'wrb': 33, 'rbr': 34, '-rrb-': 35, '-lrb-': 36, 'ex': 37, 'rbs': 38, 'pdt': 39, '#': 40, 'wp$': 41, 'ls': 42, 'fw': 43, 'uh': 44, 'sym': 45}\n"
          ]
        }
      ]
    },
    {
      "cell_type": "code",
      "metadata": {
        "colab": {
          "base_uri": "https://localhost:8080/"
        },
        "id": "8kuJgQ-n8tae",
        "outputId": "122278ce-35ac-44c1-bb77-40a0bc992842"
      },
      "source": [
        "#We check that each sequence of input and output is same length \n",
        " \n",
        "different_length = [1 if len(input) != len(output) else 0 for input, output in zip(X_encoded_train, y_encoded_train)] \n",
        "print(\"{} sentences have disparate input-output lengths.\".format(sum(different_length)))"
      ],
      "execution_count": 18,
      "outputs": [
        {
          "output_type": "stream",
          "name": "stdout",
          "text": [
            "0 sentences have disparate input-output lengths.\n"
          ]
        }
      ]
    },
    {
      "cell_type": "markdown",
      "metadata": {
        "id": "iNG4ylhf2vgp"
      },
      "source": [
        "# Padding the dataframe"
      ]
    },
    {
      "cell_type": "markdown",
      "metadata": {
        "id": "vh9mEJ1iLlae"
      },
      "source": [
        "We created the method longest_sentence to check the longest sentence in the dataframe"
      ]
    },
    {
      "cell_type": "code",
      "metadata": {
        "id": "fb7aY7bE8tgA"
      },
      "source": [
        "#PADDING\n",
        "# check length of longest sentence\n",
        "def longest_sentence(X_encoded):\n",
        "  lengths = [len(seq) for seq in X_encoded] \n",
        "  print(\"Length of longest sentence: {}\".format(max(lengths))) \n",
        "  sns.boxplot(lengths) \n",
        "  plt.show()\n",
        "  return max(lengths)"
      ],
      "execution_count": 19,
      "outputs": []
    },
    {
      "cell_type": "code",
      "metadata": {
        "colab": {
          "base_uri": "https://localhost:8080/",
          "height": 555
        },
        "id": "eGOlKZdmA-LM",
        "outputId": "827e7818-e850-49be-ffea-20630d2fffd5"
      },
      "source": [
        "#Found the longest sentence in the training set\n",
        "MAX_SEQUENCE = longest_sentence(X_encoded)"
      ],
      "execution_count": 20,
      "outputs": [
        {
          "output_type": "stream",
          "name": "stdout",
          "text": [
            "Length of longest sentence: 250\n"
          ]
        },
        {
          "output_type": "stream",
          "name": "stderr",
          "text": [
            "/usr/local/lib/python3.7/dist-packages/seaborn/_decorators.py:43: FutureWarning: Pass the following variable as a keyword arg: x. From version 0.12, the only valid positional argument will be `data`, and passing other arguments without an explicit keyword will result in an error or misinterpretation.\n",
            "  FutureWarning\n"
          ]
        },
        {
          "output_type": "display_data",
          "data": {
            "image/png": "[encoded data removed]",
            "text/plain": [
              "<Figure size 720x576 with 1 Axes>"
            ]
          },
          "metadata": {
            "needs_background": "light"
          }
        }
      ]
    },
    {
      "cell_type": "code",
      "metadata": {
        "id": "7AZOjpI6A-R4"
      },
      "source": [
        "#Found the longest sentence in the validation set\n",
        "#MAX_SEQUENCE_VAL = 171 #longest_sentence(X_encoded_val)"
      ],
      "execution_count": 21,
      "outputs": []
    },
    {
      "cell_type": "code",
      "metadata": {
        "id": "EooS-nrIA-ZY"
      },
      "source": [
        "#Found the longest sentence in the test set\n",
        "#MAX_SEQUENCE_TEST = longest_sentence(X_encoded_test)"
      ],
      "execution_count": 22,
      "outputs": []
    },
    {
      "cell_type": "markdown",
      "metadata": {
        "id": "FBGt92guL8-K"
      },
      "source": [
        "We created the method padding to create the padding of the dataframe with the correct length"
      ]
    },
    {
      "cell_type": "code",
      "metadata": {
        "id": "jdZf78Q58tiU"
      },
      "source": [
        "#PADDING pad_sequences\n",
        "def padding(X_encoded, y_encoded, MAX_SEQ_LENGTH):\n",
        "  X_padded = pad_sequences(X_encoded,MAX_SEQ_LENGTH)\n",
        "  y_padded = pad_sequences(y_encoded,MAX_SEQ_LENGTH)\n",
        "  return X_padded, y_padded\n"
      ],
      "execution_count": 23,
      "outputs": []
    },
    {
      "cell_type": "code",
      "metadata": {
        "id": "hGIjM5MsCZd8"
      },
      "source": [
        "#padding creation for the training set\n",
        "X_padded_train, y_padded_train = padding(X_encoded_train, y_encoded_train, MAX_SEQUENCE)"
      ],
      "execution_count": 24,
      "outputs": []
    },
    {
      "cell_type": "code",
      "metadata": {
        "id": "bGWFWvG5CZje"
      },
      "source": [
        "#padding creation for the validation set\n",
        "X_padded_val, y_padded_val = padding(X_encoded_val, y_encoded_val,  MAX_SEQUENCE)"
      ],
      "execution_count": 25,
      "outputs": []
    },
    {
      "cell_type": "code",
      "metadata": {
        "id": "dHqpDEQfCZpC"
      },
      "source": [
        "#padding creation for the training set\n",
        "X_padded_test,y_padded_testt = padding(X_encoded_test,y_encoded_test,  MAX_SEQUENCE)"
      ],
      "execution_count": 26,
      "outputs": []
    },
    {
      "cell_type": "code",
      "metadata": {
        "id": "RQp2H92nduKG"
      },
      "source": [
        "#padding creation for all data set\n",
        "X_padded,y_padded = padding(X_encoded,y_encoded, MAX_SEQUENCE)"
      ],
      "execution_count": 27,
      "outputs": []
    },
    {
      "cell_type": "code",
      "metadata": {
        "colab": {
          "base_uri": "https://localhost:8080/",
          "height": 35
        },
        "id": "D9ypGgp-8tlF",
        "outputId": "f4ad0d31-d249-411b-c846-74ceaf60ab54"
      },
      "source": [
        "#we show a word's padding of the training set\n",
        "'''print(X_padded_train[0], \"\\n\"*3) \n",
        "print(y_padded_train[0])'''"
      ],
      "execution_count": 28,
      "outputs": [
        {
          "output_type": "execute_result",
          "data": {
            "application/vnd.google.colaboratory.intrinsic+json": {
              "type": "string"
            },
            "text/plain": [
              "'print(X_padded_train[0], \"\\n\"*3) \\nprint(y_padded_train[0])'"
            ]
          },
          "metadata": {},
          "execution_count": 28
        }
      ]
    },
    {
      "cell_type": "markdown",
      "metadata": {
        "id": "A_20D04Drxd_"
      },
      "source": [
        "Adding the padding to tokenizers"
      ]
    },
    {
      "cell_type": "code",
      "metadata": {
        "id": "wAl-t1T8ricu"
      },
      "source": [
        "tokenizer_class_id.word_index[0]=0\n",
        "tokenizer_class_id.index_word[0]=0\n",
        "tokenizer_class_id_test.word_index[0]=0\n",
        "tokenizer_class_id_val.word_index[0]=0\n",
        "tokenizer_class_id_train.word_index[0]=0\n",
        "\n",
        "tokenizer_phrase.word_index[0]=0\n",
        "tokenizer_phrase_test.word_index[0]=0\n",
        "tokenizer_phrase_val.word_index[0]=0\n",
        "tokenizer_phrase_train.word_index[0]=0\n"
      ],
      "execution_count": 29,
      "outputs": []
    },
    {
      "cell_type": "code",
      "metadata": {
        "colab": {
          "base_uri": "https://localhost:8080/"
        },
        "id": "Vroqtyvttv98",
        "outputId": "a099f620-429d-48ee-9454-c69ae0162125"
      },
      "source": [
        "print(dict(tokenizer_class_id.word_index)[0])\n",
        "print(tokenizer_class_id_test.word_index)"
      ],
      "execution_count": 30,
      "outputs": [
        {
          "output_type": "stream",
          "name": "stdout",
          "text": [
            "0\n",
            "{'nn': 1, 'in': 2, 'nnp': 3, 'dt': 4, 'nns': 5, 'jj': 6, ',': 7, '.': 8, 'cd': 9, 'vbd': 10, 'rb': 11, 'vb': 12, 'cc': 13, 'to': 14, 'vbn': 15, 'vbz': 16, 'prp': 17, 'vbg': 18, 'vbp': 19, 'md': 20, 'pos': 21, 'prp$': 22, '$': 23, '``': 24, \"''\": 25, ':': 26, 'wdt': 27, 'jjr': 28, 'nnps': 29, 'wp': 30, 'rp': 31, 'jjs': 32, 'wrb': 33, 'rbr': 34, '-rrb-': 35, '-lrb-': 36, 'ex': 37, 'rbs': 38, 'pdt': 39, '#': 40, 'wp$': 41, 'ls': 42, 'fw': 43, 'uh': 44, 'sym': 45, 0: 0}\n"
          ]
        }
      ]
    },
    {
      "cell_type": "markdown",
      "metadata": {
        "id": "V94bLQMIWlwT"
      },
      "source": [
        " ##  GloVe \n",
        " We start downloading GloVe"
      ]
    },
    {
      "cell_type": "code",
      "metadata": {
        "id": "i-saHqarWlwT",
        "colab": {
          "base_uri": "https://localhost:8080/"
        },
        "outputId": "5fbc418c-a423-4c20-a6cf-d683b373f43b"
      },
      "source": [
        "url = \"https://nlp.stanford.edu/data/glove.6B.zip\"\n",
        "\n",
        "glove_path = os.path.join(os.getcwd(),\"Glove\")\n",
        "glove_zip = os.path.join(os.getcwd(),\"Glove\", \"glove.6B.zip\")\n",
        "\n",
        "if not os.path.exists(glove_path):\n",
        "    os.makedirs(glove_path)\n",
        "\n",
        "if not os.path.exists(glove_zip):\n",
        "    urllib.request.urlretrieve(url, glove_zip)\n",
        "    print(\"Successful download\")\n",
        "\n",
        "with zipfile.ZipFile(glove_zip, 'r') as zip_ref:\n",
        "    zip_ref.extractall(path=glove_path)\n",
        "    print(\"Successful extraction\")"
      ],
      "execution_count": 31,
      "outputs": [
        {
          "output_type": "stream",
          "name": "stdout",
          "text": [
            "Successful download\n",
            "Successful extraction\n"
          ]
        }
      ]
    },
    {
      "cell_type": "code",
      "metadata": {
        "id": "1qsNzyElF7fD",
        "colab": {
          "base_uri": "https://localhost:8080/"
        },
        "outputId": "9d389dfb-ebe4-4a4c-a85d-6475f15f2aff"
      },
      "source": [
        "print(tokenizer_class_id.word_index) #SI PUò CANCELLARE?"
      ],
      "execution_count": 32,
      "outputs": [
        {
          "output_type": "stream",
          "name": "stdout",
          "text": [
            "{'nn': 1, 'in': 2, 'nnp': 3, 'dt': 4, 'nns': 5, 'jj': 6, ',': 7, '.': 8, 'cd': 9, 'vbd': 10, 'rb': 11, 'vb': 12, 'cc': 13, 'to': 14, 'vbn': 15, 'vbz': 16, 'prp': 17, 'vbg': 18, 'vbp': 19, 'md': 20, 'pos': 21, 'prp$': 22, '$': 23, '``': 24, \"''\": 25, ':': 26, 'wdt': 27, 'jjr': 28, 'nnps': 29, 'wp': 30, 'rp': 31, 'jjs': 32, 'wrb': 33, 'rbr': 34, '-rrb-': 35, '-lrb-': 36, 'ex': 37, 'rbs': 38, 'pdt': 39, '#': 40, 'wp$': 41, 'ls': 42, 'fw': 43, 'uh': 44, 'sym': 45, 0: 0}\n"
          ]
        }
      ]
    },
    {
      "cell_type": "markdown",
      "metadata": {
        "id": "gI-PK4aqMeau"
      },
      "source": [
        "#Embeddings' creation"
      ]
    },
    {
      "cell_type": "code",
      "metadata": {
        "id": "ZhitdkjVCeg3"
      },
      "source": [
        "#size of the vocabularies \n",
        "EMBEDDING_SIZE  = 50  # dimensions of the features of GloVe \n",
        "VOCABULARY_SIZE_TRAIN = len(tokenizer_phrase_train.word_index) + 1 \n",
        "VOCABULARY_SIZE_VAL = len(tokenizer_phrase_val.word_index) + 1 \n",
        "VOCABULARY_SIZE_TEST = len(tokenizer_phrase_test.word_index) + 1 \n",
        "\n",
        "VOCABULARY_SIZE = len(tokenizer_phrase.word_index) + 1 \n",
        "\n",
        "# create an empty embedding matix \n",
        "embedding_weights_train = np.zeros((VOCABULARY_SIZE_TRAIN, EMBEDDING_SIZE)) \n",
        "embedding_weights_val = np.zeros((VOCABULARY_SIZE_VAL, EMBEDDING_SIZE)) \n",
        "embedding_weights_test = np.zeros((VOCABULARY_SIZE_TEST, EMBEDDING_SIZE)) \n",
        "\n",
        "embedding_weights = np.zeros((VOCABULARY_SIZE, EMBEDDING_SIZE)) \n",
        "\n",
        "\n",
        "# create a word to index dictionary mapping \n",
        "word2id_train = tokenizer_phrase_train.word_index\n",
        "word2id_val= tokenizer_phrase_val.word_index\n",
        "word2id_test = tokenizer_phrase_test.word_index\n",
        "\n",
        "word2id = tokenizer_phrase.word_index"
      ],
      "execution_count": 33,
      "outputs": []
    },
    {
      "cell_type": "markdown",
      "metadata": {
        "id": "ED_gMlZhWlwU"
      },
      "source": [
        "Now we create the word embeddings of GloVe V1\n",
        "\n"
      ]
    },
    {
      "cell_type": "code",
      "metadata": {
        "id": "EWxL7u8qWlwU",
        "colab": {
          "base_uri": "https://localhost:8080/"
        },
        "outputId": "de4c6555-2483-42eb-f3df-0c2dbfe886db"
      },
      "source": [
        "V1 = {}\n",
        "glove_path = '/content/Glove'\n",
        "with open(glove_path + '/glove.6B.{}d.txt'.format(EMBEDDING_SIZE),'r', encoding=\"utf8\") as f:\n",
        "    for line in f:\n",
        "        values = line.split()\n",
        "        word = values[0]\n",
        "        vector = np.asarray(values[1:],'float32')\n",
        "        V1[word]=vector\n",
        "        \n",
        "print(\"Found %s word vectors.\" % len(V1))"
      ],
      "execution_count": 34,
      "outputs": [
        {
          "output_type": "stream",
          "name": "stdout",
          "text": [
            "Found 400000 word vectors.\n"
          ]
        }
      ]
    },
    {
      "cell_type": "markdown",
      "metadata": {
        "id": "girPSsJX3STe"
      },
      "source": [
        "We created the method OOV_terms that create the out of vocabulary\n",
        "\n"
      ]
    },
    {
      "cell_type": "code",
      "metadata": {
        "id": "u7o3EGMz2-bc"
      },
      "source": [
        "def OOV_terms(embedding_model, word_listing):\n",
        "    embedding_vocabulary = set(embedding_model)\n",
        "    oov = set(word_listing).difference(embedding_vocabulary)\n",
        "    return list(oov)"
      ],
      "execution_count": 35,
      "outputs": []
    },
    {
      "cell_type": "code",
      "metadata": {
        "id": "blCgE9LY3J2i"
      },
      "source": [
        "#Generation of all vocabularies and out of vocabularies\n",
        "OOV1 = OOV_terms(V1.keys(), np.sort(df_train_cleaned['word'].unique()))\n",
        "\n",
        "V2= list(V1)+OOV1\n",
        "\n",
        "OOV2 = OOV_terms(V2, np.sort(df_val_cleaned['word'].unique()))\n",
        "V3= list(V2)+OOV2\n",
        "\n",
        "OOV3 = OOV_terms(V3, np.sort(df_test_cleaned['word'].unique()))\n",
        "V4= list(V3)+OOV3"
      ],
      "execution_count": 36,
      "outputs": []
    },
    {
      "cell_type": "code",
      "metadata": {
        "id": "ObnmbngM3Lv7",
        "colab": {
          "base_uri": "https://localhost:8080/"
        },
        "outputId": "94e474e6-ba5a-4302-fefa-b33c67685ed9"
      },
      "source": [
        "print(\"Total OOV1 terms: {0} ({1:.2f}%)\".format(len(OOV1), float(len(OOV1))*100 / len(df_train['word'].unique())))\n",
        "print(\"Total OOV2 terms: {0} ({1:.2f}%)\".format(len(OOV2), float(len(OOV2))*100 / len(df_val['word'].unique())))\n",
        "print(\"Total OOV3 terms: {0} ({1:.2f}%)\".format(len(OOV3), float(len(OOV3))*100 / len(df_test['word'].unique())))\n",
        "\n",
        "print(len(V2))"
      ],
      "execution_count": 37,
      "outputs": [
        {
          "output_type": "stream",
          "name": "stdout",
          "text": [
            "Total OOV1 terms: 2136 (27.03%)\n",
            "Total OOV2 terms: 864 (14.38%)\n",
            "Total OOV3 terms: 426 (11.70%)\n",
            "402136\n"
          ]
        }
      ]
    },
    {
      "cell_type": "code",
      "metadata": {
        "id": "CKqoFOF_K7-Z",
        "colab": {
          "base_uri": "https://localhost:8080/"
        },
        "outputId": "3ff1ce5e-b4f8-488e-af1b-9dcefb38dc22"
      },
      "source": [
        "df_train_cleaned['word'].unique() #SI PUO CANCELLARE?"
      ],
      "execution_count": 38,
      "outputs": [
        {
          "output_type": "execute_result",
          "data": {
            "text/plain": [
              "array(['Pierre', 'Vinken', ',', ..., 'navigation', '29.4', 'intelligence'],\n",
              "      dtype=object)"
            ]
          },
          "metadata": {},
          "execution_count": 38
        }
      ]
    },
    {
      "cell_type": "markdown",
      "metadata": {
        "id": "MkFLW6CK4FAM"
      },
      "source": [
        "Computing embeddings with the method compute_embedding"
      ]
    },
    {
      "cell_type": "code",
      "metadata": {
        "id": "hzawTRfFHDqN"
      },
      "source": [
        "#We created this method to generate all the embeddings that we need\n",
        "#It checks if a word exists in the vocabulary, in that case tries to adds the corresponding features of V1(if they exist), else adds random features of V1\n",
        "#Then it returns the embedding\n",
        "def compute_embedding(word2id, vocabulary,embedding_weights):\n",
        "  for word, index in tqdm(word2id.items()):\n",
        "    if word in vocabulary:\n",
        "      try: \n",
        "        embedding_weights[index, :] = V1[word] \n",
        "      except KeyError:\n",
        "          embedding_weights[index, :] = np.random.uniform(random.choice(list(V1.values())))\n",
        "          pass\n",
        "  return embedding_weights"
      ],
      "execution_count": 39,
      "outputs": []
    },
    {
      "cell_type": "code",
      "metadata": {
        "id": "3M-rifgZHHAx",
        "colab": {
          "base_uri": "https://localhost:8080/"
        },
        "outputId": "217948bb-4ebf-47a5-ff79-b9af5d707059"
      },
      "source": [
        "#embedding train\n",
        "embedding_V2 = compute_embedding(word2id_train,V2,embedding_weights_train)\n",
        "#embedding validation\n",
        "embedding_V3 = compute_embedding(word2id_val, V3, embedding_weights_val)\n",
        "#embedding test\n",
        "embedding_V4 = compute_embedding(word2id_test, V4, embedding_weights_test)"
      ],
      "execution_count": 40,
      "outputs": [
        {
          "output_type": "stream",
          "name": "stderr",
          "text": [
            "100%|██████████| 10948/10948 [00:12<00:00, 876.15it/s]\n",
            "100%|██████████| 10948/10948 [00:13<00:00, 788.39it/s]\n",
            "100%|██████████| 10948/10948 [00:14<00:00, 760.90it/s]\n"
          ]
        }
      ]
    },
    {
      "cell_type": "code",
      "metadata": {
        "id": "ZZrYXQ5fSnbL",
        "colab": {
          "base_uri": "https://localhost:8080/"
        },
        "outputId": "9de6e4a7-4f26-435f-c55d-c48739b7efbb"
      },
      "source": [
        "# We show the embedding of a word\n",
        "embedding_V2[tokenizer_phrase_train.word_index[0]]"
      ],
      "execution_count": 41,
      "outputs": [
        {
          "output_type": "execute_result",
          "data": {
            "text/plain": [
              "array([0., 0., 0., 0., 0., 0., 0., 0., 0., 0., 0., 0., 0., 0., 0., 0., 0.,\n",
              "       0., 0., 0., 0., 0., 0., 0., 0., 0., 0., 0., 0., 0., 0., 0., 0., 0.,\n",
              "       0., 0., 0., 0., 0., 0., 0., 0., 0., 0., 0., 0., 0., 0., 0., 0.])"
            ]
          },
          "metadata": {},
          "execution_count": 41
        }
      ]
    },
    {
      "cell_type": "code",
      "metadata": {
        "id": "D-Rqv9ugSz4d"
      },
      "source": [
        "#we do the categorical to classes padded (?) \n",
        "#y_padded_train = to_categorical(y_padded_train,num_classes=40)\n",
        "#y_padded_val = to_categorical(y_padded_val,num_classes=40)\n",
        "#y_padded_test = to_categorical(y_padded_test)\n",
        "\n",
        "y_padded = to_categorical(y_padded)"
      ],
      "execution_count": 42,
      "outputs": []
    },
    {
      "cell_type": "code",
      "metadata": {
        "id": "YqEfu3Gh10TO",
        "colab": {
          "base_uri": "https://localhost:8080/"
        },
        "outputId": "8405d665-9ef4-4959-92e1-1e8989af55d9"
      },
      "source": [
        "y_padded_val.shape #SI PUO CANCELLARE?\n",
        "y_padded.shape"
      ],
      "execution_count": 43,
      "outputs": [
        {
          "output_type": "execute_result",
          "data": {
            "text/plain": [
              "(3828, 250, 46)"
            ]
          },
          "metadata": {},
          "execution_count": 43
        }
      ]
    },
    {
      "cell_type": "code",
      "metadata": {
        "id": "m2TjcLhUZq_w"
      },
      "source": [
        "y_padded_train = y_padded[0:1896]\n",
        "y_padded_val = y_padded[1896:1896+1287]\n",
        "y_padded_test = y_padded[1896+1287:]"
      ],
      "execution_count": 44,
      "outputs": []
    },
    {
      "cell_type": "code",
      "metadata": {
        "colab": {
          "base_uri": "https://localhost:8080/"
        },
        "id": "HGBDeiFixz7i",
        "outputId": "bce05b35-8ee5-4a82-e55d-052be44e0839"
      },
      "source": [
        "print(tokenizer_class_id.word_index)"
      ],
      "execution_count": 45,
      "outputs": [
        {
          "output_type": "stream",
          "name": "stdout",
          "text": [
            "{'nn': 1, 'in': 2, 'nnp': 3, 'dt': 4, 'nns': 5, 'jj': 6, ',': 7, '.': 8, 'cd': 9, 'vbd': 10, 'rb': 11, 'vb': 12, 'cc': 13, 'to': 14, 'vbn': 15, 'vbz': 16, 'prp': 17, 'vbg': 18, 'vbp': 19, 'md': 20, 'pos': 21, 'prp$': 22, '$': 23, '``': 24, \"''\": 25, ':': 26, 'wdt': 27, 'jjr': 28, 'nnps': 29, 'wp': 30, 'rp': 31, 'jjs': 32, 'wrb': 33, 'rbr': 34, '-rrb-': 35, '-lrb-': 36, 'ex': 37, 'rbs': 38, 'pdt': 39, '#': 40, 'wp$': 41, 'ls': 42, 'fw': 43, 'uh': 44, 'sym': 45, 0: 0}\n"
          ]
        }
      ]
    },
    {
      "cell_type": "markdown",
      "metadata": {
        "id": "Ci7Dfm-0TMo1"
      },
      "source": [
        "#LSTM Neural Network"
      ]
    },
    {
      "cell_type": "markdown",
      "metadata": {
        "id": "1NN2bmunJCEF"
      },
      "source": [
        "We have created the method model_creation that creates the model"
      ]
    },
    {
      "cell_type": "code",
      "metadata": {
        "id": "teMA2dfsTOY3"
      },
      "source": [
        "# create architecture\n",
        "def model_creation(y_padded, VOC_SIZE, MAX_SEQ_LENGTH, embedding):\n",
        "  NUM_CLASSES = y_padded.shape[2]\n",
        "  lstm_model = Sequential()\n",
        "  lstm_model.add(Embedding(input_dim    = VOC_SIZE,         # vocabulary size - number of unique words in data\n",
        "                          output_dim    = EMBEDDING_SIZE,          # length of vector with which each word is represented\n",
        "                          input_length  = MAX_SEQ_LENGTH,          # length of input sequence\n",
        "                          weights       = [embedding],     # word embedding matrix\n",
        "                          trainable     = False                     # True - update embeddings_weight matrix\n",
        "  ))\n",
        "  lstm_model.add(Bidirectional(LSTM(64, return_sequences=True),input_shape=(46, 1)))\n",
        "  lstm_model.add(TimeDistributed(Dense(NUM_CLASSES, activation='softmax')))\n",
        "  lstm_model.compile(loss     =  'categorical_crossentropy',\n",
        "                    optimizer =  'adam',\n",
        "                    metrics   =  ['acc'])\n",
        "  lstm_model.summary()\n",
        "  return lstm_model"
      ],
      "execution_count": 46,
      "outputs": []
    },
    {
      "cell_type": "markdown",
      "metadata": {
        "id": "dqu9RBFaJMqM"
      },
      "source": [
        "We have created the method fit_model that fit the model"
      ]
    },
    {
      "cell_type": "code",
      "metadata": {
        "id": "2o69kKkmTjPu"
      },
      "source": [
        "def fit_model(X_padded_t,y_padded_t,lstm_model,X_padded_v,y_padded_v):\n",
        "  lstm_fitted= lstm_model.fit(X_padded_t, y_padded_t, batch_size=128, epochs=50, validation_data=(X_padded_v,y_padded_v))\n",
        "  return lstm_fitted"
      ],
      "execution_count": 47,
      "outputs": []
    },
    {
      "cell_type": "markdown",
      "metadata": {
        "id": "-E0nXtZfJRi2"
      },
      "source": [
        "We creater the method plot_accuracy that plots the accuracy of the model"
      ]
    },
    {
      "cell_type": "code",
      "metadata": {
        "id": "L56LRtW2T5Iq"
      },
      "source": [
        "# visualizing the accuracy\n",
        "def plot_accuracy(model_fitted):\n",
        "  plt.plot(model_fitted.history['acc'])\n",
        "  plt.plot(model_fitted.history['val_acc'])\n",
        "  plt.title(name,' model accuracy')\n",
        "  plt.ylabel('accuracy')\n",
        "  plt.xlabel('epoch')\n",
        "  plt.legend(['Training Accuracy','Validation Accuracy'], loc=\"lower right\")\n",
        "  plt.show()"
      ],
      "execution_count": 48,
      "outputs": []
    },
    {
      "cell_type": "code",
      "metadata": {
        "id": "u6j6UoWbxUBX"
      },
      "source": [
        "#Visualizing the loss\n",
        "def plot_loss(model_fitted):\n",
        "  loss_train = model_fitted.history['loss']\n",
        "  loss_val = model_fitted.history['val_loss']\n",
        "  epochs = range(1,51)\n",
        "  plt.plot(epochs, loss_train, 'g', label='Training loss')\n",
        "  plt.plot(epochs, loss_val, 'b', label='Validation loss')\n",
        "  plt.title('Training and Validation loss')\n",
        "  plt.xlabel('Epochs')\n",
        "  plt.ylabel('Loss')\n",
        "  plt.legend()\n",
        "  plt.show()"
      ],
      "execution_count": 49,
      "outputs": []
    },
    {
      "cell_type": "markdown",
      "metadata": {
        "id": "CGrlk5jgJYHS"
      },
      "source": [
        "### LSTM Model"
      ]
    },
    {
      "cell_type": "code",
      "metadata": {
        "id": "Unujtcvq4uQB",
        "colab": {
          "base_uri": "https://localhost:8080/"
        },
        "outputId": "dfbdc2a1-4075-4f11-a8f4-4574bc1748b0"
      },
      "source": [
        "#Model creation\n",
        "lstm_model = model_creation(y_padded_train,VOCABULARY_SIZE_TRAIN, MAX_SEQUENCE, embedding_V4)"
      ],
      "execution_count": 50,
      "outputs": [
        {
          "output_type": "stream",
          "name": "stdout",
          "text": [
            "Model: \"sequential\"\n",
            "_________________________________________________________________\n",
            " Layer (type)                Output Shape              Param #   \n",
            "=================================================================\n",
            " embedding (Embedding)       (None, 250, 50)           547450    \n",
            "                                                                 \n",
            " bidirectional (Bidirectiona  (None, 250, 128)         58880     \n",
            " l)                                                              \n",
            "                                                                 \n",
            " time_distributed (TimeDistr  (None, 250, 46)          5934      \n",
            " ibuted)                                                         \n",
            "                                                                 \n",
            "=================================================================\n",
            "Total params: 612,264\n",
            "Trainable params: 64,814\n",
            "Non-trainable params: 547,450\n",
            "_________________________________________________________________\n"
          ]
        }
      ]
    },
    {
      "cell_type": "code",
      "metadata": {
        "id": "vI4M09AS79jd",
        "colab": {
          "base_uri": "https://localhost:8080/"
        },
        "outputId": "60d9deb3-6895-431f-c33a-dcba395eff4c"
      },
      "source": [
        "#Fitting the model\n",
        "lstm= fit_model(X_padded_train, y_padded_train, lstm_model,X_padded_val,y_padded_val)"
      ],
      "execution_count": 51,
      "outputs": [
        {
          "output_type": "stream",
          "name": "stdout",
          "text": [
            "Epoch 1/50\n",
            "15/15 [==============================] - 10s 221ms/step - loss: 3.5858 - acc: 0.8794 - val_loss: 2.5677 - val_acc: 0.9101\n",
            "Epoch 2/50\n",
            "15/15 [==============================] - 2s 145ms/step - loss: 0.8485 - acc: 0.9062 - val_loss: 0.4124 - val_acc: 0.9056\n",
            "Epoch 3/50\n",
            "15/15 [==============================] - 2s 132ms/step - loss: 0.3465 - acc: 0.9141 - val_loss: 0.3208 - val_acc: 0.9194\n",
            "Epoch 4/50\n",
            "15/15 [==============================] - 2s 119ms/step - loss: 0.3048 - acc: 0.9226 - val_loss: 0.2990 - val_acc: 0.9231\n",
            "Epoch 5/50\n",
            "15/15 [==============================] - 2s 116ms/step - loss: 0.2870 - acc: 0.9240 - val_loss: 0.2851 - val_acc: 0.9241\n",
            "Epoch 6/50\n",
            "15/15 [==============================] - 2s 115ms/step - loss: 0.2747 - acc: 0.9270 - val_loss: 0.2733 - val_acc: 0.9287\n",
            "Epoch 7/50\n",
            "15/15 [==============================] - 2s 114ms/step - loss: 0.2635 - acc: 0.9318 - val_loss: 0.2621 - val_acc: 0.9343\n",
            "Epoch 8/50\n",
            "15/15 [==============================] - 2s 113ms/step - loss: 0.2525 - acc: 0.9370 - val_loss: 0.2509 - val_acc: 0.9389\n",
            "Epoch 9/50\n",
            "15/15 [==============================] - 2s 115ms/step - loss: 0.2413 - acc: 0.9413 - val_loss: 0.2396 - val_acc: 0.9426\n",
            "Epoch 10/50\n",
            "15/15 [==============================] - 2s 114ms/step - loss: 0.2302 - acc: 0.9446 - val_loss: 0.2284 - val_acc: 0.9451\n",
            "Epoch 11/50\n",
            "15/15 [==============================] - 2s 111ms/step - loss: 0.2192 - acc: 0.9468 - val_loss: 0.2176 - val_acc: 0.9470\n",
            "Epoch 12/50\n",
            "15/15 [==============================] - 2s 112ms/step - loss: 0.2085 - acc: 0.9489 - val_loss: 0.2073 - val_acc: 0.9493\n",
            "Epoch 13/50\n",
            "15/15 [==============================] - 2s 111ms/step - loss: 0.1984 - acc: 0.9509 - val_loss: 0.1976 - val_acc: 0.9510\n",
            "Epoch 14/50\n",
            "15/15 [==============================] - 2s 112ms/step - loss: 0.1889 - acc: 0.9530 - val_loss: 0.1885 - val_acc: 0.9530\n",
            "Epoch 15/50\n",
            "15/15 [==============================] - 2s 112ms/step - loss: 0.1799 - acc: 0.9548 - val_loss: 0.1801 - val_acc: 0.9544\n",
            "Epoch 16/50\n",
            "15/15 [==============================] - 2s 111ms/step - loss: 0.1717 - acc: 0.9567 - val_loss: 0.1724 - val_acc: 0.9562\n",
            "Epoch 17/50\n",
            "15/15 [==============================] - 2s 110ms/step - loss: 0.1641 - acc: 0.9584 - val_loss: 0.1653 - val_acc: 0.9577\n",
            "Epoch 18/50\n",
            "15/15 [==============================] - 2s 108ms/step - loss: 0.1571 - acc: 0.9604 - val_loss: 0.1588 - val_acc: 0.9594\n",
            "Epoch 19/50\n",
            "15/15 [==============================] - 2s 106ms/step - loss: 0.1508 - acc: 0.9618 - val_loss: 0.1528 - val_acc: 0.9607\n",
            "Epoch 20/50\n",
            "15/15 [==============================] - 2s 106ms/step - loss: 0.1450 - acc: 0.9633 - val_loss: 0.1473 - val_acc: 0.9621\n",
            "Epoch 21/50\n",
            "15/15 [==============================] - 2s 109ms/step - loss: 0.1396 - acc: 0.9646 - val_loss: 0.1422 - val_acc: 0.9636\n",
            "Epoch 22/50\n",
            "15/15 [==============================] - 2s 108ms/step - loss: 0.1347 - acc: 0.9660 - val_loss: 0.1376 - val_acc: 0.9648\n",
            "Epoch 23/50\n",
            "15/15 [==============================] - 2s 107ms/step - loss: 0.1301 - acc: 0.9671 - val_loss: 0.1333 - val_acc: 0.9659\n",
            "Epoch 24/50\n",
            "15/15 [==============================] - 2s 107ms/step - loss: 0.1258 - acc: 0.9684 - val_loss: 0.1292 - val_acc: 0.9670\n",
            "Epoch 25/50\n",
            "15/15 [==============================] - 2s 107ms/step - loss: 0.1219 - acc: 0.9693 - val_loss: 0.1256 - val_acc: 0.9679\n",
            "Epoch 26/50\n",
            "15/15 [==============================] - 2s 107ms/step - loss: 0.1182 - acc: 0.9700 - val_loss: 0.1221 - val_acc: 0.9686\n",
            "Epoch 27/50\n",
            "15/15 [==============================] - 2s 107ms/step - loss: 0.1148 - acc: 0.9707 - val_loss: 0.1189 - val_acc: 0.9693\n",
            "Epoch 28/50\n",
            "15/15 [==============================] - 2s 108ms/step - loss: 0.1116 - acc: 0.9713 - val_loss: 0.1159 - val_acc: 0.9697\n",
            "Epoch 29/50\n",
            "15/15 [==============================] - 2s 107ms/step - loss: 0.1086 - acc: 0.9719 - val_loss: 0.1131 - val_acc: 0.9703\n",
            "Epoch 30/50\n",
            "15/15 [==============================] - 2s 107ms/step - loss: 0.1058 - acc: 0.9726 - val_loss: 0.1104 - val_acc: 0.9708\n",
            "Epoch 31/50\n",
            "15/15 [==============================] - 2s 106ms/step - loss: 0.1031 - acc: 0.9731 - val_loss: 0.1080 - val_acc: 0.9714\n",
            "Epoch 32/50\n",
            "15/15 [==============================] - 2s 105ms/step - loss: 0.1006 - acc: 0.9737 - val_loss: 0.1056 - val_acc: 0.9720\n",
            "Epoch 33/50\n",
            "15/15 [==============================] - 2s 105ms/step - loss: 0.0982 - acc: 0.9742 - val_loss: 0.1033 - val_acc: 0.9724\n",
            "Epoch 34/50\n",
            "15/15 [==============================] - 2s 106ms/step - loss: 0.0959 - acc: 0.9747 - val_loss: 0.1012 - val_acc: 0.9729\n",
            "Epoch 35/50\n",
            "15/15 [==============================] - 2s 106ms/step - loss: 0.0937 - acc: 0.9752 - val_loss: 0.0992 - val_acc: 0.9733\n",
            "Epoch 36/50\n",
            "15/15 [==============================] - 2s 106ms/step - loss: 0.0916 - acc: 0.9757 - val_loss: 0.0972 - val_acc: 0.9737\n",
            "Epoch 37/50\n",
            "15/15 [==============================] - 2s 106ms/step - loss: 0.0897 - acc: 0.9762 - val_loss: 0.0954 - val_acc: 0.9741\n",
            "Epoch 38/50\n",
            "15/15 [==============================] - 2s 105ms/step - loss: 0.0878 - acc: 0.9768 - val_loss: 0.0936 - val_acc: 0.9746\n",
            "Epoch 39/50\n",
            "15/15 [==============================] - 2s 106ms/step - loss: 0.0860 - acc: 0.9773 - val_loss: 0.0919 - val_acc: 0.9751\n",
            "Epoch 40/50\n",
            "15/15 [==============================] - 2s 107ms/step - loss: 0.0843 - acc: 0.9778 - val_loss: 0.0903 - val_acc: 0.9756\n",
            "Epoch 41/50\n",
            "15/15 [==============================] - 2s 107ms/step - loss: 0.0826 - acc: 0.9783 - val_loss: 0.0888 - val_acc: 0.9760\n",
            "Epoch 42/50\n",
            "15/15 [==============================] - 2s 107ms/step - loss: 0.0810 - acc: 0.9787 - val_loss: 0.0873 - val_acc: 0.9762\n",
            "Epoch 43/50\n",
            "15/15 [==============================] - 2s 106ms/step - loss: 0.0795 - acc: 0.9792 - val_loss: 0.0859 - val_acc: 0.9767\n",
            "Epoch 44/50\n",
            "15/15 [==============================] - 2s 106ms/step - loss: 0.0780 - acc: 0.9795 - val_loss: 0.0845 - val_acc: 0.9769\n",
            "Epoch 45/50\n",
            "15/15 [==============================] - 2s 107ms/step - loss: 0.0766 - acc: 0.9798 - val_loss: 0.0832 - val_acc: 0.9773\n",
            "Epoch 46/50\n",
            "15/15 [==============================] - 2s 106ms/step - loss: 0.0752 - acc: 0.9801 - val_loss: 0.0819 - val_acc: 0.9775\n",
            "Epoch 47/50\n",
            "15/15 [==============================] - 2s 104ms/step - loss: 0.0739 - acc: 0.9804 - val_loss: 0.0807 - val_acc: 0.9776\n",
            "Epoch 48/50\n",
            "15/15 [==============================] - 2s 105ms/step - loss: 0.0726 - acc: 0.9807 - val_loss: 0.0795 - val_acc: 0.9780\n",
            "Epoch 49/50\n",
            "15/15 [==============================] - 2s 106ms/step - loss: 0.0714 - acc: 0.9811 - val_loss: 0.0784 - val_acc: 0.9782\n",
            "Epoch 50/50\n",
            "15/15 [==============================] - 2s 105ms/step - loss: 0.0702 - acc: 0.9814 - val_loss: 0.0773 - val_acc: 0.9784\n"
          ]
        }
      ]
    },
    {
      "cell_type": "code",
      "metadata": {
        "id": "Jlu_uDXo79uA",
        "colab": {
          "base_uri": "https://localhost:8080/",
          "height": 513
        },
        "outputId": "23499717-7dbe-4262-e334-b6b53fae7d05"
      },
      "source": [
        "#Plotting LSTM model's accuracy\n",
        "plot_accuracy(lstm)"
      ],
      "execution_count": 52,
      "outputs": [
        {
          "output_type": "display_data",
          "data": {
            "image/png": "[encoded data removed]",
            "text/plain": [
              "<Figure size 720x576 with 1 Axes>"
            ]
          },
          "metadata": {
            "needs_background": "light"
          }
        }
      ]
    },
    {
      "cell_type": "code",
      "metadata": {
        "id": "kCFFohHOxhSz",
        "colab": {
          "base_uri": "https://localhost:8080/",
          "height": 513
        },
        "outputId": "a51997c5-b7ab-445e-b3da-dc0846e810cd"
      },
      "source": [
        "#Plotting LSTM model's loss\n",
        "plot_loss(lstm)"
      ],
      "execution_count": 53,
      "outputs": [
        {
          "output_type": "display_data",
          "data": {
            "image/png": "[encoded data removed]",
            "text/plain": [
              "<Figure size 720x576 with 1 Axes>"
            ]
          },
          "metadata": {
            "needs_background": "light"
          }
        }
      ]
    },
    {
      "cell_type": "markdown",
      "metadata": {
        "id": "SmmJJnENLWfV"
      },
      "source": [
        "# GRU Neural Network"
      ]
    },
    {
      "cell_type": "code",
      "metadata": {
        "id": "dgQkACyvLVUX"
      },
      "source": [
        "#Creating the model\n",
        "def gru_model(y_padded,VOCABULARY_SIZE,MAX_SEQ_LENGTH, embedding):\n",
        "  NUM_CLASSES = y_padded.shape[2]\n",
        "  gru_model = Sequential()\n",
        "  gru_model.add(Embedding(input_dim     = VOCABULARY_SIZE,\n",
        "                          output_dim    = EMBEDDING_SIZE,\n",
        "                          input_length  = MAX_SEQ_LENGTH,\n",
        "                          weights       = [embedding],\n",
        "                          trainable     = False\n",
        "  ))\n",
        "  gru_model.add(GRU(64, return_sequences=True))\n",
        "  gru_model.add(TimeDistributed(Dense(NUM_CLASSES, activation='softmax')))\n",
        "  gru_model.compile(loss='categorical_crossentropy',\n",
        "                optimizer='adam',\n",
        "                metrics=['acc'])\n",
        "  gru_model.summary()\n",
        "  return gru_model"
      ],
      "execution_count": 62,
      "outputs": []
    },
    {
      "cell_type": "code",
      "metadata": {
        "id": "fCK1XcchLVfh"
      },
      "source": [
        "#Fitting the model\n",
        "def fit_gru_model(X_padded,y_padded,gru_model,X_padded_val,y_padded_val):\n",
        "  gru = gru_model.fit(X_padded, y_padded, batch_size=128, epochs=50,validation_data=(X_padded_val,y_padded_val))\n",
        "  return gru"
      ],
      "execution_count": 63,
      "outputs": []
    },
    {
      "cell_type": "code",
      "metadata": {
        "id": "DUo8Q54rLVsF",
        "colab": {
          "base_uri": "https://localhost:8080/"
        },
        "outputId": "e1a3c0b4-893a-4db1-e21e-a668421cb817"
      },
      "source": [
        "#Model creation\n",
        "gru_model = gru_model(y_padded,VOCABULARY_SIZE, MAX_SEQUENCE, embedding_V4)"
      ],
      "execution_count": 64,
      "outputs": [
        {
          "output_type": "stream",
          "name": "stdout",
          "text": [
            "Model: \"sequential_2\"\n",
            "_________________________________________________________________\n",
            " Layer (type)                Output Shape              Param #   \n",
            "=================================================================\n",
            " embedding_2 (Embedding)     (None, 250, 50)           547450    \n",
            "                                                                 \n",
            " gru_1 (GRU)                 (None, 250, 64)           22272     \n",
            "                                                                 \n",
            " time_distributed_2 (TimeDis  (None, 250, 46)          2990      \n",
            " tributed)                                                       \n",
            "                                                                 \n",
            "=================================================================\n",
            "Total params: 572,712\n",
            "Trainable params: 25,262\n",
            "Non-trainable params: 547,450\n",
            "_________________________________________________________________\n"
          ]
        }
      ]
    },
    {
      "cell_type": "code",
      "metadata": {
        "id": "CKVWnx9UPMOS",
        "colab": {
          "base_uri": "https://localhost:8080/"
        },
        "outputId": "95378287-f37d-41cd-a3bb-010a640b8c90"
      },
      "source": [
        "#Fitting the model\n",
        "gru = fit_gru_model(X_padded_train, y_padded_train, gru_model,X_padded_val,y_padded_val)"
      ],
      "execution_count": 65,
      "outputs": [
        {
          "output_type": "stream",
          "name": "stdout",
          "text": [
            "Epoch 1/50\n",
            "15/15 [==============================] - 4s 122ms/step - loss: 3.6823 - acc: 0.9112 - val_loss: 3.4207 - val_acc: 0.9174\n",
            "Epoch 2/50\n",
            "15/15 [==============================] - 1s 81ms/step - loss: 2.1350 - acc: 0.9175 - val_loss: 0.4951 - val_acc: 0.9121\n",
            "Epoch 3/50\n",
            "15/15 [==============================] - 1s 79ms/step - loss: 0.4573 - acc: 0.9140 - val_loss: 0.4135 - val_acc: 0.9179\n",
            "Epoch 4/50\n",
            "15/15 [==============================] - 1s 80ms/step - loss: 0.3825 - acc: 0.9212 - val_loss: 0.3638 - val_acc: 0.9236\n",
            "Epoch 5/50\n",
            "15/15 [==============================] - 1s 79ms/step - loss: 0.3468 - acc: 0.9249 - val_loss: 0.3391 - val_acc: 0.9256\n",
            "Epoch 6/50\n",
            "15/15 [==============================] - 1s 80ms/step - loss: 0.3265 - acc: 0.9277 - val_loss: 0.3221 - val_acc: 0.9288\n",
            "Epoch 7/50\n",
            "15/15 [==============================] - 1s 80ms/step - loss: 0.3109 - acc: 0.9308 - val_loss: 0.3077 - val_acc: 0.9319\n",
            "Epoch 8/50\n",
            "15/15 [==============================] - 1s 80ms/step - loss: 0.2972 - acc: 0.9335 - val_loss: 0.2944 - val_acc: 0.9347\n",
            "Epoch 9/50\n",
            "15/15 [==============================] - 1s 75ms/step - loss: 0.2843 - acc: 0.9363 - val_loss: 0.2818 - val_acc: 0.9375\n",
            "Epoch 10/50\n",
            "15/15 [==============================] - 1s 75ms/step - loss: 0.2722 - acc: 0.9393 - val_loss: 0.2701 - val_acc: 0.9408\n",
            "Epoch 11/50\n",
            "15/15 [==============================] - 1s 77ms/step - loss: 0.2606 - acc: 0.9421 - val_loss: 0.2591 - val_acc: 0.9428\n",
            "Epoch 12/50\n",
            "15/15 [==============================] - 1s 76ms/step - loss: 0.2497 - acc: 0.9445 - val_loss: 0.2487 - val_acc: 0.9450\n",
            "Epoch 13/50\n",
            "15/15 [==============================] - 1s 74ms/step - loss: 0.2394 - acc: 0.9473 - val_loss: 0.2390 - val_acc: 0.9481\n",
            "Epoch 14/50\n",
            "15/15 [==============================] - 1s 76ms/step - loss: 0.2297 - acc: 0.9503 - val_loss: 0.2298 - val_acc: 0.9513\n",
            "Epoch 15/50\n",
            "15/15 [==============================] - 1s 73ms/step - loss: 0.2205 - acc: 0.9536 - val_loss: 0.2211 - val_acc: 0.9537\n",
            "Epoch 16/50\n",
            "15/15 [==============================] - 1s 72ms/step - loss: 0.2120 - acc: 0.9558 - val_loss: 0.2131 - val_acc: 0.9556\n",
            "Epoch 17/50\n",
            "15/15 [==============================] - 1s 73ms/step - loss: 0.2040 - acc: 0.9582 - val_loss: 0.2055 - val_acc: 0.9576\n",
            "Epoch 18/50\n",
            "15/15 [==============================] - 1s 72ms/step - loss: 0.1965 - acc: 0.9601 - val_loss: 0.1984 - val_acc: 0.9594\n",
            "Epoch 19/50\n",
            "15/15 [==============================] - 1s 74ms/step - loss: 0.1895 - acc: 0.9618 - val_loss: 0.1919 - val_acc: 0.9608\n",
            "Epoch 20/50\n",
            "15/15 [==============================] - 1s 73ms/step - loss: 0.1830 - acc: 0.9629 - val_loss: 0.1857 - val_acc: 0.9619\n",
            "Epoch 21/50\n",
            "15/15 [==============================] - 1s 73ms/step - loss: 0.1769 - acc: 0.9640 - val_loss: 0.1799 - val_acc: 0.9629\n",
            "Epoch 22/50\n",
            "15/15 [==============================] - 1s 73ms/step - loss: 0.1713 - acc: 0.9650 - val_loss: 0.1746 - val_acc: 0.9639\n",
            "Epoch 23/50\n",
            "15/15 [==============================] - 1s 73ms/step - loss: 0.1660 - acc: 0.9661 - val_loss: 0.1696 - val_acc: 0.9649\n",
            "Epoch 24/50\n",
            "15/15 [==============================] - 1s 73ms/step - loss: 0.1611 - acc: 0.9672 - val_loss: 0.1649 - val_acc: 0.9658\n",
            "Epoch 25/50\n",
            "15/15 [==============================] - 1s 74ms/step - loss: 0.1565 - acc: 0.9680 - val_loss: 0.1606 - val_acc: 0.9666\n",
            "Epoch 26/50\n",
            "15/15 [==============================] - 1s 73ms/step - loss: 0.1523 - acc: 0.9687 - val_loss: 0.1565 - val_acc: 0.9673\n",
            "Epoch 27/50\n",
            "15/15 [==============================] - 1s 72ms/step - loss: 0.1483 - acc: 0.9692 - val_loss: 0.1527 - val_acc: 0.9678\n",
            "Epoch 28/50\n",
            "15/15 [==============================] - 1s 72ms/step - loss: 0.1446 - acc: 0.9697 - val_loss: 0.1491 - val_acc: 0.9683\n",
            "Epoch 29/50\n",
            "15/15 [==============================] - 1s 73ms/step - loss: 0.1410 - acc: 0.9702 - val_loss: 0.1458 - val_acc: 0.9688\n",
            "Epoch 30/50\n",
            "15/15 [==============================] - 1s 73ms/step - loss: 0.1377 - acc: 0.9708 - val_loss: 0.1427 - val_acc: 0.9691\n",
            "Epoch 31/50\n",
            "15/15 [==============================] - 1s 74ms/step - loss: 0.1346 - acc: 0.9713 - val_loss: 0.1397 - val_acc: 0.9697\n",
            "Epoch 32/50\n",
            "15/15 [==============================] - 1s 72ms/step - loss: 0.1316 - acc: 0.9718 - val_loss: 0.1369 - val_acc: 0.9701\n",
            "Epoch 33/50\n",
            "15/15 [==============================] - 1s 73ms/step - loss: 0.1288 - acc: 0.9722 - val_loss: 0.1342 - val_acc: 0.9704\n",
            "Epoch 34/50\n",
            "15/15 [==============================] - 1s 80ms/step - loss: 0.1262 - acc: 0.9725 - val_loss: 0.1317 - val_acc: 0.9708\n",
            "Epoch 35/50\n",
            "15/15 [==============================] - 1s 72ms/step - loss: 0.1237 - acc: 0.9729 - val_loss: 0.1293 - val_acc: 0.9711\n",
            "Epoch 36/50\n",
            "15/15 [==============================] - 1s 73ms/step - loss: 0.1212 - acc: 0.9733 - val_loss: 0.1270 - val_acc: 0.9715\n",
            "Epoch 37/50\n",
            "15/15 [==============================] - 1s 71ms/step - loss: 0.1189 - acc: 0.9736 - val_loss: 0.1248 - val_acc: 0.9717\n",
            "Epoch 38/50\n",
            "15/15 [==============================] - 1s 73ms/step - loss: 0.1167 - acc: 0.9740 - val_loss: 0.1227 - val_acc: 0.9721\n",
            "Epoch 39/50\n",
            "15/15 [==============================] - 1s 71ms/step - loss: 0.1146 - acc: 0.9744 - val_loss: 0.1207 - val_acc: 0.9725\n",
            "Epoch 40/50\n",
            "15/15 [==============================] - 1s 73ms/step - loss: 0.1126 - acc: 0.9747 - val_loss: 0.1188 - val_acc: 0.9727\n",
            "Epoch 41/50\n",
            "15/15 [==============================] - 1s 73ms/step - loss: 0.1106 - acc: 0.9751 - val_loss: 0.1169 - val_acc: 0.9731\n",
            "Epoch 42/50\n",
            "15/15 [==============================] - 1s 73ms/step - loss: 0.1087 - acc: 0.9754 - val_loss: 0.1152 - val_acc: 0.9733\n",
            "Epoch 43/50\n",
            "15/15 [==============================] - 1s 73ms/step - loss: 0.1069 - acc: 0.9758 - val_loss: 0.1135 - val_acc: 0.9736\n",
            "Epoch 44/50\n",
            "15/15 [==============================] - 1s 73ms/step - loss: 0.1052 - acc: 0.9760 - val_loss: 0.1118 - val_acc: 0.9739\n",
            "Epoch 45/50\n",
            "15/15 [==============================] - 1s 73ms/step - loss: 0.1035 - acc: 0.9763 - val_loss: 0.1103 - val_acc: 0.9741\n",
            "Epoch 46/50\n",
            "15/15 [==============================] - 1s 72ms/step - loss: 0.1019 - acc: 0.9766 - val_loss: 0.1087 - val_acc: 0.9743\n",
            "Epoch 47/50\n",
            "15/15 [==============================] - 1s 73ms/step - loss: 0.1003 - acc: 0.9768 - val_loss: 0.1072 - val_acc: 0.9745\n",
            "Epoch 48/50\n",
            "15/15 [==============================] - 1s 71ms/step - loss: 0.0988 - acc: 0.9771 - val_loss: 0.1058 - val_acc: 0.9748\n",
            "Epoch 49/50\n",
            "15/15 [==============================] - 1s 74ms/step - loss: 0.0973 - acc: 0.9774 - val_loss: 0.1044 - val_acc: 0.9749\n",
            "Epoch 50/50\n",
            "15/15 [==============================] - 1s 73ms/step - loss: 0.0959 - acc: 0.9776 - val_loss: 0.1031 - val_acc: 0.9751\n"
          ]
        }
      ]
    },
    {
      "cell_type": "code",
      "metadata": {
        "id": "dP_rjiy5POB5",
        "colab": {
          "base_uri": "https://localhost:8080/",
          "height": 513
        },
        "outputId": "aeee48ec-6461-40eb-9dfe-e62e829ca378"
      },
      "source": [
        "#Plotting the GRU model's accuracy\n",
        "plot_accuracy(gru)"
      ],
      "execution_count": 66,
      "outputs": [
        {
          "output_type": "display_data",
          "data": {
            "image/png": "[encoded data removed]",
            "text/plain": [
              "<Figure size 720x576 with 1 Axes>"
            ]
          },
          "metadata": {
            "needs_background": "light"
          }
        }
      ]
    },
    {
      "cell_type": "code",
      "metadata": {
        "id": "hQ9YZTzI03R4",
        "colab": {
          "base_uri": "https://localhost:8080/",
          "height": 513
        },
        "outputId": "bc6fa65c-7e77-4462-932c-8ad3139fc691"
      },
      "source": [
        "#Plotting GRU model's loss\n",
        "plot_loss(gru)"
      ],
      "execution_count": 67,
      "outputs": [
        {
          "output_type": "display_data",
          "data": {
            "image/png": "[encoded data removed]",
            "text/plain": [
              "<Figure size 720x576 with 1 Axes>"
            ]
          },
          "metadata": {
            "needs_background": "light"
          }
        }
      ]
    },
    {
      "cell_type": "markdown",
      "metadata": {
        "id": "5oDH-_C7ZsT-"
      },
      "source": [
        "#Method for custom Accuracy\n",
        "With this method we ignore the padding and the punctuation from the accuracy"
      ]
    },
    {
      "cell_type": "code",
      "metadata": {
        "id": "JYPf74va-3gX"
      },
      "source": [
        "from keras import backend as K\n",
        " \n",
        "def ignore_class_accuracy():\n",
        "    def ignore_accuracy(y_true, y_pred):\n",
        "        y_true_class = K.argmax(y_true, axis=-1)\n",
        "        y_pred_class = K.argmax(y_pred, axis=-1)\n",
        "        to_ignore = [0, 8, 23, 24, 25, 26, 40]  #'.': 8,'$': 23, '``': 24, \"''\": 25, ':': 26,'#': 40\n",
        "        for i in to_ignore:\n",
        "          ignore_mask = K.cast(K.not_equal(y_pred_class, i), 'int32')\n",
        "        matches = K.cast(K.equal(y_true_class, y_pred_class), 'int32') * ignore_mask\n",
        "        accuracy = K.sum(matches) / K.maximum(K.sum(ignore_mask), 1)\n",
        "        return accuracy\n",
        "    return ignore_accuracy"
      ],
      "execution_count": 75,
      "outputs": []
    },
    {
      "cell_type": "markdown",
      "metadata": {
        "id": "j44PomP0ZdL0"
      },
      "source": [
        "#LSTM Custom Accuracy"
      ]
    },
    {
      "cell_type": "code",
      "metadata": {
        "colab": {
          "base_uri": "https://localhost:8080/"
        },
        "id": "ZI9fWnwdgjzd",
        "outputId": "39ea191f-fb91-414a-cddb-335365419234"
      },
      "source": [
        "#Creation LSTM model with custom accuracy\n",
        "NUM_CLASSES = y_padded.shape[2]\n",
        "lstm_model_acc = Sequential()\n",
        "lstm_model_acc.add(Embedding(input_dim    = VOCABULARY_SIZE,         # vocabulary size - number of unique words in data\n",
        "                        output_dim        = EMBEDDING_SIZE,          # length of vector with which each word is represented\n",
        "                        input_length      = MAX_SEQUENCE,          # length of input sequence\n",
        "                        weights           = [embedding_V4],     # word embedding matrix\n",
        "                        trainable         = False                     # True - update embeddings_weight matrix\n",
        "))\n",
        "lstm_model_acc.add(Bidirectional(LSTM(64, return_sequences=True),input_shape=(46, 1)))\n",
        "lstm_model_acc.add(TimeDistributed(Dense(NUM_CLASSES, activation='softmax')))\n",
        "lstm_model_acc.compile(loss     =  'categorical_crossentropy',\n",
        "                  optimizer     =  'adam',\n",
        "                  metrics       =  ['acc',ignore_class_accuracy()])\n",
        "lstm_model_acc.summary()"
      ],
      "execution_count": 76,
      "outputs": [
        {
          "output_type": "stream",
          "name": "stdout",
          "text": [
            "Model: \"sequential_5\"\n",
            "_________________________________________________________________\n",
            " Layer (type)                Output Shape              Param #   \n",
            "=================================================================\n",
            " embedding_5 (Embedding)     (None, 250, 50)           547450    \n",
            "                                                                 \n",
            " bidirectional_3 (Bidirectio  (None, 250, 128)         58880     \n",
            " nal)                                                            \n",
            "                                                                 \n",
            " time_distributed_5 (TimeDis  (None, 250, 46)          5934      \n",
            " tributed)                                                       \n",
            "                                                                 \n",
            "=================================================================\n",
            "Total params: 612,264\n",
            "Trainable params: 64,814\n",
            "Non-trainable params: 547,450\n",
            "_________________________________________________________________\n"
          ]
        }
      ]
    },
    {
      "cell_type": "code",
      "metadata": {
        "colab": {
          "base_uri": "https://localhost:8080/"
        },
        "id": "7UmetrSfhZ8H",
        "outputId": "6797c764-ed76-4f3f-8758-ffbe9876f96a"
      },
      "source": [
        "#Fitting the LSTM model with custom accuracy\n",
        "lstm_acc = lstm_model_acc.fit(X_padded, y_padded, batch_size=128, epochs=50,validation_data=(X_padded_val,y_padded_val))"
      ],
      "execution_count": 77,
      "outputs": [
        {
          "output_type": "stream",
          "name": "stdout",
          "text": [
            "Epoch 1/50\n",
            "30/30 [==============================] - 9s 169ms/step - loss: 2.2540 - acc: 0.8906 - ignore_accuracy: 0.8913 - val_loss: 0.4374 - val_acc: 0.9061 - val_ignore_accuracy: 0.9075\n",
            "Epoch 2/50\n",
            "30/30 [==============================] - 4s 119ms/step - loss: 0.3305 - acc: 0.9190 - ignore_accuracy: 0.9190 - val_loss: 0.2943 - val_acc: 0.9268 - val_ignore_accuracy: 0.9283\n",
            "Epoch 3/50\n",
            "30/30 [==============================] - 3s 105ms/step - loss: 0.2761 - acc: 0.9307 - ignore_accuracy: 0.9307 - val_loss: 0.2661 - val_acc: 0.9345 - val_ignore_accuracy: 0.9355\n",
            "Epoch 4/50\n",
            "30/30 [==============================] - 3s 103ms/step - loss: 0.2522 - acc: 0.9378 - ignore_accuracy: 0.9378 - val_loss: 0.2438 - val_acc: 0.9415 - val_ignore_accuracy: 0.9425\n",
            "Epoch 5/50\n",
            "30/30 [==============================] - 3s 101ms/step - loss: 0.2307 - acc: 0.9444 - ignore_accuracy: 0.9444 - val_loss: 0.2229 - val_acc: 0.9462 - val_ignore_accuracy: 0.9471\n",
            "Epoch 6/50\n",
            "30/30 [==============================] - 3s 99ms/step - loss: 0.2106 - acc: 0.9484 - ignore_accuracy: 0.9484 - val_loss: 0.2036 - val_acc: 0.9499 - val_ignore_accuracy: 0.9507\n",
            "Epoch 7/50\n",
            "30/30 [==============================] - 3s 98ms/step - loss: 0.1920 - acc: 0.9520 - ignore_accuracy: 0.9520 - val_loss: 0.1860 - val_acc: 0.9530 - val_ignore_accuracy: 0.9537\n",
            "Epoch 8/50\n",
            "30/30 [==============================] - 3s 97ms/step - loss: 0.1753 - acc: 0.9552 - ignore_accuracy: 0.9552 - val_loss: 0.1705 - val_acc: 0.9565 - val_ignore_accuracy: 0.9576\n",
            "Epoch 9/50\n",
            "30/30 [==============================] - 3s 97ms/step - loss: 0.1607 - acc: 0.9590 - ignore_accuracy: 0.9590 - val_loss: 0.1570 - val_acc: 0.9601 - val_ignore_accuracy: 0.9611\n",
            "Epoch 10/50\n",
            "30/30 [==============================] - 3s 98ms/step - loss: 0.1481 - acc: 0.9628 - ignore_accuracy: 0.9628 - val_loss: 0.1454 - val_acc: 0.9634 - val_ignore_accuracy: 0.9642\n",
            "Epoch 11/50\n",
            "30/30 [==============================] - 3s 96ms/step - loss: 0.1374 - acc: 0.9656 - ignore_accuracy: 0.9657 - val_loss: 0.1355 - val_acc: 0.9659 - val_ignore_accuracy: 0.9667\n",
            "Epoch 12/50\n",
            "30/30 [==============================] - 3s 95ms/step - loss: 0.1283 - acc: 0.9678 - ignore_accuracy: 0.9678 - val_loss: 0.1270 - val_acc: 0.9679 - val_ignore_accuracy: 0.9688\n",
            "Epoch 13/50\n",
            "30/30 [==============================] - 3s 96ms/step - loss: 0.1204 - acc: 0.9696 - ignore_accuracy: 0.9696 - val_loss: 0.1196 - val_acc: 0.9694 - val_ignore_accuracy: 0.9702\n",
            "Epoch 14/50\n",
            "30/30 [==============================] - 3s 96ms/step - loss: 0.1135 - acc: 0.9710 - ignore_accuracy: 0.9710 - val_loss: 0.1131 - val_acc: 0.9706 - val_ignore_accuracy: 0.9713\n",
            "Epoch 15/50\n",
            "30/30 [==============================] - 3s 95ms/step - loss: 0.1075 - acc: 0.9722 - ignore_accuracy: 0.9722 - val_loss: 0.1074 - val_acc: 0.9718 - val_ignore_accuracy: 0.9725\n",
            "Epoch 16/50\n",
            "30/30 [==============================] - 3s 96ms/step - loss: 0.1022 - acc: 0.9733 - ignore_accuracy: 0.9733 - val_loss: 0.1024 - val_acc: 0.9730 - val_ignore_accuracy: 0.9738\n",
            "Epoch 17/50\n",
            "30/30 [==============================] - 3s 95ms/step - loss: 0.0974 - acc: 0.9744 - ignore_accuracy: 0.9744 - val_loss: 0.0978 - val_acc: 0.9740 - val_ignore_accuracy: 0.9746\n",
            "Epoch 18/50\n",
            "30/30 [==============================] - 3s 97ms/step - loss: 0.0932 - acc: 0.9753 - ignore_accuracy: 0.9753 - val_loss: 0.0936 - val_acc: 0.9751 - val_ignore_accuracy: 0.9758\n",
            "Epoch 19/50\n",
            "30/30 [==============================] - 3s 97ms/step - loss: 0.0893 - acc: 0.9764 - ignore_accuracy: 0.9764 - val_loss: 0.0899 - val_acc: 0.9760 - val_ignore_accuracy: 0.9767\n",
            "Epoch 20/50\n",
            "30/30 [==============================] - 3s 96ms/step - loss: 0.0858 - acc: 0.9773 - ignore_accuracy: 0.9773 - val_loss: 0.0865 - val_acc: 0.9770 - val_ignore_accuracy: 0.9777\n",
            "Epoch 21/50\n",
            "30/30 [==============================] - 3s 96ms/step - loss: 0.0826 - acc: 0.9782 - ignore_accuracy: 0.9782 - val_loss: 0.0833 - val_acc: 0.9779 - val_ignore_accuracy: 0.9785\n",
            "Epoch 22/50\n",
            "30/30 [==============================] - 3s 97ms/step - loss: 0.0796 - acc: 0.9789 - ignore_accuracy: 0.9789 - val_loss: 0.0805 - val_acc: 0.9785 - val_ignore_accuracy: 0.9791\n",
            "Epoch 23/50\n",
            "30/30 [==============================] - 3s 97ms/step - loss: 0.0769 - acc: 0.9795 - ignore_accuracy: 0.9795 - val_loss: 0.0778 - val_acc: 0.9793 - val_ignore_accuracy: 0.9798\n",
            "Epoch 24/50\n",
            "30/30 [==============================] - 3s 97ms/step - loss: 0.0744 - acc: 0.9801 - ignore_accuracy: 0.9801 - val_loss: 0.0753 - val_acc: 0.9798 - val_ignore_accuracy: 0.9804\n",
            "Epoch 25/50\n",
            "30/30 [==============================] - 3s 96ms/step - loss: 0.0721 - acc: 0.9806 - ignore_accuracy: 0.9806 - val_loss: 0.0731 - val_acc: 0.9803 - val_ignore_accuracy: 0.9809\n",
            "Epoch 26/50\n",
            "30/30 [==============================] - 3s 96ms/step - loss: 0.0700 - acc: 0.9812 - ignore_accuracy: 0.9812 - val_loss: 0.0709 - val_acc: 0.9809 - val_ignore_accuracy: 0.9815\n",
            "Epoch 27/50\n",
            "30/30 [==============================] - 3s 97ms/step - loss: 0.0680 - acc: 0.9817 - ignore_accuracy: 0.9817 - val_loss: 0.0690 - val_acc: 0.9814 - val_ignore_accuracy: 0.9820\n",
            "Epoch 28/50\n",
            "30/30 [==============================] - 3s 97ms/step - loss: 0.0661 - acc: 0.9821 - ignore_accuracy: 0.9821 - val_loss: 0.0671 - val_acc: 0.9819 - val_ignore_accuracy: 0.9825\n",
            "Epoch 29/50\n",
            "30/30 [==============================] - 3s 97ms/step - loss: 0.0643 - acc: 0.9826 - ignore_accuracy: 0.9826 - val_loss: 0.0653 - val_acc: 0.9823 - val_ignore_accuracy: 0.9830\n",
            "Epoch 30/50\n",
            "30/30 [==============================] - 3s 98ms/step - loss: 0.0627 - acc: 0.9831 - ignore_accuracy: 0.9831 - val_loss: 0.0637 - val_acc: 0.9827 - val_ignore_accuracy: 0.9833\n",
            "Epoch 31/50\n",
            "30/30 [==============================] - 3s 96ms/step - loss: 0.0611 - acc: 0.9835 - ignore_accuracy: 0.9835 - val_loss: 0.0622 - val_acc: 0.9831 - val_ignore_accuracy: 0.9837\n",
            "Epoch 32/50\n",
            "30/30 [==============================] - 3s 97ms/step - loss: 0.0597 - acc: 0.9838 - ignore_accuracy: 0.9838 - val_loss: 0.0606 - val_acc: 0.9834 - val_ignore_accuracy: 0.9840\n",
            "Epoch 33/50\n",
            "30/30 [==============================] - 3s 97ms/step - loss: 0.0583 - acc: 0.9842 - ignore_accuracy: 0.9842 - val_loss: 0.0592 - val_acc: 0.9837 - val_ignore_accuracy: 0.9843\n",
            "Epoch 34/50\n",
            "30/30 [==============================] - 3s 97ms/step - loss: 0.0571 - acc: 0.9844 - ignore_accuracy: 0.9844 - val_loss: 0.0579 - val_acc: 0.9840 - val_ignore_accuracy: 0.9846\n",
            "Epoch 35/50\n",
            "30/30 [==============================] - 3s 97ms/step - loss: 0.0557 - acc: 0.9847 - ignore_accuracy: 0.9847 - val_loss: 0.0566 - val_acc: 0.9844 - val_ignore_accuracy: 0.9849\n",
            "Epoch 36/50\n",
            "30/30 [==============================] - 3s 95ms/step - loss: 0.0545 - acc: 0.9850 - ignore_accuracy: 0.9850 - val_loss: 0.0554 - val_acc: 0.9846 - val_ignore_accuracy: 0.9851\n",
            "Epoch 37/50\n",
            "30/30 [==============================] - 3s 96ms/step - loss: 0.0534 - acc: 0.9853 - ignore_accuracy: 0.9853 - val_loss: 0.0542 - val_acc: 0.9849 - val_ignore_accuracy: 0.9854\n",
            "Epoch 38/50\n",
            "30/30 [==============================] - 3s 97ms/step - loss: 0.0523 - acc: 0.9856 - ignore_accuracy: 0.9856 - val_loss: 0.0531 - val_acc: 0.9852 - val_ignore_accuracy: 0.9856\n",
            "Epoch 39/50\n",
            "30/30 [==============================] - 3s 97ms/step - loss: 0.0512 - acc: 0.9858 - ignore_accuracy: 0.9858 - val_loss: 0.0521 - val_acc: 0.9854 - val_ignore_accuracy: 0.9858\n",
            "Epoch 40/50\n",
            "30/30 [==============================] - 3s 96ms/step - loss: 0.0502 - acc: 0.9861 - ignore_accuracy: 0.9861 - val_loss: 0.0510 - val_acc: 0.9857 - val_ignore_accuracy: 0.9861\n",
            "Epoch 41/50\n",
            "30/30 [==============================] - 3s 97ms/step - loss: 0.0492 - acc: 0.9863 - ignore_accuracy: 0.9863 - val_loss: 0.0500 - val_acc: 0.9859 - val_ignore_accuracy: 0.9862\n",
            "Epoch 42/50\n",
            "30/30 [==============================] - 3s 97ms/step - loss: 0.0483 - acc: 0.9866 - ignore_accuracy: 0.9866 - val_loss: 0.0491 - val_acc: 0.9862 - val_ignore_accuracy: 0.9865\n",
            "Epoch 43/50\n",
            "30/30 [==============================] - 3s 96ms/step - loss: 0.0474 - acc: 0.9868 - ignore_accuracy: 0.9868 - val_loss: 0.0481 - val_acc: 0.9864 - val_ignore_accuracy: 0.9867\n",
            "Epoch 44/50\n",
            "30/30 [==============================] - 3s 97ms/step - loss: 0.0465 - acc: 0.9870 - ignore_accuracy: 0.9870 - val_loss: 0.0473 - val_acc: 0.9867 - val_ignore_accuracy: 0.9869\n",
            "Epoch 45/50\n",
            "30/30 [==============================] - 3s 96ms/step - loss: 0.0457 - acc: 0.9873 - ignore_accuracy: 0.9873 - val_loss: 0.0464 - val_acc: 0.9869 - val_ignore_accuracy: 0.9872\n",
            "Epoch 46/50\n",
            "30/30 [==============================] - 3s 97ms/step - loss: 0.0449 - acc: 0.9875 - ignore_accuracy: 0.9875 - val_loss: 0.0455 - val_acc: 0.9871 - val_ignore_accuracy: 0.9874\n",
            "Epoch 47/50\n",
            "30/30 [==============================] - 3s 96ms/step - loss: 0.0441 - acc: 0.9877 - ignore_accuracy: 0.9877 - val_loss: 0.0447 - val_acc: 0.9874 - val_ignore_accuracy: 0.9877\n",
            "Epoch 48/50\n",
            "30/30 [==============================] - 3s 96ms/step - loss: 0.0433 - acc: 0.9879 - ignore_accuracy: 0.9879 - val_loss: 0.0440 - val_acc: 0.9877 - val_ignore_accuracy: 0.9879\n",
            "Epoch 49/50\n",
            "30/30 [==============================] - 3s 96ms/step - loss: 0.0426 - acc: 0.9881 - ignore_accuracy: 0.9881 - val_loss: 0.0432 - val_acc: 0.9879 - val_ignore_accuracy: 0.9881\n",
            "Epoch 50/50\n",
            "30/30 [==============================] - 3s 96ms/step - loss: 0.0419 - acc: 0.9884 - ignore_accuracy: 0.9884 - val_loss: 0.0424 - val_acc: 0.9881 - val_ignore_accuracy: 0.9883\n"
          ]
        }
      ]
    },
    {
      "cell_type": "code",
      "source": [
        "#Plotting the LSTM model's accuracy\n",
        "plot_accuracy(lstm_acc)"
      ],
      "metadata": {
        "colab": {
          "base_uri": "https://localhost:8080/",
          "height": 513
        },
        "id": "ux_IT_ACgDBm",
        "outputId": "c68f7389-fe47-4f76-f135-df6adf4f8fb3"
      },
      "execution_count": 78,
      "outputs": [
        {
          "output_type": "display_data",
          "data": {
            "image/png": "[encoded data removed]",
            "text/plain": [
              "<Figure size 720x576 with 1 Axes>"
            ]
          },
          "metadata": {
            "needs_background": "light"
          }
        }
      ]
    },
    {
      "cell_type": "code",
      "metadata": {
        "colab": {
          "base_uri": "https://localhost:8080/",
          "height": 513
        },
        "outputId": "82daf11b-c6bd-4b50-a3e2-ff7b8843f297",
        "id": "HbSoeNGEgJhw"
      },
      "source": [
        "#Plotting the LSTM model loss\n",
        "plot_loss(lstm_acc)"
      ],
      "execution_count": 79,
      "outputs": [
        {
          "output_type": "display_data",
          "data": {
            "image/png": "[encoded data removed]",
            "text/plain": [
              "<Figure size 720x576 with 1 Axes>"
            ]
          },
          "metadata": {
            "needs_background": "light"
          }
        }
      ]
    },
    {
      "cell_type": "markdown",
      "metadata": {
        "id": "l8do0W0EZivA"
      },
      "source": [
        "#GRU Custom Accuracy"
      ]
    },
    {
      "cell_type": "code",
      "metadata": {
        "id": "Efamnrit_Fjm",
        "colab": {
          "base_uri": "https://localhost:8080/"
        },
        "outputId": "67d4d92a-6472-4e5c-c0cd-72ec96a5b3b2"
      },
      "source": [
        "#model creation\n",
        "NUM_CLASSES = y_padded.shape[2]\n",
        "gru_model_acc = Sequential()\n",
        "gru_model_acc.add(Embedding(input_dim     = VOCABULARY_SIZE,\n",
        "                        output_dim    = EMBEDDING_SIZE,\n",
        "                        input_length  = MAX_SEQUENCE,\n",
        "                        weights       = [embedding_V4],\n",
        "                        trainable     = False\n",
        "))\n",
        "gru_model_acc.add(GRU(64, return_sequences=True))\n",
        "gru_model_acc.add(TimeDistributed(Dense(NUM_CLASSES, activation='softmax')))\n",
        "gru_model_acc.compile(loss          = 'categorical_crossentropy',\n",
        "                      optimizer     = 'adam',\n",
        "                      metrics       = ['acc',ignore_class_accuracy()])\n",
        "gru_model_acc.summary()\n",
        " "
      ],
      "execution_count": 81,
      "outputs": [
        {
          "output_type": "stream",
          "name": "stdout",
          "text": [
            "Model: \"sequential_7\"\n",
            "_________________________________________________________________\n",
            " Layer (type)                Output Shape              Param #   \n",
            "=================================================================\n",
            " embedding_7 (Embedding)     (None, 250, 50)           547450    \n",
            "                                                                 \n",
            " gru_3 (GRU)                 (None, 250, 64)           22272     \n",
            "                                                                 \n",
            " time_distributed_7 (TimeDis  (None, 250, 46)          2990      \n",
            " tributed)                                                       \n",
            "                                                                 \n",
            "=================================================================\n",
            "Total params: 572,712\n",
            "Trainable params: 25,262\n",
            "Non-trainable params: 547,450\n",
            "_________________________________________________________________\n"
          ]
        }
      ]
    },
    {
      "cell_type": "code",
      "metadata": {
        "id": "JEXBWomN_9QF",
        "colab": {
          "base_uri": "https://localhost:8080/"
        },
        "outputId": "2b0d416b-76d5-4790-ae72-5039f82ec5b3"
      },
      "source": [
        "#Fitting the model\n",
        "gru_acc = gru_model_acc.fit(X_padded, y_padded, batch_size=128, epochs=50,validation_data=(X_padded_val,y_padded_val))"
      ],
      "execution_count": 83,
      "outputs": [
        {
          "output_type": "stream",
          "name": "stdout",
          "text": [
            "Epoch 1/50\n",
            "30/30 [==============================] - 3s 93ms/step - loss: 2.5166 - acc: 0.9116 - ignore_accuracy: 0.9116 - val_loss: 0.5150 - val_acc: 0.9032 - val_ignore_accuracy: 0.9046\n",
            "Epoch 2/50\n",
            "30/30 [==============================] - 2s 72ms/step - loss: 0.4062 - acc: 0.9171 - ignore_accuracy: 0.9171 - val_loss: 0.3587 - val_acc: 0.9227 - val_ignore_accuracy: 0.9238\n",
            "Epoch 3/50\n",
            "30/30 [==============================] - 2s 71ms/step - loss: 0.3357 - acc: 0.9278 - ignore_accuracy: 0.9279 - val_loss: 0.3195 - val_acc: 0.9354 - val_ignore_accuracy: 0.9366\n",
            "Epoch 4/50\n",
            "30/30 [==============================] - 2s 72ms/step - loss: 0.3045 - acc: 0.9381 - ignore_accuracy: 0.9382 - val_loss: 0.2929 - val_acc: 0.9397 - val_ignore_accuracy: 0.9408\n",
            "Epoch 5/50\n",
            "30/30 [==============================] - 2s 67ms/step - loss: 0.2795 - acc: 0.9414 - ignore_accuracy: 0.9414 - val_loss: 0.2694 - val_acc: 0.9428 - val_ignore_accuracy: 0.9439\n",
            "Epoch 6/50\n",
            "30/30 [==============================] - 2s 67ms/step - loss: 0.2572 - acc: 0.9451 - ignore_accuracy: 0.9451 - val_loss: 0.2486 - val_acc: 0.9485 - val_ignore_accuracy: 0.9497\n",
            "Epoch 7/50\n",
            "30/30 [==============================] - 2s 68ms/step - loss: 0.2375 - acc: 0.9509 - ignore_accuracy: 0.9509 - val_loss: 0.2304 - val_acc: 0.9527 - val_ignore_accuracy: 0.9539\n",
            "Epoch 8/50\n",
            "30/30 [==============================] - 2s 67ms/step - loss: 0.2203 - acc: 0.9547 - ignore_accuracy: 0.9547 - val_loss: 0.2146 - val_acc: 0.9565 - val_ignore_accuracy: 0.9576\n",
            "Epoch 9/50\n",
            "30/30 [==============================] - 2s 67ms/step - loss: 0.2055 - acc: 0.9581 - ignore_accuracy: 0.9581 - val_loss: 0.2011 - val_acc: 0.9590 - val_ignore_accuracy: 0.9601\n",
            "Epoch 10/50\n",
            "30/30 [==============================] - 2s 67ms/step - loss: 0.1926 - acc: 0.9607 - ignore_accuracy: 0.9607 - val_loss: 0.1893 - val_acc: 0.9612 - val_ignore_accuracy: 0.9623\n",
            "Epoch 11/50\n",
            "30/30 [==============================] - 2s 67ms/step - loss: 0.1815 - acc: 0.9624 - ignore_accuracy: 0.9624 - val_loss: 0.1789 - val_acc: 0.9622 - val_ignore_accuracy: 0.9630\n",
            "Epoch 12/50\n",
            "30/30 [==============================] - 2s 68ms/step - loss: 0.1717 - acc: 0.9634 - ignore_accuracy: 0.9634 - val_loss: 0.1698 - val_acc: 0.9632 - val_ignore_accuracy: 0.9641\n",
            "Epoch 13/50\n",
            "30/30 [==============================] - 2s 66ms/step - loss: 0.1630 - acc: 0.9647 - ignore_accuracy: 0.9647 - val_loss: 0.1617 - val_acc: 0.9646 - val_ignore_accuracy: 0.9655\n",
            "Epoch 14/50\n",
            "30/30 [==============================] - 2s 68ms/step - loss: 0.1553 - acc: 0.9660 - ignore_accuracy: 0.9660 - val_loss: 0.1544 - val_acc: 0.9656 - val_ignore_accuracy: 0.9664\n",
            "Epoch 15/50\n",
            "30/30 [==============================] - 2s 67ms/step - loss: 0.1484 - acc: 0.9670 - ignore_accuracy: 0.9670 - val_loss: 0.1479 - val_acc: 0.9667 - val_ignore_accuracy: 0.9676\n",
            "Epoch 16/50\n",
            "30/30 [==============================] - 2s 66ms/step - loss: 0.1422 - acc: 0.9681 - ignore_accuracy: 0.9681 - val_loss: 0.1420 - val_acc: 0.9678 - val_ignore_accuracy: 0.9686\n",
            "Epoch 17/50\n",
            "30/30 [==============================] - 2s 66ms/step - loss: 0.1366 - acc: 0.9692 - ignore_accuracy: 0.9692 - val_loss: 0.1367 - val_acc: 0.9689 - val_ignore_accuracy: 0.9696\n",
            "Epoch 18/50\n",
            "30/30 [==============================] - 2s 66ms/step - loss: 0.1315 - acc: 0.9702 - ignore_accuracy: 0.9702 - val_loss: 0.1317 - val_acc: 0.9700 - val_ignore_accuracy: 0.9707\n",
            "Epoch 19/50\n",
            "30/30 [==============================] - 2s 66ms/step - loss: 0.1268 - acc: 0.9712 - ignore_accuracy: 0.9712 - val_loss: 0.1272 - val_acc: 0.9710 - val_ignore_accuracy: 0.9717\n",
            "Epoch 20/50\n",
            "30/30 [==============================] - 2s 67ms/step - loss: 0.1225 - acc: 0.9721 - ignore_accuracy: 0.9721 - val_loss: 0.1230 - val_acc: 0.9719 - val_ignore_accuracy: 0.9726\n",
            "Epoch 21/50\n",
            "30/30 [==============================] - 2s 66ms/step - loss: 0.1185 - acc: 0.9729 - ignore_accuracy: 0.9729 - val_loss: 0.1191 - val_acc: 0.9727 - val_ignore_accuracy: 0.9734\n",
            "Epoch 22/50\n",
            "30/30 [==============================] - 2s 66ms/step - loss: 0.1147 - acc: 0.9736 - ignore_accuracy: 0.9736 - val_loss: 0.1155 - val_acc: 0.9734 - val_ignore_accuracy: 0.9741\n",
            "Epoch 23/50\n",
            "30/30 [==============================] - 2s 66ms/step - loss: 0.1113 - acc: 0.9743 - ignore_accuracy: 0.9743 - val_loss: 0.1121 - val_acc: 0.9740 - val_ignore_accuracy: 0.9748\n",
            "Epoch 24/50\n",
            "30/30 [==============================] - 2s 66ms/step - loss: 0.1081 - acc: 0.9749 - ignore_accuracy: 0.9749 - val_loss: 0.1090 - val_acc: 0.9746 - val_ignore_accuracy: 0.9753\n",
            "Epoch 25/50\n",
            "30/30 [==============================] - 2s 66ms/step - loss: 0.1050 - acc: 0.9756 - ignore_accuracy: 0.9756 - val_loss: 0.1060 - val_acc: 0.9753 - val_ignore_accuracy: 0.9761\n",
            "Epoch 26/50\n",
            "30/30 [==============================] - 2s 66ms/step - loss: 0.1022 - acc: 0.9761 - ignore_accuracy: 0.9761 - val_loss: 0.1032 - val_acc: 0.9757 - val_ignore_accuracy: 0.9766\n",
            "Epoch 27/50\n",
            "30/30 [==============================] - 2s 67ms/step - loss: 0.0995 - acc: 0.9766 - ignore_accuracy: 0.9766 - val_loss: 0.1006 - val_acc: 0.9762 - val_ignore_accuracy: 0.9770\n",
            "Epoch 28/50\n",
            "30/30 [==============================] - 2s 66ms/step - loss: 0.0970 - acc: 0.9770 - ignore_accuracy: 0.9770 - val_loss: 0.0981 - val_acc: 0.9765 - val_ignore_accuracy: 0.9774\n",
            "Epoch 29/50\n",
            "30/30 [==============================] - 2s 66ms/step - loss: 0.0946 - acc: 0.9774 - ignore_accuracy: 0.9774 - val_loss: 0.0958 - val_acc: 0.9770 - val_ignore_accuracy: 0.9779\n",
            "Epoch 30/50\n",
            "30/30 [==============================] - 2s 67ms/step - loss: 0.0923 - acc: 0.9778 - ignore_accuracy: 0.9778 - val_loss: 0.0935 - val_acc: 0.9774 - val_ignore_accuracy: 0.9782\n",
            "Epoch 31/50\n",
            "30/30 [==============================] - 2s 67ms/step - loss: 0.0902 - acc: 0.9783 - ignore_accuracy: 0.9783 - val_loss: 0.0914 - val_acc: 0.9779 - val_ignore_accuracy: 0.9788\n",
            "Epoch 32/50\n",
            "30/30 [==============================] - 2s 67ms/step - loss: 0.0881 - acc: 0.9787 - ignore_accuracy: 0.9787 - val_loss: 0.0894 - val_acc: 0.9783 - val_ignore_accuracy: 0.9791\n",
            "Epoch 33/50\n",
            "30/30 [==============================] - 2s 66ms/step - loss: 0.0862 - acc: 0.9791 - ignore_accuracy: 0.9791 - val_loss: 0.0875 - val_acc: 0.9787 - val_ignore_accuracy: 0.9794\n",
            "Epoch 34/50\n",
            "30/30 [==============================] - 2s 66ms/step - loss: 0.0843 - acc: 0.9794 - ignore_accuracy: 0.9794 - val_loss: 0.0857 - val_acc: 0.9789 - val_ignore_accuracy: 0.9797\n",
            "Epoch 35/50\n",
            "30/30 [==============================] - 2s 66ms/step - loss: 0.0826 - acc: 0.9797 - ignore_accuracy: 0.9797 - val_loss: 0.0839 - val_acc: 0.9792 - val_ignore_accuracy: 0.9800\n",
            "Epoch 36/50\n",
            "30/30 [==============================] - 2s 66ms/step - loss: 0.0809 - acc: 0.9800 - ignore_accuracy: 0.9800 - val_loss: 0.0823 - val_acc: 0.9795 - val_ignore_accuracy: 0.9804\n",
            "Epoch 37/50\n",
            "30/30 [==============================] - 2s 66ms/step - loss: 0.0793 - acc: 0.9803 - ignore_accuracy: 0.9803 - val_loss: 0.0807 - val_acc: 0.9799 - val_ignore_accuracy: 0.9808\n",
            "Epoch 38/50\n",
            "30/30 [==============================] - 2s 68ms/step - loss: 0.0777 - acc: 0.9806 - ignore_accuracy: 0.9806 - val_loss: 0.0791 - val_acc: 0.9802 - val_ignore_accuracy: 0.9810\n",
            "Epoch 39/50\n",
            "30/30 [==============================] - 2s 68ms/step - loss: 0.0763 - acc: 0.9809 - ignore_accuracy: 0.9809 - val_loss: 0.0777 - val_acc: 0.9804 - val_ignore_accuracy: 0.9813\n",
            "Epoch 40/50\n",
            "30/30 [==============================] - 2s 66ms/step - loss: 0.0748 - acc: 0.9812 - ignore_accuracy: 0.9812 - val_loss: 0.0763 - val_acc: 0.9808 - val_ignore_accuracy: 0.9817\n",
            "Epoch 41/50\n",
            "30/30 [==============================] - 2s 66ms/step - loss: 0.0735 - acc: 0.9815 - ignore_accuracy: 0.9815 - val_loss: 0.0749 - val_acc: 0.9810 - val_ignore_accuracy: 0.9818\n",
            "Epoch 42/50\n",
            "30/30 [==============================] - 2s 67ms/step - loss: 0.0722 - acc: 0.9818 - ignore_accuracy: 0.9818 - val_loss: 0.0736 - val_acc: 0.9813 - val_ignore_accuracy: 0.9821\n",
            "Epoch 43/50\n",
            "30/30 [==============================] - 2s 67ms/step - loss: 0.0709 - acc: 0.9821 - ignore_accuracy: 0.9821 - val_loss: 0.0723 - val_acc: 0.9817 - val_ignore_accuracy: 0.9825\n",
            "Epoch 44/50\n",
            "30/30 [==============================] - 2s 66ms/step - loss: 0.0697 - acc: 0.9824 - ignore_accuracy: 0.9824 - val_loss: 0.0712 - val_acc: 0.9818 - val_ignore_accuracy: 0.9826\n",
            "Epoch 45/50\n",
            "30/30 [==============================] - 2s 67ms/step - loss: 0.0685 - acc: 0.9826 - ignore_accuracy: 0.9826 - val_loss: 0.0700 - val_acc: 0.9820 - val_ignore_accuracy: 0.9829\n",
            "Epoch 46/50\n",
            "30/30 [==============================] - 2s 66ms/step - loss: 0.0674 - acc: 0.9829 - ignore_accuracy: 0.9829 - val_loss: 0.0688 - val_acc: 0.9823 - val_ignore_accuracy: 0.9831\n",
            "Epoch 47/50\n",
            "30/30 [==============================] - 2s 66ms/step - loss: 0.0663 - acc: 0.9830 - ignore_accuracy: 0.9830 - val_loss: 0.0677 - val_acc: 0.9825 - val_ignore_accuracy: 0.9832\n",
            "Epoch 48/50\n",
            "30/30 [==============================] - 2s 68ms/step - loss: 0.0653 - acc: 0.9833 - ignore_accuracy: 0.9833 - val_loss: 0.0667 - val_acc: 0.9826 - val_ignore_accuracy: 0.9834\n",
            "Epoch 49/50\n",
            "30/30 [==============================] - 2s 67ms/step - loss: 0.0642 - acc: 0.9835 - ignore_accuracy: 0.9835 - val_loss: 0.0656 - val_acc: 0.9829 - val_ignore_accuracy: 0.9837\n",
            "Epoch 50/50\n",
            "30/30 [==============================] - 2s 66ms/step - loss: 0.0632 - acc: 0.9837 - ignore_accuracy: 0.9837 - val_loss: 0.0646 - val_acc: 0.9831 - val_ignore_accuracy: 0.9838\n"
          ]
        }
      ]
    },
    {
      "cell_type": "code",
      "source": [
        "#Plotting GRU model's accuracy\n",
        "plot_accuracy(gru_acc)"
      ],
      "metadata": {
        "colab": {
          "base_uri": "https://localhost:8080/",
          "height": 513
        },
        "id": "JlsIpDTtipIK",
        "outputId": "a6aa539a-cbbf-4c76-91d5-3a7edbe7d68b"
      },
      "execution_count": 84,
      "outputs": [
        {
          "output_type": "display_data",
          "data": {
            "image/png": "[encoded data removed]",
            "text/plain": [
              "<Figure size 720x576 with 1 Axes>"
            ]
          },
          "metadata": {
            "needs_background": "light"
          }
        }
      ]
    },
    {
      "cell_type": "code",
      "source": [
        "#Plotting GRU model's loss\n",
        "plot_loss(gru_acc)"
      ],
      "metadata": {
        "colab": {
          "base_uri": "https://localhost:8080/",
          "height": 513
        },
        "id": "goWTYI9OiyF6",
        "outputId": "caf28a2f-a955-4df7-fb2d-8875badb9443"
      },
      "execution_count": 85,
      "outputs": [
        {
          "output_type": "display_data",
          "data": {
            "image/png": "[encoded data removed]",
            "text/plain": [
              "<Figure size 720x576 with 1 Axes>"
            ]
          },
          "metadata": {
            "needs_background": "light"
          }
        }
      ]
    },
    {
      "cell_type": "markdown",
      "metadata": {
        "id": "5tu-h1Nto9Jx"
      },
      "source": [
        "#Models' Evaluation"
      ]
    },
    {
      "cell_type": "code",
      "metadata": {
        "id": "h0cqp6ePpHfn",
        "colab": {
          "base_uri": "https://localhost:8080/"
        },
        "outputId": "692050d5-5a9e-47a2-8868-8881b44144ef"
      },
      "source": [
        "loss, accuracy = lstm_model.evaluate(X_padded_test, y_padded_test, verbose = 1)\n",
        "print(\"Loss: {0},\\nAccuracy: {1}\".format(loss, accuracy))"
      ],
      "execution_count": 86,
      "outputs": [
        {
          "output_type": "stream",
          "name": "stdout",
          "text": [
            "21/21 [==============================] - 1s 39ms/step - loss: 0.0692 - acc: 0.9810\n",
            "Loss: 0.06919177621603012,\n",
            "Accuracy: 0.9809922575950623\n"
          ]
        }
      ]
    },
    {
      "cell_type": "code",
      "metadata": {
        "trusted": true,
        "id": "EjQOglFyqpK7",
        "colab": {
          "base_uri": "https://localhost:8080/"
        },
        "outputId": "6d8e246c-8247-4192-ee8f-806c324655d8"
      },
      "source": [
        "loss, accuracy = gru_model.evaluate(X_padded_test, y_padded_test, verbose = 1)\n",
        "print(\"Loss: {0},\\nAccuracy: {1}\".format(loss, accuracy))"
      ],
      "execution_count": 87,
      "outputs": [
        {
          "output_type": "stream",
          "name": "stdout",
          "text": [
            "21/21 [==============================] - 0s 21ms/step - loss: 0.0961 - acc: 0.9772\n",
            "Loss: 0.09606806188821793,\n",
            "Accuracy: 0.9772403240203857\n"
          ]
        }
      ]
    },
    {
      "cell_type": "code",
      "source": [
        "loss, accuracy, ignore_accuracy = lstm_model_acc.evaluate(X_padded_test, y_padded_test, verbose = 1)\n",
        "print(\"Loss: {0},\\nAccuracy: {1},\\nIgnored_accuracy: {2}\".format(loss, accuracy, ignore_accuracy))"
      ],
      "metadata": {
        "colab": {
          "base_uri": "https://localhost:8080/"
        },
        "id": "0Hh_alQljKFw",
        "outputId": "9860d6e2-411b-4de9-ca0f-7fd4575a96f3"
      },
      "execution_count": 92,
      "outputs": [
        {
          "output_type": "stream",
          "name": "stdout",
          "text": [
            "21/21 [==============================] - 1s 40ms/step - loss: 0.0369 - acc: 0.9897 - ignore_accuracy: 0.9897\n",
            "Loss: 0.03694399446249008,\n",
            "Accuracy: 0.9896743893623352,\n",
            "Ignored_accuracy: 0.9897356629371643\n"
          ]
        }
      ]
    },
    {
      "cell_type": "code",
      "source": [
        "loss, accuracy, ignore_accuracy = gru_model_acc.evaluate(X_padded_test, y_padded_test, verbose = 1)\n",
        "print(\"Loss: {0},\\nAccuracy: {1},\\nIgnored_accuracy: {2}\".format(loss, accuracy, ignore_accuracy))"
      ],
      "metadata": {
        "colab": {
          "base_uri": "https://localhost:8080/"
        },
        "id": "pGZ8ZLzwjKOO",
        "outputId": "1441f101-3eb5-4880-842c-34a996ca7755"
      },
      "execution_count": 93,
      "outputs": [
        {
          "output_type": "stream",
          "name": "stdout",
          "text": [
            "21/21 [==============================] - 0s 22ms/step - loss: 0.0576 - acc: 0.9853 - ignore_accuracy: 0.9855\n",
            "Loss: 0.05759715661406517,\n",
            "Accuracy: 0.9853147268295288,\n",
            "Ignored_accuracy: 0.9854546785354614\n"
          ]
        }
      ]
    },
    {
      "cell_type": "markdown",
      "metadata": {
        "id": "-Q2gKtWBZ_3W"
      },
      "source": [
        "#Showing Predictions"
      ]
    },
    {
      "cell_type": "code",
      "metadata": {
        "id": "XPuXq3d7AQbA"
      },
      "source": [
        "predictions = lstm_model.predict(X_padded_test)"
      ],
      "execution_count": 102,
      "outputs": []
    },
    {
      "cell_type": "code",
      "metadata": {
        "id": "se7-tOIrBoXD"
      },
      "source": [
        "def logits_to_tokens(sequences, dict):\n",
        "    token_sequences = []\n",
        "    for categorical_sequence in sequences:\n",
        "        token_sequence = []\n",
        "        for categorical in categorical_sequence:\n",
        "            token_sequence.append(dict[np.argmax(categorical)])\n",
        " \n",
        "        token_sequences.append(token_sequence)\n",
        " \n",
        "    return token_sequences"
      ],
      "execution_count": 103,
      "outputs": []
    },
    {
      "cell_type": "code",
      "metadata": {
        "id": "no2vD5ADAbKz"
      },
      "source": [
        "dict_class_id = dict(tokenizer_class_id.index_word)\n",
        "pred = logits_to_tokens(predictions, dict_class_id)\n",
        "tr = logits_to_tokens(y_padded_test, dict_class_id)"
      ],
      "execution_count": 104,
      "outputs": []
    },
    {
      "cell_type": "code",
      "metadata": {
        "id": "ZVk5HvmbAj2O",
        "colab": {
          "base_uri": "https://localhost:8080/"
        },
        "outputId": "f5ca1095-2073-4fb3-ce4c-b76232f4db70"
      },
      "source": [
        "per=[]\n",
        "for i in range(0,len(pred)):\n",
        "  per.append(list(filter(lambda x: x != 0, pred[i])))\n",
        "print(per[10])\n",
        "\n",
        "print(df_phrases_test['phrase_class_id'][10])\n",
        "print(df_phrases_test[\"phrase\"][10])"
      ],
      "execution_count": 105,
      "outputs": [
        {
          "output_type": "stream",
          "name": "stdout",
          "text": [
            "['dt', 'nnp', 'nnp', 'nnp', 'nnp', 'nnp', 'pos', 'nn', 'to', 'cd', 'nn', 'in', 'cd', 'nn', 'cc', 'to', 'vb', 'vb', 'nnp', 'nnp', 'in', 'vbg', 'dt', 'nn', 'in', 'dt', 'jj', 'nn', '.']\n",
            "['DT', 'NN', 'VBZ', 'NNP', 'NNP', 'NNP', 'NNP', 'POS', 'NN', 'TO', 'CD', 'NN', 'IN', 'CD', 'NN', 'CC', 'MD', 'VB', 'VB', 'NNP', 'NNP', 'IN', 'VBG', 'DT', 'NN', 'IN', 'DT', 'NNS', 'NN', '.']\n",
            "['the', 'move', 'boosts', 'Intelogic', 'Chairman', 'Asher', 'Edelman', \"'s\", 'stake', 'to', '20', '%', 'from', '16.2', '%', 'and', 'may', 'help', 'prevent', 'Martin', 'Ackerman', 'from', 'making', 'a', 'run', 'at', 'the', 'computer-services', 'concern', '.']\n"
          ]
        }
      ]
    },
    {
      "cell_type": "markdown",
      "metadata": {
        "id": "uZ97KOcTfEjH"
      },
      "source": [
        "#Confusion Matrix\n"
      ]
    },
    {
      "cell_type": "code",
      "metadata": {
        "id": "FreTsAuQ1wDu"
      },
      "source": [
        "for i in range(0,len(per)-1):\n",
        "  for j in (0,len(per[i])-1):\n",
        "    per[i][j].upper()"
      ],
      "execution_count": null,
      "outputs": []
    },
    {
      "cell_type": "code",
      "metadata": {
        "id": "_fZKzV-UsNHD"
      },
      "source": [
        "from sklearn.metrics import confusion_matrix\n",
        "'''def plot_cm(labels, predictions, p=0.5):\n",
        "  eq =0\n",
        "  not_eq = 0\n",
        "  cm = confusion_matrix(labels, predictions)\n",
        "  plt.figure(figsize=(10,10))\n",
        "  sns.heatmap(cm, annot=True, fmt=\"d\")\n",
        "  plt.title('Confusion matrix @{:.2f}'.format(p))\n",
        "  plt.ylabel('Actual label')\n",
        "  plt.xlabel('Predicted label')\n",
        "  print(type(cm))\n",
        "  print(cm.shape)\n",
        "  for i in range(0,len(cm)-1):\n",
        "    for j in range(0,len(cm[i])):\n",
        "      if not cm[i][j] == 0 and i == j:\n",
        "        eq += cm[i][j]\n",
        "      elif not cm[i][j] == 0 and i!=j:\n",
        "        not_eq += cm[i][j]\n",
        "  print('Correct Labels: ',eq)\n",
        "  print('Wrong Labels: ', not_eq)'''\n",
        "\n",
        "cm = confusion_matrix([df_phrases_test['phrase_class_id'].argmax(axis=0)], per.argmax(axis=0)) \n",
        "cm.shape"
      ],
      "execution_count": null,
      "outputs": []
    },
    {
      "cell_type": "code",
      "metadata": {
        "id": "WhaXnC7uy5Zn"
      },
      "source": [
        "print(df_phrases_test['phrase_class_id'][10])\n",
        "cm_df = pd.DataFrame(cm,\n",
        "                     index = ['NNP','JJ','DT', 'NN', 'VBZ','POS','TO', 'CD','IN','CC', 'MD', 'VB','VBG','NNS', '.'], \n",
        "                     columns = ['NNP','JJ','DT', 'NN', 'VBZ','POS','TO', 'CD','IN','CC', 'MD', 'VB','VBG','NNS', '.'])"
      ],
      "execution_count": null,
      "outputs": []
    },
    {
      "cell_type": "code",
      "metadata": {
        "id": "pArQ1FYEfJQG"
      },
      "source": [
        "from sklearn.metrics import confusion_matrix\n",
        "\n",
        "plot_cm(df_phrases_test['phrase_class_id'][10], per[10])"
      ],
      "execution_count": null,
      "outputs": []
    },
    {
      "cell_type": "code",
      "metadata": {
        "id": "ybeC0tAZTa4m"
      },
      "source": [
        "from sklearn.metrics import classification_report\n",
        "target_names = df_phrases_test['phrase_class_id'][3]\n",
        "print(classification_report(df_phrases_test['phrase_class_id'][3], per[3], target_names=target_names))"
      ],
      "execution_count": null,
      "outputs": []
    }
  ]
}