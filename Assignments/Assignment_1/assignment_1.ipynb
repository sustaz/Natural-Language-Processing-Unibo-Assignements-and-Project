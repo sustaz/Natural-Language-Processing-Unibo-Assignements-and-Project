{
 "cells": [
  {
   "cell_type": "markdown",
   "metadata": {
    "id": "-WeCeITXoxLf"
   },
   "source": [
    "# Assignment 1\n",
    "\n",
    "**Due to**: 23/12/2021 (dd/mm/yyyy)\n",
    "\n",
    "**Credits**: Andrea Galassi, Federico Ruggeri, Paolo Torroni\n",
    "\n",
    "**Summary**: Part-of Speech (POS) tagging as Sequence Labelling using Recurrent Neural Architectures"
   ]
  },
  {
   "cell_type": "markdown",
   "metadata": {
    "id": "a4_wqPdlBcKS"
   },
   "source": [
    "# Intro\n",
    "\n",
    "In this assignment  we will ask you to perform POS tagging using neural architectures\n",
    "\n",
    "You are asked to follow these steps:\n",
    "*   Download the corpora and split it in training and test sets, structuring a dataframe.\n",
    "*   Embed the words using GloVe embeddings\n",
    "*   Create a baseline model, using a simple neural architecture\n",
    "*   Experiment doing small modifications to the baseline model, choose hyperparameters using the validation set\n",
    "*   Evaluate your two best model\n",
    "*   Analyze the errors of your model\n",
    "\n",
    "\n",
    "**Task**: given a corpus of documents, predict the POS tag for each word\n",
    "\n",
    "**Corpus**:\n",
    "Ignore the numeric value in the third column, use only the words/symbols and its label. \n",
    "The corpus is available at:\n",
    "https://raw.githubusercontent.com/nltk/nltk_data/gh-pages/packages/corpora/dependency_treebank.zip\n",
    "\n",
    "**Splits**: documents 1-100 are the train set, 101-150 validation set, 151-199 test set.\n",
    "\n",
    "\n",
    "**Features**: you MUST use GloVe embeddings as the only input features to the model.\n",
    "\n",
    "**Splitting**: you can decide to split documents into sentences or not, the choice is yours.\n",
    "\n",
    "**I/O structure**: The input data will have three dimensions: 1-documents/sentences, 2-token, 3-features; for the output there are 2 possibilities: if you use one-hot encoding it will be 1-documents/sentences, 2-token labels, 3-classes, if you use a single integer that indicates the number of the class it will be 1-documents/sentences, 2-token labels.\n",
    "\n",
    "**Baseline**: two layers architecture: a Bidirectional LSTM layer and a Dense/Fully-Connected layer on top; the choice of hyper-parameters is yours.\n",
    "\n",
    "**Architectures**: experiment using a GRU instead of the LSTM, adding an additional LSTM layer, and adding an additional dense layer; do not mix these variantions.\n",
    "\n",
    "\n",
    "**Training and Experiments**: all the experiments must involve only the training and validation sets.\n",
    "\n",
    "**Evaluation**: in the end, only the two best models of your choice (according to the validation set) must be evaluated on the test set. The main metric must be F1-Macro computed between the various part of speech. DO NOT CONSIDER THE PUNCTUATION CLASSES.\n",
    "\n",
    "**Metrics**: the metric you must use to evaluate your final model is the F1-macro, WITHOUT considering punctuation/symbols classes; during the training process you can use accuracy because you can't use the F1 metric unless you use a single (gigantic) batch because there is no way to aggregate \"partial\" F1 scores computed on mini-batches.\n",
    "\n",
    "**Discussion and Error Analysis** : verify and discuss if the results on the test sets are coherent with those on the validation set; analyze the errors done by your model, try to understand which may be the causes and think about how to improve it.\n",
    "\n",
    "**Report**: you are asked to deliver the code of your experiments and a small pdf report of about 2 pages; the pdf must begin with the names of the people of your team and a small abstract (4-5 lines) that sums up your findings.\n",
    "\n",
    "# Out Of Vocabulary (OOV) terms\n",
    "\n",
    "How to handle words that are not in GloVe vocabulary?\n",
    "You can handle them as you want (random embedding, placeholder, whatever!), but they must be STATIC embeddings (you cannot train them).\n",
    "\n",
    "But there is a very important caveat! As usual, the element of the test set must not influence the elements of the other splits!\n",
    "\n",
    "So, when you compute new embeddings for train+validation, you must forget about test documents.\n",
    "The motivation is to emulate a real-world scenario, where you select and train a model in the first stage, without knowing nothing about the testing environment.\n",
    "\n",
    "For implementation convenience, you CAN use a single vocabulary file/matrix/whatever. The principle of the previous point is that the embeddings inside that file/matrix must be generated independently for train and test splits.\n",
    "\n",
    "Basically in a real-world scenario, this is what would happen:\n",
    "1. Starting vocabulary V1 (in this assignment, GloVe vocabulary)\n",
    "2. Compute embeddings for terms out of vocabulary V1 (OOV1) of the training split \n",
    "3. Add embeddings to the vocabulary, so to obtain vocabulary V2=V1+OOV1\n",
    "4. Training of the model(s)\n",
    "5. Compute embeddings for terms OOV2 of the validation split \n",
    "6. Add embeddings to the vocabulary, so to obtain vocabulary V3=V1+OOV1+OOV2\n",
    "7. Validation of the model(s)\n",
    "8. Compute embeddings for terms OOV3 of the test split \n",
    "9. Add embeddings to the vocabulary, so to obtain vocabulary V4=V1+OOV1+OOV2+OOV3\n",
    "10. Testing of the final model\n",
    "\n",
    "In this case, where we already have all the documents, we can simplify the process a bit, but the procedure must remain rigorous.\n",
    "\n",
    "1. Starting vocabulary V1 (in this assignment, GloVe vocabulary)\n",
    "2. Compute embeddings for terms out of vocabulary V1 (OOV1) of the training split \n",
    "3. Add embeddings to the vocabulary, so to obtain vocabulary V2=V1+OOV1\n",
    "4. Compute embeddings for terms OOV2 of the validation split \n",
    "5. Add embeddings to the vocabulary, so to obtain vocabulary V3=V1+OOV1+OOV2\n",
    "6. Compute embeddings for terms OOV3 of the test split \n",
    "7. Add embeddings to the vocabulary, so to obtain vocabulary V4=V1+OOV1+OOV2\n",
    "8. Training of the model(s)\n",
    "9. Validation of the model(s)\n",
    "10. Testing of the final model\n",
    "\n",
    "Step 2 and step 6 must be completely independent of each other, for what concerns the method and the documents. But they can rely on the previous vocabulary (V1 for step 2 and V3 for step 6)\n",
    "THEREFORE if a word is present both in the training set and the test split and not in the starting vocabulary, its embedding is computed in step 2) and it is not considered OOV anymore in step 6).\n",
    "\n",
    "# Report\n",
    "The report must not be just a copy and paste of graphs and tables!\n",
    "\n",
    "The report must not be longer than 2 pages and must contain:\n",
    "* The names of the member of your team\n",
    "* A short abstract (4-5 lines) that sum ups everything\n",
    "* A general description of the task you have addressed and how you have addressed it\n",
    "* A short description of the models you have used\n",
    "* Some tables that sum up your findings in validation and test and a discussion of those results\n",
    "* The most relevant findings of your error analysis\n",
    "\n",
    "# Evaluation Criterion\n",
    "\n",
    "The goal of this assignment is not to prove you can find best model ever, but to face a common task, structure it correctly, and follow a correct and rigorous experimental procedure.\n",
    "In other words, we don't care if you final models are awful as long as you have followed the correct procedure and wrote a decent report.\n",
    "\n",
    "The score of the assignment will be computed roughly as follows\n",
    "* 1 point for the general setting of the problem\n",
    "* 1 point for the handling of OOV terms\n",
    "* 1 point for the models\n",
    "* 1 point for train-validation-test procedure\n",
    "* 2 point for the discussion of the results, error analysis, and report\n",
    "\n",
    "This distribution of scores is tentative and we may decide to alter it at any moment.\n",
    "We also reserve the right to assign a small bonus (0.5 points) to any assignment that is particularly worthy. Similarly, in case of grave errors, we may decide to assign an equivalent malus (-0.5 points).\n",
    "\n",
    "# Contacts\n",
    "\n",
    "In case of any doubt, question, issue, or help we highly recommend you to check the [course useful material](https://virtuale.unibo.it/pluginfile.php/1036039/mod_resource/content/2/NLP_Course_Useful_Material.pdf) for additional information, and to use the Virtuale forums to discuss with other students.\n",
    "\n",
    "You can always contact us at the following email addresses. To increase the probability of a prompt response, we reccomend you to write to both the teaching assistants.\n",
    "\n",
    "Teaching Assistants:\n",
    "\n",
    "* Andrea Galassi -> a.galassi@unibo.it\n",
    "* Federico Ruggeri -> federico.ruggeri6@unibo.it\n",
    "\n",
    "Professor:\n",
    "\n",
    "* Paolo Torroni -> p.torroni@unibo.it\n",
    "\n",
    "\n",
    "# FAQ\n",
    "* You can use a non-trainable Embedding layer to load the glove embeddings\n",
    "* You can use any library of your choice to implement the networks. Two options are tensorflow/keras or pythorch. Both these libraries have all the classes you need to implement these simple architectures and there are plenty of tutorials around, where you can learn how to use them."
   ]
  },
  {
   "cell_type": "markdown",
   "metadata": {},
   "source": [
    "### Preliminaries operations"
   ]
  },
  {
   "cell_type": "code",
   "execution_count": 2,
   "metadata": {},
   "outputs": [
    {
     "name": "stderr",
     "output_type": "stream",
     "text": [
      "WARNING: You are using pip version 21.2.4; however, version 21.3.1 is available.\n",
      "You should consider upgrading via the 'C:\\Users\\franc\\AppData\\Local\\Microsoft\\WindowsApps\\PythonSoftwareFoundation.Python.3.9_qbz5n2kfra8p0\\python.exe -m pip install --upgrade pip' command.\n"
     ]
    },
    {
     "name": "stdout",
     "output_type": "stream",
     "text": [
      "Requirement already satisfied: simplejson in c:\\users\\franc\\appdata\\local\\packages\\pythonsoftwarefoundation.python.3.9_qbz5n2kfra8p0\\localcache\\local-packages\\python39\\site-packages (3.17.6)\n"
     ]
    }
   ],
   "source": [
    "#import libraries\n",
    "\n",
    "#!pip install rar\n",
    "#!unzip dependency_treebank.zip\n",
    "!pip install simplejson\n",
    "import simplejson as sj\n",
    "import pandas as pd\n",
    "import numpy as np\n",
    "from collections import OrderedDict \n",
    "import zipfile\n",
    "import os\n",
    "import urllib.request"
   ]
  },
  {
   "cell_type": "markdown",
   "metadata": {},
   "source": [
    "   ### Importing Data\n",
    "   We import Data from dependecy_treebank and we save it in a DataFrame that contains two column labels \"word\" where is collected each word, and in \"class_id\" where is collected each tag. \n",
    "   Then we show the Dataset."
   ]
  },
  {
   "cell_type": "code",
   "execution_count": 3,
   "metadata": {},
   "outputs": [
    {
     "name": "stdout",
     "output_type": "stream",
     "text": [
      "     word class_id\n",
      "0  Pierre      NNP\n",
      "1  Vinken      NNP\n",
      "2       ,        ,\n",
      "3      61       CD\n",
      "4   years      NNS\n",
      "5     old       JJ\n",
      "6       ,        ,\n",
      "7    will       MD\n",
      "8    join       VB\n",
      "9     the       DT\n"
     ]
    }
   ],
   "source": [
    "list_word = []\n",
    "list_class = []\n",
    "data = []\n",
    "train_ind: int\n",
    "val_ind: int\n",
    "for i in range(1, 200):\n",
    "    if i<10:\n",
    "        df = pd.read_table('dependency_treebank/wsj_000{}.dp'.format(i), header = None)\n",
    "    elif i>=10 and i<100:\n",
    "        df = pd.read_table('dependency_treebank/wsj_00{}.dp'.format(i), header = None)\n",
    "    else:\n",
    "        df = pd.read_table('dependency_treebank/wsj_0{}.dp'.format(i), header = None)\n",
    "    for j in range(0,df.shape[0]):\n",
    "        list_word.append(df[0][j]) \n",
    "        list_class.append(df[1][j])\n",
    "    if i==99:\n",
    "        train_ind = len(list_word)\n",
    "    elif i==149:\n",
    "        val_ind = len(list_word)\n",
    "\n",
    "data = list(zip(list_word,list_class))\n",
    "df = pd.DataFrame(data, columns =['word', 'class_id']) \n",
    "print(df.head(10))"
   ]
  },
  {
   "cell_type": "markdown",
   "metadata": {},
   "source": [
    "## Preprocessing\n",
    "We've decided to set lowercase all the words that are at the beginning of sentence and are not proper name, in order to not have duplicate on the vocabulary (e.g. \"the\" and \"The\"). Then we remove from the dataset the punctuation, as specified before. "
   ]
  },
  {
   "cell_type": "code",
   "execution_count": 4,
   "metadata": {},
   "outputs": [],
   "source": [
    "#setting lowercase\n",
    "for i in range(0,df.shape[0]-1):\n",
    "    if df['class_id'][i] == '.' and df['class_id'][i+1] != 'NNP':\n",
    "        df['word'][i+1] = str(df['word'][i+1]).lower()"
   ]
  },
  {
   "cell_type": "code",
   "execution_count": 5,
   "metadata": {},
   "outputs": [
    {
     "name": "stderr",
     "output_type": "stream",
     "text": [
      "C:\\Users\\franc\\AppData\\Local\\Temp/ipykernel_1748/214265995.py:3: FutureWarning: The default value of regex will change from True to False in a future version.\n",
      "  df[\"class_id\"] = df['class_id'].str.replace('[^\\w\\s]', '')\n",
      "C:\\Users\\franc\\AppData\\Local\\Temp/ipykernel_1748/214265995.py:4: FutureWarning: The default value of regex will change from True to False in a future version.\n",
      "  df[\"word\"] = df['word'].str.replace('[^\\w\\s]', '')\n"
     ]
    },
    {
     "name": "stdout",
     "output_type": "stream",
     "text": [
      "     word class_id\n",
      "0  Pierre      NNP\n",
      "1  Vinken      NNP\n",
      "2      61       CD\n",
      "3   years      NNS\n",
      "4     old       JJ\n",
      "5    will       MD\n",
      "6    join       VB\n",
      "7     the       DT\n",
      "8   board       NN\n",
      "9      as       IN\n"
     ]
    }
   ],
   "source": [
    "#punctuation removal\n",
    "#show the dataset\n",
    "df[\"class_id\"] = df['class_id'].str.replace('[^\\w\\s]', '')\n",
    "df[\"word\"] = df['word'].str.replace('[^\\w\\s]', '')\n",
    "df.replace('', pd.NaT, inplace=True)\n",
    "df.dropna(how='any', inplace=True)\n",
    "df = df.reset_index(drop=True)\n",
    "print(df.head(10))"
   ]
  },
  {
   "cell_type": "markdown",
   "metadata": {},
   "source": [
    "### Vocabulary creation"
   ]
  },
  {
   "cell_type": "code",
   "execution_count": 6,
   "metadata": {},
   "outputs": [],
   "source": [
    "#We create the vocabulary\n",
    "\n",
    "word_listing = np.sort(df['word'].unique())\n",
    "word_to_idx = OrderedDict(zip(word_listing,range(0,len(word_listing)))) \n",
    "idx_to_word = OrderedDict(zip(range(0,len(word_listing)), word_listing)) \n",
    " "
   ]
  },
  {
   "cell_type": "code",
   "execution_count": 7,
   "metadata": {},
   "outputs": [
    {
     "name": "stdout",
     "output_type": "stream",
     "text": [
      "Saving vocabulary to C:\\Users\\franc\\Documents\\GitHub\\Natural-Language-Processing\\Assignments\\Assignment_1\\vocab.json\n",
      "Saving completed!\n"
     ]
    }
   ],
   "source": [
    "#Saving the vocabulary in vocab.json file\n",
    "\n",
    "vocab_path = os.path.join(os.getcwd(), 'vocab.json')\n",
    "\n",
    "print(\"Saving vocabulary to {}\".format(vocab_path))\n",
    "with open(vocab_path, mode='w') as f:\n",
    "    sj.dumps(word_to_idx, f, indent=4)\n",
    "print(\"Saving completed!\")"
   ]
  },
  {
   "cell_type": "markdown",
   "metadata": {},
   "source": [
    "We divide the Dataset in training set, validation set and test set"
   ]
  },
  {
   "cell_type": "code",
   "execution_count": 8,
   "metadata": {},
   "outputs": [],
   "source": [
    "df_train = df[0:train_ind]\n",
    "df_val = df[train_ind:val_ind]\n",
    "df_test = df[val_ind::]"
   ]
  },
  {
   "cell_type": "markdown",
   "metadata": {},
   "source": [
    "    STARTING FROM HERE IS A DIOCANE"
   ]
  },
  {
   "cell_type": "code",
   "execution_count": 9,
   "metadata": {},
   "outputs": [
    {
     "name": "stdout",
     "output_type": "stream",
     "text": [
      "Successful extraction\n"
     ]
    }
   ],
   "source": [
    "url = \"https://nlp.stanford.edu/data/glove.6B.zip\"\n",
    "\n",
    "glove_path = os.path.join(os.getcwd(),\"Glove\")\n",
    "glove_zip = os.path.join(os.getcwd(),\"Glove\", \"glove.6B.zip\")\n",
    "\n",
    "if not os.path.exists(glove_path):\n",
    "    os.makedirs(glove_path)\n",
    "\n",
    "if not os.path.exists(glove_zip):\n",
    "    urllib.request.urlretrieve(url, glove_zip)\n",
    "    print(\"Successful download\")\n",
    "\n",
    "with zipfile.ZipFile(glove_zip, 'r') as zip_ref:\n",
    "    zip_ref.extractall(path=glove_path)\n",
    "    print(\"Successful extraction\")"
   ]
  },
  {
   "cell_type": "code",
   "execution_count": 10,
   "metadata": {},
   "outputs": [],
   "source": [
    "emmbed_dict = {}\n",
    "with open(glove_path + '\\glove.6B.300d.txt','r', encoding=\"utf8\") as f:\n",
    "    for line in f:\n",
    "        values = line.split()\n",
    "        word = values[0]\n",
    "        vector = np.asarray(values[1:],'float32')\n",
    "        emmbed_dict[word]=vector"
   ]
  },
  {
   "cell_type": "code",
   "execution_count": 11,
   "metadata": {},
   "outputs": [],
   "source": [
    "emmbed_dict_train = {}\n",
    "for word in emmbed_dict.keys():\n",
    "    if word in np.array(df_train['word']):\n",
    "        emmbed_dict_train[word] = emmbed_dict[word]\n",
    "    else:\n",
    "        embed_dict_train[word] = np.random.uniform(random.choice(list(emmbed_dict_train.values())),size=300)"
   ]
  },
  {
   "cell_type": "code",
   "execution_count": null,
   "metadata": {},
   "outputs": [],
   "source": [
    "embed_dict2 = set(word_listing).intersection(emmbed_dict.keys())"
   ]
  },
  {
   "cell_type": "code",
   "execution_count": 14,
   "metadata": {},
   "outputs": [
    {
     "name": "stdout",
     "output_type": "stream",
     "text": [
      "Total OOV terms: 2471 (5.32%)\n"
     ]
    }
   ],
   "source": [
    "def OOV_terms(embedding_model, word_listing):\n",
    "    embedding_vocabulary = set(embedding_model.keys())\n",
    "    oov = set(word_listing).difference(embedding_vocabulary)\n",
    "    return list(oov)\n",
    "OOV_train = OOV_terms(emmbed_dict, np.sort(df_train['word'].unique()))\n",
    "print(\"Total OOV terms: {0} ({1:.2f}%)\".format(len(OOV_train), float(len(OOV_train))*100 / len(df_train['word'].unique())))"
   ]
  },
  {
   "cell_type": "code",
   "execution_count": 16,
   "metadata": {},
   "outputs": [
    {
     "name": "stdout",
     "output_type": "stream",
     "text": [
      "8383\n"
     ]
    }
   ],
   "source": [
    "import random\n",
    "dict_train_glove = emmbed_dict_train\n",
    "for word in OOV_train:\n",
    "    dict_train_glove[word] = np.random.uniform(random.choice(list(emmbed_dict_train.values())),size=300)\n",
    "print(len(dict_train_glove))\n"
   ]
  },
  {
   "cell_type": "code",
   "execution_count": null,
   "metadata": {},
   "outputs": [],
   "source": [
    "def compute_embedding(emmbedding_dictionary,df_col, word_listing):\n",
    "    emmbed_dict_new = {}\n",
    "    oov = []\n",
    "    for word in emmbedding_dictionary.keys():\n",
    "        if word in np.array(df_col):\n",
    "            emmbed_dict_new[word] = emmbedding_dictionary[word] #return emmbed_dict_new\n",
    "        else:\n",
    "            oov.append(word)\n",
    "            emmbed_dict_new[word] = np.random.uniform(random.choice(list(emmbedding_dictionary.values())),size=300)\n",
    "            \n",
    "    \"\"\"embedding_vocabulary = set(emmbedding_dictionary.keys())\n",
    "    \n",
    "    oov = list(set(word_listing).difference(embedding_vocabulary))#return oov\n",
    "    for word in oov:\n",
    "        emmbed_dict_new[word] = np.random.uniform(random.choice(list(emmbedding_dictionary.values())),size=300)\"\"\"\n",
    "    return emmbed_dict_new, oov\n",
    "\n",
    "test_dict_train, oov_test = compute_embedding(emmbed_dict, df_train['word'], np.sort(df_train['word'].unique()))\n",
    "print(test_dict_train.shape(), len(oov_test))\n"
   ]
  },
  {
   "cell_type": "code",
   "execution_count": null,
   "metadata": {},
   "outputs": [],
   "source": [
    "len((dict_train_glove['them']))"
   ]
  },
  {
   "cell_type": "code",
   "execution_count": null,
   "metadata": {},
   "outputs": [],
   "source": [
    "import matplotlib.pyplot as plt\n",
    "from sklearn.manifold import TSNE\n",
    "\n",
    "distri = TSNE(n_components=2)\n",
    "words = list(dict_train_glove.keys())\n",
    "vectors = [dict_train_glove[word] for word in words]\n",
    "y = distri.fit_transform(vectors)\n",
    "plt.figure(figsize=(14,8))\n",
    "plt.scatter(y[:, 0],y[:,1])\n",
    "for label,x,y in zip(words,y[:, 0],y[:,1]):\n",
    "  plt.annotate(label,xy=(x,y),xytext=(0,0),textcoords='offset points')\n",
    "plt.show()"
   ]
  },
  {
   "cell_type": "code",
   "execution_count": null,
   "metadata": {},
   "outputs": [],
   "source": [
    "from keras.preprocessing.text import Tokenizer\n",
    "from keras.preprocessing.sequence import pad_sequences\n",
    "from keras.models import Sequential\n",
    "from keras.layers import *\n",
    "from keras.utils.np_utils import to_categorical\n",
    "from keras.initializers import Constant\n",
    "model = Sequential()\n",
    "model.add(Embedding(num_words,\n",
    "                    embedding_dim,\n",
    "                    embeddings_initializer=Constant(embedding_matrix),\n",
    "                    input_length=sequence_length,\n",
    "                    trainable=True))\n",
    "model.add(SpatialDropout1D(0.2))\n",
    "model.add(Bidirectional(CuDNNLSTM(64, return_sequences=True)))\n",
    "model.add(Bidirectional(CuDNNLSTM(32)))\n",
    "model.add(Dropout(0.25))\n",
    "model.add(Dense(units=5, activation='softmax'))\n",
    "model.compile(loss = 'categorical_crossentropy', optimizer='adam',metrics = ['accuracy'])\n",
    "print(model.summary())\n",
    "batch_size = 128\n",
    "history = model.fit(X_train, y_train, epochs=5, batch_size=batch_size, verbose=1)#, validation_split=0.1)"
   ]
  }
 ],
 "metadata": {
  "colab": {
   "collapsed_sections": [],
   "name": "Assignment1-2021.ipynb",
   "provenance": []
  },
  "kernelspec": {
   "display_name": "Python 3 (ipykernel)",
   "language": "python",
   "name": "python3"
  },
  "language_info": {
   "codemirror_mode": {
    "name": "ipython",
    "version": 3
   },
   "file_extension": ".py",
   "mimetype": "text/x-python",
   "name": "python",
   "nbconvert_exporter": "python",
   "pygments_lexer": "ipython3",
   "version": "3.9.9"
  }
 },
 "nbformat": 4,
 "nbformat_minor": 1
}
