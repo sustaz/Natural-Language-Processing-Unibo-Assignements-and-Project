{
  "cells": [
    {
      "cell_type": "markdown",
      "metadata": {
        "id": "-WeCeITXoxLf"
      },
      "source": [
        "# Assignment 1\n",
        "\n",
        "**Due to**: 23/12/2021 (dd/mm/yyyy)\n",
        "\n",
        "**Credits**: Andrea Galassi, Federico Ruggeri, Paolo Torroni\n",
        "\n",
        "**Summary**: Part-of Speech (POS) tagging as Sequence Labelling using Recurrent Neural Architectures"
      ]
    },
    {
      "cell_type": "markdown",
      "metadata": {
        "id": "a4_wqPdlBcKS"
      },
      "source": [
        "# Intro\n",
        "\n",
        "In this assignment  we will ask you to perform POS tagging using neural architectures\n",
        "\n",
        "You are asked to follow these steps:\n",
        "*   Download the corpora and split it in training and test sets, structuring a dataframe.\n",
        "*   Embed the words using GloVe embeddings\n",
        "*   Create a baseline model, using a simple neural architecture\n",
        "*   Experiment doing small modifications to the baseline model, choose hyperparameters using the validation set\n",
        "*   Evaluate your two best model\n",
        "*   Analyze the errors of your model\n",
        "\n",
        "\n",
        "**Task**: given a corpus of documents, predict the POS tag for each word\n",
        "\n",
        "**Corpus**:\n",
        "Ignore the numeric value in the third column, use only the words/symbols and its label. \n",
        "The corpus is available at:\n",
        "https://raw.githubusercontent.com/nltk/nltk_data/gh-pages/packages/corpora/dependency_treebank.zip\n",
        "\n",
        "**Splits**: documents 1-100 are the train set, 101-150 validation set, 151-199 test set.\n",
        "\n",
        "\n",
        "**Features**: you MUST use GloVe embeddings as the only input features to the model.\n",
        "\n",
        "**Splitting**: you can decide to split documents into sentences or not, the choice is yours.\n",
        "\n",
        "**I/O structure**: The input data will have three dimensions: 1-documents/sentences, 2-token, 3-features; for the output there are 2 possibilities: if you use one-hot encoding it will be 1-documents/sentences, 2-token labels, 3-classes, if you use a single integer that indicates the number of the class it will be 1-documents/sentences, 2-token labels.\n",
        "\n",
        "**Baseline**: two layers architecture: a Bidirectional LSTM layer and a Dense/Fully-Connected layer on top; the choice of hyper-parameters is yours.\n",
        "\n",
        "**Architectures**: experiment using a GRU instead of the LSTM, adding an additional LSTM layer, and adding an additional dense layer; do not mix these variantions.\n",
        "\n",
        "\n",
        "**Training and Experiments**: all the experiments must involve only the training and validation sets.\n",
        "\n",
        "**Evaluation**: in the end, only the two best models of your choice (according to the validation set) must be evaluated on the test set. The main metric must be F1-Macro computed between the various part of speech. DO NOT CONSIDER THE PUNCTUATION CLASSES.\n",
        "\n",
        "**Metrics**: the metric you must use to evaluate your final model is the F1-macro, WITHOUT considering punctuation/symbols classes; during the training process you can use accuracy because you can't use the F1 metric unless you use a single (gigantic) batch because there is no way to aggregate \"partial\" F1 scores computed on mini-batches.\n",
        "\n",
        "**Discussion and Error Analysis** : verify and discuss if the results on the test sets are coherent with those on the validation set; analyze the errors done by your model, try to understand which may be the causes and think about how to improve it.\n",
        "\n",
        "**Report**: you are asked to deliver the code of your experiments and a small pdf report of about 2 pages; the pdf must begin with the names of the people of your team and a small abstract (4-5 lines) that sums up your findings.\n",
        "\n",
        "# Out Of Vocabulary (OOV) terms\n",
        "\n",
        "How to handle words that are not in GloVe vocabulary?\n",
        "You can handle them as you want (random embedding, placeholder, whatever!), but they must be STATIC embeddings (you cannot train them).\n",
        "\n",
        "But there is a very important caveat! As usual, the element of the test set must not influence the elements of the other splits!\n",
        "\n",
        "So, when you compute new embeddings for train+validation, you must forget about test documents.\n",
        "The motivation is to emulate a real-world scenario, where you select and train a model in the first stage, without knowing nothing about the testing environment.\n",
        "\n",
        "For implementation convenience, you CAN use a single vocabulary file/matrix/whatever. The principle of the previous point is that the embeddings inside that file/matrix must be generated independently for train and test splits.\n",
        "\n",
        "Basically in a real-world scenario, this is what would happen:\n",
        "1. Starting vocabulary V1 (in this assignment, GloVe vocabulary)\n",
        "2. Compute embeddings for terms out of vocabulary V1 (OOV1) of the training split \n",
        "3. Add embeddings to the vocabulary, so to obtain vocabulary V2=V1+OOV1\n",
        "4. Training of the model(s)\n",
        "5. Compute embeddings for terms OOV2 of the validation split \n",
        "6. Add embeddings to the vocabulary, so to obtain vocabulary V3=V1+OOV1+OOV2\n",
        "7. Validation of the model(s)\n",
        "8. Compute embeddings for terms OOV3 of the test split \n",
        "9. Add embeddings to the vocabulary, so to obtain vocabulary V4=V1+OOV1+OOV2+OOV3\n",
        "10. Testing of the final model\n",
        "\n",
        "In this case, where we already have all the documents, we can simplify the process a bit, but the procedure must remain rigorous.\n",
        "\n",
        "1. Starting vocabulary V1 (in this assignment, GloVe vocabulary)\n",
        "2. Compute embeddings for terms out of vocabulary V1 (OOV1) of the training split \n",
        "3. Add embeddings to the vocabulary, so to obtain vocabulary V2=V1+OOV1\n",
        "4. Compute embeddings for terms OOV2 of the validation split \n",
        "5. Add embeddings to the vocabulary, so to obtain vocabulary V3=V1+OOV1+OOV2\n",
        "6. Compute embeddings for terms OOV3 of the test split \n",
        "7. Add embeddings to the vocabulary, so to obtain vocabulary V4=V1+OOV1+OOV2\n",
        "8. Training of the model(s)\n",
        "9. Validation of the model(s)\n",
        "10. Testing of the final model\n",
        "\n",
        "Step 2 and step 6 must be completely independent of each other, for what concerns the method and the documents. But they can rely on the previous vocabulary (V1 for step 2 and V3 for step 6)\n",
        "THEREFORE if a word is present both in the training set and the test split and not in the starting vocabulary, its embedding is computed in step 2) and it is not considered OOV anymore in step 6).\n",
        "\n",
        "# Report\n",
        "The report must not be just a copy and paste of graphs and tables!\n",
        "\n",
        "The report must not be longer than 2 pages and must contain:\n",
        "* The names of the member of your team\n",
        "* A short abstract (4-5 lines) that sum ups everything\n",
        "* A general description of the task you have addressed and how you have addressed it\n",
        "* A short description of the models you have used\n",
        "* Some tables that sum up your findings in validation and test and a discussion of those results\n",
        "* The most relevant findings of your error analysis\n",
        "\n",
        "# Evaluation Criterion\n",
        "\n",
        "The goal of this assignment is not to prove you can find best model ever, but to face a common task, structure it correctly, and follow a correct and rigorous experimental procedure.\n",
        "In other words, we don't care if you final models are awful as long as you have followed the correct procedure and wrote a decent report.\n",
        "\n",
        "The score of the assignment will be computed roughly as follows\n",
        "* 1 point for the general setting of the problem\n",
        "* 1 point for the handling of OOV terms\n",
        "* 1 point for the models\n",
        "* 1 point for train-validation-test procedure\n",
        "* 2 point for the discussion of the results, error analysis, and report\n",
        "\n",
        "This distribution of scores is tentative and we may decide to alter it at any moment.\n",
        "We also reserve the right to assign a small bonus (0.5 points) to any assignment that is particularly worthy. Similarly, in case of grave errors, we may decide to assign an equivalent malus (-0.5 points).\n",
        "\n",
        "# Contacts\n",
        "\n",
        "In case of any doubt, question, issue, or help we highly recommend you to check the [course useful material](https://virtuale.unibo.it/pluginfile.php/1036039/mod_resource/content/2/NLP_Course_Useful_Material.pdf) for additional information, and to use the Virtuale forums to discuss with other students.\n",
        "\n",
        "You can always contact us at the following email addresses. To increase the probability of a prompt response, we reccomend you to write to both the teaching assistants.\n",
        "\n",
        "Teaching Assistants:\n",
        "\n",
        "* Andrea Galassi -> a.galassi@unibo.it\n",
        "* Federico Ruggeri -> federico.ruggeri6@unibo.it\n",
        "\n",
        "Professor:\n",
        "\n",
        "* Paolo Torroni -> p.torroni@unibo.it\n",
        "\n",
        "\n",
        "# FAQ\n",
        "* You can use a non-trainable Embedding layer to load the glove embeddings\n",
        "* You can use any library of your choice to implement the networks. Two options are tensorflow/keras or pythorch. Both these libraries have all the classes you need to implement these simple architectures and there are plenty of tutorials around, where you can learn how to use them."
      ]
    },
    {
      "cell_type": "markdown",
      "metadata": {
        "id": "CPbooqaZWlwE"
      },
      "source": [
        "### Preliminaries operations"
      ]
    },
    {
      "cell_type": "code",
      "execution_count": 1,
      "metadata": {
        "colab": {
          "base_uri": "https://localhost:8080/"
        },
        "id": "izcCGCP1WlwH",
        "outputId": "ef40310e-49c8-4645-c85a-98cb135dcaf4"
      },
      "outputs": [
        {
          "output_type": "stream",
          "name": "stdout",
          "text": [
            "unzip:  cannot find or open dependency_treebank.zip, dependency_treebank.zip.zip or dependency_treebank.zip.ZIP.\n",
            "Collecting simplejson\n",
            "  Downloading simplejson-3.17.6-cp37-cp37m-manylinux_2_5_x86_64.manylinux1_x86_64.manylinux_2_12_x86_64.manylinux2010_x86_64.whl (130 kB)\n",
            "\u001b[K     |████████████████████████████████| 130 kB 29.8 MB/s \n",
            "\u001b[?25hInstalling collected packages: simplejson\n",
            "Successfully installed simplejson-3.17.6\n"
          ]
        }
      ],
      "source": [
        "#importing libraries\n",
        "!unzip dependency_treebank.zip\n",
        "!pip install simplejson\n",
        "import simplejson as sj\n",
        "import pandas as pd\n",
        "import numpy as np\n",
        "import matplotlib.pyplot as plt\n",
        "from collections import OrderedDict \n",
        "import zipfile\n",
        "import os\n",
        "import urllib.request\n",
        "from tensorflow import keras\n",
        "from keras.preprocessing.text import Tokenizer\n",
        "from keras.preprocessing.sequence import pad_sequences\n",
        "from keras.models import Sequential\n",
        "from keras.layers import *\n",
        "from keras.utils.np_utils import to_categorical\n",
        "from keras.initializers import Constant\n",
        "from sklearn.manifold import TSNE\n",
        "import random\n",
        "from tqdm import tqdm #for progress bar\n",
        "from scipy import spatial\n",
        "import seaborn as sns\n",
        "from keras.layers import Bidirectional\n",
        "from sklearn.metrics import classification_report\n",
        "from sklearn.preprocessing import MultiLabelBinarizer\n",
        "from keras import backend as K\n",
        "import tensorflow as tf\n",
        "from sklearn.metrics import f1_score"
      ]
    },
    {
      "cell_type": "markdown",
      "metadata": {
        "id": "nOswUwIZWlwI"
      },
      "source": [
        "   ### Importing Data\n",
        "   We import Data from dependecy_treebank and we save it in a DataFrame that contains two column labels \"word\" where is collected each word, and in \"class_id\" where is collected each tag. \n",
        "   Then we show the Dataset."
      ]
    },
    {
      "cell_type": "code",
      "execution_count": 2,
      "metadata": {
        "colab": {
          "base_uri": "https://localhost:8080/",
          "height": 380
        },
        "id": "bAmOkTVIWlwI",
        "outputId": "d88556e2-21f9-47d3-99fd-c731425f7048"
      },
      "outputs": [
        {
          "output_type": "stream",
          "name": "stderr",
          "text": [
            "100%|██████████| 199/199 [00:04<00:00, 41.73it/s]\n"
          ]
        },
        {
          "output_type": "execute_result",
          "data": {
            "text/html": [
              "<div>\n",
              "<style scoped>\n",
              "    .dataframe tbody tr th:only-of-type {\n",
              "        vertical-align: middle;\n",
              "    }\n",
              "\n",
              "    .dataframe tbody tr th {\n",
              "        vertical-align: top;\n",
              "    }\n",
              "\n",
              "    .dataframe thead th {\n",
              "        text-align: right;\n",
              "    }\n",
              "</style>\n",
              "<table border=\"1\" class=\"dataframe\">\n",
              "  <thead>\n",
              "    <tr style=\"text-align: right;\">\n",
              "      <th></th>\n",
              "      <th>word</th>\n",
              "      <th>class_id</th>\n",
              "    </tr>\n",
              "  </thead>\n",
              "  <tbody>\n",
              "    <tr>\n",
              "      <th>0</th>\n",
              "      <td>Pierre</td>\n",
              "      <td>NNP</td>\n",
              "    </tr>\n",
              "    <tr>\n",
              "      <th>1</th>\n",
              "      <td>Vinken</td>\n",
              "      <td>NNP</td>\n",
              "    </tr>\n",
              "    <tr>\n",
              "      <th>2</th>\n",
              "      <td>,</td>\n",
              "      <td>,</td>\n",
              "    </tr>\n",
              "    <tr>\n",
              "      <th>3</th>\n",
              "      <td>61</td>\n",
              "      <td>CD</td>\n",
              "    </tr>\n",
              "    <tr>\n",
              "      <th>4</th>\n",
              "      <td>years</td>\n",
              "      <td>NNS</td>\n",
              "    </tr>\n",
              "    <tr>\n",
              "      <th>5</th>\n",
              "      <td>old</td>\n",
              "      <td>JJ</td>\n",
              "    </tr>\n",
              "    <tr>\n",
              "      <th>6</th>\n",
              "      <td>,</td>\n",
              "      <td>,</td>\n",
              "    </tr>\n",
              "    <tr>\n",
              "      <th>7</th>\n",
              "      <td>will</td>\n",
              "      <td>MD</td>\n",
              "    </tr>\n",
              "    <tr>\n",
              "      <th>8</th>\n",
              "      <td>join</td>\n",
              "      <td>VB</td>\n",
              "    </tr>\n",
              "    <tr>\n",
              "      <th>9</th>\n",
              "      <td>the</td>\n",
              "      <td>DT</td>\n",
              "    </tr>\n",
              "  </tbody>\n",
              "</table>\n",
              "</div>"
            ],
            "text/plain": [
              "     word class_id\n",
              "0  Pierre      NNP\n",
              "1  Vinken      NNP\n",
              "2       ,        ,\n",
              "3      61       CD\n",
              "4   years      NNS\n",
              "5     old       JJ\n",
              "6       ,        ,\n",
              "7    will       MD\n",
              "8    join       VB\n",
              "9     the       DT"
            ]
          },
          "metadata": {},
          "execution_count": 2
        }
      ],
      "source": [
        "list_word = []\n",
        "list_class = []\n",
        "data = []\n",
        "train_ind: int\n",
        "val_ind: int\n",
        "for i in tqdm(range(1, 200)):\n",
        "    if i<10:\n",
        "        df = pd.read_table('/content/wsj_000{}.dp'.format(i), header = None)\n",
        "    elif i>=10 and i<100:\n",
        "        df = pd.read_table('/content/wsj_00{}.dp'.format(i), header = None)\n",
        "    else:\n",
        "        df = pd.read_table('/content/wsj_0{}.dp'.format(i), header = None)\n",
        "    for j in range(0,df.shape[0]):\n",
        "        list_word.append(df[0][j]) \n",
        "        list_class.append(df[1][j])\n",
        "    if i==99:\n",
        "        train_ind = len(list_word)\n",
        "    elif i==149:\n",
        "        val_ind = len(list_word)\n",
        "\n",
        "data = list(zip(list_word,list_class))\n",
        "df = pd.DataFrame(data, columns =['word', 'class_id'])\n",
        "\n",
        "df.head(10)"
      ]
    },
    {
      "cell_type": "markdown",
      "metadata": {
        "id": "T3_VfRB4Idpa"
      },
      "source": [
        "##Preprocessing"
      ]
    },
    {
      "cell_type": "markdown",
      "metadata": {
        "id": "GFOwWKPgIhWu"
      },
      "source": [
        "We've created the method df_cleaner that:\n",
        "\n",
        "1.   Reset the index of the dataframe (due to the division of the dataset the Validation and Test set do NOT start with the correct index)\n",
        "\n",
        "2.   Set lowercase all the words that are at the beginning of sentence and are not proper name, in     order to not have duplicate on the vocabulary (e.g. \"the\" and \"The\")."
      ]
    },
    {
      "cell_type": "code",
      "execution_count": 3,
      "metadata": {
        "id": "jiLeeGA4IHO9"
      },
      "outputs": [],
      "source": [
        "#setting lowercase\n",
        "def df_cleaner(dataframe, label1,label2):\n",
        "    dataframe = dataframe.reset_index()\n",
        "    for i in range(0,dataframe.shape[0]-1):\n",
        "        #punctuation removal\n",
        "        if dataframe[label2][i] == '.' and dataframe[label2][i+1] != 'NNP':\n",
        "            dataframe[label1][i+1] = str(dataframe[label1][i+1]).lower()\n",
        "    return dataframe "
      ]
    },
    {
      "cell_type": "markdown",
      "metadata": {
        "id": "RFMm9_I0WlwM"
      },
      "source": [
        "\n",
        "We've created the method df_cleaner_phrases that:\n",
        "\n",
        "1.   Reset the index of the dataframe (due to the division of the dataset the Validation and Test set do NOT start with the correct index)\n",
        "\n",
        "2.   Set lowercase all the words that are at the beginning of sentence and are not proper name, in     order to not have duplicate on the vocabulary (e.g. \"the\" and \"The\").\n",
        "\n",
        "4. We divide the Dataset in phrases and we rename the labels in \"phrase\" instead of \"word\" and       \"phrase_class_id\" instead of \"class_id\n",
        "\n"
      ]
    },
    {
      "cell_type": "code",
      "execution_count": 4,
      "metadata": {
        "id": "0yRkhX2kWlwN"
      },
      "outputs": [],
      "source": [
        "#setting lowercase and dividing the Dataframe by prhases\n",
        "def df_cleaner_phrases(dataframe, label1,label2):\n",
        "    dataframe = dataframe.reset_index()\n",
        "    for i in range(0,dataframe.shape[0]-1):\n",
        "        if dataframe[label2][i] == '.' and dataframe[label2][i+1] != 'NNP':\n",
        "            dataframe[label1][i+1] = str(dataframe[label1][i+1]).lower()\n",
        "  \n",
        "    #phrase division\n",
        "    phrase= []\n",
        "    phrases=[]\n",
        "    class_phrase= []\n",
        "    class_phrases=[]\n",
        "    for i in tqdm(range(0,len(dataframe))): \n",
        "        name = dataframe[label1][i]\n",
        "        phrase.append(dataframe[label1][i])\n",
        "        class_phrase.append(dataframe[label2][i]) \n",
        "\n",
        "        if name=='.' : \n",
        "            class_phrases.append(class_phrase)\n",
        "            phrases.append(phrase)\n",
        "            class_phrase = []\n",
        "            phrase = []\n",
        "    \n",
        "    # phrase dataframe created\n",
        "    data = list(zip(phrases,class_phrases))\n",
        "    df_phrases = pd.DataFrame(data, columns =['phrase', 'phrase_class_id']) \n",
        "\n",
        "    return df_phrases \n"
      ]
    },
    {
      "cell_type": "code",
      "execution_count": 5,
      "metadata": {
        "colab": {
          "base_uri": "https://localhost:8080/"
        },
        "id": "kg0UM1gU1fBo",
        "outputId": "96e73b7d-11dd-4098-81c5-a4c300d73238"
      },
      "outputs": [
        {
          "output_type": "stream",
          "name": "stderr",
          "text": [
            "/usr/local/lib/python3.7/dist-packages/ipykernel_launcher.py:7: SettingWithCopyWarning: \n",
            "A value is trying to be set on a copy of a slice from a DataFrame\n",
            "\n",
            "See the caveats in the documentation: https://pandas.pydata.org/pandas-docs/stable/user_guide/indexing.html#returning-a-view-versus-a-copy\n",
            "  import sys\n",
            "/usr/local/lib/python3.7/dist-packages/ipykernel_launcher.py:6: SettingWithCopyWarning: \n",
            "A value is trying to be set on a copy of a slice from a DataFrame\n",
            "\n",
            "See the caveats in the documentation: https://pandas.pydata.org/pandas-docs/stable/user_guide/indexing.html#returning-a-view-versus-a-copy\n",
            "  \n",
            "100%|██████████| 94084/94084 [00:02<00:00, 45197.40it/s]\n",
            "100%|██████████| 46451/46451 [00:01<00:00, 44837.42it/s]\n",
            "100%|██████████| 31924/31924 [00:00<00:00, 44961.01it/s]\n",
            "100%|██████████| 15709/15709 [00:00<00:00, 42820.49it/s]\n"
          ]
        }
      ],
      "source": [
        "#dataset composed by words and class_id divided in training, validation and test set\n",
        "df_train = df[0:train_ind] \n",
        "df_val = df[train_ind:val_ind] \n",
        "df_test = df[val_ind::] \n",
        "\n",
        "#cleaning the whole dataframe\n",
        "df_cleaned = df_cleaner(df,'word','class_id')\n",
        "\n",
        "#dataset composed by word and class_id divided in training, validation and test set\n",
        "df_train_cleaned = df_cleaner(df_train,'word','class_id')\n",
        "df_val_cleaned = df_cleaner(df_val,'word','class_id')\n",
        "df_test_cleaned = df_cleaner(df_test,'word','class_id')\n",
        "\n",
        "#cleaning the whole dataframe phrases\n",
        "df_phrases = df_cleaner_phrases(df,'word','class_id')\n",
        "\n",
        "#dataset composed by phrase and phrase_class_id divided in training, validation and test set\n",
        "df_phrases_train = df_cleaner_phrases(df_train,'word','class_id')\n",
        "df_phrases_val = df_cleaner_phrases(df_val,'word','class_id')\n",
        "df_phrases_test = df_cleaner_phrases(df_test,'word','class_id')"
      ]
    },
    {
      "cell_type": "code",
      "execution_count": 6,
      "metadata": {
        "colab": {
          "base_uri": "https://localhost:8080/",
          "height": 518
        },
        "id": "JxaQDHWHja6Z",
        "outputId": "625196cb-7d2b-4ed8-ef0a-294a3c1448d8"
      },
      "outputs": [
        {
          "output_type": "execute_result",
          "data": {
            "text/plain": [
              "<matplotlib.axes._subplots.AxesSubplot at 0x7f60ab902510>"
            ]
          },
          "metadata": {},
          "execution_count": 6
        },
        {
          "output_type": "display_data",
          "data": {
            "image/png": "[encoded data removed]",
            "text/plain": [
              "<Figure size 720x576 with 1 Axes>"
            ]
          },
          "metadata": {
            "needs_background": "light"
          }
        }
      ],
      "source": [
        "#Plotting the quantity of the classes\n",
        "fig_size = plt.rcParams[\"figure.figsize\"]\n",
        "fig_size[0] = 10\n",
        "fig_size[1] = 8\n",
        "plt.rcParams[\"figure.figsize\"] = fig_size\n",
        "\n",
        "df_cleaned[\"class_id\"].value_counts().plot.bar()"
      ]
    },
    {
      "cell_type": "code",
      "execution_count": 7,
      "metadata": {
        "colab": {
          "base_uri": "https://localhost:8080/",
          "height": 362
        },
        "id": "NozorclY-FWe",
        "outputId": "fc498535-5fb0-4eb9-8f6e-866c25fc2e9d"
      },
      "outputs": [
        {
          "output_type": "execute_result",
          "data": {
            "text/html": [
              "<div>\n",
              "<style scoped>\n",
              "    .dataframe tbody tr th:only-of-type {\n",
              "        vertical-align: middle;\n",
              "    }\n",
              "\n",
              "    .dataframe tbody tr th {\n",
              "        vertical-align: top;\n",
              "    }\n",
              "\n",
              "    .dataframe thead th {\n",
              "        text-align: right;\n",
              "    }\n",
              "</style>\n",
              "<table border=\"1\" class=\"dataframe\">\n",
              "  <thead>\n",
              "    <tr style=\"text-align: right;\">\n",
              "      <th></th>\n",
              "      <th>phrase</th>\n",
              "      <th>phrase_class_id</th>\n",
              "    </tr>\n",
              "  </thead>\n",
              "  <tbody>\n",
              "    <tr>\n",
              "      <th>0</th>\n",
              "      <td>[Pierre, Vinken, ,, 61, years, old, ,, will, j...</td>\n",
              "      <td>[NNP, NNP, ,, CD, NNS, JJ, ,, MD, VB, DT, NN, ...</td>\n",
              "    </tr>\n",
              "    <tr>\n",
              "      <th>1</th>\n",
              "      <td>[Mr., Vinken, is, chairman, of, Elsevier, N.V....</td>\n",
              "      <td>[NNP, NNP, VBZ, NN, IN, NNP, NNP, ,, DT, NNP, ...</td>\n",
              "    </tr>\n",
              "    <tr>\n",
              "      <th>2</th>\n",
              "      <td>[Rudolph, Agnew, ,, 55, years, old, and, forme...</td>\n",
              "      <td>[NNP, NNP, ,, CD, NNS, JJ, CC, JJ, NN, IN, NNP...</td>\n",
              "    </tr>\n",
              "    <tr>\n",
              "      <th>3</th>\n",
              "      <td>[a, form, of, asbestos, once, used, to, make, ...</td>\n",
              "      <td>[DT, NN, IN, NN, RB, VBN, TO, VB, NNP, NN, NNS...</td>\n",
              "    </tr>\n",
              "    <tr>\n",
              "      <th>4</th>\n",
              "      <td>[the, asbestos, fiber, ,, crocidolite, ,, is, ...</td>\n",
              "      <td>[DT, NN, NN, ,, NN, ,, VBZ, RB, JJ, IN, PRP, V...</td>\n",
              "    </tr>\n",
              "    <tr>\n",
              "      <th>5</th>\n",
              "      <td>[Lorillard, Inc., ,, the, unit, of, New, York-...</td>\n",
              "      <td>[NNP, NNP, ,, DT, NN, IN, JJ, JJ, NNP, NNP, WD...</td>\n",
              "    </tr>\n",
              "    <tr>\n",
              "      <th>6</th>\n",
              "      <td>[although, preliminary, findings, were, report...</td>\n",
              "      <td>[IN, JJ, NNS, VBD, VBN, RBR, IN, DT, NN, IN, ,...</td>\n",
              "    </tr>\n",
              "    <tr>\n",
              "      <th>7</th>\n",
              "      <td>[a, Lorillard, spokewoman, said, ,, ``, This, ...</td>\n",
              "      <td>[DT, NNP, NN, VBD, ,, ``, DT, VBZ, DT, JJ, NN, .]</td>\n",
              "    </tr>\n",
              "    <tr>\n",
              "      <th>8</th>\n",
              "      <td>[we, 're, talking, about, years, ago, before, ...</td>\n",
              "      <td>[PRP, VBP, VBG, IN, NNS, IN, IN, NN, VBD, IN, ...</td>\n",
              "    </tr>\n",
              "    <tr>\n",
              "      <th>9</th>\n",
              "      <td>[there, is, no, asbestos, in, our, products, n...</td>\n",
              "      <td>[EX, VBZ, DT, NN, IN, PRP$, NNS, RB, .]</td>\n",
              "    </tr>\n",
              "  </tbody>\n",
              "</table>\n",
              "</div>"
            ],
            "text/plain": [
              "                                              phrase                                    phrase_class_id\n",
              "0  [Pierre, Vinken, ,, 61, years, old, ,, will, j...  [NNP, NNP, ,, CD, NNS, JJ, ,, MD, VB, DT, NN, ...\n",
              "1  [Mr., Vinken, is, chairman, of, Elsevier, N.V....  [NNP, NNP, VBZ, NN, IN, NNP, NNP, ,, DT, NNP, ...\n",
              "2  [Rudolph, Agnew, ,, 55, years, old, and, forme...  [NNP, NNP, ,, CD, NNS, JJ, CC, JJ, NN, IN, NNP...\n",
              "3  [a, form, of, asbestos, once, used, to, make, ...  [DT, NN, IN, NN, RB, VBN, TO, VB, NNP, NN, NNS...\n",
              "4  [the, asbestos, fiber, ,, crocidolite, ,, is, ...  [DT, NN, NN, ,, NN, ,, VBZ, RB, JJ, IN, PRP, V...\n",
              "5  [Lorillard, Inc., ,, the, unit, of, New, York-...  [NNP, NNP, ,, DT, NN, IN, JJ, JJ, NNP, NNP, WD...\n",
              "6  [although, preliminary, findings, were, report...  [IN, JJ, NNS, VBD, VBN, RBR, IN, DT, NN, IN, ,...\n",
              "7  [a, Lorillard, spokewoman, said, ,, ``, This, ...  [DT, NNP, NN, VBD, ,, ``, DT, VBZ, DT, JJ, NN, .]\n",
              "8  [we, 're, talking, about, years, ago, before, ...  [PRP, VBP, VBG, IN, NNS, IN, IN, NN, VBD, IN, ...\n",
              "9  [there, is, no, asbestos, in, our, products, n...            [EX, VBZ, DT, NN, IN, PRP$, NNS, RB, .]"
            ]
          },
          "metadata": {},
          "execution_count": 7
        }
      ],
      "source": [
        "#showing the training set divided in phrases \n",
        "df_phrases.head(10)"
      ]
    },
    {
      "cell_type": "markdown",
      "metadata": {
        "id": "wCLwcd0SWlwP"
      },
      "source": [
        "## Dataframes's tokenization"
      ]
    },
    {
      "cell_type": "markdown",
      "metadata": {
        "id": "f2x3mzXeLDF0"
      },
      "source": [
        "We created the method tokenization that tokenize taking in input that dataframe and returns phrases,classes_id, tokenizer_phrase and tokenizer_class_id"
      ]
    },
    {
      "cell_type": "code",
      "execution_count": 6,
      "metadata": {
        "id": "Dfxm9VgJ8tNq"
      },
      "outputs": [],
      "source": [
        "#tokenization \n",
        "def tokenization(df_phrases_divided):\n",
        "  tokenizer_phrase = Tokenizer()\n",
        "  tokenizer_class_id=Tokenizer()\n",
        "\n",
        "  tokenizer_phrase.fit_on_texts(df_phrases[\"phrase\"])\n",
        "  tokenizer_class_id.fit_on_texts(df_phrases[\"phrase_class_id\"])\n",
        "\n",
        "  X_encoded = tokenizer_phrase.texts_to_sequences(df_phrases_divided[\"phrase\"])\n",
        "\n",
        "  y_encoded = tokenizer_class_id.texts_to_sequences(df_phrases_divided[\"phrase_class_id\"])\n",
        "\n",
        "  print(\"** Raw data point **\", \"\\n\", \"-\"*100, \"\\n\") \n",
        "  print('X: ', df_phrases_divided[\"phrase\"][0], '\\n') \n",
        "  print('Y: ', df_phrases_divided[\"phrase_class_id\"][0], '\\n') \n",
        "  print() \n",
        "  print(\"** Encoded data point **\", \"\\n\", \"-\"*100, \"\\n\") \n",
        "  print('X: ', X_encoded[0], '\\n') \n",
        "  print('Y: ', y_encoded[0], '\\n')\n",
        "  print(len(X_encoded))\n",
        "  print(len(y_encoded))\n",
        "  print(df_phrases.shape)\n",
        "\n",
        "  return X_encoded, y_encoded, tokenizer_phrase, tokenizer_class_id"
      ]
    },
    {
      "cell_type": "code",
      "execution_count": 7,
      "metadata": {
        "colab": {
          "base_uri": "https://localhost:8080/"
        },
        "id": "_qgPIKS6-JYL",
        "outputId": "8fd83277-c1ee-4c21-a997-10b844b89187"
      },
      "outputs": [
        {
          "output_type": "stream",
          "name": "stdout",
          "text": [
            "** Raw data point ** \n",
            " ---------------------------------------------------------------------------------------------------- \n",
            "\n",
            "X:  ['Pierre', 'Vinken', ',', '61', 'years', 'old', ',', 'will', 'join', 'the', 'board', 'as', 'a', 'nonexecutive', 'director', 'Nov.', '29', '.'] \n",
            "\n",
            "Y:  ['NNP', 'NNP', ',', 'CD', 'NNS', 'JJ', ',', 'MD', 'VB', 'DT', 'NN', 'IN', 'DT', 'JJ', 'NN', 'NNP', 'CD', '.'] \n",
            "\n",
            "\n",
            "** Encoded data point ** \n",
            " ---------------------------------------------------------------------------------------------------- \n",
            "\n",
            "X:  [5419, 3714, 1, 2005, 78, 316, 1, 39, 2383, 2, 122, 22, 6, 2006, 317, 444, 2007, 3] \n",
            "\n",
            "Y:  [3, 3, 7, 9, 5, 6, 7, 20, 12, 4, 1, 2, 4, 6, 1, 3, 9, 8] \n",
            "\n",
            "1896\n",
            "1896\n",
            "(3828, 2)\n"
          ]
        }
      ],
      "source": [
        "#tokenization of the training set\n",
        "X_encoded_train,y_encoded_train,tokenizer_phrase_train,tokenizer_class_id_train = tokenization(df_phrases_train)"
      ]
    },
    {
      "cell_type": "code",
      "execution_count": 8,
      "metadata": {
        "colab": {
          "base_uri": "https://localhost:8080/"
        },
        "id": "oUHy8bci-foY",
        "outputId": "6282bafc-cd5b-47fe-c425-c908a1fee375"
      },
      "outputs": [
        {
          "output_type": "stream",
          "name": "stdout",
          "text": [
            "** Raw data point ** \n",
            " ---------------------------------------------------------------------------------------------------- \n",
            "\n",
            "X:  ['For', 'six', 'years', ',', 'T.', 'Marshall', 'Hahn', 'Jr.', 'has', 'made', 'corporate', 'acquisitions', 'in', 'the', 'George', 'Bush', 'mode', ':', 'kind', 'and', 'gentle', '.'] \n",
            "\n",
            "Y:  ['IN', 'CD', 'NNS', ',', 'NNP', 'NNP', 'NNP', 'NNP', 'VBZ', 'VBN', 'JJ', 'NNS', 'IN', 'DT', 'NNP', 'NNP', 'NN', ':', 'JJ', 'CC', 'JJ', '.'] \n",
            "\n",
            "\n",
            "** Encoded data point ** \n",
            " ---------------------------------------------------------------------------------------------------- \n",
            "\n",
            "X:  [10, 332, 78, 1, 1037, 1880, 556, 977, 31, 169, 328, 1214, 7, 2, 2118, 226, 8268, 67, 799, 8, 8269, 3] \n",
            "\n",
            "Y:  [2, 9, 5, 7, 3, 3, 3, 3, 16, 15, 6, 5, 2, 4, 3, 3, 1, 26, 6, 13, 6, 8] \n",
            "\n",
            "1287\n",
            "1287\n",
            "(3828, 2)\n"
          ]
        }
      ],
      "source": [
        "#tokenization of the validation set\n",
        "X_encoded_val,y_encoded_val,tokenizer_phrase_val,tokenizer_class_id_val = tokenization(df_phrases_val)"
      ]
    },
    {
      "cell_type": "code",
      "execution_count": 9,
      "metadata": {
        "colab": {
          "base_uri": "https://localhost:8080/"
        },
        "id": "3iuapcbj__uD",
        "outputId": "1956d864-16ed-4257-9e63-a91cc6ebb7cc"
      },
      "outputs": [
        {
          "output_type": "stream",
          "name": "stdout",
          "text": [
            "** Raw data point ** \n",
            " ---------------------------------------------------------------------------------------------------- \n",
            "\n",
            "X:  ['A.L.', 'Williams', 'Corp.', 'was', 'merged', 'into', 'Primerica', 'Corp.', ',', 'New', 'York', ',', 'after', 'a', 'special', 'meeting', 'of', 'Williams', 'shareholders', 'cleared', 'the', 'transaction', ',', 'the', 'companies', 'said', '.'] \n",
            "\n",
            "Y:  ['NNP', 'NNP', 'NNP', 'VBD', 'VBN', 'IN', 'NNP', 'NNP', ',', 'NNP', 'NNP', ',', 'IN', 'DT', 'JJ', 'NN', 'IN', 'NNP', 'NNS', 'VBD', 'DT', 'NN', ',', 'DT', 'NNS', 'VBD', '.'] \n",
            "\n",
            "\n",
            "** Encoded data point ** \n",
            " ---------------------------------------------------------------------------------------------------- \n",
            "\n",
            "X:  [5305, 1216, 76, 28, 4330, 103, 2869, 76, 1, 33, 85, 1, 100, 6, 761, 703, 4, 1216, 563, 10080, 2, 564, 1, 2, 146, 16, 3] \n",
            "\n",
            "Y:  [3, 3, 3, 10, 15, 2, 3, 3, 7, 3, 3, 7, 2, 4, 6, 1, 2, 3, 5, 10, 4, 1, 7, 4, 5, 10, 8] \n",
            "\n",
            "645\n",
            "645\n",
            "(3828, 2)\n"
          ]
        }
      ],
      "source": [
        "#tokenization of the test set\n",
        "X_encoded_test,y_encoded_test,tokenizer_phrase_test, tokenizer_class_id_test = tokenization(df_phrases_test)"
      ]
    },
    {
      "cell_type": "code",
      "execution_count": 10,
      "metadata": {
        "colab": {
          "base_uri": "https://localhost:8080/"
        },
        "id": "BdExf2sdbzWV",
        "outputId": "af52f144-8fca-4e47-a7fe-cfd582dbfcdc"
      },
      "outputs": [
        {
          "output_type": "stream",
          "name": "stdout",
          "text": [
            "** Raw data point ** \n",
            " ---------------------------------------------------------------------------------------------------- \n",
            "\n",
            "X:  ['Pierre', 'Vinken', ',', '61', 'years', 'old', ',', 'will', 'join', 'the', 'board', 'as', 'a', 'nonexecutive', 'director', 'Nov.', '29', '.'] \n",
            "\n",
            "Y:  ['NNP', 'NNP', ',', 'CD', 'NNS', 'JJ', ',', 'MD', 'VB', 'DT', 'NN', 'IN', 'DT', 'JJ', 'NN', 'NNP', 'CD', '.'] \n",
            "\n",
            "\n",
            "** Encoded data point ** \n",
            " ---------------------------------------------------------------------------------------------------- \n",
            "\n",
            "X:  [5419, 3714, 1, 2005, 78, 316, 1, 39, 2383, 2, 122, 22, 6, 2006, 317, 444, 2007, 3] \n",
            "\n",
            "Y:  [3, 3, 7, 9, 5, 6, 7, 20, 12, 4, 1, 2, 4, 6, 1, 3, 9, 8] \n",
            "\n",
            "3828\n",
            "3828\n",
            "(3828, 2)\n"
          ]
        }
      ],
      "source": [
        "#tokenization of ALL DATA\n",
        "X_encoded,y_encoded,tokenizer_phrase,tokenizer_class_id = tokenization(df_phrases)\n",
        "X_decoded = tokenizer_phrase.sequences_to_texts(X_encoded)"
      ]
    },
    {
      "cell_type": "code",
      "execution_count": 11,
      "metadata": {
        "colab": {
          "base_uri": "https://localhost:8080/"
        },
        "id": "8kuJgQ-n8tae",
        "outputId": "a6a338ee-6ebf-436a-c476-6c82d7a1630f"
      },
      "outputs": [
        {
          "output_type": "stream",
          "name": "stdout",
          "text": [
            "0 sentences have disparate input-output lengths.\n"
          ]
        }
      ],
      "source": [
        "#We check that each sequence of input and output is same length \n",
        " \n",
        "different_length = [1 if len(input) != len(output) else 0 for input, output in zip(X_encoded_train, y_encoded_train)] \n",
        "print(\"{} sentences have disparate input-output lengths.\".format(sum(different_length)))"
      ]
    },
    {
      "cell_type": "markdown",
      "metadata": {
        "id": "iNG4ylhf2vgp"
      },
      "source": [
        "# Padding the dataframe"
      ]
    },
    {
      "cell_type": "markdown",
      "metadata": {
        "id": "vh9mEJ1iLlae"
      },
      "source": [
        "We created the method longest_sentence to check the longest sentence in the dataframe"
      ]
    },
    {
      "cell_type": "code",
      "execution_count": 12,
      "metadata": {
        "id": "fb7aY7bE8tgA"
      },
      "outputs": [],
      "source": [
        "#PADDING\n",
        "# check length of longest sentence\n",
        "def longest_sentence(X_encoded):\n",
        "  lengths = [len(seq) for seq in X_encoded] \n",
        "  print(\"Length of longest sentence: {}\".format(max(lengths))) \n",
        "  sns.boxplot(lengths) \n",
        "  plt.show()\n",
        "  return max(lengths)"
      ]
    },
    {
      "cell_type": "markdown",
      "source": [
        "We can see in the plot that there are many outliers as the longest sentence that contains 250 words and others sentences that contains from 50 to 120 words."
      ],
      "metadata": {
        "id": "BiiCuoTdyvWW"
      }
    },
    {
      "cell_type": "code",
      "source": [
        "longest_sentence(X_encoded)"
      ],
      "metadata": {
        "colab": {
          "base_uri": "https://localhost:8080/",
          "height": 355
        },
        "id": "qx5X2uLUyiDZ",
        "outputId": "e5f6f408-f24c-414e-c394-6cb34b07bbf5"
      },
      "execution_count": 13,
      "outputs": [
        {
          "output_type": "stream",
          "name": "stdout",
          "text": [
            "Length of longest sentence: 250\n"
          ]
        },
        {
          "output_type": "stream",
          "name": "stderr",
          "text": [
            "/usr/local/lib/python3.7/dist-packages/seaborn/_decorators.py:43: FutureWarning: Pass the following variable as a keyword arg: x. From version 0.12, the only valid positional argument will be `data`, and passing other arguments without an explicit keyword will result in an error or misinterpretation.\n",
            "  FutureWarning\n"
          ]
        },
        {
          "output_type": "display_data",
          "data": {
            "image/png": "[encoded data removed]",
            "text/plain": [
              "<Figure size 432x288 with 1 Axes>"
            ]
          },
          "metadata": {
            "needs_background": "light"
          }
        },
        {
          "output_type": "execute_result",
          "data": {
            "text/plain": [
              "250"
            ]
          },
          "metadata": {},
          "execution_count": 13
        }
      ]
    },
    {
      "cell_type": "code",
      "execution_count": 14,
      "metadata": {
        "id": "eGOlKZdmA-LM"
      },
      "outputs": [],
      "source": [
        "#Found the longest sentence in the training set\n",
        "MAX_SEQUENCE = 50"
      ]
    },
    {
      "cell_type": "markdown",
      "metadata": {
        "id": "FBGt92guL8-K"
      },
      "source": [
        "We created the method padding to create the padding of the dataframe with the correct length"
      ]
    },
    {
      "cell_type": "code",
      "execution_count": 15,
      "metadata": {
        "id": "jdZf78Q58tiU"
      },
      "outputs": [],
      "source": [
        "#PADDING pad_sequences\n",
        "def padding(X_encoded, y_encoded, MAX_SEQ_LENGTH):\n",
        "  X_padded = pad_sequences(X_encoded,MAX_SEQ_LENGTH)\n",
        "  y_padded = pad_sequences(y_encoded,MAX_SEQ_LENGTH)\n",
        "  return X_padded, y_padded\n"
      ]
    },
    {
      "cell_type": "code",
      "execution_count": 16,
      "metadata": {
        "id": "hGIjM5MsCZd8"
      },
      "outputs": [],
      "source": [
        "#padding creation for the training set\n",
        "X_padded_train, y_padded_train = padding(X_encoded_train, y_encoded_train, MAX_SEQUENCE)"
      ]
    },
    {
      "cell_type": "code",
      "execution_count": 17,
      "metadata": {
        "id": "bGWFWvG5CZje"
      },
      "outputs": [],
      "source": [
        "#padding creation for the validation set\n",
        "X_padded_val, y_padded_val = padding(X_encoded_val, y_encoded_val,  MAX_SEQUENCE)"
      ]
    },
    {
      "cell_type": "code",
      "execution_count": 18,
      "metadata": {
        "id": "dHqpDEQfCZpC"
      },
      "outputs": [],
      "source": [
        "#padding creation for the training set\n",
        "X_padded_test,y_padded_testt = padding(X_encoded_test,y_encoded_test,  MAX_SEQUENCE)"
      ]
    },
    {
      "cell_type": "code",
      "execution_count": 19,
      "metadata": {
        "id": "RQp2H92nduKG"
      },
      "outputs": [],
      "source": [
        "#padding creation for all data set\n",
        "X_padded,y_padded = padding(X_encoded,y_encoded, MAX_SEQUENCE)"
      ]
    },
    {
      "cell_type": "code",
      "execution_count": 20,
      "metadata": {
        "colab": {
          "base_uri": "https://localhost:8080/"
        },
        "id": "D9ypGgp-8tlF",
        "outputId": "b3fa40f0-9edc-4c44-ceaa-8304ab09fa05"
      },
      "outputs": [
        {
          "output_type": "stream",
          "name": "stdout",
          "text": [
            "[   0    0    0    0    0    0    0    0    0    0    0    0    0    0\n",
            "    0    0    0    0    0    0    0    0    0    0    0    0    0    0\n",
            "    0    0    0    0 5419 3714    1 2005   78  316    1   39 2383    2\n",
            "  122   22    6 2006  317  444 2007    3] \n",
            "\n",
            "\n",
            "\n",
            "[ 0  0  0  0  0  0  0  0  0  0  0  0  0  0  0  0  0  0  0  0  0  0  0  0\n",
            "  0  0  0  0  0  0  0  0  3  3  7  9  5  6  7 20 12  4  1  2  4  6  1  3\n",
            "  9  8]\n"
          ]
        }
      ],
      "source": [
        "#we show a word's padding of the training set\n",
        "print(X_padded_train[0], \"\\n\"*3) \n",
        "print(y_padded_train[0])"
      ]
    },
    {
      "cell_type": "markdown",
      "metadata": {
        "id": "A_20D04Drxd_"
      },
      "source": [
        "Adding the padding to tokenizers"
      ]
    },
    {
      "cell_type": "code",
      "execution_count": 21,
      "metadata": {
        "id": "wAl-t1T8ricu"
      },
      "outputs": [],
      "source": [
        "tokenizer_class_id.word_index['0']= 0\n",
        "tokenizer_class_id.index_word[0]='0'\n",
        "tokenizer_class_id_test.word_index['0']= 0\n",
        "tokenizer_class_id_val.word_index['0']= 0\n",
        "tokenizer_class_id_train.word_index['0']= 0\n",
        "\n",
        "tokenizer_phrase.word_index['0']= 0\n",
        "tokenizer_phrase_test.word_index['0']= 0\n",
        "tokenizer_phrase_val.word_index['0']=0\n",
        "tokenizer_phrase_train.word_index['0']= 0\n"
      ]
    },
    {
      "cell_type": "markdown",
      "metadata": {
        "id": "V94bLQMIWlwT"
      },
      "source": [
        " ##  GloVe \n",
        " We start downloading GloVe"
      ]
    },
    {
      "cell_type": "code",
      "execution_count": 22,
      "metadata": {
        "colab": {
          "base_uri": "https://localhost:8080/"
        },
        "id": "i-saHqarWlwT",
        "outputId": "bea1c5e6-ffe4-4884-e0e7-815295e1a238"
      },
      "outputs": [
        {
          "output_type": "stream",
          "name": "stdout",
          "text": [
            "Successful download\n",
            "Successful extraction\n"
          ]
        }
      ],
      "source": [
        "url = \"https://nlp.stanford.edu/data/glove.6B.zip\"\n",
        "\n",
        "glove_path = os.path.join(os.getcwd(),\"Glove\")\n",
        "glove_zip = os.path.join(os.getcwd(),\"Glove\", \"glove.6B.zip\")\n",
        "\n",
        "if not os.path.exists(glove_path):\n",
        "    os.makedirs(glove_path)\n",
        "\n",
        "if not os.path.exists(glove_zip):\n",
        "    urllib.request.urlretrieve(url, glove_zip)\n",
        "    print(\"Successful download\")\n",
        "\n",
        "with zipfile.ZipFile(glove_zip, 'r') as zip_ref:\n",
        "    zip_ref.extractall(path=glove_path)\n",
        "    print(\"Successful extraction\")"
      ]
    },
    {
      "cell_type": "markdown",
      "metadata": {
        "id": "gI-PK4aqMeau"
      },
      "source": [
        "#Embeddings' creation"
      ]
    },
    {
      "cell_type": "code",
      "execution_count": 23,
      "metadata": {
        "id": "ZhitdkjVCeg3"
      },
      "outputs": [],
      "source": [
        "#size of the vocabularies \n",
        "EMBEDDING_SIZE  = 50  # dimensions of the features of GloVe \n",
        "VOCABULARY_SIZE_TRAIN = len(tokenizer_phrase_train.word_index) + 1 \n",
        "VOCABULARY_SIZE_VAL = len(tokenizer_phrase_val.word_index) + 1 \n",
        "VOCABULARY_SIZE_TEST = len(tokenizer_phrase_test.word_index) + 1 \n",
        "\n",
        "VOCABULARY_SIZE = len(tokenizer_phrase.word_index) + 1 \n",
        "\n",
        "# create an empty embedding matix \n",
        "embedding_weights_train = np.zeros((VOCABULARY_SIZE_TRAIN, EMBEDDING_SIZE)) \n",
        "embedding_weights_val = np.zeros((VOCABULARY_SIZE_VAL, EMBEDDING_SIZE)) \n",
        "embedding_weights_test = np.zeros((VOCABULARY_SIZE_TEST, EMBEDDING_SIZE)) \n",
        "\n",
        "embedding_weights = np.zeros((VOCABULARY_SIZE, EMBEDDING_SIZE)) \n",
        "\n",
        "\n",
        "# create a word to index dictionary mapping \n",
        "word2id_train = tokenizer_phrase_train.word_index\n",
        "word2id_val= tokenizer_phrase_val.word_index\n",
        "word2id_test = tokenizer_phrase_test.word_index\n",
        "\n",
        "word2id = tokenizer_phrase.word_index"
      ]
    },
    {
      "cell_type": "markdown",
      "metadata": {
        "id": "ED_gMlZhWlwU"
      },
      "source": [
        "Now we create the vocabulary of GloVe V1\n",
        "\n"
      ]
    },
    {
      "cell_type": "code",
      "execution_count": 24,
      "metadata": {
        "colab": {
          "base_uri": "https://localhost:8080/"
        },
        "id": "EWxL7u8qWlwU",
        "outputId": "9b4b6972-be27-4878-e860-ce8e72a71f51"
      },
      "outputs": [
        {
          "output_type": "stream",
          "name": "stdout",
          "text": [
            "Found 400000 word vectors.\n"
          ]
        }
      ],
      "source": [
        "V1 = {}\n",
        "glove_path = '/content/Glove'\n",
        "with open(glove_path + '/glove.6B.{}d.txt'.format(EMBEDDING_SIZE),'r', encoding=\"utf8\") as f:\n",
        "    for line in f:\n",
        "        values = line.split()\n",
        "        word = values[0]\n",
        "        vector = np.asarray(values[1:],'float32')\n",
        "        V1[word]=vector\n",
        "        \n",
        "print(\"Found %s word vectors.\" % len(V1))"
      ]
    },
    {
      "cell_type": "markdown",
      "metadata": {
        "id": "girPSsJX3STe"
      },
      "source": [
        "We created the method OOV_terms that creates the out of vocabulary\n",
        "\n"
      ]
    },
    {
      "cell_type": "code",
      "execution_count": 25,
      "metadata": {
        "id": "u7o3EGMz2-bc"
      },
      "outputs": [],
      "source": [
        "def OOV_terms(embedding_model, word_listing):\n",
        "    embedding_vocabulary = set(embedding_model)\n",
        "    oov = set(word_listing).difference(embedding_vocabulary)\n",
        "    return list(oov)"
      ]
    },
    {
      "cell_type": "code",
      "execution_count": 26,
      "metadata": {
        "id": "blCgE9LY3J2i"
      },
      "outputs": [],
      "source": [
        "#Generation of all vocabularies and out of vocabularies\n",
        "OOV1 = OOV_terms(V1.keys(), np.sort(df_train_cleaned['word'].unique()))\n",
        "\n",
        "V2= list(V1)+OOV1\n",
        "\n",
        "OOV2 = OOV_terms(V2, np.sort(df_val_cleaned['word'].unique()))\n",
        "V3= list(V2)+OOV2\n",
        "\n",
        "OOV3 = OOV_terms(V3, np.sort(df_test_cleaned['word'].unique()))\n",
        "V4= list(V3)+OOV3"
      ]
    },
    {
      "cell_type": "code",
      "execution_count": 27,
      "metadata": {
        "colab": {
          "base_uri": "https://localhost:8080/"
        },
        "id": "ObnmbngM3Lv7",
        "outputId": "df6bb5ad-1c09-407f-c0e0-bc21ee4611c2"
      },
      "outputs": [
        {
          "output_type": "stream",
          "name": "stdout",
          "text": [
            "Total OOV1 terms: 2136 (27.03%)\n",
            "Total OOV2 terms: 864 (14.38%)\n",
            "Total OOV3 terms: 426 (11.70%)\n",
            "402136\n"
          ]
        }
      ],
      "source": [
        "print(\"Total OOV1 terms: {0} ({1:.2f}%)\".format(len(OOV1), float(len(OOV1))*100 / len(df_train['word'].unique())))\n",
        "print(\"Total OOV2 terms: {0} ({1:.2f}%)\".format(len(OOV2), float(len(OOV2))*100 / len(df_val['word'].unique())))\n",
        "print(\"Total OOV3 terms: {0} ({1:.2f}%)\".format(len(OOV3), float(len(OOV3))*100 / len(df_test['word'].unique())))\n",
        "\n",
        "print(len(V2))"
      ]
    },
    {
      "cell_type": "markdown",
      "metadata": {
        "id": "MkFLW6CK4FAM"
      },
      "source": [
        "Computing embeddings with the method compute_embedding"
      ]
    },
    {
      "cell_type": "code",
      "execution_count": 28,
      "metadata": {
        "id": "hzawTRfFHDqN"
      },
      "outputs": [],
      "source": [
        "#We created this method to generate all the embeddings that we need\n",
        "#It checks if a word exists in the vocabulary, in that case tries to adds the corresponding features of V1(if they exist), else adds random features of V1\n",
        "#Then it returns the embedding\n",
        "def compute_embedding(word2id, vocabulary,embedding_weights):\n",
        "  for word, index in tqdm(word2id.items()):\n",
        "    if word in vocabulary:\n",
        "      try: \n",
        "        embedding_weights[index, :] = V1[word] \n",
        "      except KeyError:\n",
        "          embedding_weights[index, :] = np.random.uniform(random.choice(list(V1.values())))\n",
        "          pass\n",
        "  return embedding_weights"
      ]
    },
    {
      "cell_type": "code",
      "execution_count": 29,
      "metadata": {
        "colab": {
          "base_uri": "https://localhost:8080/"
        },
        "id": "3M-rifgZHHAx",
        "outputId": "0f6d39f1-2638-4595-acc6-fe686c2c01b2"
      },
      "outputs": [
        {
          "output_type": "stream",
          "name": "stderr",
          "text": [
            "100%|██████████| 10948/10948 [00:14<00:00, 768.81it/s]\n",
            "100%|██████████| 10948/10948 [00:23<00:00, 474.66it/s]\n",
            "100%|██████████| 10948/10948 [00:27<00:00, 395.53it/s]\n"
          ]
        }
      ],
      "source": [
        "embedding_V2 = compute_embedding(word2id_train,V2,embedding_weights_train)\n",
        "embedding_V3 = compute_embedding(word2id_val, V3, embedding_weights_val) \n",
        "embedding_V4 = compute_embedding(word2id_test, V4, embedding_weights_test)"
      ]
    },
    {
      "cell_type": "code",
      "execution_count": 30,
      "metadata": {
        "id": "D-Rqv9ugSz4d"
      },
      "outputs": [],
      "source": [
        "y_padded = to_categorical(y_padded)"
      ]
    },
    {
      "cell_type": "code",
      "execution_count": 41,
      "metadata": {
        "id": "m2TjcLhUZq_w"
      },
      "outputs": [],
      "source": [
        "#we divide y_padded in train validation and test\n",
        "y_padded_train = y_padded[0:1896]\n",
        "y_padded_val = y_padded[1896:3183]\n",
        "y_padded_test = y_padded[3183:]"
      ]
    },
    {
      "cell_type": "markdown",
      "metadata": {
        "id": "-E0nXtZfJRi2"
      },
      "source": [
        "#Plotting methods\n",
        "We created three methods to plot the accuracy, real accuracy and loss of the model"
      ]
    },
    {
      "cell_type": "code",
      "execution_count": 42,
      "metadata": {
        "id": "L56LRtW2T5Iq"
      },
      "outputs": [],
      "source": [
        "# visualizing the accuracy and real accuracy of the training set\n",
        "def plot_accuracy(model_fitted,name):\n",
        "  plt.plot(model_fitted.history['accuracy'])\n",
        "  plt.plot(model_fitted.history['real_accuracy'])\n",
        "  plt.title(name)\n",
        "  plt.ylabel('Accuracy')\n",
        "  plt.xlabel('Epochs')\n",
        "  plt.legend(['Training Accuracy','Real Training Accuracy'], loc=\"lower right\")\n",
        "  plt.show()"
      ]
    },
    {
      "cell_type": "code",
      "source": [
        "# visualizing the real accuracy\n",
        "def plot_accuracy_real(model_fitted,name):\n",
        "  plt.plot(model_fitted.history['real_accuracy'])\n",
        "  plt.plot(model_fitted.history['val_real_accuracy'])\n",
        "  plt.title(name)\n",
        "  plt.ylabel('Accuracy')\n",
        "  plt.xlabel('Epochs')\n",
        "  plt.legend(['Real Training Accuracy','Real Validation Accuracy'], loc=\"lower right\")\n",
        "  plt.show()"
      ],
      "metadata": {
        "id": "hD-CLa8wLNfI"
      },
      "execution_count": 34,
      "outputs": []
    },
    {
      "cell_type": "code",
      "execution_count": 35,
      "metadata": {
        "id": "u6j6UoWbxUBX"
      },
      "outputs": [],
      "source": [
        "#Visualizing the loss of training and validation set\n",
        "def plot_loss(model_fitted,name):\n",
        "  plt.plot(model_fitted.history['loss'])\n",
        "  plt.plot(model_fitted.history['val_loss'])\n",
        "  plt.title(name)\n",
        "  plt.ylabel('Loss')\n",
        "  plt.xlabel('Epochs')\n",
        "  plt.legend(['Training Loss','Validation Loss'], loc=\"upper right\")\n",
        "  plt.show()"
      ]
    },
    {
      "cell_type": "markdown",
      "metadata": {
        "id": "5oDH-_C7ZsT-"
      },
      "source": [
        "#Method for custom Accuracy\n",
        "With this method we ignore the padding and the punctuation from the accuracy.\n",
        "\n",
        "\n",
        "\n",
        "1.  We create a mask comparing all the True Labels with a list containing the classes that we don't want to evaluate.   are 0 the others are 1. We update the mask for each value that we want to ignore doing an Exlusive NOR in order to preserve all the previous 0.\n",
        "2.  Then we create matches tensor that first of all checks all the equal occurences between predicted values and true values are equal. Sequently we multiply it with the mask, so we have the all correct matches.\n",
        "3.  We compute the accuracy, just checking how many correct matches and how many values we had to predict.\n",
        "\n",
        "Example:\n",
        "\n",
        "True Values = [0,0,0,0,1,2,3,4,8] \n",
        "\n",
        "Predicted Values = [0,0,0,0,1,2,2,4,9] \n",
        "\n",
        "Values to be ignored = [0,8] \n",
        "\n",
        "1. The mask will be equal to [0,0,0,0,1,1,1,1,0] because we want to ignore 0 and 8 \n",
        "2. Matches will be equal to [1,1,1,1,1,1,0,1,0] then we compute the matches with the mask and we obtain [0,0,0,0,1,1,0,1,0]\n",
        "3. We compute the accuracy dividing the sum of the matches that is 3 over the sum of mask that is 4. The accuracy is 75%\n",
        "\n"
      ]
    },
    {
      "cell_type": "code",
      "execution_count": 36,
      "metadata": {
        "id": "JYPf74va-3gX"
      },
      "outputs": [],
      "source": [
        "def ignore_class_accuracy():\n",
        "    def real_accuracy(y_true, y_pred):\n",
        "        y_true_class = tf.argmax(y_true, axis=-1)\n",
        "        y_pred_class = tf.argmax(y_pred, axis=-1)\n",
        "        to_ignore = [0,7,8,23,24,25,26,40] #'0': 0,',': 7, '.': 8,'$': 23, '``': 24, \"''\": 25, ':': 26,'#': 40\n",
        "        ignore_mask = np.ones((y_true_class.shape)) \n",
        "        for i in range(0,len(to_ignore)):\n",
        "          ignore_mask = np.logical_not(np.logical_xor(ignore_mask, K.cast(K.not_equal(y_true_class, to_ignore[i]), 'int32')))\n",
        "        ignore_mask = tf.convert_to_tensor(ignore_mask,dtype='int32')\n",
        "        matches = K.cast(K.equal(y_true_class, y_pred_class), 'int32') * ignore_mask\n",
        "        accuracy = K.sum(matches) / K.maximum(K.sum(ignore_mask), 1)\n",
        "        return accuracy\n",
        "    return real_accuracy"
      ]
    },
    {
      "cell_type": "markdown",
      "source": [
        "#Method for F1 Score\n",
        "For each epoch we compute the f1 score only for the classes that are not puctuation, symbols or padding, for training and validation set.\n"
      ],
      "metadata": {
        "id": "L4gCPas509oC"
      }
    },
    {
      "cell_type": "code",
      "source": [
        "from sklearn import metrics\n",
        "def f1_score_():\n",
        "  def f1_score_real(y_true,y_pred):\n",
        "    y_true = tf.argmax(y_true, axis=-1)\n",
        "    y_pred = tf.argmax(y_pred, axis=-1)\n",
        "    y_true_ = y_true.numpy()\n",
        "    y_pred_ = y_pred.numpy()\n",
        "    #calculate F1 score\n",
        "    f1 = metrics.f1_score(y_true_.flatten(), y_pred_.flatten(), labels=[1,2,3,4,5,6,9,10,11,12,13,14,15,16,17,18,19,20,21,22,27,28,29,30,31,32,33,34,35,36,37,38,39,41,42,43,44,45], average='micro')\n",
        "    return f1\n",
        "  return f1_score_real"
      ],
      "metadata": {
        "id": "ucU9fBwcTbby"
      },
      "execution_count": 37,
      "outputs": []
    },
    {
      "cell_type": "markdown",
      "metadata": {
        "id": "j44PomP0ZdL0"
      },
      "source": [
        "#LSTM Neural Network"
      ]
    },
    {
      "cell_type": "code",
      "execution_count": 43,
      "metadata": {
        "id": "ZI9fWnwdgjzd",
        "colab": {
          "base_uri": "https://localhost:8080/"
        },
        "outputId": "b8c76a5c-2e98-4b74-d5a1-8f9175a75928"
      },
      "outputs": [
        {
          "output_type": "stream",
          "name": "stdout",
          "text": [
            "Model: \"sequential_1\"\n",
            "_________________________________________________________________\n",
            " Layer (type)                Output Shape              Param #   \n",
            "=================================================================\n",
            " embedding_1 (Embedding)     (None, 50, 50)            547450    \n",
            "                                                                 \n",
            " bidirectional_1 (Bidirectio  (None, 50, 256)          183296    \n",
            " nal)                                                            \n",
            "                                                                 \n",
            " time_distributed_1 (TimeDis  (None, 50, 46)           11822     \n",
            " tributed)                                                       \n",
            "                                                                 \n",
            "=================================================================\n",
            "Total params: 742,568\n",
            "Trainable params: 195,118\n",
            "Non-trainable params: 547,450\n",
            "_________________________________________________________________\n"
          ]
        }
      ],
      "source": [
        "#Creation LSTM model with custom accuracy\n",
        "NUM_CLASSES = y_padded.shape[2]\n",
        "lstm_model_acc = Sequential()\n",
        "lstm_model_acc.add(Embedding(input_dim    = VOCABULARY_SIZE,         # vocabulary size - number of unique words in data\n",
        "                        output_dim        = EMBEDDING_SIZE,          # length of vector with which each word is represented\n",
        "                        input_length      = MAX_SEQUENCE,            # length of input sequence\n",
        "                        weights           = [embedding_V4],          # word embedding matrix\n",
        "                        trainable         = False                    # False - not update embeddings_weight matrix\n",
        "))\n",
        "lstm_model_acc.add(Bidirectional(LSTM(128, return_sequences=True),input_shape=(46, 1)))\n",
        "lstm_model_acc.add(TimeDistributed(Dense(NUM_CLASSES, activation='softmax')))\n",
        "lstm_model_acc.compile(loss     =  'categorical_crossentropy',\n",
        "                  optimizer     =  'adam',\n",
        "                  metrics       =  ['accuracy',ignore_class_accuracy(),f1_score_()],\n",
        "                  run_eagerly   =   True)\n",
        "lstm_model_acc.summary()"
      ]
    },
    {
      "cell_type": "code",
      "execution_count": 44,
      "metadata": {
        "colab": {
          "base_uri": "https://localhost:8080/"
        },
        "id": "7UmetrSfhZ8H",
        "outputId": "90eae174-6173-425c-af02-e4fd6896f451"
      },
      "outputs": [
        {
          "output_type": "stream",
          "name": "stdout",
          "text": [
            "Epoch 1/40\n",
            "240/240 [==============================] - 118s 493ms/step - loss: 1.0034 - accuracy: 0.7378 - real_accuracy: 0.4426 - f1_score_real: 0.4424 - val_loss: 0.5520 - val_accuracy: 0.8563 - val_real_accuracy: 0.6728 - val_f1_score_real: 0.6734\n",
            "Epoch 2/40\n",
            "240/240 [==============================] - 113s 469ms/step - loss: 0.4334 - accuracy: 0.8814 - real_accuracy: 0.7252 - f1_score_real: 0.7257 - val_loss: 0.3736 - val_accuracy: 0.8933 - val_real_accuracy: 0.7565 - val_f1_score_real: 0.7567\n",
            "Epoch 3/40\n",
            "240/240 [==============================] - 113s 473ms/step - loss: 0.3307 - accuracy: 0.9057 - real_accuracy: 0.7807 - f1_score_real: 0.7809 - val_loss: 0.3048 - val_accuracy: 0.9118 - val_real_accuracy: 0.7984 - val_f1_score_real: 0.7982\n",
            "Epoch 4/40\n",
            "240/240 [==============================] - 114s 474ms/step - loss: 0.2814 - accuracy: 0.9186 - real_accuracy: 0.8101 - f1_score_real: 0.8101 - val_loss: 0.2640 - val_accuracy: 0.9234 - val_real_accuracy: 0.8246 - val_f1_score_real: 0.8245\n",
            "Epoch 5/40\n",
            "240/240 [==============================] - 116s 482ms/step - loss: 0.2475 - accuracy: 0.9276 - real_accuracy: 0.8309 - f1_score_real: 0.8309 - val_loss: 0.2360 - val_accuracy: 0.9312 - val_real_accuracy: 0.8423 - val_f1_score_real: 0.8423\n",
            "Epoch 6/40\n",
            "240/240 [==============================] - 135s 564ms/step - loss: 0.2218 - accuracy: 0.9350 - real_accuracy: 0.8479 - f1_score_real: 0.8479 - val_loss: 0.2088 - val_accuracy: 0.9390 - val_real_accuracy: 0.8599 - val_f1_score_real: 0.8599\n",
            "Epoch 7/40\n",
            "240/240 [==============================] - 116s 482ms/step - loss: 0.1991 - accuracy: 0.9416 - real_accuracy: 0.8633 - f1_score_real: 0.8633 - val_loss: 0.1874 - val_accuracy: 0.9453 - val_real_accuracy: 0.8743 - val_f1_score_real: 0.8743\n",
            "Epoch 8/40\n",
            "240/240 [==============================] - 114s 474ms/step - loss: 0.1805 - accuracy: 0.9470 - real_accuracy: 0.8761 - f1_score_real: 0.8760 - val_loss: 0.1679 - val_accuracy: 0.9516 - val_real_accuracy: 0.8890 - val_f1_score_real: 0.8890\n",
            "Epoch 9/40\n",
            "240/240 [==============================] - 111s 462ms/step - loss: 0.1650 - accuracy: 0.9515 - real_accuracy: 0.8868 - f1_score_real: 0.8868 - val_loss: 0.1563 - val_accuracy: 0.9546 - val_real_accuracy: 0.8957 - val_f1_score_real: 0.8957\n",
            "Epoch 10/40\n",
            "240/240 [==============================] - 112s 468ms/step - loss: 0.1514 - accuracy: 0.9560 - real_accuracy: 0.8971 - f1_score_real: 0.8971 - val_loss: 0.1441 - val_accuracy: 0.9577 - val_real_accuracy: 0.9029 - val_f1_score_real: 0.9029\n",
            "Epoch 11/40\n",
            "240/240 [==============================] - 112s 467ms/step - loss: 0.1398 - accuracy: 0.9592 - real_accuracy: 0.9048 - f1_score_real: 0.9048 - val_loss: 0.1293 - val_accuracy: 0.9628 - val_real_accuracy: 0.9144 - val_f1_score_real: 0.9144\n",
            "Epoch 12/40\n",
            "240/240 [==============================] - 112s 466ms/step - loss: 0.1286 - accuracy: 0.9631 - real_accuracy: 0.9139 - f1_score_real: 0.9138 - val_loss: 0.1169 - val_accuracy: 0.9673 - val_real_accuracy: 0.9250 - val_f1_score_real: 0.9250\n",
            "Epoch 13/40\n",
            "240/240 [==============================] - 113s 471ms/step - loss: 0.1181 - accuracy: 0.9664 - real_accuracy: 0.9213 - f1_score_real: 0.9213 - val_loss: 0.1082 - val_accuracy: 0.9699 - val_real_accuracy: 0.9308 - val_f1_score_real: 0.9308\n",
            "Epoch 14/40\n",
            "240/240 [==============================] - 110s 457ms/step - loss: 0.1092 - accuracy: 0.9688 - real_accuracy: 0.9272 - f1_score_real: 0.9272 - val_loss: 0.0981 - val_accuracy: 0.9739 - val_real_accuracy: 0.9398 - val_f1_score_real: 0.9398\n",
            "Epoch 15/40\n",
            "240/240 [==============================] - 111s 462ms/step - loss: 0.1007 - accuracy: 0.9721 - real_accuracy: 0.9347 - f1_score_real: 0.9347 - val_loss: 0.0910 - val_accuracy: 0.9759 - val_real_accuracy: 0.9447 - val_f1_score_real: 0.9447\n",
            "Epoch 16/40\n",
            "240/240 [==============================] - 111s 463ms/step - loss: 0.0928 - accuracy: 0.9745 - real_accuracy: 0.9404 - f1_score_real: 0.9404 - val_loss: 0.0841 - val_accuracy: 0.9784 - val_real_accuracy: 0.9503 - val_f1_score_real: 0.9503\n",
            "Epoch 17/40\n",
            "240/240 [==============================] - 112s 468ms/step - loss: 0.0859 - accuracy: 0.9765 - real_accuracy: 0.9450 - f1_score_real: 0.9450 - val_loss: 0.0792 - val_accuracy: 0.9793 - val_real_accuracy: 0.9524 - val_f1_score_real: 0.9524\n",
            "Epoch 18/40\n",
            "240/240 [==============================] - 114s 475ms/step - loss: 0.0791 - accuracy: 0.9787 - real_accuracy: 0.9500 - f1_score_real: 0.9500 - val_loss: 0.0702 - val_accuracy: 0.9827 - val_real_accuracy: 0.9602 - val_f1_score_real: 0.9602\n",
            "Epoch 19/40\n",
            "240/240 [==============================] - 114s 474ms/step - loss: 0.0723 - accuracy: 0.9811 - real_accuracy: 0.9559 - f1_score_real: 0.9558 - val_loss: 0.0629 - val_accuracy: 0.9853 - val_real_accuracy: 0.9663 - val_f1_score_real: 0.9663\n",
            "Epoch 20/40\n",
            "240/240 [==============================] - 112s 468ms/step - loss: 0.0663 - accuracy: 0.9828 - real_accuracy: 0.9596 - f1_score_real: 0.9596 - val_loss: 0.0574 - val_accuracy: 0.9870 - val_real_accuracy: 0.9700 - val_f1_score_real: 0.9700\n",
            "Epoch 21/40\n",
            "240/240 [==============================] - 111s 464ms/step - loss: 0.0605 - accuracy: 0.9849 - real_accuracy: 0.9647 - f1_score_real: 0.9647 - val_loss: 0.0530 - val_accuracy: 0.9878 - val_real_accuracy: 0.9719 - val_f1_score_real: 0.9719\n",
            "Epoch 22/40\n",
            "240/240 [==============================] - 113s 472ms/step - loss: 0.0556 - accuracy: 0.9861 - real_accuracy: 0.9676 - f1_score_real: 0.9676 - val_loss: 0.0462 - val_accuracy: 0.9906 - val_real_accuracy: 0.9785 - val_f1_score_real: 0.9785\n",
            "Epoch 23/40\n",
            "240/240 [==============================] - 113s 473ms/step - loss: 0.0497 - accuracy: 0.9883 - real_accuracy: 0.9727 - f1_score_real: 0.9727 - val_loss: 0.0421 - val_accuracy: 0.9921 - val_real_accuracy: 0.9817 - val_f1_score_real: 0.9817\n",
            "Epoch 24/40\n",
            "240/240 [==============================] - 115s 479ms/step - loss: 0.0451 - accuracy: 0.9900 - real_accuracy: 0.9764 - f1_score_real: 0.9764 - val_loss: 0.0373 - val_accuracy: 0.9932 - val_real_accuracy: 0.9841 - val_f1_score_real: 0.9841\n",
            "Epoch 25/40\n",
            "240/240 [==============================] - 116s 482ms/step - loss: 0.0400 - accuracy: 0.9917 - real_accuracy: 0.9806 - f1_score_real: 0.9805 - val_loss: 0.0343 - val_accuracy: 0.9938 - val_real_accuracy: 0.9856 - val_f1_score_real: 0.9856\n",
            "Epoch 26/40\n",
            "240/240 [==============================] - 115s 481ms/step - loss: 0.0361 - accuracy: 0.9925 - real_accuracy: 0.9824 - f1_score_real: 0.9824 - val_loss: 0.0308 - val_accuracy: 0.9953 - val_real_accuracy: 0.9892 - val_f1_score_real: 0.9892\n",
            "Epoch 27/40\n",
            "240/240 [==============================] - 115s 478ms/step - loss: 0.0324 - accuracy: 0.9941 - real_accuracy: 0.9860 - f1_score_real: 0.9860 - val_loss: 0.0266 - val_accuracy: 0.9968 - val_real_accuracy: 0.9927 - val_f1_score_real: 0.9927\n",
            "Epoch 28/40\n",
            "240/240 [==============================] - 113s 471ms/step - loss: 0.0283 - accuracy: 0.9952 - real_accuracy: 0.9886 - f1_score_real: 0.9886 - val_loss: 0.0232 - val_accuracy: 0.9974 - val_real_accuracy: 0.9940 - val_f1_score_real: 0.9940\n",
            "Epoch 29/40\n",
            "240/240 [==============================] - 113s 469ms/step - loss: 0.0249 - accuracy: 0.9962 - real_accuracy: 0.9910 - f1_score_real: 0.9910 - val_loss: 0.0201 - val_accuracy: 0.9981 - val_real_accuracy: 0.9955 - val_f1_score_real: 0.9955\n",
            "Epoch 30/40\n",
            "240/240 [==============================] - 115s 479ms/step - loss: 0.0218 - accuracy: 0.9970 - real_accuracy: 0.9931 - f1_score_real: 0.9931 - val_loss: 0.0174 - val_accuracy: 0.9987 - val_real_accuracy: 0.9970 - val_f1_score_real: 0.9970\n",
            "Epoch 31/40\n",
            "240/240 [==============================] - 117s 487ms/step - loss: 0.0189 - accuracy: 0.9978 - real_accuracy: 0.9948 - f1_score_real: 0.9948 - val_loss: 0.0151 - val_accuracy: 0.9989 - val_real_accuracy: 0.9976 - val_f1_score_real: 0.9976\n",
            "Epoch 32/40\n",
            "240/240 [==============================] - 117s 487ms/step - loss: 0.0165 - accuracy: 0.9983 - real_accuracy: 0.9960 - f1_score_real: 0.9960 - val_loss: 0.0135 - val_accuracy: 0.9992 - val_real_accuracy: 0.9982 - val_f1_score_real: 0.9982\n",
            "Epoch 33/40\n",
            "240/240 [==============================] - 116s 485ms/step - loss: 0.0144 - accuracy: 0.9988 - real_accuracy: 0.9972 - f1_score_real: 0.9972 - val_loss: 0.0115 - val_accuracy: 0.9997 - val_real_accuracy: 0.9993 - val_f1_score_real: 0.9993\n",
            "Epoch 34/40\n",
            "240/240 [==============================] - 114s 475ms/step - loss: 0.0123 - accuracy: 0.9992 - real_accuracy: 0.9980 - f1_score_real: 0.9980 - val_loss: 0.0100 - val_accuracy: 0.9996 - val_real_accuracy: 0.9991 - val_f1_score_real: 0.9991\n",
            "Epoch 35/40\n",
            "240/240 [==============================] - 116s 483ms/step - loss: 0.0106 - accuracy: 0.9994 - real_accuracy: 0.9987 - f1_score_real: 0.9987 - val_loss: 0.0085 - val_accuracy: 0.9999 - val_real_accuracy: 0.9997 - val_f1_score_real: 0.9997\n",
            "Epoch 36/40\n",
            "240/240 [==============================] - 115s 480ms/step - loss: 0.0089 - accuracy: 0.9997 - real_accuracy: 0.9992 - f1_score_real: 0.9992 - val_loss: 0.0075 - val_accuracy: 1.0000 - val_real_accuracy: 0.9999 - val_f1_score_real: 0.9999\n",
            "Epoch 37/40\n",
            "240/240 [==============================] - 113s 472ms/step - loss: 0.0078 - accuracy: 0.9998 - real_accuracy: 0.9995 - f1_score_real: 0.9995 - val_loss: 0.0062 - val_accuracy: 1.0000 - val_real_accuracy: 1.0000 - val_f1_score_real: 1.0000\n",
            "Epoch 38/40\n",
            "240/240 [==============================] - 111s 464ms/step - loss: 0.0068 - accuracy: 0.9998 - real_accuracy: 0.9995 - f1_score_real: 0.9995 - val_loss: 0.0053 - val_accuracy: 1.0000 - val_real_accuracy: 1.0000 - val_f1_score_real: 1.0000\n",
            "Epoch 39/40\n",
            "240/240 [==============================] - 112s 466ms/step - loss: 0.0056 - accuracy: 0.9999 - real_accuracy: 0.9998 - f1_score_real: 0.9998 - val_loss: 0.0048 - val_accuracy: 1.0000 - val_real_accuracy: 0.9999 - val_f1_score_real: 0.9999\n",
            "Epoch 40/40\n",
            "240/240 [==============================] - 113s 472ms/step - loss: 0.0049 - accuracy: 1.0000 - real_accuracy: 0.9999 - f1_score_real: 0.9999 - val_loss: 0.0044 - val_accuracy: 1.0000 - val_real_accuracy: 0.9999 - val_f1_score_real: 0.9999\n"
          ]
        }
      ],
      "source": [
        "#Fitting the LSTM model with custom accuracy\n",
        "lstm_acc = lstm_model_acc.fit(X_padded, y_padded, batch_size=16, epochs=40,validation_data=(X_padded_val,y_padded_val))"
      ]
    },
    {
      "cell_type": "code",
      "execution_count": 45,
      "metadata": {
        "id": "ux_IT_ACgDBm",
        "colab": {
          "base_uri": "https://localhost:8080/",
          "height": 512
        },
        "outputId": "95bb1791-e731-402a-8588-4dabc00ef467"
      },
      "outputs": [
        {
          "output_type": "display_data",
          "data": {
            "image/png": "[encoded data removed]",
            "text/plain": [
              "<Figure size 720x576 with 1 Axes>"
            ]
          },
          "metadata": {
            "needs_background": "light"
          }
        }
      ],
      "source": [
        "#Plotting the LSTM model's accuracy and real accuracy of training set\n",
        "plot_accuracy(lstm_acc, \"LSTM\")"
      ]
    },
    {
      "cell_type": "code",
      "source": [
        "#Plotting the LSTM model's real accuracy of training set and validation set\n",
        "plot_accuracy_real(lstm_acc,\"LSTM\")"
      ],
      "metadata": {
        "id": "eeHPqTciPtvb",
        "colab": {
          "base_uri": "https://localhost:8080/",
          "height": 512
        },
        "outputId": "93e7aa4a-bbb4-4e28-d19b-b74169df74b8"
      },
      "execution_count": 46,
      "outputs": [
        {
          "output_type": "display_data",
          "data": {
            "image/png": "[encoded data removed]",
            "text/plain": [
              "<Figure size 720x576 with 1 Axes>"
            ]
          },
          "metadata": {
            "needs_background": "light"
          }
        }
      ]
    },
    {
      "cell_type": "code",
      "execution_count": 47,
      "metadata": {
        "id": "HbSoeNGEgJhw",
        "colab": {
          "base_uri": "https://localhost:8080/",
          "height": 512
        },
        "outputId": "e27b7383-c19c-440a-964a-aeca857aed0b"
      },
      "outputs": [
        {
          "output_type": "display_data",
          "data": {
            "image/png": "[encoded data removed]",
            "text/plain": [
              "<Figure size 720x576 with 1 Axes>"
            ]
          },
          "metadata": {
            "needs_background": "light"
          }
        }
      ],
      "source": [
        "#Plotting the LSTM model loss\n",
        "plot_loss(lstm_acc,\"LSTM\")"
      ]
    },
    {
      "cell_type": "markdown",
      "metadata": {
        "id": "l8do0W0EZivA"
      },
      "source": [
        "#GRU Neural Network"
      ]
    },
    {
      "cell_type": "code",
      "execution_count": 48,
      "metadata": {
        "id": "Efamnrit_Fjm",
        "colab": {
          "base_uri": "https://localhost:8080/"
        },
        "outputId": "412447d6-e2c7-4907-ccd9-9964171304dd"
      },
      "outputs": [
        {
          "output_type": "stream",
          "name": "stdout",
          "text": [
            "Model: \"sequential_1\"\n",
            "_________________________________________________________________\n",
            " Layer (type)                Output Shape              Param #   \n",
            "=================================================================\n",
            " embedding_1 (Embedding)     (None, 50, 50)            547450    \n",
            "                                                                 \n",
            " gru (GRU)                   (None, 50, 128)           69120     \n",
            "                                                                 \n",
            " lstm_1 (LSTM)               (None, 50, 64)            49408     \n",
            "                                                                 \n",
            " time_distributed_1 (TimeDis  (None, 50, 46)           2990      \n",
            " tributed)                                                       \n",
            "                                                                 \n",
            "=================================================================\n",
            "Total params: 668,968\n",
            "Trainable params: 121,518\n",
            "Non-trainable params: 547,450\n",
            "_________________________________________________________________\n"
          ]
        }
      ],
      "source": [
        "#model creation\n",
        "NUM_CLASSES = y_padded.shape[2]\n",
        "gru_model_acc = Sequential()\n",
        "gru_model_acc.add(Embedding(input_dim     = VOCABULARY_SIZE,\n",
        "                        output_dim        = EMBEDDING_SIZE,\n",
        "                        input_length      = MAX_SEQUENCE,\n",
        "                        weights           = [embedding_V4],\n",
        "                        trainable         = False\n",
        "))\n",
        "gru_model_acc.add(GRU(128, return_sequences=True))\n",
        "gru_model_acc.add(LSTM(64, return_sequences=True))\n",
        "gru_model_acc.add(TimeDistributed(Dense(NUM_CLASSES, activation='softmax')))\n",
        "gru_model_acc.compile(loss          = 'categorical_crossentropy',\n",
        "                      optimizer     = 'adam',\n",
        "                      metrics       = ['accuracy', ignore_class_accuracy(), f1_score_()],\n",
        "                      run_eagerly   =   True)\n",
        "gru_model_acc.summary()"
      ]
    },
    {
      "cell_type": "code",
      "execution_count": 49,
      "metadata": {
        "id": "JEXBWomN_9QF",
        "colab": {
          "base_uri": "https://localhost:8080/"
        },
        "outputId": "f159147b-435c-4dc8-ad46-3d39e18d91b0"
      },
      "outputs": [
        {
          "output_type": "stream",
          "name": "stdout",
          "text": [
            "Epoch 1/50\n",
            "240/240 [==============================] - 60s 249ms/step - loss: 1.3137 - accuracy: 0.6572 - real_accuracy: 0.3074 - f1_score_real: 0.3002 - val_loss: 0.8443 - val_accuracy: 0.7657 - val_real_accuracy: 0.5063 - val_f1_score_real: 0.4998\n",
            "Epoch 2/50\n",
            "240/240 [==============================] - 49s 206ms/step - loss: 0.6088 - accuracy: 0.8401 - real_accuracy: 0.6418 - f1_score_real: 0.6407 - val_loss: 0.4899 - val_accuracy: 0.8699 - val_real_accuracy: 0.7061 - val_f1_score_real: 0.7066\n",
            "Epoch 3/50\n",
            "240/240 [==============================] - 49s 204ms/step - loss: 0.4112 - accuracy: 0.8893 - real_accuracy: 0.7433 - f1_score_real: 0.7437 - val_loss: 0.3704 - val_accuracy: 0.8986 - val_real_accuracy: 0.7682 - val_f1_score_real: 0.7683\n",
            "Epoch 4/50\n",
            "240/240 [==============================] - 59s 247ms/step - loss: 0.3266 - accuracy: 0.9096 - real_accuracy: 0.7893 - f1_score_real: 0.7894 - val_loss: 0.3028 - val_accuracy: 0.9157 - val_real_accuracy: 0.8068 - val_f1_score_real: 0.8066\n",
            "Epoch 5/50\n",
            "240/240 [==============================] - 50s 207ms/step - loss: 0.2745 - accuracy: 0.9230 - real_accuracy: 0.8204 - f1_score_real: 0.8205 - val_loss: 0.2569 - val_accuracy: 0.9274 - val_real_accuracy: 0.8340 - val_f1_score_real: 0.8338\n",
            "Epoch 6/50\n",
            "240/240 [==============================] - 49s 206ms/step - loss: 0.2385 - accuracy: 0.9321 - real_accuracy: 0.8415 - f1_score_real: 0.8415 - val_loss: 0.2242 - val_accuracy: 0.9364 - val_real_accuracy: 0.8547 - val_f1_score_real: 0.8544\n",
            "Epoch 7/50\n",
            "240/240 [==============================] - 49s 203ms/step - loss: 0.2119 - accuracy: 0.9397 - real_accuracy: 0.8595 - f1_score_real: 0.8594 - val_loss: 0.2010 - val_accuracy: 0.9420 - val_real_accuracy: 0.8676 - val_f1_score_real: 0.8673\n",
            "Epoch 8/50\n",
            "240/240 [==============================] - 49s 206ms/step - loss: 0.1919 - accuracy: 0.9452 - real_accuracy: 0.8721 - f1_score_real: 0.8720 - val_loss: 0.1798 - val_accuracy: 0.9493 - val_real_accuracy: 0.8843 - val_f1_score_real: 0.8839\n",
            "Epoch 9/50\n",
            "240/240 [==============================] - 60s 249ms/step - loss: 0.1750 - accuracy: 0.9493 - real_accuracy: 0.8818 - f1_score_real: 0.8817 - val_loss: 0.1627 - val_accuracy: 0.9540 - val_real_accuracy: 0.8950 - val_f1_score_real: 0.8947\n",
            "Epoch 10/50\n",
            "240/240 [==============================] - 50s 207ms/step - loss: 0.1608 - accuracy: 0.9537 - real_accuracy: 0.8922 - f1_score_real: 0.8921 - val_loss: 0.1509 - val_accuracy: 0.9568 - val_real_accuracy: 0.9010 - val_f1_score_real: 0.9007\n",
            "Epoch 11/50\n",
            "240/240 [==============================] - 50s 208ms/step - loss: 0.1491 - accuracy: 0.9570 - real_accuracy: 0.8998 - f1_score_real: 0.8996 - val_loss: 0.1377 - val_accuracy: 0.9608 - val_real_accuracy: 0.9103 - val_f1_score_real: 0.9099\n",
            "Epoch 12/50\n",
            "240/240 [==============================] - 50s 208ms/step - loss: 0.1388 - accuracy: 0.9599 - real_accuracy: 0.9065 - f1_score_real: 0.9064 - val_loss: 0.1290 - val_accuracy: 0.9632 - val_real_accuracy: 0.9160 - val_f1_score_real: 0.9158\n",
            "Epoch 13/50\n",
            "240/240 [==============================] - 59s 248ms/step - loss: 0.1303 - accuracy: 0.9622 - real_accuracy: 0.9117 - f1_score_real: 0.9116 - val_loss: 0.1189 - val_accuracy: 0.9661 - val_real_accuracy: 0.9226 - val_f1_score_real: 0.9223\n",
            "Epoch 14/50\n",
            "240/240 [==============================] - 60s 249ms/step - loss: 0.1216 - accuracy: 0.9643 - real_accuracy: 0.9165 - f1_score_real: 0.9164 - val_loss: 0.1102 - val_accuracy: 0.9693 - val_real_accuracy: 0.9298 - val_f1_score_real: 0.9296\n",
            "Epoch 15/50\n",
            "240/240 [==============================] - 50s 207ms/step - loss: 0.1140 - accuracy: 0.9668 - real_accuracy: 0.9226 - f1_score_real: 0.9225 - val_loss: 0.1050 - val_accuracy: 0.9702 - val_real_accuracy: 0.9317 - val_f1_score_real: 0.9316\n",
            "Epoch 16/50\n",
            "240/240 [==============================] - 50s 207ms/step - loss: 0.1079 - accuracy: 0.9691 - real_accuracy: 0.9279 - f1_score_real: 0.9278 - val_loss: 0.0971 - val_accuracy: 0.9721 - val_real_accuracy: 0.9362 - val_f1_score_real: 0.9361\n",
            "Epoch 17/50\n",
            "240/240 [==============================] - 50s 207ms/step - loss: 0.1012 - accuracy: 0.9706 - real_accuracy: 0.9313 - f1_score_real: 0.9313 - val_loss: 0.0922 - val_accuracy: 0.9733 - val_real_accuracy: 0.9386 - val_f1_score_real: 0.9385\n",
            "Epoch 18/50\n",
            "240/240 [==============================] - 60s 249ms/step - loss: 0.0957 - accuracy: 0.9724 - real_accuracy: 0.9353 - f1_score_real: 0.9353 - val_loss: 0.0858 - val_accuracy: 0.9766 - val_real_accuracy: 0.9463 - val_f1_score_real: 0.9462\n",
            "Epoch 19/50\n",
            "240/240 [==============================] - 60s 251ms/step - loss: 0.0906 - accuracy: 0.9737 - real_accuracy: 0.9386 - f1_score_real: 0.9386 - val_loss: 0.0827 - val_accuracy: 0.9768 - val_real_accuracy: 0.9467 - val_f1_score_real: 0.9467\n",
            "Epoch 20/50\n",
            "240/240 [==============================] - 50s 209ms/step - loss: 0.0855 - accuracy: 0.9754 - real_accuracy: 0.9427 - f1_score_real: 0.9427 - val_loss: 0.0802 - val_accuracy: 0.9768 - val_real_accuracy: 0.9472 - val_f1_score_real: 0.9472\n",
            "Epoch 21/50\n",
            "240/240 [==============================] - 50s 209ms/step - loss: 0.0802 - accuracy: 0.9768 - real_accuracy: 0.9457 - f1_score_real: 0.9457 - val_loss: 0.0720 - val_accuracy: 0.9800 - val_real_accuracy: 0.9540 - val_f1_score_real: 0.9540\n",
            "Epoch 22/50\n",
            "240/240 [==============================] - 50s 208ms/step - loss: 0.0753 - accuracy: 0.9784 - real_accuracy: 0.9495 - f1_score_real: 0.9495 - val_loss: 0.0672 - val_accuracy: 0.9814 - val_real_accuracy: 0.9575 - val_f1_score_real: 0.9575\n",
            "Epoch 23/50\n",
            "240/240 [==============================] - 50s 208ms/step - loss: 0.0713 - accuracy: 0.9795 - real_accuracy: 0.9519 - f1_score_real: 0.9519 - val_loss: 0.0641 - val_accuracy: 0.9825 - val_real_accuracy: 0.9600 - val_f1_score_real: 0.9601\n",
            "Epoch 24/50\n",
            "240/240 [==============================] - 60s 250ms/step - loss: 0.0672 - accuracy: 0.9808 - real_accuracy: 0.9550 - f1_score_real: 0.9550 - val_loss: 0.0600 - val_accuracy: 0.9839 - val_real_accuracy: 0.9631 - val_f1_score_real: 0.9631\n",
            "Epoch 25/50\n",
            "240/240 [==============================] - 50s 208ms/step - loss: 0.0632 - accuracy: 0.9820 - real_accuracy: 0.9580 - f1_score_real: 0.9580 - val_loss: 0.0574 - val_accuracy: 0.9846 - val_real_accuracy: 0.9646 - val_f1_score_real: 0.9646\n",
            "Epoch 26/50\n",
            "240/240 [==============================] - 50s 206ms/step - loss: 0.0591 - accuracy: 0.9836 - real_accuracy: 0.9616 - f1_score_real: 0.9616 - val_loss: 0.0516 - val_accuracy: 0.9870 - val_real_accuracy: 0.9700 - val_f1_score_real: 0.9700\n",
            "Epoch 27/50\n",
            "240/240 [==============================] - 49s 206ms/step - loss: 0.0555 - accuracy: 0.9847 - real_accuracy: 0.9643 - f1_score_real: 0.9643 - val_loss: 0.0485 - val_accuracy: 0.9873 - val_real_accuracy: 0.9706 - val_f1_score_real: 0.9706\n",
            "Epoch 28/50\n",
            "240/240 [==============================] - 60s 250ms/step - loss: 0.0526 - accuracy: 0.9852 - real_accuracy: 0.9653 - f1_score_real: 0.9653 - val_loss: 0.0490 - val_accuracy: 0.9860 - val_real_accuracy: 0.9676 - val_f1_score_real: 0.9677\n",
            "Epoch 29/50\n",
            "240/240 [==============================] - 50s 208ms/step - loss: 0.0487 - accuracy: 0.9867 - real_accuracy: 0.9688 - f1_score_real: 0.9688 - val_loss: 0.0437 - val_accuracy: 0.9886 - val_real_accuracy: 0.9738 - val_f1_score_real: 0.9738\n",
            "Epoch 30/50\n",
            "240/240 [==============================] - 50s 208ms/step - loss: 0.0457 - accuracy: 0.9878 - real_accuracy: 0.9712 - f1_score_real: 0.9712 - val_loss: 0.0411 - val_accuracy: 0.9905 - val_real_accuracy: 0.9782 - val_f1_score_real: 0.9782\n",
            "Epoch 31/50\n",
            "240/240 [==============================] - 50s 206ms/step - loss: 0.0431 - accuracy: 0.9885 - real_accuracy: 0.9729 - f1_score_real: 0.9729 - val_loss: 0.0382 - val_accuracy: 0.9912 - val_real_accuracy: 0.9796 - val_f1_score_real: 0.9797\n",
            "Epoch 32/50\n",
            "240/240 [==============================] - 60s 250ms/step - loss: 0.0402 - accuracy: 0.9894 - real_accuracy: 0.9752 - f1_score_real: 0.9752 - val_loss: 0.0352 - val_accuracy: 0.9917 - val_real_accuracy: 0.9810 - val_f1_score_real: 0.9810\n",
            "Epoch 33/50\n",
            "240/240 [==============================] - 60s 251ms/step - loss: 0.0373 - accuracy: 0.9903 - real_accuracy: 0.9773 - f1_score_real: 0.9773 - val_loss: 0.0330 - val_accuracy: 0.9922 - val_real_accuracy: 0.9820 - val_f1_score_real: 0.9821\n",
            "Epoch 34/50\n",
            "240/240 [==============================] - 60s 251ms/step - loss: 0.0355 - accuracy: 0.9909 - real_accuracy: 0.9786 - f1_score_real: 0.9786 - val_loss: 0.0328 - val_accuracy: 0.9919 - val_real_accuracy: 0.9814 - val_f1_score_real: 0.9814\n",
            "Epoch 35/50\n",
            "240/240 [==============================] - 60s 250ms/step - loss: 0.0332 - accuracy: 0.9916 - real_accuracy: 0.9802 - f1_score_real: 0.9802 - val_loss: 0.0300 - val_accuracy: 0.9932 - val_real_accuracy: 0.9844 - val_f1_score_real: 0.9844\n",
            "Epoch 36/50\n",
            "240/240 [==============================] - 60s 251ms/step - loss: 0.0305 - accuracy: 0.9925 - real_accuracy: 0.9824 - f1_score_real: 0.9824 - val_loss: 0.0267 - val_accuracy: 0.9943 - val_real_accuracy: 0.9869 - val_f1_score_real: 0.9869\n",
            "Epoch 37/50\n",
            "240/240 [==============================] - 50s 209ms/step - loss: 0.0287 - accuracy: 0.9929 - real_accuracy: 0.9835 - f1_score_real: 0.9835 - val_loss: 0.0277 - val_accuracy: 0.9933 - val_real_accuracy: 0.9846 - val_f1_score_real: 0.9846\n",
            "Epoch 38/50\n",
            "240/240 [==============================] - 50s 209ms/step - loss: 0.0271 - accuracy: 0.9935 - real_accuracy: 0.9848 - f1_score_real: 0.9848 - val_loss: 0.0257 - val_accuracy: 0.9938 - val_real_accuracy: 0.9859 - val_f1_score_real: 0.9859\n",
            "Epoch 39/50\n",
            "240/240 [==============================] - 50s 208ms/step - loss: 0.0252 - accuracy: 0.9939 - real_accuracy: 0.9858 - f1_score_real: 0.9858 - val_loss: 0.0204 - val_accuracy: 0.9965 - val_real_accuracy: 0.9919 - val_f1_score_real: 0.9919\n",
            "Epoch 40/50\n",
            "240/240 [==============================] - 60s 251ms/step - loss: 0.0233 - accuracy: 0.9945 - real_accuracy: 0.9869 - f1_score_real: 0.9869 - val_loss: 0.0211 - val_accuracy: 0.9956 - val_real_accuracy: 0.9899 - val_f1_score_real: 0.9899\n",
            "Epoch 41/50\n",
            "240/240 [==============================] - 60s 251ms/step - loss: 0.0229 - accuracy: 0.9946 - real_accuracy: 0.9873 - f1_score_real: 0.9873 - val_loss: 0.0194 - val_accuracy: 0.9962 - val_real_accuracy: 0.9913 - val_f1_score_real: 0.9913\n",
            "Epoch 42/50\n",
            "240/240 [==============================] - 60s 251ms/step - loss: 0.0202 - accuracy: 0.9956 - real_accuracy: 0.9896 - f1_score_real: 0.9896 - val_loss: 0.0168 - val_accuracy: 0.9971 - val_real_accuracy: 0.9934 - val_f1_score_real: 0.9934\n",
            "Epoch 43/50\n",
            "240/240 [==============================] - 50s 209ms/step - loss: 0.0198 - accuracy: 0.9956 - real_accuracy: 0.9897 - f1_score_real: 0.9897 - val_loss: 0.0163 - val_accuracy: 0.9971 - val_real_accuracy: 0.9935 - val_f1_score_real: 0.9935\n",
            "Epoch 44/50\n",
            "240/240 [==============================] - 50s 209ms/step - loss: 0.0177 - accuracy: 0.9962 - real_accuracy: 0.9911 - f1_score_real: 0.9911 - val_loss: 0.0158 - val_accuracy: 0.9970 - val_real_accuracy: 0.9931 - val_f1_score_real: 0.9931\n",
            "Epoch 45/50\n",
            "240/240 [==============================] - 60s 250ms/step - loss: 0.0175 - accuracy: 0.9961 - real_accuracy: 0.9909 - f1_score_real: 0.9909 - val_loss: 0.0136 - val_accuracy: 0.9977 - val_real_accuracy: 0.9948 - val_f1_score_real: 0.9948\n",
            "Epoch 46/50\n",
            "240/240 [==============================] - 49s 206ms/step - loss: 0.0155 - accuracy: 0.9968 - real_accuracy: 0.9925 - f1_score_real: 0.9925 - val_loss: 0.0133 - val_accuracy: 0.9981 - val_real_accuracy: 0.9956 - val_f1_score_real: 0.9956\n",
            "Epoch 47/50\n",
            "240/240 [==============================] - 60s 251ms/step - loss: 0.0150 - accuracy: 0.9969 - real_accuracy: 0.9927 - f1_score_real: 0.9927 - val_loss: 0.0149 - val_accuracy: 0.9969 - val_real_accuracy: 0.9928 - val_f1_score_real: 0.9928\n",
            "Epoch 48/50\n",
            "240/240 [==============================] - 60s 250ms/step - loss: 0.0155 - accuracy: 0.9966 - real_accuracy: 0.9921 - f1_score_real: 0.9921 - val_loss: 0.0156 - val_accuracy: 0.9967 - val_real_accuracy: 0.9923 - val_f1_score_real: 0.9923\n",
            "Epoch 49/50\n",
            "240/240 [==============================] - 60s 250ms/step - loss: 0.0166 - accuracy: 0.9962 - real_accuracy: 0.9910 - f1_score_real: 0.9910 - val_loss: 0.0145 - val_accuracy: 0.9966 - val_real_accuracy: 0.9923 - val_f1_score_real: 0.9923\n",
            "Epoch 50/50\n",
            "240/240 [==============================] - 50s 209ms/step - loss: 0.0138 - accuracy: 0.9970 - real_accuracy: 0.9930 - f1_score_real: 0.9930 - val_loss: 0.0102 - val_accuracy: 0.9985 - val_real_accuracy: 0.9965 - val_f1_score_real: 0.9965\n"
          ]
        }
      ],
      "source": [
        "#Fitting the model\n",
        "gru_acc = gru_model_acc.fit(X_padded, y_padded, batch_size=16, epochs=50,validation_data=(X_padded_val,y_padded_val))"
      ]
    },
    {
      "cell_type": "code",
      "execution_count": 50,
      "metadata": {
        "id": "JlsIpDTtipIK",
        "colab": {
          "base_uri": "https://localhost:8080/",
          "height": 512
        },
        "outputId": "00cb3b2c-671f-44a9-9a1b-556f4bb914ad"
      },
      "outputs": [
        {
          "output_type": "display_data",
          "data": {
            "image/png": "[encoded data removed]",
            "text/plain": [
              "<Figure size 720x576 with 1 Axes>"
            ]
          },
          "metadata": {
            "needs_background": "light"
          }
        }
      ],
      "source": [
        "#Plotting GRU model's accuracy and real accuracy of the training set\n",
        "plot_accuracy(gru_acc, \"GRU's model accuracy of Training set\")"
      ]
    },
    {
      "cell_type": "code",
      "source": [
        "#Plotting GRU model's real accuracy of training set and validation set\n",
        "plot_accuracy_real(gru_acc,\"GRU's model real accuracy of Training and Validation\")"
      ],
      "metadata": {
        "id": "XcOm_FCcRsI8",
        "colab": {
          "base_uri": "https://localhost:8080/",
          "height": 512
        },
        "outputId": "1f43008a-804b-41ac-a027-ef32c47662f5"
      },
      "execution_count": 51,
      "outputs": [
        {
          "output_type": "display_data",
          "data": {
            "image/png": "[encoded data removed]",
            "text/plain": [
              "<Figure size 720x576 with 1 Axes>"
            ]
          },
          "metadata": {
            "needs_background": "light"
          }
        }
      ]
    },
    {
      "cell_type": "code",
      "execution_count": 52,
      "metadata": {
        "id": "goWTYI9OiyF6",
        "colab": {
          "base_uri": "https://localhost:8080/",
          "height": 512
        },
        "outputId": "b31a18d8-8b7e-462a-ee08-1e54f2be4d5b"
      },
      "outputs": [
        {
          "output_type": "display_data",
          "data": {
            "image/png": "[encoded data removed]",
            "text/plain": [
              "<Figure size 720x576 with 1 Axes>"
            ]
          },
          "metadata": {
            "needs_background": "light"
          }
        }
      ],
      "source": [
        "#Plotting GRU model's loss\n",
        "plot_loss(gru_acc,\"GRU's model loss\")"
      ]
    },
    {
      "cell_type": "markdown",
      "metadata": {
        "id": "5tu-h1Nto9Jx"
      },
      "source": [
        "#Models' Evaluation"
      ]
    },
    {
      "cell_type": "markdown",
      "source": [
        "The results on the test sets are coherent with those on the validation set, in fact the validation's accuracy is around 99% and the accuracy on the test set is 100%"
      ],
      "metadata": {
        "id": "kkfTqLQXku4C"
      }
    },
    {
      "cell_type": "code",
      "execution_count": 53,
      "metadata": {
        "id": "0Hh_alQljKFw",
        "colab": {
          "base_uri": "https://localhost:8080/"
        },
        "outputId": "0fd07887-2c81-40d2-a1c0-4a2722cb031e"
      },
      "outputs": [
        {
          "output_type": "stream",
          "name": "stdout",
          "text": [
            "21/21 [==============================] - 3s 146ms/step - loss: 5.9067e-05 - accuracy: 1.0000 - real_accuracy: 1.0000 - f1_score_real: 1.0000\n",
            "Loss: 5.9066533140139654e-05,\n",
            "Accuracy: 1.0,\n",
            "Real_accuracy: 1.0,\n",
            "F1_score: 1.0\n"
          ]
        }
      ],
      "source": [
        "#LSTM model evaluation\n",
        "loss, accuracy, real_accuracy,f1_score = lstm_model_acc.evaluate(X_padded_test, y_padded_test, verbose = 1)\n",
        "print(\"Loss: {0},\\nAccuracy: {1},\\nReal_accuracy: {2},\\nF1_score: {3}\".format(loss, accuracy, real_accuracy,f1_score))"
      ]
    },
    {
      "cell_type": "markdown",
      "source": [
        "The results on the test sets are coherent with those on the validation set, in fact the validation's accuracy is around 99% and the accuracy on the test set is around 99%"
      ],
      "metadata": {
        "id": "fnWbT6tso0uS"
      }
    },
    {
      "cell_type": "code",
      "execution_count": 54,
      "metadata": {
        "id": "pGZ8ZLzwjKOO",
        "colab": {
          "base_uri": "https://localhost:8080/"
        },
        "outputId": "fe92fb02-43bc-4d2c-b82c-5b42f7d13709"
      },
      "outputs": [
        {
          "output_type": "stream",
          "name": "stdout",
          "text": [
            "21/21 [==============================] - 3s 145ms/step - loss: 0.0091 - accuracy: 0.9987 - real_accuracy: 0.9970 - f1_score_real: 0.9970\n",
            "Loss: 0.009069996885955334,\n",
            "Accuracy: 0.9986666440963745,\n",
            "Real_accuracy: 0.9969719648361206,\n",
            "F1_score: 0.9969719648361206\n"
          ]
        }
      ],
      "source": [
        "loss, accuracy, real_accuracy,f1_score = gru_model_acc.evaluate(X_padded_test, y_padded_test, verbose = 1)\n",
        "print(\"Loss: {0},\\nAccuracy: {1},\\nReal_accuracy: {2},\\nF1_score: {3}\".format(loss, accuracy, real_accuracy, f1_score))"
      ]
    },
    {
      "cell_type": "markdown",
      "source": [
        "#Error Analisys"
      ],
      "metadata": {
        "id": "9gX3TiyrqBdZ"
      }
    },
    {
      "cell_type": "markdown",
      "metadata": {
        "id": "-Q2gKtWBZ_3W"
      },
      "source": [
        "###Showing Predictions"
      ]
    },
    {
      "cell_type": "code",
      "execution_count": 55,
      "metadata": {
        "id": "XPuXq3d7AQbA"
      },
      "outputs": [],
      "source": [
        "def prediction(model):\n",
        "  predictions = model.predict(X_padded_test)\n",
        "  return predictions"
      ]
    },
    {
      "cell_type": "code",
      "execution_count": 56,
      "metadata": {
        "id": "se7-tOIrBoXD"
      },
      "outputs": [],
      "source": [
        "def logits_to_tokens(sequences, dict):\n",
        "    token_sequences = []\n",
        "    for categorical_sequence in sequences:\n",
        "        token_sequence = []\n",
        "        for categorical in categorical_sequence:\n",
        "            token_sequence.append(dict[np.argmax(categorical)])\n",
        " \n",
        "        token_sequences.append(token_sequence)\n",
        " \n",
        "    return token_sequences"
      ]
    },
    {
      "cell_type": "code",
      "execution_count": 57,
      "metadata": {
        "id": "0htLbCfCsmeS"
      },
      "outputs": [],
      "source": [
        "def unpadding(test):\n",
        "  l=[]\n",
        "  for i in range(0,len(test)):\n",
        "    l.append(list(filter(lambda x: x != '0' and x!='$' and x!='.' and x!=',' and x!='%' and x!=':' and x!='``' and x!= \"''\", test[i])))\n",
        "  return l"
      ]
    },
    {
      "cell_type": "code",
      "source": [
        "#prediction of lstm model\n",
        "predictions_lstm = prediction(lstm_model_acc)"
      ],
      "metadata": {
        "id": "DWPQq4Y5vAxz"
      },
      "execution_count": 58,
      "outputs": []
    },
    {
      "cell_type": "code",
      "source": [
        "#prediction of gru model\n",
        "predictions_gru = prediction(gru_model_acc)"
      ],
      "metadata": {
        "id": "3uaCY6e9vI65"
      },
      "execution_count": 59,
      "outputs": []
    },
    {
      "cell_type": "code",
      "execution_count": 60,
      "metadata": {
        "id": "no2vD5ADAbKz"
      },
      "outputs": [],
      "source": [
        "#digit to tokens lstm model\n",
        "dict_class_id = dict(tokenizer_class_id.index_word)\n",
        "predictions_lstm_detokenized = logits_to_tokens(predictions_lstm, dict_class_id)\n",
        "true = logits_to_tokens(y_padded_test, dict_class_id)"
      ]
    },
    {
      "cell_type": "code",
      "source": [
        "#digit to tokens gru model\n",
        "predictions_gru_detokenized = logits_to_tokens(predictions_gru, dict_class_id)"
      ],
      "metadata": {
        "id": "TTEHOmG0vklZ"
      },
      "execution_count": 61,
      "outputs": []
    },
    {
      "cell_type": "code",
      "execution_count": 62,
      "metadata": {
        "id": "ZVk5HvmbAj2O"
      },
      "outputs": [],
      "source": [
        "def showing_predictions(pred, true):\n",
        "  pre = np.array(unpadding(pred),dtype=list)\n",
        "  true = np.array(unpadding(true), dtype=list)\n",
        "  \n",
        "  #to show the wrong labels\n",
        "  for i in range(0,len(pre)):\n",
        "    for j in range(0,len(pre[i])):\n",
        "      if pre[i][j] != true[i][j]:\n",
        "        print(pre[i])\n",
        "        print(true[i])\n",
        "        print(df_phrases_test['phrase'][i])"
      ]
    },
    {
      "cell_type": "markdown",
      "source": [
        "Here we show all the wrong prediction of the LSTM model, we can see that is coherent, because in all the test set there NO wrong label"
      ],
      "metadata": {
        "id": "9pWRk9nipBnu"
      }
    },
    {
      "cell_type": "code",
      "source": [
        "#showing predictions lstm model\n",
        "showing_predictions(predictions_lstm_detokenized,true)"
      ],
      "metadata": {
        "id": "vDtv2aARwLMf"
      },
      "execution_count": 63,
      "outputs": []
    },
    {
      "cell_type": "markdown",
      "source": [
        "Here we show all the wrong prediction of the GRU model, we can see that is coherent, because in all the test set there some classification errors, expecially for the labels \"adjective\", \"noun\" and \"proper noun\". \n",
        "\n",
        "---\n",
        "\n"
      ],
      "metadata": {
        "id": "odnOrR9mpc1N"
      }
    },
    {
      "cell_type": "code",
      "source": [
        "#showing predictions gru model\n",
        "showing_predictions(predictions_gru_detokenized,true)"
      ],
      "metadata": {
        "id": "aoZgnJMpwX2r",
        "colab": {
          "base_uri": "https://localhost:8080/"
        },
        "outputId": "5108717d-ecba-4622-aa98-99878a4904da"
      },
      "execution_count": 64,
      "outputs": [
        {
          "output_type": "stream",
          "name": "stdout",
          "text": [
            "['nn', 'nns', 'vbd', 'cd', 'nn', 'in', 'dt', 'nn', 'cc', 'cd', 'nn', 'in', 'dt', 'nn', 'rb', 'jj', 'to', 'jjr', 'nn', 'nn', 'nn', 'dt', 'jj', 'in', 'dt', 'nns', 'vbd', 'rp', 'in', 'nnp', 'cd']\n",
            "['nn', 'nns', 'vbd', 'cd', 'nn', 'in', 'dt', 'nn', 'cc', 'cd', 'nn', 'in', 'dt', 'nn', 'rb', 'jj', 'to', 'jjr', 'nn', 'nn', 'nn', 'dt', 'jj', 'in', 'dt', 'nns', 'vbd', 'in', 'in', 'nnp', 'cd']\n",
            "['aerospace', 'earnings', 'sagged', '37', '%', 'for', 'the', 'quarter', 'and', '15', '%', 'for', 'the', 'year', ',', 'largely', 'due', 'to', 'lower', 'B-1B', 'program', 'profit', ';', 'the', 'last', 'of', 'the', 'bombers', 'rolled', 'out', 'in', 'April', '1988', '.']\n",
            "['jj', 'nn', 'nns', 'in', 'nns', 'vbg', 'dt', 'nnp', 'cd', 'cc', 'cd', 'nns', 'wdt', 'dt', 'nnp', 'nns', 'vbp', 'rb', 'vbp', 'vbn', 'vbg', 'rp', 'in', 'nn', 'nns', 'vbp', 'vbn']\n",
            "['jj', 'nn', 'nns', 'in', 'nns', 'vbg', 'dt', 'nnp', 'cd', 'cc', 'cd', 'nns', 'wdt', 'dt', 'nnp', 'nns', 'vbp', 'rb', 'vbp', 'vbn', 'vbg', 'in', 'in', 'nn', 'nns', 'vbp', 'vbn']\n",
            "['personal', 'computer', 'prices', 'for', 'models', 'using', 'the', 'Intel', '286', 'and', '386', 'microprocessors', ',', 'which', 'the', 'Dell', 'models', 'use', ',', 'generally', 'have', 'been', 'coming', 'down', 'as', 'chip', 'prices', 'have', 'fallen', '.']\n",
            "['nns', 'vbd', 'vbn', 'dt', 'dt', 'rb', 'dt', 'nn', 'to', 'vb', 'nn', 'cc', 'dt', 'nn', 'nns', 'vbd', 'vbn', 'to', 'vb', 'vbn', 'to', 'vb', 'vbn', 'nn']\n",
            "['nns', 'vbd', 'vbn', 'dt', 'rb', 'rb', 'dt', 'nn', 'to', 'vb', 'nn', 'cc', 'dt', 'nn', 'nns', 'vbd', 'vbn', 'to', 'vb', 'vbn', 'to', 'vb', 'vbn', 'nn']\n",
            "['``', 'Producers', 'were', 'granted', 'the', 'right', 'earlier', 'this', 'year', 'to', 'ship', 'sugar', 'and', 'the', 'export', 'licenses', 'were', 'expected', 'to', 'have', 'begun', 'to', 'be', 'issued', \"''\", 'yesterday', '.']\n",
            "['jjs', 'jj', 'nnp', 'nnp', 'vbd', 'jj', 'nns', 'vbd', 'in', 'dt', 'nn', 'vbz', 'rb', 'rb', 'vbn', 'vbn', 'in', 'dt', 'nn', 'in', 'nns']\n",
            "['rbs', 'jj', 'nnp', 'nnp', 'vbd', 'jj', 'nns', 'vbd', 'in', 'dt', 'nn', 'vbz', 'rb', 'rb', 'vbn', 'vbn', 'in', 'dt', 'nn', 'in', 'nns']\n",
            "['most', 'important', ',', 'Ms.', 'Ganes', 'noted', ',', '``', 'Brazilian', 'officials', 'said', 'that', 'no', 'decision', 'has', 'as', 'yet', 'been', 'made', 'on', 'the', 'suspension', 'of', 'exports', '.']\n",
            "['dt', 'nn', 'prp', 'vbz', 'vbn', 'to', 'vb', 'dt', 'jj', 'nn', 'cc', 'vbz', 'vbn', 'to', 'vb', 'vbg', 'to', 'vb', 'in', 'cd', 'nns', 'in', 'nn', 'to', 'vb', 'jj', 'nn', 'nns', 'vbd']\n",
            "['dt', 'nn', 'prp', 'vbz', 'vbn', 'to', 'vb', 'dt', 'jj', 'nn', 'cc', 'vbz', 'vbn', 'to', 'vb', 'vbg', 'to', 'vb', 'in', 'cd', 'nns', 'in', 'nn', 'to', 'vb', 'jj', 'nns', 'nns', 'vbd']\n",
            "['this', 'year', 'it', 'is', 'expected', 'to', 'be', 'a', 'net', 'importer', 'and', 'is', 'said', 'to', 'be', 'seeking', 'to', 'buy', 'about', '200,000', 'tons', 'of', 'sugar', 'to', 'meet', 'internal', 'needs', ',', 'analysts', 'said', '.']\n",
            "['in', 'jj', 'nn', 'nns', 'nn', 'nn', 'nnp', 'nns', 'vbd', 'rb', 'jjr', 'in', 'nn', 'nn', 'vbg', 'dt', 'nn']\n",
            "['in', 'jj', 'nn', 'nns', 'nn', 'nnp', 'nnp', 'nns', 'vbd', 'rb', 'jjr', 'in', 'nn', 'nn', 'vbg', 'dt', 'nn']\n",
            "['in', 'other', 'commodity', 'markets', 'yesterday', ':', 'ENERGY', ':', 'Petroleum', 'futures', 'were', 'generally', 'higher', 'with', 'heating', 'oil', 'leading', 'the', 'way', '.']\n",
            "['nn', 'vbd', 'vbn', 'in', 'nn', 'in', 'in', 'dt', 'nn', 'in', 'nns', 'nnp', 'pos', 'nnp', 'in', 'jj', 'in', 'nnp']\n",
            "['nn', 'vbd', 'vbn', 'in', 'nn', 'in', 'in', 'dt', 'nn', 'in', 'nnp', 'nnp', 'pos', 'nnp', 'in', 'jj', 'in', 'nnp']\n",
            "['trading', 'was', 'muted', 'in', 'part', 'because', 'of', 'the', 'observance', 'of', 'All', 'Saints', \"'\", 'Day', 'across', 'much', 'of', 'Europe', '.']\n",
            "['vbg', 'in', 'dt', 'jjs', 'nn', 'vbd', 'rp', 'in', 'dt', 'jj', 'nn', 'cc', 'nns', 'rb', 'vbd', 'nns', 'in', 'dt', 'jj', 'nn', 'nn', 'md', 'vb', 'vbn', 'rb', 'in', 'prp', 'vbd', 'dt', 'nn', 'vbd']\n",
            "['vbg', 'in', 'dt', 'jjs', 'nn', 'vbd', 'rp', 'in', 'dt', 'jj', 'nn', 'cc', 'nns', 'rb', 'vbd', 'nns', 'in', 'dt', 'jj', 'jj', 'nn', 'md', 'vb', 'vbn', 'rb', 'in', 'prp', 'vbd', 'dt', 'nn', 'vbd']\n",
            "['buying', 'for', 'the', 'most', 'part', 'carried', 'over', 'from', 'the', 'previous', 'session', ',', 'and', 'traders', 'apparently', 'ignored', 'reports', 'that', 'a', 'Chilean', 'mine', 'strike', 'may', 'have', 'ended', 'almost', 'before', 'it', 'began', ',', 'an', 'analyst', 'said', '.']\n",
            "['nns', 'nn', 'vbz', 'jj', 'to', 'vb', 'dt', 'cd', 'nn', 'to', 'cd', 'nn', 'nn', 'in', 'dt', 'nn', 'in', 'nnp', 'vbd', 'nnp', 'nnp', 'nnp', 'nnp', 'pos', 'nn', 'cc', 'jj', 'nn', 'nn']\n",
            "['nnp', 'nn', 'vbz', 'jj', 'to', 'vb', 'dt', 'cd', 'nn', 'to', 'cd', 'nn', 'nn', 'in', 'dt', 'nn', 'in', 'nnp', 'vbd', 'nnp', 'nnp', 'nnp', 'nnp', 'pos', 'nn', 'cc', 'nn', 'nn', 'nn']\n",
            "['Younkers', 'management', 'is', 'likely', 'to', 'buy', 'a', '10', '%', 'to', '20', '%', 'interest', 'in', 'the', 'chain', 'in', 'January', ',', 'said', 'Fred', 'S.', 'Hubbell', ',', 'Equitable', \"'s\", 'president', 'and', 'chief', 'executive', 'officer', '.']\n",
            "['nns', 'nn', 'vbz', 'jj', 'to', 'vb', 'dt', 'cd', 'nn', 'to', 'cd', 'nn', 'nn', 'in', 'dt', 'nn', 'in', 'nnp', 'vbd', 'nnp', 'nnp', 'nnp', 'nnp', 'pos', 'nn', 'cc', 'jj', 'nn', 'nn']\n",
            "['nnp', 'nn', 'vbz', 'jj', 'to', 'vb', 'dt', 'cd', 'nn', 'to', 'cd', 'nn', 'nn', 'in', 'dt', 'nn', 'in', 'nnp', 'vbd', 'nnp', 'nnp', 'nnp', 'nnp', 'pos', 'nn', 'cc', 'nn', 'nn', 'nn']\n",
            "['Younkers', 'management', 'is', 'likely', 'to', 'buy', 'a', '10', '%', 'to', '20', '%', 'interest', 'in', 'the', 'chain', 'in', 'January', ',', 'said', 'Fred', 'S.', 'Hubbell', ',', 'Equitable', \"'s\", 'president', 'and', 'chief', 'executive', 'officer', '.']\n",
            "['nn', 'vbd', 'cd', 'nn', 'to', 'cd', 'cd', 'in', 'cd', 'cd', 'dt', 'nn', 'rbr']\n",
            "['nn', 'vbd', 'cd', 'nn', 'to', 'cd', 'cd', 'in', 'cd', 'cd', 'dt', 'nn', 'jjr']\n",
            "['revenue', 'declined', '8', '%', 'to', '$', '85.7', 'million', ',', 'from', '$', '93.3', 'million', 'a', 'year', 'earlier', '.']\n",
            "['dt', 'nn', 'rbr', 'jj', 'nn', 'vbd', 'cd', 'cd', 'cc', 'cd', 'nns', 'dt', 'nn', 'in', 'nn', 'in', 'cd', 'cd']\n",
            "['dt', 'nn', 'jjr', 'jj', 'nn', 'vbd', 'cd', 'cd', 'cc', 'cd', 'nns', 'dt', 'nn', 'in', 'nn', 'in', 'cd', 'cd']\n",
            "['a', 'year', 'earlier', ',', 'net', 'income', 'was', '$', '2.1', 'million', ',', 'or', 'six', 'cents', 'a', 'share', ',', 'on', 'revenue', 'of', '$', '169.9', 'million', '.']\n",
            "['nnp', 'nnps', 'vbd', 'dt', 'nn', 'pos', 'jj', 'nn', 'nn', 'in', 'nn', 'to', 'dt', 'nn', 'nn', 'nnp', 'nnp', 'vbd', 'prp', 'vbz', 'dt', 'nn', 'md', 'vb', 'to', 'jj', 'nn', 'dt', 'vbz', 'jjr', 'rb', 'vbn']\n",
            "['nnp', 'nnps', 'vbd', 'dt', 'nn', 'pos', 'jj', 'nn', 'nn', 'in', 'nn', 'to', 'dt', 'nn', 'nn', 'nnp', 'nnp', 'vbd', 'prp', 'vbz', 'dt', 'nn', 'md', 'vb', 'to', 'jj', 'nn', 'dt', 'vbz', 'rbr', 'rb', 'vbn']\n",
            "['Prudential-Bache', 'Securities', 'boosted', 'the', 'stock', \"'s\", 'short-term', 'investment', 'rating', 'in', 'response', 'to', 'the', 'departure', ';', 'analyst', 'John', 'McMillin', 'said', 'he', 'believes', 'the', 'company', 'will', 'turn', 'to', 'new', 'management', '``', 'that', \"'s\", 'more', 'financially', 'oriented', '.']\n",
            "['nnp', 'wdt', 'vbd', 'rb', 'cd', 'cd', 'nnp', 'vbd', 'dt', 'cd', 'to', 'cd', 'cd']\n",
            "['nnp', 'wdt', 'vbd', 'in', 'cd', 'cd', 'nnp', 'vbd', 'dt', 'cd', 'to', 'cd', 'cd']\n",
            "['Georgia-Pacific', ',', 'which', 'went', 'down', '2', '1\\\\/2', 'Tuesday', ',', 'lost', 'another', '1\\\\/2', 'to', '50', '3\\\\/8', '.']\n",
            "['dt', 'nnp', 'jj', 'nn', 'rb', 'vbd', 'in', 'jj', 'nn', 'in', 'vbg', 'nns', 'md', 'vb', 'rb', 'in', 'jj', 'nn', 'pos', 'cd', 'cd']\n",
            "['dt', 'nnp', 'jj', 'nn', 'rb', 'vbd', 'dt', 'jj', 'nn', 'in', 'vbg', 'nns', 'md', 'vb', 'rb', 'in', 'jj', 'nn', 'pos', 'cd', 'cd']\n",
            "['the', 'Fairlawn', ',', 'Ohio-based', 'company', 'also', 'said', 'that', 'full-year', 'profit', 'from', 'continuing', 'operations', 'will', 'be', 'far', 'below', 'last', 'year', \"'s\", '$', '148', 'million', '.']\n",
            "['dt', 'vbn', 'nn', 'vbz', 'nns', 'in', 'jjr', 'in', 'cd', 'nn', 'in', 'nnp', 'pos', 'nns', 'cc', 'prp', 'vbz', 'vbn', 'in', 'nn', 'in', 'nnp', 'cd']\n",
            "['dt', 'vbn', 'nn', 'vbz', 'nns', 'in', 'rbr', 'in', 'cd', 'nn', 'in', 'nnp', 'pos', 'nns', 'cc', 'prp', 'vbz', 'vbn', 'in', 'nn', 'in', 'nnp', 'cd']\n",
            "['the', 'sweetened', 'offer', 'has', 'acceptances', 'from', 'more', 'than', '50', '%', 'of', 'Weisfield', \"'s\", 'shareholders', ',', 'and', 'it', 'is', 'scheduled', 'for', 'completion', 'by', 'Dec.', '10', '.']\n",
            "['nnp', 'nns', 'vbp', 'to', 'vb', 'prp', 'vbd', 'cd', 'cd', 'in', 'dt', 'nn', 'vbn', 'in', 'cd', 'cd', 'dt', 'nn', 'in']\n",
            "['jj', 'nns', 'vbp', 'to', 'vb', 'prp', 'vbd', 'cd', 'cd', 'in', 'dt', 'nn', 'vbn', 'in', 'cd', 'cd', 'dt', 'nn', 'in']\n",
            "['new', 'loans', 'continue', 'to', 'slow', ';', 'they', 'were', '$', '6.6', 'million', 'in', 'the', 'quarter', 'compared', 'with', '$', '361.8', 'million', 'a', 'year', 'ago', '.']\n",
            "['nnp', 'nns', 'vbd', 'jj', 'nns', 'in', 'dt', 'nn', 'in', 'jjr', 'in', 'cd', 'cd', 'in', 'jj', 'nn', 'in', 'nnp']\n",
            "['nnp', 'nns', 'vbd', 'jj', 'nns', 'in', 'dt', 'nn', 'in', 'rbr', 'in', 'cd', 'cd', 'in', 'jj', 'nn', 'in', 'nnp']\n",
            "['House-Senate', 'conferees', 'approved', 'major', 'portions', 'of', 'a', 'package', 'for', 'more', 'than', '$', '500', 'million', 'in', 'economic', 'aid', 'for', 'Poland', '.']\n",
            "['nnp', 'jj', 'nns', 'vbd', 'vbn', 'in', 'nn']\n",
            "['nnp', 'nnp', 'nns', 'vbd', 'vbn', 'in', 'nn']\n",
            "['South', 'African', 'troops', 'were', 'placed', 'on', 'alert', '.']\n",
            "['nnp', 'nnp', 'vbd', 'prp$', 'nn', 'nn', 'in', 'nnp', 'nnp', 'nnp', 'nnp', 'in', 'nnp', 'nns', 'vbg', 'cd', 'nn', 'in', 'dt', 'jj', 'nns', 'jj', 'in', 'dt', 'nnp', 'nn']\n",
            "['nnp', 'nnp', 'vbd', 'prp$', 'nn', 'nn', 'in', 'nnp', 'nnps', 'nnp', 'nnp', 'in', 'nnp', 'nns', 'vbg', 'cd', 'nn', 'in', 'dt', 'jj', 'nns', 'jj', 'in', 'dt', 'nnp', 'nn']\n",
            "['Sony', 'Corp.', 'completed', 'its', 'tender', 'offer', 'for', 'Columbia', 'Pictures', 'Entertainment', 'Inc.', ',', 'with', 'Columbia', 'shareholders', 'tendering', '99.3', '%', 'of', 'all', 'common', 'shares', 'outstanding', 'by', 'the', 'Tuesday', 'deadline', '.']\n",
            "['nn', 'nn', 'vbd', 'cd', 'nn', 'to', 'cd', 'cd', 'nn', 'in', 'cd', 'cd', 'nn']\n",
            "['jj', 'nn', 'vbd', 'cd', 'nn', 'to', 'cd', 'cd', 'nn', 'in', 'cd', 'cd', 'nn']\n",
            "['net', 'income', 'surged', '31', '%', 'to', '7.63', 'billion', 'yen', 'from', '5.82', 'billion', 'yen', '.']\n",
            "['dt', 'nnp', 'nnp', 'vbz', 'dt', 'jj', 'nn', 'nn', 'to', 'vb', 'nn', 'nns', 'in', 'dt', 'nn']\n",
            "['dt', 'nnp', 'nnp', 'vbz', 'dt', 'jj', 'nn', 'nn', 'to', 'vb', 'jj', 'nns', 'in', 'dt', 'nn']\n",
            "['the', 'Chicago', 'Merc', 'plans', 'an', 'additional', '``', 'circuit', 'breaker', \"''\", 'to', 'stem', 'sharp', 'drops', 'in', 'the', 'market', '.']\n",
            "['nnp', 'nnp', 'vbd', 'dt', 'jj', 'nn', 'nn', 'in', 'nn', 'nnp', 'nnp', 'cc', 'nnp', 'nnp', 'in', 'cd', 'dt', 'nn', 'cc', 'rb', 'cd', 'cd']\n",
            "['nnp', 'nnp', 'vbd', 'dt', 'jj', 'nn', 'nn', 'in', 'nn', 'nnp', 'nnp', 'cc', 'nnp', 'nnps', 'in', 'cd', 'dt', 'nn', 'cc', 'in', 'cd', 'cd']\n",
            "['Georgia', 'Gulf', 'received', 'a', 'new', 'takeover', 'bid', 'from', 'investor', 'Harold', 'Simmons', 'and', 'NL', 'Industries', 'of', '$', '50', 'a', 'share', ',', 'or', 'about', '$', '1.1', 'billion', '.']\n",
            "['nnp', 'nnp', 'vbd', 'dt', 'jj', 'nn', 'nn', 'in', 'nn', 'nnp', 'nnp', 'cc', 'nnp', 'nnp', 'in', 'cd', 'dt', 'nn', 'cc', 'rb', 'cd', 'cd']\n",
            "['nnp', 'nnp', 'vbd', 'dt', 'jj', 'nn', 'nn', 'in', 'nn', 'nnp', 'nnp', 'cc', 'nnp', 'nnps', 'in', 'cd', 'dt', 'nn', 'cc', 'in', 'cd', 'cd']\n",
            "['Georgia', 'Gulf', 'received', 'a', 'new', 'takeover', 'bid', 'from', 'investor', 'Harold', 'Simmons', 'and', 'NL', 'Industries', 'of', '$', '50', 'a', 'share', ',', 'or', 'about', '$', '1.1', 'billion', '.']\n",
            "['dt', 'dt', 'vbz', 'vbn', 'dt', 'nn', 'in', 'nnp', 'nnps', 'cc', 'nnp', 'nnp', 'cc', 'prp$', 'jj', 'jj', 'nn', 'nnp', 'nnp', 'wp', 'vbd', 'dt', 'cd', 'cd', 'nnp', 'nnp', 'nnp', 'nn', 'in', 'jj', 'nn', 'nns']\n",
            "['pdt', 'dt', 'vbz', 'vbn', 'dt', 'nn', 'in', 'nnp', 'nnps', 'cc', 'nnp', 'nnp', 'cc', 'prp$', 'jj', 'jj', 'nn', 'nnp', 'nnp', 'wp', 'vbd', 'dt', 'cd', 'cd', 'nnp', 'nnp', 'nnp', 'nn', 'in', 'jj', 'nn', 'nns']\n",
            "['all', 'this', 'has', 'cast', 'a', 'pall', 'over', 'Columbia', 'Savings', '&', 'Loan', 'Association', 'and', 'its', 'high-rolling', '43-year-old', 'chairman', ',', 'Thomas', 'Spiegel', ',', 'who', 'built', 'the', '$', '12.7', 'billion', 'Beverly', 'Hills', ',', 'Calif.', ',', 'thrift', 'with', 'high-yield', 'junk', 'bonds', '.']\n",
            "['in', 'jj', 'nns', 'md', 'vb', 'dt', 'nn', 'in', 'nnp', 'nns', 'vbp', 'nnp', 'nnp', 'vbz', 'vbg', 'jj', 'dt', 'nn', 'to', 'vb', 'nnp', 'pos', 'nn', 'nns']\n",
            "['in', 'jj', 'nns', 'md', 'vb', 'dt', 'nn', 'in', 'nnp', 'nns', 'vbp', 'nnp', 'nnp', 'vbz', 'vbg', 'pdt', 'dt', 'nn', 'to', 'vb', 'nnp', 'pos', 'nn', 'nns']\n",
            "['while', 'many', 'problems', 'would', 'attend', 'a', 'restructuring', 'of', 'Columbia', ',', 'investors', 'say', 'Mr.', 'Spiegel', 'is', 'mulling', 'such', 'a', 'plan', 'to', 'mitigate', 'Columbia', \"'s\", 'junk', 'problems', '.']\n",
            "['nnp', 'nns', 'vbp', 'nns', 'to', 'vb', 'rp', 'prp$', 'nn', 'to', 'nn', 'nn', 'rb', 'vb', 'dt', 'nns', 'in', 'cd', 'nns']\n",
            "['jj', 'nns', 'vbp', 'nns', 'to', 'vb', 'rp', 'prp$', 'nn', 'to', 'nn', 'nn', 'rb', 'vb', 'dt', 'nns', 'in', 'cd', 'nns']\n",
            "['new', 'rules', 'force', 'thrifts', 'to', 'write', 'down', 'their', 'junk', 'to', 'market', 'value', ',', 'then', 'sell', 'the', 'bonds', 'over', 'five', 'years', '.']\n",
            "['rb', 'nns', 'vbp', 'nnp', 'nnp', 'vbz', 'to', 'vb', 'dt', 'jj', 'nn', 'wdt', 'jj', 'nns', 'md', 'vb', 'nnp', 'to', 'vb']\n",
            "['jj', 'nns', 'vbp', 'nnp', 'nnp', 'vbz', 'to', 'vb', 'dt', 'jj', 'nn', 'wdt', 'jj', 'nns', 'md', 'vb', 'nnp', 'to', 'vb']\n",
            "['few', 'people', 'think', 'Mr.', 'Spiegel', 'wants', 'to', 'run', 'a', 'bread-and-butter', 'thrift', ',', 'which', 'current', 'rules', 'would', 'force', 'Columbia', 'to', 'become', '.']\n",
            "['nnp', 'dt', 'jj', 'nnp', 'nnp', 'jj', 'nns', 'nn', 'vbd', 'prp', 'vbz', 'vbg', 'dt', 'nn', 'in', 'dt', 'jj', 'nn', 'nn', 'to', 'vb', 'prp$', 'nn', 'in', 'jj', 'nns', 'in', 'nn', 'nns']\n",
            "['nn', 'dt', 'jj', 'nnp', 'nnp', 'jj', 'nns', 'nn', 'vbd', 'prp', 'vbz', 'vbg', 'dt', 'nn', 'in', 'dt', 'vbn', 'nn', 'nn', 'to', 'vb', 'prp$', 'nn', 'in', 'jj', 'nns', 'in', 'nn', 'nns']\n",
            "['metallgesellschaft', ',', 'a', 'diversified', 'Frankfurt', ',', 'West', 'Germany-based', 'metals', 'group', ',', 'said', 'it', 'is', 'buying', 'the', 'stake', 'in', 'the', 'specialized', 'engineering', 'company', 'to', 'expand', 'its', 'production', 'of', 'environmental', 'supplies', 'for', 'power', 'plants', '.']\n",
            "['nnp', 'dt', 'jj', 'nnp', 'nnp', 'jj', 'nns', 'nn', 'vbd', 'prp', 'vbz', 'vbg', 'dt', 'nn', 'in', 'dt', 'jj', 'nn', 'nn', 'to', 'vb', 'prp$', 'nn', 'in', 'jj', 'nns', 'in', 'nn', 'nns']\n",
            "['nn', 'dt', 'jj', 'nnp', 'nnp', 'jj', 'nns', 'nn', 'vbd', 'prp', 'vbz', 'vbg', 'dt', 'nn', 'in', 'dt', 'vbn', 'nn', 'nn', 'to', 'vb', 'prp$', 'nn', 'in', 'jj', 'nns', 'in', 'nn', 'nns']\n",
            "['metallgesellschaft', ',', 'a', 'diversified', 'Frankfurt', ',', 'West', 'Germany-based', 'metals', 'group', ',', 'said', 'it', 'is', 'buying', 'the', 'stake', 'in', 'the', 'specialized', 'engineering', 'company', 'to', 'expand', 'its', 'production', 'of', 'environmental', 'supplies', 'for', 'power', 'plants', '.']\n",
            "['nnp', 'pos', 'nn', 'nn', 'in', 'vbg', 'nns', 'cc', 'nns', 'vbz', 'dt', 'jj', 'nn', 'in', 'prp$', 'jj', 'nnp', 'nnp']\n",
            "['nnp', 'pos', 'nn', 'nn', 'in', 'vbn', 'nns', 'cc', 'nns', 'vbz', 'dt', 'jj', 'nn', 'in', 'prp$', 'jj', 'nnp', 'nnp']\n",
            "['Lentjes', \"'\", 'product', 'mix', 'of', 'specialized', 'boilers', 'and', 'pipes', 'provides', 'a', 'good', 'fit', 'with', 'its', 'own', 'Lurgi', 'G.m.b', '.']\n",
            "['-lrb-', 'nnp', 'nnp', '-rrb-', 'nnp', 'nnp', 'vbg', 'nn', 'in', 'nnp', 'nnp', 'vbd', 'vbn', 'dt', 'nn', 'in', 'dt', 'nn', 'nns', 'nn', 'cc', 'nns', 'nn']\n",
            "['-lrb-', 'nnp', 'nnp', '-rrb-', 'nnp', 'nnp', 'vbg', 'nn', 'in', 'nnp', 'nnps', 'vbd', 'vbn', 'dt', 'nn', 'in', 'dt', 'nn', 'nns', 'nn', 'cc', 'nns', 'nn']\n",
            "['-lrb-', 'Chandler', ',', 'Ariz.', '-RRB-', '--', 'Jerry', 'Chapman', ',', 'managing', 'director', 'of', 'WayMar', 'Associates', ',', 'was', 'elected', 'a', 'director', 'of', 'this', 'business', 'telecommunications', 'software', 'and', 'systems', 'concern', '.']\n",
            "['wrb', 'vbd', 'dt', 'jj', 'nn', 'in', 'dt', 'nnp', 'nnp', 'pos', 'nn', 'to', 'nnp', 'nnp', 'in', 'cd', 'in', 'nnp', 'pos', 'nns', 'prp', 'vbz', 'dt', 'nn', 'jj', 'in', 'vbg', 'nn', 'in', 'nn', 'in', 'dt', 'prp', 'vbd', 'vbg', 'in', 'prp', 'vbd']\n",
            "['wrb', 'vbn', 'dt', 'jj', 'nn', 'in', 'dt', 'nnp', 'nnp', 'pos', 'nn', 'to', 'nnp', 'nnp', 'in', 'cd', 'in', 'nnp', 'pos', 'nns', 'prp', 'vbz', 'dt', 'nn', 'jj', 'in', 'vbg', 'nn', 'in', 'nn', 'in', 'dt', 'prp', 'vbd', 'vbg', 'in', 'prp', 'vbd']\n",
            "['when', 'offered', 'a', 'free', 'trip', 'from', 'the', 'Bronx', ',', 'Wedtech', \"'s\", 'home', ',', 'to', 'Washington', ',', 'D.C.', ',', 'by', 'one', 'of', 'Wedtech', \"'s\", 'principals', ',', 'he', 'tells', 'the', 'reader', ',', '``', 'mindful', 'of', 'accepting', 'anything', 'of', 'value', 'from', 'those', 'I', 'was', 'writing', 'about', ',', 'I', 'declined', '.']\n",
            "['nnp', 'pos', 'nns', 'rb', 'vbd', 'prp', 'to', 'vb', 'rp']\n",
            "['nnp', 'pos', 'nns', 'rb', 'vbd', 'prp', 'to', 'vb', 'in']\n",
            "['Wedtech', \"'s\", 'scammers', 'simply', 'bribed', 'them', 'to', 'shut', 'up', '.']\n",
            "['nnp', 'vbd', 'prp$', 'nn', 'nn', 'rb', 'to', 'jjr', 'nns', 'in', 'nns', 'in', 'dt', 'nn', 'nn', 'nn', 'in', 'rb', 'in', 'jj', 'nns', 'wdt', 'vbd', 'jjr', 'nn', 'nn']\n",
            "['nnp', 'vbd', 'prp$', 'nn', 'nn', 'rb', 'to', 'jjr', 'nns', 'in', 'nns', 'in', 'dt', 'nn', 'nn', 'nn', 'rb', 'rb', 'in', 'jj', 'nns', 'wdt', 'vbd', 'jjr', 'nn', 'nn']\n",
            "['Ralston', 'attributed', 'its', 'fourth-quarter', 'slump', 'partly', 'to', 'higher', 'costs', 'of', 'ingredients', 'in', 'the', 'pet', 'food', 'business', 'as', 'well', 'as', 'competitive', 'pressures', ',', 'which', 'required', 'higher', 'advertising', 'spending', '.']\n",
            "['dt', 'nnp', 'nns', 'vbp', 'rb', 'jj', 'in', 'nns', 'vbp', 'vbg', 'to', 'vb', 'jj', 'nn', 'nns', 'cc', 'nns', 'to', 'vb', 'dt', 'rb', 'vbn', 'nn', 'nn', 'to', 'nns', 'in', 'vbg', 'in', 'jj', 'nns']\n",
            "['dt', 'jj', 'nns', 'vbp', 'rb', 'jj', 'in', 'nns', 'vbp', 'vbg', 'to', 'vb', 'jj', 'nn', 'nns', 'cc', 'nns', 'to', 'vb', 'dt', 'rb', 'vbn', 'nn', 'nn', 'to', 'nns', 'in', 'vbg', 'in', 'jj', 'nns']\n",
            "['the', 'Soviet', 'purchases', 'are', 'so', 'massive', 'that', 'exporters', 'are', 'struggling', 'to', 'find', 'enough', 'river', 'barges', 'and', 'trains', 'to', 'move', 'the', 'recently', 'harvested', 'Midwest', 'crop', 'to', 'ports', 'for', 'loading', 'onto', 'Soviet', 'ships', '.']\n",
            "['dt', 'nnp', 'nnp', 'vbz', 'jj', 'in', 'prp', 'vbd', 'in', 'nnp', 'wdt', 'md', 'vb', 'dt', 'nn', 'in', 'jjs', 'nns']\n",
            "['dt', 'nnp', 'nnp', 'vbz', 'jj', 'in', 'prp', 'vbn', 'in', 'nnp', 'wdt', 'md', 'vb', 'dt', 'nn', 'in', 'jjs', 'nns']\n",
            "['the', 'Soviet', 'Union', 'wants', 'much', 'of', 'it', 'delivered', 'by', 'January', ',', 'which', 'would', 'be', 'a', 'strain', 'in', 'most', 'years', '.']\n",
            "['dt', 'nnp', 'nnp', 'vbz', 'vbg', 'dt', 'nn', 'in', 'dt', 'nnp', 'nnp', 'in', 'cd', 'nns', 'rbr', 'in', 'jj', 'in', 'in', 'jj', 'nn', 'nns', 'in', 'dt', 'nns', 'wdt', 'vbp', 'prp']\n",
            "['dt', 'nnp', 'nnp', 'vbz', 'vbg', 'dt', 'nn', 'in', 'dt', 'nnp', 'nnp', 'in', 'cd', 'nns', 'jjr', 'in', 'jj', 'in', 'in', 'jj', 'nn', 'nns', 'in', 'dt', 'nns', 'wdt', 'vbp', 'prp']\n",
            "['the', 'Army', 'Corps', 'is', 'cutting', 'the', 'flow', 'of', 'the', 'Missouri', 'River', 'about', 'two', 'weeks', 'earlier', 'than', 'normal', 'because', 'of', 'low', 'water', 'levels', 'in', 'the', 'reservoirs', 'that', 'feed', 'it', '.']\n",
            "['nns', 'vbp', 'in', 'dt', 'jjs', 'nn', 'in', 'jj', 'nns', 'to', 'vb', 'rp', 'nn', 'nns']\n",
            "['nns', 'vbp', 'in', 'dt', 'jjs', 'nn', 'in', 'jj', 'nns', 'to', 'vb', 'in', 'nn', 'nns']\n",
            "['farmers', 'are', 'in', 'the', 'best', 'position', 'of', 'many', 'years', 'to', 'push', 'up', 'corn', 'prices', '.']\n",
            "['dt', 'nnp', 'nns', 'vbd', 'vbn', 'in', 'dt', 'nn', 'in', 'nnp', 'in', 'in', 'nns']\n",
            "['dt', 'jj', 'nns', 'vbd', 'vbn', 'in', 'dt', 'nn', 'in', 'nnp', 'in', 'in', 'nns']\n",
            "['the', 'Soviet', 'orders', 'were', 'compressed', 'into', 'the', 'month', 'of', 'October', 'because', 'of', 'delays', '.']\n",
            "['nnp', 'nns', 'nn', 'in', 'jj', 'rb', 'vbp', 'vbg', 'vbn', 'jjr', 'in', 'nn', 'nn', 'nns', 'in', 'dt', 'nn', 'in', 'nns', 'vbp', 'jjr', 'nn', 'nn', 'vbg', 'to', 'nnp', 'nnp', 'nn', 'nn', 'in', 'nn', 'in', 'nnps', 'nnp', 'in', 'nnp', 'nnp']\n",
            "['jj', 'nns', 'nn', 'in', 'jj', 'rb', 'vbp', 'vbg', 'vbn', 'jjr', 'in', 'nn', 'nn', 'nns', 'in', 'dt', 'nn', 'in', 'nns', 'vbp', 'jjr', 'nn', 'nn', 'vbg', 'to', 'nnp', 'nnp', 'nn', 'nn', 'in', 'nn', 'in', 'nnps', 'nnp', 'in', 'nnp', 'nnp']\n",
            "['precious', 'metals', ',', 'gold', 'in', 'particular', ',', 'currently', 'are', 'being', 'influenced', 'more', 'by', 'stock', 'market', 'gyrations', 'than', 'the', 'dollar', 'as', 'traders', 'seek', 'greater', 'investment', 'stability', ',', 'according', 'to', 'William', \"O'Neill\", ',', 'vice', 'president', 'of', 'research', 'at', 'Elders', 'Futures', 'in', 'New', 'York', '.']\n",
            "['dt', 'vbg', 'nnp', 'nnp', 'in', 'nnp', 'pos', 'nnp', 'nn', 'vbd', 'to', 'cd', 'nn', 'in', 'cd', 'jj', 'nns', 'in', 'nns', 'in', 'cd', 'nn']\n",
            "['dt', 'nnp', 'nnp', 'nnp', 'in', 'nnp', 'pos', 'nnp', 'nn', 'vbd', 'to', 'cd', 'nn', 'in', 'cd', 'jj', 'nns', 'in', 'nns', 'in', 'cd', 'nn']\n",
            "['the', 'Purchasing', 'Management', 'Association', 'of', 'Chicago', \"'s\", 'October', 'index', 'rose', 'to', '51.6', '%', 'after', 'three', 'previous', 'months', 'of', 'readings', 'below', '50', '%', '.']\n",
            "['rb', 'nnp', 'nns', 'jjr', 'in', 'jj', 'nns', 'cc', 'dt', 'jj', 'nn', 'vbz', 'vbn', 'in', 'jjr', 'jj', 'nn', 'nn']\n",
            "['rb', 'nnp', 'nns', 'jjr', 'in', 'jj', 'nns', 'cc', 'dt', 'jj', 'nn', 'vbz', 'vbn', 'in', 'rbr', 'jj', 'nn', 'nn']\n",
            "['moreover', ',', 'USX', 'exports', 'more', 'than', 'other', 'steelmakers', ',', 'and', 'the', 'overseas', 'market', 'has', 'been', 'under', 'more', 'severe', 'pricing', 'pressure', '.']\n"
          ]
        }
      ]
    },
    {
      "cell_type": "markdown",
      "metadata": {
        "id": "uZ97KOcTfEjH"
      },
      "source": [
        "###Confusion Matrix\n"
      ]
    },
    {
      "cell_type": "markdown",
      "source": [
        "We created the methos plot_cm to plot the confusion matrix for the models"
      ],
      "metadata": {
        "id": "hvuGh1MXqSGH"
      }
    },
    {
      "cell_type": "code",
      "execution_count": 65,
      "metadata": {
        "id": "_fZKzV-UsNHD"
      },
      "outputs": [],
      "source": [
        "from sklearn.metrics import confusion_matrix\n",
        "def plot_cm(labels, predictions):\n",
        "  labels_tot=['0','nn','in','nnp','dt','nns','jj',',','.','cd',\n",
        "                'vbd','rb', 'vb', 'cc', 'to', 'vbn', 'vbz', 'prp', \n",
        "                'vbg', 'vbp', 'md', 'pos', 'prp$', '$', '``', \"''\", \n",
        "                ':', 'wdt', 'jjr', 'nnps', 'wp', 'rp', 'jjs', 'wrb', \n",
        "                'rbr', '-rrb-', '-lrb-', 'ex', 'rbs', 'pdt', 'wp$']\n",
        "  eq = 0\n",
        "  not_eq = 0\n",
        "  zeros = 0\n",
        "  cm = confusion_matrix(labels, predictions)\n",
        "  fig = plt.figure(figsize=(18,15))\n",
        "  ax= plt.subplot()\n",
        "  sns.heatmap(cm, annot=True, fmt=\"d\", ax=ax)\n",
        "  ax.set_title('Confusion matrix')\n",
        "  ax.set_ylabel('Actual label')\n",
        "  ax.set_xlabel('Predicted label')\n",
        "  ax.xaxis.set_ticklabels(labels_tot); \n",
        "  ax.yaxis.set_ticklabels(labels_tot);\n",
        "  \n",
        "  for i in range(0,len(cm)-1):\n",
        "    for j in range(0,len(cm[i])):\n",
        "      if not cm[i][j] == 0 and i == j:\n",
        "        eq += cm[i][j]\n",
        "        if i==0 and j==0:\n",
        "          zeros += cm[i][j]\n",
        "        elif i==7 and j==7:\n",
        "          zeros += cm[i][j]\n",
        "        elif i==8 and j==8:\n",
        "          zeros += cm[i][j]\n",
        "        elif i==23 and j==23:\n",
        "          zeros += cm[i][j]\n",
        "        elif i==24 and j==24: \n",
        "          zeros += cm[i][j]\n",
        "        elif i==25 and j==25:\n",
        "          zeros += cm[i][j]\n",
        "        elif i==26 and j==26: \n",
        "          zeros += cm[i][j]\n",
        "        elif i==40 and j==40: \n",
        "          zeros += cm[i][j]        \n",
        "      elif not cm[i][j] == 0 and i!=j:\n",
        "        not_eq += cm[i][j]\n",
        "  eq_true = eq - zeros\n",
        "  \n",
        "  print('Correct Labels: ' , eq)\n",
        "  print('Sentence length: ',(eq + not_eq)-zeros )\n",
        "  print('Correct Labels (without padding,symbols,punctuation): ', eq_true)\n",
        "  print('Wrong Labels: ', not_eq)\n",
        "  print('Padding,symbols,punctuation:', zeros)\n"
      ]
    },
    {
      "cell_type": "markdown",
      "source": [
        "We can see that the predictions on the test set in LSTM model are very precise, in fact, there are no incorrected labels (over 13777 total words). "
      ],
      "metadata": {
        "id": "tFQCUmk2qaKx"
      }
    },
    {
      "cell_type": "code",
      "execution_count": 66,
      "metadata": {
        "id": "pArQ1FYEfJQG",
        "colab": {
          "base_uri": "https://localhost:8080/",
          "height": 980
        },
        "outputId": "1b0fc502-8928-4c6a-9341-84e5d42607cd"
      },
      "outputs": [
        {
          "output_type": "stream",
          "name": "stdout",
          "text": [
            "Correct Labels:  32246\n",
            "Sentence length:  13777\n",
            "Correct Labels (without padding,symbols,punctuation):  13777\n",
            "Wrong Labels:  0\n",
            "Padding,symbols,punctuation: 18469\n"
          ]
        },
        {
          "output_type": "display_data",
          "data": {
            "image/png": "[encoded data removed]",
            "text/plain": [
              "<Figure size 1296x1080 with 2 Axes>"
            ]
          },
          "metadata": {
            "needs_background": "light"
          }
        }
      ],
      "source": [
        "#LSTM Model\n",
        "plot_cm(y_padded_test.argmax(axis=2).flatten(),predictions_lstm.argmax(axis=2).flatten())"
      ]
    },
    {
      "cell_type": "markdown",
      "source": [
        "We can see that the classification of the GRU model on the test set is not as accurate as LSTM model, in fact, there are more errors: 43. We can see that the majority of the errors concern the classes: JJ, VBN, RBR, NNS and NNP"
      ],
      "metadata": {
        "id": "n5ezF13TqoCp"
      }
    },
    {
      "cell_type": "code",
      "source": [
        "#GRU Model\n",
        "plot_cm(y_padded_test.argmax(axis=2).flatten(),predictions_gru.argmax(axis=2).flatten())"
      ],
      "metadata": {
        "id": "84jl9R5gumIT",
        "colab": {
          "base_uri": "https://localhost:8080/",
          "height": 980
        },
        "outputId": "5e893a1f-75f7-4dc3-9aad-878bf4364fca"
      },
      "execution_count": 67,
      "outputs": [
        {
          "output_type": "stream",
          "name": "stdout",
          "text": [
            "Correct Labels:  32203\n",
            "Sentence length:  13777\n",
            "Correct Labels (without padding,symbols,punctuation):  13734\n",
            "Wrong Labels:  43\n",
            "Padding,symbols,punctuation: 18469\n"
          ]
        },
        {
          "output_type": "display_data",
          "data": {
            "image/png": "[encoded data removed]",
            "text/plain": [
              "<Figure size 1296x1080 with 2 Axes>"
            ]
          },
          "metadata": {
            "needs_background": "light"
          }
        }
      ]
    },
    {
      "cell_type": "markdown",
      "source": [
        "###Classification Report"
      ],
      "metadata": {
        "id": "hxCvMgEnt9ez"
      }
    },
    {
      "cell_type": "code",
      "execution_count": 68,
      "metadata": {
        "id": "ybeC0tAZTa4m"
      },
      "outputs": [],
      "source": [
        "def class_report(predictions):\n",
        "  target_names = ['0','nn','in','nnp','dt','nns','jj',',','.','cd',\n",
        "                'vbd','rb', 'vb', 'cc', 'to', 'vbn', 'vbz', 'prp', \n",
        "                'vbg', 'vbp', 'md', 'pos', 'prp$', '$', '``', \"''\", \n",
        "                ':', 'wdt', 'jjr', 'nnps', 'wp', 'rp', 'jjs', 'wrb', \n",
        "                'rbr', '-rrb-', '-lrb-', 'ex', 'rbs', 'pdt', 'wp$']                                                                                                                                                                             \n",
        "  print(classification_report(y_padded_test.argmax(axis=2).flatten(),predictions.argmax(axis=2).flatten(), target_names=target_names))"
      ]
    },
    {
      "cell_type": "markdown",
      "source": [
        "We plot the classification report for LSTM model, where we can see that almost all the classes reach 1.00 as precision,recall and f1-score for each class"
      ],
      "metadata": {
        "id": "6dVxpDSqrAkd"
      }
    },
    {
      "cell_type": "code",
      "source": [
        "#LSTM Model\n",
        "class_report(predictions_lstm)"
      ],
      "metadata": {
        "id": "0XjcEH2tuRy6",
        "colab": {
          "base_uri": "https://localhost:8080/"
        },
        "outputId": "17688dac-65d2-4a1e-d242-9ce0960b0472"
      },
      "execution_count": 69,
      "outputs": [
        {
          "output_type": "stream",
          "name": "stdout",
          "text": [
            "              precision    recall  f1-score   support\n",
            "\n",
            "           0       1.00      1.00      1.00     16620\n",
            "          nn       1.00      1.00      1.00      2387\n",
            "          in       1.00      1.00      1.00      1641\n",
            "         nnp       1.00      1.00      1.00      1515\n",
            "          dt       1.00      1.00      1.00      1339\n",
            "         nns       1.00      1.00      1.00       948\n",
            "          jj       1.00      1.00      1.00       917\n",
            "           ,       1.00      1.00      1.00       800\n",
            "           .       1.00      1.00      1.00       647\n",
            "          cd       1.00      1.00      1.00       864\n",
            "         vbd       1.00      1.00      1.00       643\n",
            "          rb       1.00      1.00      1.00       389\n",
            "          vb       1.00      1.00      1.00       405\n",
            "          cc       1.00      1.00      1.00       367\n",
            "          to       1.00      1.00      1.00       384\n",
            "         vbn       1.00      1.00      1.00       374\n",
            "         vbz       1.00      1.00      1.00       281\n",
            "         prp       1.00      1.00      1.00       191\n",
            "         vbg       1.00      1.00      1.00       220\n",
            "         vbp       1.00      1.00      1.00       132\n",
            "          md       1.00      1.00      1.00       169\n",
            "         pos       1.00      1.00      1.00       153\n",
            "        prp$       1.00      1.00      1.00       100\n",
            "           $       1.00      1.00      1.00       211\n",
            "          ``       1.00      1.00      1.00        72\n",
            "          ''       1.00      1.00      1.00        69\n",
            "           :       1.00      1.00      1.00        50\n",
            "         wdt       1.00      1.00      1.00        86\n",
            "         jjr       1.00      1.00      1.00        59\n",
            "        nnps       1.00      1.00      1.00        45\n",
            "          wp       1.00      1.00      1.00        20\n",
            "          rp       1.00      1.00      1.00        32\n",
            "         jjs       1.00      1.00      1.00        31\n",
            "         wrb       1.00      1.00      1.00        24\n",
            "         rbr       1.00      1.00      1.00        15\n",
            "       -rrb-       1.00      1.00      1.00        17\n",
            "       -lrb-       1.00      1.00      1.00        17\n",
            "          ex       1.00      1.00      1.00         5\n",
            "         rbs       1.00      1.00      1.00         3\n",
            "         pdt       1.00      1.00      1.00         4\n",
            "         wp$       1.00      1.00      1.00         4\n",
            "\n",
            "    accuracy                           1.00     32250\n",
            "   macro avg       1.00      1.00      1.00     32250\n",
            "weighted avg       1.00      1.00      1.00     32250\n",
            "\n"
          ]
        }
      ]
    },
    {
      "cell_type": "markdown",
      "source": [
        "We plot the classification report for GRU model, where we can see that the most critics classes to be predected are JJ, RBR, NNP and RP."
      ],
      "metadata": {
        "id": "VLk765ytrRWp"
      }
    },
    {
      "cell_type": "code",
      "source": [
        "#GRU Model\n",
        "class_report(predictions_gru)"
      ],
      "metadata": {
        "id": "hLM2jp8nuR-z",
        "colab": {
          "base_uri": "https://localhost:8080/"
        },
        "outputId": "d62a8b85-bd77-4686-8b52-00644262a3ff"
      },
      "execution_count": 70,
      "outputs": [
        {
          "output_type": "stream",
          "name": "stdout",
          "text": [
            "              precision    recall  f1-score   support\n",
            "\n",
            "           0       1.00      1.00      1.00     16620\n",
            "          nn       1.00      1.00      1.00      2387\n",
            "          in       1.00      1.00      1.00      1641\n",
            "         nnp       0.99      1.00      1.00      1515\n",
            "          dt       1.00      1.00      1.00      1339\n",
            "         nns       1.00      1.00      1.00       948\n",
            "          jj       1.00      0.99      0.99       917\n",
            "           ,       1.00      1.00      1.00       800\n",
            "           .       1.00      1.00      1.00       647\n",
            "          cd       1.00      1.00      1.00       864\n",
            "         vbd       1.00      1.00      1.00       643\n",
            "          rb       0.99      0.99      0.99       389\n",
            "          vb       1.00      1.00      1.00       405\n",
            "          cc       1.00      1.00      1.00       367\n",
            "          to       1.00      1.00      1.00       384\n",
            "         vbn       1.00      0.99      0.99       374\n",
            "         vbz       1.00      1.00      1.00       281\n",
            "         prp       1.00      1.00      1.00       191\n",
            "         vbg       0.99      1.00      1.00       220\n",
            "         vbp       1.00      1.00      1.00       132\n",
            "          md       1.00      1.00      1.00       169\n",
            "         pos       1.00      1.00      1.00       153\n",
            "        prp$       1.00      1.00      1.00       100\n",
            "           $       1.00      1.00      1.00       211\n",
            "          ``       1.00      1.00      1.00        72\n",
            "          ''       1.00      1.00      1.00        69\n",
            "           :       1.00      1.00      1.00        50\n",
            "         wdt       1.00      1.00      1.00        86\n",
            "         jjr       0.93      0.95      0.94        59\n",
            "        nnps       1.00      0.93      0.97        45\n",
            "          wp       1.00      1.00      1.00        20\n",
            "          rp       0.89      1.00      0.94        32\n",
            "         jjs       0.97      1.00      0.98        31\n",
            "         wrb       1.00      1.00      1.00        24\n",
            "         rbr       0.79      0.73      0.76        15\n",
            "       -rrb-       1.00      1.00      1.00        17\n",
            "       -lrb-       1.00      1.00      1.00        17\n",
            "          ex       1.00      1.00      1.00         5\n",
            "         rbs       1.00      0.67      0.80         3\n",
            "         pdt       1.00      0.50      0.67         4\n",
            "         wp$       1.00      1.00      1.00         4\n",
            "\n",
            "    accuracy                           1.00     32250\n",
            "   macro avg       0.99      0.97      0.98     32250\n",
            "weighted avg       1.00      1.00      1.00     32250\n",
            "\n"
          ]
        }
      ]
    }
  ],
  "metadata": {
    "accelerator": "GPU",
    "colab": {
      "collapsed_sections": [],
      "name": "assignment_1.ipynb",
      "provenance": []
    },
    "kernelspec": {
      "display_name": "Python 3",
      "language": "python",
      "name": "python3"
    },
    "language_info": {
      "codemirror_mode": {
        "name": "ipython",
        "version": 3
      },
      "file_extension": ".py",
      "mimetype": "text/x-python",
      "name": "python",
      "nbconvert_exporter": "python",
      "pygments_lexer": "ipython3",
      "version": "3.8.3rc1"
    }
  },
  "nbformat": 4,
  "nbformat_minor": 0
}